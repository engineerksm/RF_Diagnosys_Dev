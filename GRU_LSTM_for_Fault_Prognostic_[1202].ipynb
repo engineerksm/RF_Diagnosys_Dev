{
  "nbformat": 4,
  "nbformat_minor": 0,
  "metadata": {
    "colab": {
      "provenance": [],
      "include_colab_link": true
    },
    "kernelspec": {
      "name": "python3",
      "display_name": "Python 3"
    },
    "accelerator": "GPU",
    "widgets": {
      "application/vnd.jupyter.widget-state+json": {
        "c0e592999d164779a8f530806e1a650f": {
          "model_module": "@jupyter-widgets/controls",
          "model_name": "HBoxModel",
          "model_module_version": "1.5.0",
          "state": {
            "_dom_classes": [],
            "_model_module": "@jupyter-widgets/controls",
            "_model_module_version": "1.5.0",
            "_model_name": "HBoxModel",
            "_view_count": null,
            "_view_module": "@jupyter-widgets/controls",
            "_view_module_version": "1.5.0",
            "_view_name": "HBoxView",
            "box_style": "",
            "children": [
              "IPY_MODEL_13948fa9e0a3432487ae82653222ec32",
              "IPY_MODEL_dc4c594f82b84f21b271ff50e77f9b3a",
              "IPY_MODEL_bfcae13dc7584bbb8d05efa6e20bc398"
            ],
            "layout": "IPY_MODEL_1ddefdefd2f645c982de39f69aeda553"
          }
        },
        "13948fa9e0a3432487ae82653222ec32": {
          "model_module": "@jupyter-widgets/controls",
          "model_name": "HTMLModel",
          "model_module_version": "1.5.0",
          "state": {
            "_dom_classes": [],
            "_model_module": "@jupyter-widgets/controls",
            "_model_module_version": "1.5.0",
            "_model_name": "HTMLModel",
            "_view_count": null,
            "_view_module": "@jupyter-widgets/controls",
            "_view_module_version": "1.5.0",
            "_view_name": "HTMLView",
            "description": "",
            "description_tooltip": null,
            "layout": "IPY_MODEL_14a177a3b8db4283920d2fc14172535e",
            "placeholder": "​",
            "style": "IPY_MODEL_32f229f42a3548b68085b6c28f660a9c",
            "value": "100%"
          }
        },
        "dc4c594f82b84f21b271ff50e77f9b3a": {
          "model_module": "@jupyter-widgets/controls",
          "model_name": "FloatProgressModel",
          "model_module_version": "1.5.0",
          "state": {
            "_dom_classes": [],
            "_model_module": "@jupyter-widgets/controls",
            "_model_module_version": "1.5.0",
            "_model_name": "FloatProgressModel",
            "_view_count": null,
            "_view_module": "@jupyter-widgets/controls",
            "_view_module_version": "1.5.0",
            "_view_name": "ProgressView",
            "bar_style": "success",
            "description": "",
            "description_tooltip": null,
            "layout": "IPY_MODEL_a94f9bfae41e440bb6bf50797b4978c1",
            "max": 921514,
            "min": 0,
            "orientation": "horizontal",
            "style": "IPY_MODEL_50823f6d4a89409c8768075d9c220fee",
            "value": 921514
          }
        },
        "bfcae13dc7584bbb8d05efa6e20bc398": {
          "model_module": "@jupyter-widgets/controls",
          "model_name": "HTMLModel",
          "model_module_version": "1.5.0",
          "state": {
            "_dom_classes": [],
            "_model_module": "@jupyter-widgets/controls",
            "_model_module_version": "1.5.0",
            "_model_name": "HTMLModel",
            "_view_count": null,
            "_view_module": "@jupyter-widgets/controls",
            "_view_module_version": "1.5.0",
            "_view_name": "HTMLView",
            "description": "",
            "description_tooltip": null,
            "layout": "IPY_MODEL_8bfeb769e96c43be9f5e490108e05e49",
            "placeholder": "​",
            "style": "IPY_MODEL_6b8d80b350a047f5b0ce0298f9a11390",
            "value": " 921514/921514 [02:01&lt;00:00, 7732.67it/s]"
          }
        },
        "1ddefdefd2f645c982de39f69aeda553": {
          "model_module": "@jupyter-widgets/base",
          "model_name": "LayoutModel",
          "model_module_version": "1.2.0",
          "state": {
            "_model_module": "@jupyter-widgets/base",
            "_model_module_version": "1.2.0",
            "_model_name": "LayoutModel",
            "_view_count": null,
            "_view_module": "@jupyter-widgets/base",
            "_view_module_version": "1.2.0",
            "_view_name": "LayoutView",
            "align_content": null,
            "align_items": null,
            "align_self": null,
            "border": null,
            "bottom": null,
            "display": null,
            "flex": null,
            "flex_flow": null,
            "grid_area": null,
            "grid_auto_columns": null,
            "grid_auto_flow": null,
            "grid_auto_rows": null,
            "grid_column": null,
            "grid_gap": null,
            "grid_row": null,
            "grid_template_areas": null,
            "grid_template_columns": null,
            "grid_template_rows": null,
            "height": null,
            "justify_content": null,
            "justify_items": null,
            "left": null,
            "margin": null,
            "max_height": null,
            "max_width": null,
            "min_height": null,
            "min_width": null,
            "object_fit": null,
            "object_position": null,
            "order": null,
            "overflow": null,
            "overflow_x": null,
            "overflow_y": null,
            "padding": null,
            "right": null,
            "top": null,
            "visibility": null,
            "width": null
          }
        },
        "14a177a3b8db4283920d2fc14172535e": {
          "model_module": "@jupyter-widgets/base",
          "model_name": "LayoutModel",
          "model_module_version": "1.2.0",
          "state": {
            "_model_module": "@jupyter-widgets/base",
            "_model_module_version": "1.2.0",
            "_model_name": "LayoutModel",
            "_view_count": null,
            "_view_module": "@jupyter-widgets/base",
            "_view_module_version": "1.2.0",
            "_view_name": "LayoutView",
            "align_content": null,
            "align_items": null,
            "align_self": null,
            "border": null,
            "bottom": null,
            "display": null,
            "flex": null,
            "flex_flow": null,
            "grid_area": null,
            "grid_auto_columns": null,
            "grid_auto_flow": null,
            "grid_auto_rows": null,
            "grid_column": null,
            "grid_gap": null,
            "grid_row": null,
            "grid_template_areas": null,
            "grid_template_columns": null,
            "grid_template_rows": null,
            "height": null,
            "justify_content": null,
            "justify_items": null,
            "left": null,
            "margin": null,
            "max_height": null,
            "max_width": null,
            "min_height": null,
            "min_width": null,
            "object_fit": null,
            "object_position": null,
            "order": null,
            "overflow": null,
            "overflow_x": null,
            "overflow_y": null,
            "padding": null,
            "right": null,
            "top": null,
            "visibility": null,
            "width": null
          }
        },
        "32f229f42a3548b68085b6c28f660a9c": {
          "model_module": "@jupyter-widgets/controls",
          "model_name": "DescriptionStyleModel",
          "model_module_version": "1.5.0",
          "state": {
            "_model_module": "@jupyter-widgets/controls",
            "_model_module_version": "1.5.0",
            "_model_name": "DescriptionStyleModel",
            "_view_count": null,
            "_view_module": "@jupyter-widgets/base",
            "_view_module_version": "1.2.0",
            "_view_name": "StyleView",
            "description_width": ""
          }
        },
        "a94f9bfae41e440bb6bf50797b4978c1": {
          "model_module": "@jupyter-widgets/base",
          "model_name": "LayoutModel",
          "model_module_version": "1.2.0",
          "state": {
            "_model_module": "@jupyter-widgets/base",
            "_model_module_version": "1.2.0",
            "_model_name": "LayoutModel",
            "_view_count": null,
            "_view_module": "@jupyter-widgets/base",
            "_view_module_version": "1.2.0",
            "_view_name": "LayoutView",
            "align_content": null,
            "align_items": null,
            "align_self": null,
            "border": null,
            "bottom": null,
            "display": null,
            "flex": null,
            "flex_flow": null,
            "grid_area": null,
            "grid_auto_columns": null,
            "grid_auto_flow": null,
            "grid_auto_rows": null,
            "grid_column": null,
            "grid_gap": null,
            "grid_row": null,
            "grid_template_areas": null,
            "grid_template_columns": null,
            "grid_template_rows": null,
            "height": null,
            "justify_content": null,
            "justify_items": null,
            "left": null,
            "margin": null,
            "max_height": null,
            "max_width": null,
            "min_height": null,
            "min_width": null,
            "object_fit": null,
            "object_position": null,
            "order": null,
            "overflow": null,
            "overflow_x": null,
            "overflow_y": null,
            "padding": null,
            "right": null,
            "top": null,
            "visibility": null,
            "width": null
          }
        },
        "50823f6d4a89409c8768075d9c220fee": {
          "model_module": "@jupyter-widgets/controls",
          "model_name": "ProgressStyleModel",
          "model_module_version": "1.5.0",
          "state": {
            "_model_module": "@jupyter-widgets/controls",
            "_model_module_version": "1.5.0",
            "_model_name": "ProgressStyleModel",
            "_view_count": null,
            "_view_module": "@jupyter-widgets/base",
            "_view_module_version": "1.2.0",
            "_view_name": "StyleView",
            "bar_color": null,
            "description_width": ""
          }
        },
        "8bfeb769e96c43be9f5e490108e05e49": {
          "model_module": "@jupyter-widgets/base",
          "model_name": "LayoutModel",
          "model_module_version": "1.2.0",
          "state": {
            "_model_module": "@jupyter-widgets/base",
            "_model_module_version": "1.2.0",
            "_model_name": "LayoutModel",
            "_view_count": null,
            "_view_module": "@jupyter-widgets/base",
            "_view_module_version": "1.2.0",
            "_view_name": "LayoutView",
            "align_content": null,
            "align_items": null,
            "align_self": null,
            "border": null,
            "bottom": null,
            "display": null,
            "flex": null,
            "flex_flow": null,
            "grid_area": null,
            "grid_auto_columns": null,
            "grid_auto_flow": null,
            "grid_auto_rows": null,
            "grid_column": null,
            "grid_gap": null,
            "grid_row": null,
            "grid_template_areas": null,
            "grid_template_columns": null,
            "grid_template_rows": null,
            "height": null,
            "justify_content": null,
            "justify_items": null,
            "left": null,
            "margin": null,
            "max_height": null,
            "max_width": null,
            "min_height": null,
            "min_width": null,
            "object_fit": null,
            "object_position": null,
            "order": null,
            "overflow": null,
            "overflow_x": null,
            "overflow_y": null,
            "padding": null,
            "right": null,
            "top": null,
            "visibility": null,
            "width": null
          }
        },
        "6b8d80b350a047f5b0ce0298f9a11390": {
          "model_module": "@jupyter-widgets/controls",
          "model_name": "DescriptionStyleModel",
          "model_module_version": "1.5.0",
          "state": {
            "_model_module": "@jupyter-widgets/controls",
            "_model_module_version": "1.5.0",
            "_model_name": "DescriptionStyleModel",
            "_view_count": null,
            "_view_module": "@jupyter-widgets/base",
            "_view_module_version": "1.2.0",
            "_view_name": "StyleView",
            "description_width": ""
          }
        },
        "b095aa2ea0da41d496853c8f1cba8572": {
          "model_module": "@jupyter-widgets/controls",
          "model_name": "HBoxModel",
          "model_module_version": "1.5.0",
          "state": {
            "_dom_classes": [],
            "_model_module": "@jupyter-widgets/controls",
            "_model_module_version": "1.5.0",
            "_model_name": "HBoxModel",
            "_view_count": null,
            "_view_module": "@jupyter-widgets/controls",
            "_view_module_version": "1.5.0",
            "_view_name": "HBoxView",
            "box_style": "",
            "children": [
              "IPY_MODEL_ea43be4dde37445f9ee2ac4a4a0af3c8",
              "IPY_MODEL_05b722898508419d929dc542e2793fe0",
              "IPY_MODEL_ff6ae03da72741b19ff94a4143e42e5c"
            ],
            "layout": "IPY_MODEL_ab51ea383a7345ce9804c43d93c7d86c"
          }
        },
        "ea43be4dde37445f9ee2ac4a4a0af3c8": {
          "model_module": "@jupyter-widgets/controls",
          "model_name": "HTMLModel",
          "model_module_version": "1.5.0",
          "state": {
            "_dom_classes": [],
            "_model_module": "@jupyter-widgets/controls",
            "_model_module_version": "1.5.0",
            "_model_name": "HTMLModel",
            "_view_count": null,
            "_view_module": "@jupyter-widgets/controls",
            "_view_module_version": "1.5.0",
            "_view_name": "HTMLView",
            "description": "",
            "description_tooltip": null,
            "layout": "IPY_MODEL_d264ea940df74b4d9685e3d6f691c4a6",
            "placeholder": "​",
            "style": "IPY_MODEL_44d7074f231649eeb7b73a07f395d696",
            "value": "training: 100%"
          }
        },
        "05b722898508419d929dc542e2793fe0": {
          "model_module": "@jupyter-widgets/controls",
          "model_name": "FloatProgressModel",
          "model_module_version": "1.5.0",
          "state": {
            "_dom_classes": [],
            "_model_module": "@jupyter-widgets/controls",
            "_model_module_version": "1.5.0",
            "_model_name": "FloatProgressModel",
            "_view_count": null,
            "_view_module": "@jupyter-widgets/controls",
            "_view_module_version": "1.5.0",
            "_view_name": "ProgressView",
            "bar_style": "success",
            "description": "",
            "description_tooltip": null,
            "layout": "IPY_MODEL_2d1a83874cec4a1f88e9626c76b43ef7",
            "max": 64,
            "min": 0,
            "orientation": "horizontal",
            "style": "IPY_MODEL_83cbb39c340840abb62e0f7a3d4d0208",
            "value": 64
          }
        },
        "ff6ae03da72741b19ff94a4143e42e5c": {
          "model_module": "@jupyter-widgets/controls",
          "model_name": "HTMLModel",
          "model_module_version": "1.5.0",
          "state": {
            "_dom_classes": [],
            "_model_module": "@jupyter-widgets/controls",
            "_model_module_version": "1.5.0",
            "_model_name": "HTMLModel",
            "_view_count": null,
            "_view_module": "@jupyter-widgets/controls",
            "_view_module_version": "1.5.0",
            "_view_name": "HTMLView",
            "description": "",
            "description_tooltip": null,
            "layout": "IPY_MODEL_86845dc967564b49a816ef9ca6e38e47",
            "placeholder": "​",
            "style": "IPY_MODEL_2ca7b966f2884a41a48b1420fc58842a",
            "value": " 64/64 [24:58&lt;00:00, 23.50s/it, loss: 0.085381]"
          }
        },
        "ab51ea383a7345ce9804c43d93c7d86c": {
          "model_module": "@jupyter-widgets/base",
          "model_name": "LayoutModel",
          "model_module_version": "1.2.0",
          "state": {
            "_model_module": "@jupyter-widgets/base",
            "_model_module_version": "1.2.0",
            "_model_name": "LayoutModel",
            "_view_count": null,
            "_view_module": "@jupyter-widgets/base",
            "_view_module_version": "1.2.0",
            "_view_name": "LayoutView",
            "align_content": null,
            "align_items": null,
            "align_self": null,
            "border": null,
            "bottom": null,
            "display": null,
            "flex": null,
            "flex_flow": null,
            "grid_area": null,
            "grid_auto_columns": null,
            "grid_auto_flow": null,
            "grid_auto_rows": null,
            "grid_column": null,
            "grid_gap": null,
            "grid_row": null,
            "grid_template_areas": null,
            "grid_template_columns": null,
            "grid_template_rows": null,
            "height": null,
            "justify_content": null,
            "justify_items": null,
            "left": null,
            "margin": null,
            "max_height": null,
            "max_width": null,
            "min_height": null,
            "min_width": null,
            "object_fit": null,
            "object_position": null,
            "order": null,
            "overflow": null,
            "overflow_x": null,
            "overflow_y": null,
            "padding": null,
            "right": null,
            "top": null,
            "visibility": null,
            "width": null
          }
        },
        "d264ea940df74b4d9685e3d6f691c4a6": {
          "model_module": "@jupyter-widgets/base",
          "model_name": "LayoutModel",
          "model_module_version": "1.2.0",
          "state": {
            "_model_module": "@jupyter-widgets/base",
            "_model_module_version": "1.2.0",
            "_model_name": "LayoutModel",
            "_view_count": null,
            "_view_module": "@jupyter-widgets/base",
            "_view_module_version": "1.2.0",
            "_view_name": "LayoutView",
            "align_content": null,
            "align_items": null,
            "align_self": null,
            "border": null,
            "bottom": null,
            "display": null,
            "flex": null,
            "flex_flow": null,
            "grid_area": null,
            "grid_auto_columns": null,
            "grid_auto_flow": null,
            "grid_auto_rows": null,
            "grid_column": null,
            "grid_gap": null,
            "grid_row": null,
            "grid_template_areas": null,
            "grid_template_columns": null,
            "grid_template_rows": null,
            "height": null,
            "justify_content": null,
            "justify_items": null,
            "left": null,
            "margin": null,
            "max_height": null,
            "max_width": null,
            "min_height": null,
            "min_width": null,
            "object_fit": null,
            "object_position": null,
            "order": null,
            "overflow": null,
            "overflow_x": null,
            "overflow_y": null,
            "padding": null,
            "right": null,
            "top": null,
            "visibility": null,
            "width": null
          }
        },
        "44d7074f231649eeb7b73a07f395d696": {
          "model_module": "@jupyter-widgets/controls",
          "model_name": "DescriptionStyleModel",
          "model_module_version": "1.5.0",
          "state": {
            "_model_module": "@jupyter-widgets/controls",
            "_model_module_version": "1.5.0",
            "_model_name": "DescriptionStyleModel",
            "_view_count": null,
            "_view_module": "@jupyter-widgets/base",
            "_view_module_version": "1.2.0",
            "_view_name": "StyleView",
            "description_width": ""
          }
        },
        "2d1a83874cec4a1f88e9626c76b43ef7": {
          "model_module": "@jupyter-widgets/base",
          "model_name": "LayoutModel",
          "model_module_version": "1.2.0",
          "state": {
            "_model_module": "@jupyter-widgets/base",
            "_model_module_version": "1.2.0",
            "_model_name": "LayoutModel",
            "_view_count": null,
            "_view_module": "@jupyter-widgets/base",
            "_view_module_version": "1.2.0",
            "_view_name": "LayoutView",
            "align_content": null,
            "align_items": null,
            "align_self": null,
            "border": null,
            "bottom": null,
            "display": null,
            "flex": null,
            "flex_flow": null,
            "grid_area": null,
            "grid_auto_columns": null,
            "grid_auto_flow": null,
            "grid_auto_rows": null,
            "grid_column": null,
            "grid_gap": null,
            "grid_row": null,
            "grid_template_areas": null,
            "grid_template_columns": null,
            "grid_template_rows": null,
            "height": null,
            "justify_content": null,
            "justify_items": null,
            "left": null,
            "margin": null,
            "max_height": null,
            "max_width": null,
            "min_height": null,
            "min_width": null,
            "object_fit": null,
            "object_position": null,
            "order": null,
            "overflow": null,
            "overflow_x": null,
            "overflow_y": null,
            "padding": null,
            "right": null,
            "top": null,
            "visibility": null,
            "width": null
          }
        },
        "83cbb39c340840abb62e0f7a3d4d0208": {
          "model_module": "@jupyter-widgets/controls",
          "model_name": "ProgressStyleModel",
          "model_module_version": "1.5.0",
          "state": {
            "_model_module": "@jupyter-widgets/controls",
            "_model_module_version": "1.5.0",
            "_model_name": "ProgressStyleModel",
            "_view_count": null,
            "_view_module": "@jupyter-widgets/base",
            "_view_module_version": "1.2.0",
            "_view_name": "StyleView",
            "bar_color": null,
            "description_width": ""
          }
        },
        "86845dc967564b49a816ef9ca6e38e47": {
          "model_module": "@jupyter-widgets/base",
          "model_name": "LayoutModel",
          "model_module_version": "1.2.0",
          "state": {
            "_model_module": "@jupyter-widgets/base",
            "_model_module_version": "1.2.0",
            "_model_name": "LayoutModel",
            "_view_count": null,
            "_view_module": "@jupyter-widgets/base",
            "_view_module_version": "1.2.0",
            "_view_name": "LayoutView",
            "align_content": null,
            "align_items": null,
            "align_self": null,
            "border": null,
            "bottom": null,
            "display": null,
            "flex": null,
            "flex_flow": null,
            "grid_area": null,
            "grid_auto_columns": null,
            "grid_auto_flow": null,
            "grid_auto_rows": null,
            "grid_column": null,
            "grid_gap": null,
            "grid_row": null,
            "grid_template_areas": null,
            "grid_template_columns": null,
            "grid_template_rows": null,
            "height": null,
            "justify_content": null,
            "justify_items": null,
            "left": null,
            "margin": null,
            "max_height": null,
            "max_width": null,
            "min_height": null,
            "min_width": null,
            "object_fit": null,
            "object_position": null,
            "order": null,
            "overflow": null,
            "overflow_x": null,
            "overflow_y": null,
            "padding": null,
            "right": null,
            "top": null,
            "visibility": null,
            "width": null
          }
        },
        "2ca7b966f2884a41a48b1420fc58842a": {
          "model_module": "@jupyter-widgets/controls",
          "model_name": "DescriptionStyleModel",
          "model_module_version": "1.5.0",
          "state": {
            "_model_module": "@jupyter-widgets/controls",
            "_model_module_version": "1.5.0",
            "_model_name": "DescriptionStyleModel",
            "_view_count": null,
            "_view_module": "@jupyter-widgets/base",
            "_view_module_version": "1.2.0",
            "_view_name": "StyleView",
            "description_width": ""
          }
        },
        "3b579bcaef014ce18d80b5896f9ad911": {
          "model_module": "@jupyter-widgets/controls",
          "model_name": "HBoxModel",
          "model_module_version": "1.5.0",
          "state": {
            "_dom_classes": [],
            "_model_module": "@jupyter-widgets/controls",
            "_model_module_version": "1.5.0",
            "_model_name": "HBoxModel",
            "_view_count": null,
            "_view_module": "@jupyter-widgets/controls",
            "_view_module_version": "1.5.0",
            "_view_name": "HBoxView",
            "box_style": "",
            "children": [
              "IPY_MODEL_c0f9a26f5dda466f85bbea07348ac171",
              "IPY_MODEL_afb9480f375749d192fd3300bc018235",
              "IPY_MODEL_1f6d63c967fe431abb0ce59d6298adee"
            ],
            "layout": "IPY_MODEL_de7c314de43c4e83b91b8136e105b8b6"
          }
        },
        "c0f9a26f5dda466f85bbea07348ac171": {
          "model_module": "@jupyter-widgets/controls",
          "model_name": "HTMLModel",
          "model_module_version": "1.5.0",
          "state": {
            "_dom_classes": [],
            "_model_module": "@jupyter-widgets/controls",
            "_model_module_version": "1.5.0",
            "_model_name": "HTMLModel",
            "_view_count": null,
            "_view_module": "@jupyter-widgets/controls",
            "_view_module_version": "1.5.0",
            "_view_name": "HTMLView",
            "description": "",
            "description_tooltip": null,
            "layout": "IPY_MODEL_efa3c80ffd2449c18460a0b09f254541",
            "placeholder": "​",
            "style": "IPY_MODEL_106e4bab2a174e8a8a5180f6471bc8bc",
            "value": "100%"
          }
        },
        "afb9480f375749d192fd3300bc018235": {
          "model_module": "@jupyter-widgets/controls",
          "model_name": "FloatProgressModel",
          "model_module_version": "1.5.0",
          "state": {
            "_dom_classes": [],
            "_model_module": "@jupyter-widgets/controls",
            "_model_module_version": "1.5.0",
            "_model_name": "FloatProgressModel",
            "_view_count": null,
            "_view_module": "@jupyter-widgets/controls",
            "_view_module_version": "1.5.0",
            "_view_name": "ProgressView",
            "bar_style": "success",
            "description": "",
            "description_tooltip": null,
            "layout": "IPY_MODEL_4955cb17de6540a18b3e46e0d10843ae",
            "max": 43112,
            "min": 0,
            "orientation": "horizontal",
            "style": "IPY_MODEL_349563dd24fc42ef90176d1ff7cd7064",
            "value": 43112
          }
        },
        "1f6d63c967fe431abb0ce59d6298adee": {
          "model_module": "@jupyter-widgets/controls",
          "model_name": "HTMLModel",
          "model_module_version": "1.5.0",
          "state": {
            "_dom_classes": [],
            "_model_module": "@jupyter-widgets/controls",
            "_model_module_version": "1.5.0",
            "_model_name": "HTMLModel",
            "_view_count": null,
            "_view_module": "@jupyter-widgets/controls",
            "_view_module_version": "1.5.0",
            "_view_name": "HTMLView",
            "description": "",
            "description_tooltip": null,
            "layout": "IPY_MODEL_ddff45f045d44dbe8095a274cce0122a",
            "placeholder": "​",
            "style": "IPY_MODEL_32a2d653964b4d4db98c6de54ee43ea2",
            "value": " 43112/43112 [00:05&lt;00:00, 7843.73it/s]"
          }
        },
        "de7c314de43c4e83b91b8136e105b8b6": {
          "model_module": "@jupyter-widgets/base",
          "model_name": "LayoutModel",
          "model_module_version": "1.2.0",
          "state": {
            "_model_module": "@jupyter-widgets/base",
            "_model_module_version": "1.2.0",
            "_model_name": "LayoutModel",
            "_view_count": null,
            "_view_module": "@jupyter-widgets/base",
            "_view_module_version": "1.2.0",
            "_view_name": "LayoutView",
            "align_content": null,
            "align_items": null,
            "align_self": null,
            "border": null,
            "bottom": null,
            "display": null,
            "flex": null,
            "flex_flow": null,
            "grid_area": null,
            "grid_auto_columns": null,
            "grid_auto_flow": null,
            "grid_auto_rows": null,
            "grid_column": null,
            "grid_gap": null,
            "grid_row": null,
            "grid_template_areas": null,
            "grid_template_columns": null,
            "grid_template_rows": null,
            "height": null,
            "justify_content": null,
            "justify_items": null,
            "left": null,
            "margin": null,
            "max_height": null,
            "max_width": null,
            "min_height": null,
            "min_width": null,
            "object_fit": null,
            "object_position": null,
            "order": null,
            "overflow": null,
            "overflow_x": null,
            "overflow_y": null,
            "padding": null,
            "right": null,
            "top": null,
            "visibility": null,
            "width": null
          }
        },
        "efa3c80ffd2449c18460a0b09f254541": {
          "model_module": "@jupyter-widgets/base",
          "model_name": "LayoutModel",
          "model_module_version": "1.2.0",
          "state": {
            "_model_module": "@jupyter-widgets/base",
            "_model_module_version": "1.2.0",
            "_model_name": "LayoutModel",
            "_view_count": null,
            "_view_module": "@jupyter-widgets/base",
            "_view_module_version": "1.2.0",
            "_view_name": "LayoutView",
            "align_content": null,
            "align_items": null,
            "align_self": null,
            "border": null,
            "bottom": null,
            "display": null,
            "flex": null,
            "flex_flow": null,
            "grid_area": null,
            "grid_auto_columns": null,
            "grid_auto_flow": null,
            "grid_auto_rows": null,
            "grid_column": null,
            "grid_gap": null,
            "grid_row": null,
            "grid_template_areas": null,
            "grid_template_columns": null,
            "grid_template_rows": null,
            "height": null,
            "justify_content": null,
            "justify_items": null,
            "left": null,
            "margin": null,
            "max_height": null,
            "max_width": null,
            "min_height": null,
            "min_width": null,
            "object_fit": null,
            "object_position": null,
            "order": null,
            "overflow": null,
            "overflow_x": null,
            "overflow_y": null,
            "padding": null,
            "right": null,
            "top": null,
            "visibility": null,
            "width": null
          }
        },
        "106e4bab2a174e8a8a5180f6471bc8bc": {
          "model_module": "@jupyter-widgets/controls",
          "model_name": "DescriptionStyleModel",
          "model_module_version": "1.5.0",
          "state": {
            "_model_module": "@jupyter-widgets/controls",
            "_model_module_version": "1.5.0",
            "_model_name": "DescriptionStyleModel",
            "_view_count": null,
            "_view_module": "@jupyter-widgets/base",
            "_view_module_version": "1.2.0",
            "_view_name": "StyleView",
            "description_width": ""
          }
        },
        "4955cb17de6540a18b3e46e0d10843ae": {
          "model_module": "@jupyter-widgets/base",
          "model_name": "LayoutModel",
          "model_module_version": "1.2.0",
          "state": {
            "_model_module": "@jupyter-widgets/base",
            "_model_module_version": "1.2.0",
            "_model_name": "LayoutModel",
            "_view_count": null,
            "_view_module": "@jupyter-widgets/base",
            "_view_module_version": "1.2.0",
            "_view_name": "LayoutView",
            "align_content": null,
            "align_items": null,
            "align_self": null,
            "border": null,
            "bottom": null,
            "display": null,
            "flex": null,
            "flex_flow": null,
            "grid_area": null,
            "grid_auto_columns": null,
            "grid_auto_flow": null,
            "grid_auto_rows": null,
            "grid_column": null,
            "grid_gap": null,
            "grid_row": null,
            "grid_template_areas": null,
            "grid_template_columns": null,
            "grid_template_rows": null,
            "height": null,
            "justify_content": null,
            "justify_items": null,
            "left": null,
            "margin": null,
            "max_height": null,
            "max_width": null,
            "min_height": null,
            "min_width": null,
            "object_fit": null,
            "object_position": null,
            "order": null,
            "overflow": null,
            "overflow_x": null,
            "overflow_y": null,
            "padding": null,
            "right": null,
            "top": null,
            "visibility": null,
            "width": null
          }
        },
        "349563dd24fc42ef90176d1ff7cd7064": {
          "model_module": "@jupyter-widgets/controls",
          "model_name": "ProgressStyleModel",
          "model_module_version": "1.5.0",
          "state": {
            "_model_module": "@jupyter-widgets/controls",
            "_model_module_version": "1.5.0",
            "_model_name": "ProgressStyleModel",
            "_view_count": null,
            "_view_module": "@jupyter-widgets/base",
            "_view_module_version": "1.2.0",
            "_view_name": "StyleView",
            "bar_color": null,
            "description_width": ""
          }
        },
        "ddff45f045d44dbe8095a274cce0122a": {
          "model_module": "@jupyter-widgets/base",
          "model_name": "LayoutModel",
          "model_module_version": "1.2.0",
          "state": {
            "_model_module": "@jupyter-widgets/base",
            "_model_module_version": "1.2.0",
            "_model_name": "LayoutModel",
            "_view_count": null,
            "_view_module": "@jupyter-widgets/base",
            "_view_module_version": "1.2.0",
            "_view_name": "LayoutView",
            "align_content": null,
            "align_items": null,
            "align_self": null,
            "border": null,
            "bottom": null,
            "display": null,
            "flex": null,
            "flex_flow": null,
            "grid_area": null,
            "grid_auto_columns": null,
            "grid_auto_flow": null,
            "grid_auto_rows": null,
            "grid_column": null,
            "grid_gap": null,
            "grid_row": null,
            "grid_template_areas": null,
            "grid_template_columns": null,
            "grid_template_rows": null,
            "height": null,
            "justify_content": null,
            "justify_items": null,
            "left": null,
            "margin": null,
            "max_height": null,
            "max_width": null,
            "min_height": null,
            "min_width": null,
            "object_fit": null,
            "object_position": null,
            "order": null,
            "overflow": null,
            "overflow_x": null,
            "overflow_y": null,
            "padding": null,
            "right": null,
            "top": null,
            "visibility": null,
            "width": null
          }
        },
        "32a2d653964b4d4db98c6de54ee43ea2": {
          "model_module": "@jupyter-widgets/controls",
          "model_name": "DescriptionStyleModel",
          "model_module_version": "1.5.0",
          "state": {
            "_model_module": "@jupyter-widgets/controls",
            "_model_module_version": "1.5.0",
            "_model_name": "DescriptionStyleModel",
            "_view_count": null,
            "_view_module": "@jupyter-widgets/base",
            "_view_module_version": "1.2.0",
            "_view_name": "StyleView",
            "description_width": ""
          }
        },
        "dd2e7aed560f4cf1b69e77550ca6e349": {
          "model_module": "@jupyter-widgets/controls",
          "model_name": "HBoxModel",
          "model_module_version": "1.5.0",
          "state": {
            "_dom_classes": [],
            "_model_module": "@jupyter-widgets/controls",
            "_model_module_version": "1.5.0",
            "_model_name": "HBoxModel",
            "_view_count": null,
            "_view_module": "@jupyter-widgets/controls",
            "_view_module_version": "1.5.0",
            "_view_name": "HBoxView",
            "box_style": "",
            "children": [
              "IPY_MODEL_1eed07d86d004472a702221603a7a064",
              "IPY_MODEL_75f60f93750d4e4698d827e911f06468",
              "IPY_MODEL_a16241a0225d4fc5bd6877f89bc646bd"
            ],
            "layout": "IPY_MODEL_275ac8546d474df985c6724bcca00d97"
          }
        },
        "1eed07d86d004472a702221603a7a064": {
          "model_module": "@jupyter-widgets/controls",
          "model_name": "HTMLModel",
          "model_module_version": "1.5.0",
          "state": {
            "_dom_classes": [],
            "_model_module": "@jupyter-widgets/controls",
            "_model_module_version": "1.5.0",
            "_model_name": "HTMLModel",
            "_view_count": null,
            "_view_module": "@jupyter-widgets/controls",
            "_view_module_version": "1.5.0",
            "_view_name": "HTMLView",
            "description": "",
            "description_tooltip": null,
            "layout": "IPY_MODEL_7a28f95597c5431f9dfa18eb20af1ca8",
            "placeholder": "​",
            "style": "IPY_MODEL_0da7b4623b784714bb9a616bce36d933",
            "value": "100%"
          }
        },
        "75f60f93750d4e4698d827e911f06468": {
          "model_module": "@jupyter-widgets/controls",
          "model_name": "FloatProgressModel",
          "model_module_version": "1.5.0",
          "state": {
            "_dom_classes": [],
            "_model_module": "@jupyter-widgets/controls",
            "_model_module_version": "1.5.0",
            "_model_name": "FloatProgressModel",
            "_view_count": null,
            "_view_module": "@jupyter-widgets/controls",
            "_view_module_version": "1.5.0",
            "_view_name": "ProgressView",
            "bar_style": "success",
            "description": "",
            "description_tooltip": null,
            "layout": "IPY_MODEL_132f1904472d4eaabb255d74c7de9bca",
            "max": 358715,
            "min": 0,
            "orientation": "horizontal",
            "style": "IPY_MODEL_1a20453643f64b8f912fdc4021a03215",
            "value": 358715
          }
        },
        "a16241a0225d4fc5bd6877f89bc646bd": {
          "model_module": "@jupyter-widgets/controls",
          "model_name": "HTMLModel",
          "model_module_version": "1.5.0",
          "state": {
            "_dom_classes": [],
            "_model_module": "@jupyter-widgets/controls",
            "_model_module_version": "1.5.0",
            "_model_name": "HTMLModel",
            "_view_count": null,
            "_view_module": "@jupyter-widgets/controls",
            "_view_module_version": "1.5.0",
            "_view_name": "HTMLView",
            "description": "",
            "description_tooltip": null,
            "layout": "IPY_MODEL_a4aa63e96f5f41a58c93bddf6690306b",
            "placeholder": "​",
            "style": "IPY_MODEL_cb0f1822f93146f79377da444c36c202",
            "value": " 358715/358715 [00:45&lt;00:00, 7492.39it/s]"
          }
        },
        "275ac8546d474df985c6724bcca00d97": {
          "model_module": "@jupyter-widgets/base",
          "model_name": "LayoutModel",
          "model_module_version": "1.2.0",
          "state": {
            "_model_module": "@jupyter-widgets/base",
            "_model_module_version": "1.2.0",
            "_model_name": "LayoutModel",
            "_view_count": null,
            "_view_module": "@jupyter-widgets/base",
            "_view_module_version": "1.2.0",
            "_view_name": "LayoutView",
            "align_content": null,
            "align_items": null,
            "align_self": null,
            "border": null,
            "bottom": null,
            "display": null,
            "flex": null,
            "flex_flow": null,
            "grid_area": null,
            "grid_auto_columns": null,
            "grid_auto_flow": null,
            "grid_auto_rows": null,
            "grid_column": null,
            "grid_gap": null,
            "grid_row": null,
            "grid_template_areas": null,
            "grid_template_columns": null,
            "grid_template_rows": null,
            "height": null,
            "justify_content": null,
            "justify_items": null,
            "left": null,
            "margin": null,
            "max_height": null,
            "max_width": null,
            "min_height": null,
            "min_width": null,
            "object_fit": null,
            "object_position": null,
            "order": null,
            "overflow": null,
            "overflow_x": null,
            "overflow_y": null,
            "padding": null,
            "right": null,
            "top": null,
            "visibility": null,
            "width": null
          }
        },
        "7a28f95597c5431f9dfa18eb20af1ca8": {
          "model_module": "@jupyter-widgets/base",
          "model_name": "LayoutModel",
          "model_module_version": "1.2.0",
          "state": {
            "_model_module": "@jupyter-widgets/base",
            "_model_module_version": "1.2.0",
            "_model_name": "LayoutModel",
            "_view_count": null,
            "_view_module": "@jupyter-widgets/base",
            "_view_module_version": "1.2.0",
            "_view_name": "LayoutView",
            "align_content": null,
            "align_items": null,
            "align_self": null,
            "border": null,
            "bottom": null,
            "display": null,
            "flex": null,
            "flex_flow": null,
            "grid_area": null,
            "grid_auto_columns": null,
            "grid_auto_flow": null,
            "grid_auto_rows": null,
            "grid_column": null,
            "grid_gap": null,
            "grid_row": null,
            "grid_template_areas": null,
            "grid_template_columns": null,
            "grid_template_rows": null,
            "height": null,
            "justify_content": null,
            "justify_items": null,
            "left": null,
            "margin": null,
            "max_height": null,
            "max_width": null,
            "min_height": null,
            "min_width": null,
            "object_fit": null,
            "object_position": null,
            "order": null,
            "overflow": null,
            "overflow_x": null,
            "overflow_y": null,
            "padding": null,
            "right": null,
            "top": null,
            "visibility": null,
            "width": null
          }
        },
        "0da7b4623b784714bb9a616bce36d933": {
          "model_module": "@jupyter-widgets/controls",
          "model_name": "DescriptionStyleModel",
          "model_module_version": "1.5.0",
          "state": {
            "_model_module": "@jupyter-widgets/controls",
            "_model_module_version": "1.5.0",
            "_model_name": "DescriptionStyleModel",
            "_view_count": null,
            "_view_module": "@jupyter-widgets/base",
            "_view_module_version": "1.2.0",
            "_view_name": "StyleView",
            "description_width": ""
          }
        },
        "132f1904472d4eaabb255d74c7de9bca": {
          "model_module": "@jupyter-widgets/base",
          "model_name": "LayoutModel",
          "model_module_version": "1.2.0",
          "state": {
            "_model_module": "@jupyter-widgets/base",
            "_model_module_version": "1.2.0",
            "_model_name": "LayoutModel",
            "_view_count": null,
            "_view_module": "@jupyter-widgets/base",
            "_view_module_version": "1.2.0",
            "_view_name": "LayoutView",
            "align_content": null,
            "align_items": null,
            "align_self": null,
            "border": null,
            "bottom": null,
            "display": null,
            "flex": null,
            "flex_flow": null,
            "grid_area": null,
            "grid_auto_columns": null,
            "grid_auto_flow": null,
            "grid_auto_rows": null,
            "grid_column": null,
            "grid_gap": null,
            "grid_row": null,
            "grid_template_areas": null,
            "grid_template_columns": null,
            "grid_template_rows": null,
            "height": null,
            "justify_content": null,
            "justify_items": null,
            "left": null,
            "margin": null,
            "max_height": null,
            "max_width": null,
            "min_height": null,
            "min_width": null,
            "object_fit": null,
            "object_position": null,
            "order": null,
            "overflow": null,
            "overflow_x": null,
            "overflow_y": null,
            "padding": null,
            "right": null,
            "top": null,
            "visibility": null,
            "width": null
          }
        },
        "1a20453643f64b8f912fdc4021a03215": {
          "model_module": "@jupyter-widgets/controls",
          "model_name": "ProgressStyleModel",
          "model_module_version": "1.5.0",
          "state": {
            "_model_module": "@jupyter-widgets/controls",
            "_model_module_version": "1.5.0",
            "_model_name": "ProgressStyleModel",
            "_view_count": null,
            "_view_module": "@jupyter-widgets/base",
            "_view_module_version": "1.2.0",
            "_view_name": "StyleView",
            "bar_color": null,
            "description_width": ""
          }
        },
        "a4aa63e96f5f41a58c93bddf6690306b": {
          "model_module": "@jupyter-widgets/base",
          "model_name": "LayoutModel",
          "model_module_version": "1.2.0",
          "state": {
            "_model_module": "@jupyter-widgets/base",
            "_model_module_version": "1.2.0",
            "_model_name": "LayoutModel",
            "_view_count": null,
            "_view_module": "@jupyter-widgets/base",
            "_view_module_version": "1.2.0",
            "_view_name": "LayoutView",
            "align_content": null,
            "align_items": null,
            "align_self": null,
            "border": null,
            "bottom": null,
            "display": null,
            "flex": null,
            "flex_flow": null,
            "grid_area": null,
            "grid_auto_columns": null,
            "grid_auto_flow": null,
            "grid_auto_rows": null,
            "grid_column": null,
            "grid_gap": null,
            "grid_row": null,
            "grid_template_areas": null,
            "grid_template_columns": null,
            "grid_template_rows": null,
            "height": null,
            "justify_content": null,
            "justify_items": null,
            "left": null,
            "margin": null,
            "max_height": null,
            "max_width": null,
            "min_height": null,
            "min_width": null,
            "object_fit": null,
            "object_position": null,
            "order": null,
            "overflow": null,
            "overflow_x": null,
            "overflow_y": null,
            "padding": null,
            "right": null,
            "top": null,
            "visibility": null,
            "width": null
          }
        },
        "cb0f1822f93146f79377da444c36c202": {
          "model_module": "@jupyter-widgets/controls",
          "model_name": "DescriptionStyleModel",
          "model_module_version": "1.5.0",
          "state": {
            "_model_module": "@jupyter-widgets/controls",
            "_model_module_version": "1.5.0",
            "_model_name": "DescriptionStyleModel",
            "_view_count": null,
            "_view_module": "@jupyter-widgets/base",
            "_view_module_version": "1.2.0",
            "_view_name": "StyleView",
            "description_width": ""
          }
        }
      }
    }
  },
  "cells": [
    {
      "cell_type": "markdown",
      "metadata": {
        "id": "view-in-github",
        "colab_type": "text"
      },
      "source": [
        "<a href=\"https://colab.research.google.com/github/engineerksm/RF_Diagnosys_Dev/blob/master/GRU_LSTM_for_Fault_Prognostic_%5B1202%5D.ipynb\" target=\"_parent\"><img src=\"https://colab.research.google.com/assets/colab-badge.svg\" alt=\"Open In Colab\"/></a>"
      ]
    },
    {
      "cell_type": "markdown",
      "metadata": {
        "id": "1sJH-B2v6DU_"
      },
      "source": [
        "# mount google drive to google colab"
      ]
    },
    {
      "cell_type": "code",
      "metadata": {
        "id": "JtaqPtC1rKLc",
        "colab": {
          "base_uri": "https://localhost:8080/"
        },
        "outputId": "0bd1313b-a372-4917-a504-5c7e8d70192c"
      },
      "source": [
        "from google.colab import drive\n",
        "drive.mount(\"/content/drive\")"
      ],
      "execution_count": 1,
      "outputs": [
        {
          "output_type": "stream",
          "name": "stdout",
          "text": [
            "Mounted at /content/drive\n"
          ]
        }
      ]
    },
    {
      "cell_type": "code",
      "metadata": {
        "id": "jG3_nxe1tMiN",
        "colab": {
          "base_uri": "https://localhost:8080/"
        },
        "outputId": "176d62cd-12bf-4805-bc46-e69022c2eb15"
      },
      "source": [
        "cd /content/drive/My Drive/Colab Notebooks/HAICON"
      ],
      "execution_count": 2,
      "outputs": [
        {
          "output_type": "stream",
          "name": "stdout",
          "text": [
            "/content/drive/My Drive/Colab Notebooks/HAICON\n"
          ]
        }
      ]
    },
    {
      "cell_type": "markdown",
      "metadata": {
        "id": "RCILSy-q-dAF"
      },
      "source": [
        "* Note that everytime you rerun"
      ]
    },
    {
      "cell_type": "code",
      "metadata": {
        "id": "Wj78OtUJtkg_",
        "colab": {
          "base_uri": "https://localhost:8080/"
        },
        "outputId": "587733d8-9ea0-43ef-bfb1-fae62e7ebfd0"
      },
      "source": [
        "pip install eTaPR-1.12-py3-none-any.whl"
      ],
      "execution_count": 3,
      "outputs": [
        {
          "output_type": "stream",
          "name": "stdout",
          "text": [
            "Looking in indexes: https://pypi.org/simple, https://us-python.pkg.dev/colab-wheels/public/simple/\n",
            "Processing ./eTaPR-1.12-py3-none-any.whl\n",
            "Installing collected packages: eTaPR\n",
            "Successfully installed eTaPR-1.12\n"
          ]
        }
      ]
    },
    {
      "cell_type": "code",
      "metadata": {
        "id": "KFuPDfl5tpl2"
      },
      "source": [
        "import sys\n",
        "\n",
        "from pathlib import Path\n",
        "from datetime import timedelta\n",
        "\n",
        "import dateutil\n",
        "import numpy as np\n",
        "import matplotlib.pyplot as plt\n",
        "import pandas as pd\n",
        "import torch\n",
        "\n",
        "from torch.utils.data import Dataset, DataLoader\n",
        "from tqdm.notebook import trange\n",
        "from TaPR_pkg import etapr"
      ],
      "execution_count": 4,
      "outputs": []
    },
    {
      "cell_type": "code",
      "metadata": {
        "id": "Pb4CL52wzfSb"
      },
      "source": [
        "torch.manual_seed(0)\n",
        "torch.backends.cudnn.deterministic = True\n",
        "torch.backends.cudnn.benchmark = False\n",
        "np.random.seed(0)"
      ],
      "execution_count": 5,
      "outputs": []
    },
    {
      "cell_type": "code",
      "source": [
        "torch.cuda.is_available()"
      ],
      "metadata": {
        "colab": {
          "base_uri": "https://localhost:8080/"
        },
        "id": "-D4N8GAcKt02",
        "outputId": "7921a416-3e00-4c77-fb11-36df87bc659f"
      },
      "execution_count": 6,
      "outputs": [
        {
          "output_type": "execute_result",
          "data": {
            "text/plain": [
              "True"
            ]
          },
          "metadata": {},
          "execution_count": 6
        }
      ]
    },
    {
      "cell_type": "markdown",
      "source": [
        "**Data Preprocessing**"
      ],
      "metadata": {
        "id": "hG16JNDAWTE9"
      }
    },
    {
      "cell_type": "code",
      "metadata": {
        "id": "UHI1UtqjzEZa",
        "outputId": "d3a61859-f75f-4ee7-97ca-cfca28e2b53c",
        "colab": {
          "base_uri": "https://localhost:8080/"
        }
      },
      "source": [
        "TRAIN_DATASET = sorted([x for x in Path(\"data/training/\").glob(\"*.csv\")])\n",
        "TRAIN_DATASET"
      ],
      "execution_count": 7,
      "outputs": [
        {
          "output_type": "execute_result",
          "data": {
            "text/plain": [
              "[PosixPath('data/training/train1.csv'),\n",
              " PosixPath('data/training/train2.csv'),\n",
              " PosixPath('data/training/train3.csv')]"
            ]
          },
          "metadata": {},
          "execution_count": 7
        }
      ]
    },
    {
      "cell_type": "code",
      "metadata": {
        "id": "Lv165WrAzEb7",
        "outputId": "4ad6a94e-4d86-4608-eaa1-8b70042f6298",
        "colab": {
          "base_uri": "https://localhost:8080/"
        }
      },
      "source": [
        "TEST_DATASET = sorted([x for x in Path(\"data/testing/\").glob(\"*.csv\")])\n",
        "TEST_DATASET"
      ],
      "execution_count": 8,
      "outputs": [
        {
          "output_type": "execute_result",
          "data": {
            "text/plain": [
              "[PosixPath('data/testing/test1.csv'),\n",
              " PosixPath('data/testing/test2.csv'),\n",
              " PosixPath('data/testing/test3.csv'),\n",
              " PosixPath('data/testing/test4.csv')]"
            ]
          },
          "metadata": {},
          "execution_count": 8
        }
      ]
    },
    {
      "cell_type": "code",
      "metadata": {
        "id": "1ZISBpBAzEeT",
        "outputId": "fea88b2d-11ca-4be3-84ba-a0d74f780deb",
        "colab": {
          "base_uri": "https://localhost:8080/"
        }
      },
      "source": [
        "VALIDATION_DATASET = sorted([x for x in Path(\"data/validation/\").glob(\"*.csv\")])\n",
        "VALIDATION_DATASET"
      ],
      "execution_count": 9,
      "outputs": [
        {
          "output_type": "execute_result",
          "data": {
            "text/plain": [
              "[PosixPath('data/validation/validation.csv')]"
            ]
          },
          "metadata": {},
          "execution_count": 9
        }
      ]
    },
    {
      "cell_type": "code",
      "metadata": {
        "id": "RNJjHBDWzUWr"
      },
      "source": [
        "def dataframe_from_csv(target):\n",
        "    return pd.read_csv(target).rename(columns=lambda x: x.strip())\n",
        "\n",
        "def dataframe_from_csvs(targets):\n",
        "    return pd.concat([dataframe_from_csv(x) for x in targets])"
      ],
      "execution_count": 10,
      "outputs": []
    },
    {
      "cell_type": "code",
      "metadata": {
        "id": "r4xrOuPXzUYq",
        "outputId": "49f54ca9-4675-4a28-8888-2a2538f7b732",
        "colab": {
          "base_uri": "https://localhost:8080/",
          "height": 835
        }
      },
      "source": [
        "TRAIN_DF_RAW = dataframe_from_csvs(TRAIN_DATASET)\n",
        "TRAIN_DF_RAW"
      ],
      "execution_count": 11,
      "outputs": [
        {
          "output_type": "execute_result",
          "data": {
            "text/plain": [
              "                       time        C01  C02  C03       C04     C05      C06  \\\n",
              "0       2020-07-11 00:00:00  395.19528   12   10  52.80456 -1.2648 -1.87531   \n",
              "1       2020-07-11 00:00:01  395.14420   12   10  52.78931 -1.3147 -1.88294   \n",
              "2       2020-07-11 00:00:02  395.14420   12   10  52.79694 -1.4032 -1.88294   \n",
              "3       2020-07-11 00:00:03  395.19528   12   10  52.79694 -1.6074 -1.88294   \n",
              "4       2020-07-11 00:00:04  395.34866   12   10  52.79694 -1.7811 -1.88294   \n",
              "...                     ...        ...  ...  ...       ...     ...      ...   \n",
              "478796  2020-08-10 10:59:56  387.27219   12   10  66.72057 -0.9331 -1.84479   \n",
              "478797  2020-08-10 10:59:57  387.52774   12   10  66.72057 -0.9996 -1.84479   \n",
              "478798  2020-08-10 10:59:58  387.47665   12   10  66.72057 -1.2560 -1.84479   \n",
              "478799  2020-08-10 10:59:59  387.73221   12   10  66.72057 -1.4912 -1.84479   \n",
              "478800  2020-08-10 11:00:00  387.52774   12   10  66.72057 -1.5727 -1.84479   \n",
              "\n",
              "              C07       C08      C09  ...        C70  C71      C72       C73  \\\n",
              "0       779.59595  28.02645  10832.0  ...  808.29620  0.0  1.36810   8.79882   \n",
              "1       780.67328  28.02473  10984.0  ...  819.16809  0.0  1.36810   8.78811   \n",
              "2       780.06574  28.02817  11120.0  ...  823.51697  0.0  1.36734   8.81787   \n",
              "3       780.15265  28.02301  11256.0  ...  823.95172  0.0  1.36734   8.87493   \n",
              "4       781.83160  28.03595  11384.0  ...  827.86560  0.0  1.36810   8.83838   \n",
              "...           ...       ...      ...  ...        ...  ...      ...       ...   \n",
              "478796  781.87915  28.02389    880.0  ...  944.84705  0.0  1.32843  15.17817   \n",
              "478797  787.65070  28.02385    840.0  ...  940.49835  0.0  1.32843  15.17344   \n",
              "478798  788.50256  28.03085    792.0  ...  935.71472  0.0  1.32919  15.16443   \n",
              "478799  785.80316  28.02649    752.0  ...  944.84705  0.0  1.32843  15.09001   \n",
              "478800  780.21381  28.02476    720.0  ...  951.80505  0.0  1.32919  15.08672   \n",
              "\n",
              "             C74       C75        C76        C77      C78     C79  \n",
              "0       35.43700  12.01782  305.03113  301.35992  33.6555  6.0951  \n",
              "1       35.45227  12.01782  304.27161  297.43567  33.6555  5.9262  \n",
              "2       35.45227  12.01782  303.89179  298.66534  33.6555  5.8101  \n",
              "3       35.43700  12.01782  303.67474  298.06860  33.6555  5.7509  \n",
              "4       35.45227  12.01782  303.22266  296.53137  33.6555  5.8547  \n",
              "...          ...       ...        ...        ...      ...     ...  \n",
              "478796  35.14710  11.79657  316.89453  296.54950  32.0000  6.6026  \n",
              "478797  35.13183  11.79657  315.59247  296.15161  32.0000  6.3894  \n",
              "478798  35.13183  11.79657  313.92865  293.40277  32.0000  6.2584  \n",
              "478799  35.14710  11.79657  315.61054  302.58972  32.0000  6.4150  \n",
              "478800  35.14710  11.79657  317.23816  309.00964  32.0000  6.6288  \n",
              "\n",
              "[921603 rows x 80 columns]"
            ],
            "text/html": [
              "\n",
              "  <div id=\"df-d469662b-bbe3-484f-853b-84d72ca9a7e4\">\n",
              "    <div class=\"colab-df-container\">\n",
              "      <div>\n",
              "<style scoped>\n",
              "    .dataframe tbody tr th:only-of-type {\n",
              "        vertical-align: middle;\n",
              "    }\n",
              "\n",
              "    .dataframe tbody tr th {\n",
              "        vertical-align: top;\n",
              "    }\n",
              "\n",
              "    .dataframe thead th {\n",
              "        text-align: right;\n",
              "    }\n",
              "</style>\n",
              "<table border=\"1\" class=\"dataframe\">\n",
              "  <thead>\n",
              "    <tr style=\"text-align: right;\">\n",
              "      <th></th>\n",
              "      <th>time</th>\n",
              "      <th>C01</th>\n",
              "      <th>C02</th>\n",
              "      <th>C03</th>\n",
              "      <th>C04</th>\n",
              "      <th>C05</th>\n",
              "      <th>C06</th>\n",
              "      <th>C07</th>\n",
              "      <th>C08</th>\n",
              "      <th>C09</th>\n",
              "      <th>...</th>\n",
              "      <th>C70</th>\n",
              "      <th>C71</th>\n",
              "      <th>C72</th>\n",
              "      <th>C73</th>\n",
              "      <th>C74</th>\n",
              "      <th>C75</th>\n",
              "      <th>C76</th>\n",
              "      <th>C77</th>\n",
              "      <th>C78</th>\n",
              "      <th>C79</th>\n",
              "    </tr>\n",
              "  </thead>\n",
              "  <tbody>\n",
              "    <tr>\n",
              "      <th>0</th>\n",
              "      <td>2020-07-11 00:00:00</td>\n",
              "      <td>395.19528</td>\n",
              "      <td>12</td>\n",
              "      <td>10</td>\n",
              "      <td>52.80456</td>\n",
              "      <td>-1.2648</td>\n",
              "      <td>-1.87531</td>\n",
              "      <td>779.59595</td>\n",
              "      <td>28.02645</td>\n",
              "      <td>10832.0</td>\n",
              "      <td>...</td>\n",
              "      <td>808.29620</td>\n",
              "      <td>0.0</td>\n",
              "      <td>1.36810</td>\n",
              "      <td>8.79882</td>\n",
              "      <td>35.43700</td>\n",
              "      <td>12.01782</td>\n",
              "      <td>305.03113</td>\n",
              "      <td>301.35992</td>\n",
              "      <td>33.6555</td>\n",
              "      <td>6.0951</td>\n",
              "    </tr>\n",
              "    <tr>\n",
              "      <th>1</th>\n",
              "      <td>2020-07-11 00:00:01</td>\n",
              "      <td>395.14420</td>\n",
              "      <td>12</td>\n",
              "      <td>10</td>\n",
              "      <td>52.78931</td>\n",
              "      <td>-1.3147</td>\n",
              "      <td>-1.88294</td>\n",
              "      <td>780.67328</td>\n",
              "      <td>28.02473</td>\n",
              "      <td>10984.0</td>\n",
              "      <td>...</td>\n",
              "      <td>819.16809</td>\n",
              "      <td>0.0</td>\n",
              "      <td>1.36810</td>\n",
              "      <td>8.78811</td>\n",
              "      <td>35.45227</td>\n",
              "      <td>12.01782</td>\n",
              "      <td>304.27161</td>\n",
              "      <td>297.43567</td>\n",
              "      <td>33.6555</td>\n",
              "      <td>5.9262</td>\n",
              "    </tr>\n",
              "    <tr>\n",
              "      <th>2</th>\n",
              "      <td>2020-07-11 00:00:02</td>\n",
              "      <td>395.14420</td>\n",
              "      <td>12</td>\n",
              "      <td>10</td>\n",
              "      <td>52.79694</td>\n",
              "      <td>-1.4032</td>\n",
              "      <td>-1.88294</td>\n",
              "      <td>780.06574</td>\n",
              "      <td>28.02817</td>\n",
              "      <td>11120.0</td>\n",
              "      <td>...</td>\n",
              "      <td>823.51697</td>\n",
              "      <td>0.0</td>\n",
              "      <td>1.36734</td>\n",
              "      <td>8.81787</td>\n",
              "      <td>35.45227</td>\n",
              "      <td>12.01782</td>\n",
              "      <td>303.89179</td>\n",
              "      <td>298.66534</td>\n",
              "      <td>33.6555</td>\n",
              "      <td>5.8101</td>\n",
              "    </tr>\n",
              "    <tr>\n",
              "      <th>3</th>\n",
              "      <td>2020-07-11 00:00:03</td>\n",
              "      <td>395.19528</td>\n",
              "      <td>12</td>\n",
              "      <td>10</td>\n",
              "      <td>52.79694</td>\n",
              "      <td>-1.6074</td>\n",
              "      <td>-1.88294</td>\n",
              "      <td>780.15265</td>\n",
              "      <td>28.02301</td>\n",
              "      <td>11256.0</td>\n",
              "      <td>...</td>\n",
              "      <td>823.95172</td>\n",
              "      <td>0.0</td>\n",
              "      <td>1.36734</td>\n",
              "      <td>8.87493</td>\n",
              "      <td>35.43700</td>\n",
              "      <td>12.01782</td>\n",
              "      <td>303.67474</td>\n",
              "      <td>298.06860</td>\n",
              "      <td>33.6555</td>\n",
              "      <td>5.7509</td>\n",
              "    </tr>\n",
              "    <tr>\n",
              "      <th>4</th>\n",
              "      <td>2020-07-11 00:00:04</td>\n",
              "      <td>395.34866</td>\n",
              "      <td>12</td>\n",
              "      <td>10</td>\n",
              "      <td>52.79694</td>\n",
              "      <td>-1.7811</td>\n",
              "      <td>-1.88294</td>\n",
              "      <td>781.83160</td>\n",
              "      <td>28.03595</td>\n",
              "      <td>11384.0</td>\n",
              "      <td>...</td>\n",
              "      <td>827.86560</td>\n",
              "      <td>0.0</td>\n",
              "      <td>1.36810</td>\n",
              "      <td>8.83838</td>\n",
              "      <td>35.45227</td>\n",
              "      <td>12.01782</td>\n",
              "      <td>303.22266</td>\n",
              "      <td>296.53137</td>\n",
              "      <td>33.6555</td>\n",
              "      <td>5.8547</td>\n",
              "    </tr>\n",
              "    <tr>\n",
              "      <th>...</th>\n",
              "      <td>...</td>\n",
              "      <td>...</td>\n",
              "      <td>...</td>\n",
              "      <td>...</td>\n",
              "      <td>...</td>\n",
              "      <td>...</td>\n",
              "      <td>...</td>\n",
              "      <td>...</td>\n",
              "      <td>...</td>\n",
              "      <td>...</td>\n",
              "      <td>...</td>\n",
              "      <td>...</td>\n",
              "      <td>...</td>\n",
              "      <td>...</td>\n",
              "      <td>...</td>\n",
              "      <td>...</td>\n",
              "      <td>...</td>\n",
              "      <td>...</td>\n",
              "      <td>...</td>\n",
              "      <td>...</td>\n",
              "      <td>...</td>\n",
              "    </tr>\n",
              "    <tr>\n",
              "      <th>478796</th>\n",
              "      <td>2020-08-10 10:59:56</td>\n",
              "      <td>387.27219</td>\n",
              "      <td>12</td>\n",
              "      <td>10</td>\n",
              "      <td>66.72057</td>\n",
              "      <td>-0.9331</td>\n",
              "      <td>-1.84479</td>\n",
              "      <td>781.87915</td>\n",
              "      <td>28.02389</td>\n",
              "      <td>880.0</td>\n",
              "      <td>...</td>\n",
              "      <td>944.84705</td>\n",
              "      <td>0.0</td>\n",
              "      <td>1.32843</td>\n",
              "      <td>15.17817</td>\n",
              "      <td>35.14710</td>\n",
              "      <td>11.79657</td>\n",
              "      <td>316.89453</td>\n",
              "      <td>296.54950</td>\n",
              "      <td>32.0000</td>\n",
              "      <td>6.6026</td>\n",
              "    </tr>\n",
              "    <tr>\n",
              "      <th>478797</th>\n",
              "      <td>2020-08-10 10:59:57</td>\n",
              "      <td>387.52774</td>\n",
              "      <td>12</td>\n",
              "      <td>10</td>\n",
              "      <td>66.72057</td>\n",
              "      <td>-0.9996</td>\n",
              "      <td>-1.84479</td>\n",
              "      <td>787.65070</td>\n",
              "      <td>28.02385</td>\n",
              "      <td>840.0</td>\n",
              "      <td>...</td>\n",
              "      <td>940.49835</td>\n",
              "      <td>0.0</td>\n",
              "      <td>1.32843</td>\n",
              "      <td>15.17344</td>\n",
              "      <td>35.13183</td>\n",
              "      <td>11.79657</td>\n",
              "      <td>315.59247</td>\n",
              "      <td>296.15161</td>\n",
              "      <td>32.0000</td>\n",
              "      <td>6.3894</td>\n",
              "    </tr>\n",
              "    <tr>\n",
              "      <th>478798</th>\n",
              "      <td>2020-08-10 10:59:58</td>\n",
              "      <td>387.47665</td>\n",
              "      <td>12</td>\n",
              "      <td>10</td>\n",
              "      <td>66.72057</td>\n",
              "      <td>-1.2560</td>\n",
              "      <td>-1.84479</td>\n",
              "      <td>788.50256</td>\n",
              "      <td>28.03085</td>\n",
              "      <td>792.0</td>\n",
              "      <td>...</td>\n",
              "      <td>935.71472</td>\n",
              "      <td>0.0</td>\n",
              "      <td>1.32919</td>\n",
              "      <td>15.16443</td>\n",
              "      <td>35.13183</td>\n",
              "      <td>11.79657</td>\n",
              "      <td>313.92865</td>\n",
              "      <td>293.40277</td>\n",
              "      <td>32.0000</td>\n",
              "      <td>6.2584</td>\n",
              "    </tr>\n",
              "    <tr>\n",
              "      <th>478799</th>\n",
              "      <td>2020-08-10 10:59:59</td>\n",
              "      <td>387.73221</td>\n",
              "      <td>12</td>\n",
              "      <td>10</td>\n",
              "      <td>66.72057</td>\n",
              "      <td>-1.4912</td>\n",
              "      <td>-1.84479</td>\n",
              "      <td>785.80316</td>\n",
              "      <td>28.02649</td>\n",
              "      <td>752.0</td>\n",
              "      <td>...</td>\n",
              "      <td>944.84705</td>\n",
              "      <td>0.0</td>\n",
              "      <td>1.32843</td>\n",
              "      <td>15.09001</td>\n",
              "      <td>35.14710</td>\n",
              "      <td>11.79657</td>\n",
              "      <td>315.61054</td>\n",
              "      <td>302.58972</td>\n",
              "      <td>32.0000</td>\n",
              "      <td>6.4150</td>\n",
              "    </tr>\n",
              "    <tr>\n",
              "      <th>478800</th>\n",
              "      <td>2020-08-10 11:00:00</td>\n",
              "      <td>387.52774</td>\n",
              "      <td>12</td>\n",
              "      <td>10</td>\n",
              "      <td>66.72057</td>\n",
              "      <td>-1.5727</td>\n",
              "      <td>-1.84479</td>\n",
              "      <td>780.21381</td>\n",
              "      <td>28.02476</td>\n",
              "      <td>720.0</td>\n",
              "      <td>...</td>\n",
              "      <td>951.80505</td>\n",
              "      <td>0.0</td>\n",
              "      <td>1.32919</td>\n",
              "      <td>15.08672</td>\n",
              "      <td>35.14710</td>\n",
              "      <td>11.79657</td>\n",
              "      <td>317.23816</td>\n",
              "      <td>309.00964</td>\n",
              "      <td>32.0000</td>\n",
              "      <td>6.6288</td>\n",
              "    </tr>\n",
              "  </tbody>\n",
              "</table>\n",
              "<p>921603 rows × 80 columns</p>\n",
              "</div>\n",
              "      <button class=\"colab-df-convert\" onclick=\"convertToInteractive('df-d469662b-bbe3-484f-853b-84d72ca9a7e4')\"\n",
              "              title=\"Convert this dataframe to an interactive table.\"\n",
              "              style=\"display:none;\">\n",
              "        \n",
              "  <svg xmlns=\"http://www.w3.org/2000/svg\" height=\"24px\"viewBox=\"0 0 24 24\"\n",
              "       width=\"24px\">\n",
              "    <path d=\"M0 0h24v24H0V0z\" fill=\"none\"/>\n",
              "    <path d=\"M18.56 5.44l.94 2.06.94-2.06 2.06-.94-2.06-.94-.94-2.06-.94 2.06-2.06.94zm-11 1L8.5 8.5l.94-2.06 2.06-.94-2.06-.94L8.5 2.5l-.94 2.06-2.06.94zm10 10l.94 2.06.94-2.06 2.06-.94-2.06-.94-.94-2.06-.94 2.06-2.06.94z\"/><path d=\"M17.41 7.96l-1.37-1.37c-.4-.4-.92-.59-1.43-.59-.52 0-1.04.2-1.43.59L10.3 9.45l-7.72 7.72c-.78.78-.78 2.05 0 2.83L4 21.41c.39.39.9.59 1.41.59.51 0 1.02-.2 1.41-.59l7.78-7.78 2.81-2.81c.8-.78.8-2.07 0-2.86zM5.41 20L4 18.59l7.72-7.72 1.47 1.35L5.41 20z\"/>\n",
              "  </svg>\n",
              "      </button>\n",
              "      \n",
              "  <style>\n",
              "    .colab-df-container {\n",
              "      display:flex;\n",
              "      flex-wrap:wrap;\n",
              "      gap: 12px;\n",
              "    }\n",
              "\n",
              "    .colab-df-convert {\n",
              "      background-color: #E8F0FE;\n",
              "      border: none;\n",
              "      border-radius: 50%;\n",
              "      cursor: pointer;\n",
              "      display: none;\n",
              "      fill: #1967D2;\n",
              "      height: 32px;\n",
              "      padding: 0 0 0 0;\n",
              "      width: 32px;\n",
              "    }\n",
              "\n",
              "    .colab-df-convert:hover {\n",
              "      background-color: #E2EBFA;\n",
              "      box-shadow: 0px 1px 2px rgba(60, 64, 67, 0.3), 0px 1px 3px 1px rgba(60, 64, 67, 0.15);\n",
              "      fill: #174EA6;\n",
              "    }\n",
              "\n",
              "    [theme=dark] .colab-df-convert {\n",
              "      background-color: #3B4455;\n",
              "      fill: #D2E3FC;\n",
              "    }\n",
              "\n",
              "    [theme=dark] .colab-df-convert:hover {\n",
              "      background-color: #434B5C;\n",
              "      box-shadow: 0px 1px 3px 1px rgba(0, 0, 0, 0.15);\n",
              "      filter: drop-shadow(0px 1px 2px rgba(0, 0, 0, 0.3));\n",
              "      fill: #FFFFFF;\n",
              "    }\n",
              "  </style>\n",
              "\n",
              "      <script>\n",
              "        const buttonEl =\n",
              "          document.querySelector('#df-d469662b-bbe3-484f-853b-84d72ca9a7e4 button.colab-df-convert');\n",
              "        buttonEl.style.display =\n",
              "          google.colab.kernel.accessAllowed ? 'block' : 'none';\n",
              "\n",
              "        async function convertToInteractive(key) {\n",
              "          const element = document.querySelector('#df-d469662b-bbe3-484f-853b-84d72ca9a7e4');\n",
              "          const dataTable =\n",
              "            await google.colab.kernel.invokeFunction('convertToInteractive',\n",
              "                                                     [key], {});\n",
              "          if (!dataTable) return;\n",
              "\n",
              "          const docLinkHtml = 'Like what you see? Visit the ' +\n",
              "            '<a target=\"_blank\" href=https://colab.research.google.com/notebooks/data_table.ipynb>data table notebook</a>'\n",
              "            + ' to learn more about interactive tables.';\n",
              "          element.innerHTML = '';\n",
              "          dataTable['output_type'] = 'display_data';\n",
              "          await google.colab.output.renderOutput(dataTable, element);\n",
              "          const docLink = document.createElement('div');\n",
              "          docLink.innerHTML = docLinkHtml;\n",
              "          element.appendChild(docLink);\n",
              "        }\n",
              "      </script>\n",
              "    </div>\n",
              "  </div>\n",
              "  "
            ]
          },
          "metadata": {},
          "execution_count": 11
        }
      ]
    },
    {
      "cell_type": "markdown",
      "metadata": {
        "id": "5MXWST9IcFD6"
      },
      "source": [
        "Find the mean, median, and standard deviation for C04 column"
      ]
    },
    {
      "cell_type": "code",
      "metadata": {
        "id": "oUjsnSJzcDj7",
        "outputId": "f45c305e-3f65-4784-da72-5fef6c16db6f",
        "colab": {
          "base_uri": "https://localhost:8080/"
        }
      },
      "source": [
        "mean_result = TRAIN_DF_RAW['C04'].mean(axis='rows', skipna=True)\n",
        "median_result = TRAIN_DF_RAW['C04'].median(axis='rows', skipna=True)\n",
        "std_result = TRAIN_DF_RAW['C04'].std(axis='rows', skipna=True)\n",
        "print('mean value in C04 columns \\n {0}'.format(mean_result))\n",
        "print('median value in C04 columns \\n {0}'.format(median_result))\n",
        "print('standard deviation in C04 columns \\n {0}'.format(std_result))"
      ],
      "execution_count": 12,
      "outputs": [
        {
          "output_type": "stream",
          "name": "stdout",
          "text": [
            "mean value in C04 columns \n",
            " 59.299039180189276\n",
            "median value in C04 columns \n",
            " 61.05194\n",
            "standard deviation in C04 columns \n",
            " 6.714803964331488\n"
          ]
        }
      ]
    },
    {
      "cell_type": "code",
      "metadata": {
        "id": "gwrLwT1gledp"
      },
      "source": [
        "import numpy as np"
      ],
      "execution_count": 13,
      "outputs": []
    },
    {
      "cell_type": "code",
      "metadata": {
        "id": "wg9D142shj1P",
        "outputId": "c1116f46-7220-44df-b169-525f896576c1",
        "colab": {
          "base_uri": "https://localhost:8080/"
        }
      },
      "source": [
        "TRAIN_DF_RAW = TRAIN_DF_RAW.fillna(0)\n",
        "std_result = TRAIN_DF_RAW.std(axis='rows', skipna=True)\n",
        "std_result = np.round(std_result, 2)\n",
        "print('standard deviation in each columns \\n {0}'.format(std_result))"
      ],
      "execution_count": 14,
      "outputs": [
        {
          "output_type": "stream",
          "name": "stdout",
          "text": [
            "standard deviation in each columns \n",
            " C01    15.63\n",
            "C02     0.00\n",
            "C03     0.00\n",
            "C04     6.71\n",
            "C05     0.35\n",
            "       ...  \n",
            "C75     0.10\n",
            "C76    34.45\n",
            "C77    37.85\n",
            "C78     0.58\n",
            "C79     0.38\n",
            "Length: 79, dtype: float64\n"
          ]
        },
        {
          "output_type": "stream",
          "name": "stderr",
          "text": [
            "<ipython-input-14-a7976ef2b2a0>:2: FutureWarning: Dropping of nuisance columns in DataFrame reductions (with 'numeric_only=None') is deprecated; in a future version this will raise TypeError.  Select only valid columns before calling the reduction.\n",
            "  std_result = TRAIN_DF_RAW.std(axis='rows', skipna=True)\n"
          ]
        }
      ]
    },
    {
      "cell_type": "code",
      "metadata": {
        "id": "cKhAEZ1JkvJv",
        "outputId": "6bfd5c72-7cd7-4e5b-d973-76cad5d0e9c0",
        "colab": {
          "base_uri": "https://localhost:8080/"
        }
      },
      "source": [
        "original_Params = list(TRAIN_DF_RAW.columns)\n",
        "print('Original columns list : {0}'.format(original_Params))"
      ],
      "execution_count": 15,
      "outputs": [
        {
          "output_type": "stream",
          "name": "stdout",
          "text": [
            "Original columns list : ['time', 'C01', 'C02', 'C03', 'C04', 'C05', 'C06', 'C07', 'C08', 'C09', 'C10', 'C11', 'C12', 'C13', 'C14', 'C15', 'C16', 'C17', 'C18', 'C19', 'C20', 'C21', 'C22', 'C23', 'C24', 'C25', 'C26', 'C27', 'C28', 'C29', 'C30', 'C31', 'C32', 'C33', 'C34', 'C35', 'C36', 'C37', 'C38', 'C39', 'C40', 'C41', 'C42', 'C43', 'C44', 'C45', 'C46', 'C47', 'C48', 'C49', 'C50', 'C51', 'C52', 'C53', 'C54', 'C55', 'C56', 'C57', 'C58', 'C59', 'C60', 'C61', 'C62', 'C63', 'C64', 'C65', 'C66', 'C67', 'C68', 'C69', 'C70', 'C71', 'C72', 'C73', 'C74', 'C75', 'C76', 'C77', 'C78', 'C79']\n"
          ]
        }
      ]
    },
    {
      "cell_type": "code",
      "source": [
        "len(original_Params), original_Params[1]\n",
        "for idx in range(1, len(original_Params)) : \n",
        "  std_result = TRAIN_DF_RAW[(original_Params[idx])].std(axis='rows', skipna=True)\n",
        "  #print('{0} {1}\\n'.format(original_Params[idx], std_result))\n",
        "  if (std_result == 0) : \n",
        "    TRAIN_DF_RAW.drop(columns=[original_Params[idx]], axis=1,inplace=True)\n",
        "    print('{0} {1}\\t'.format(original_Params[idx], std_result))"
      ],
      "metadata": {
        "id": "oUy7do-0EwMp",
        "outputId": "e8bfc338-94c1-44ac-e62f-0a59d1e30d2f",
        "colab": {
          "base_uri": "https://localhost:8080/"
        }
      },
      "execution_count": 16,
      "outputs": [
        {
          "output_type": "stream",
          "name": "stdout",
          "text": [
            "C02 0.0\t\n",
            "C03 0.0\t\n",
            "C14 0.0\t\n",
            "C18 0.0\t\n",
            "C19 0.0\t\n",
            "C21 0.0\t\n",
            "C22 0.0\t\n",
            "C33 0.0\t\n",
            "C34 0.0\t\n",
            "C35 0.0\t\n",
            "C37 0.0\t\n",
            "C40 0.0\t\n",
            "C43 0.0\t\n",
            "C51 0.0\t\n",
            "C52 0.0\t\n",
            "C59 0.0\t\n",
            "C61 0.0\t\n",
            "C63 0.0\t\n",
            "C64 0.0\t\n",
            "C65 0.0\t\n",
            "C67 0.0\t\n"
          ]
        }
      ]
    },
    {
      "cell_type": "code",
      "source": [
        "Revised_Params = list(TRAIN_DF_RAW.columns)\n",
        "print('Revised columns list : {0}'.format(Revised_Params))"
      ],
      "metadata": {
        "id": "LWE3Se_sC0Ql",
        "outputId": "f14929b6-1eef-492e-927c-9c6a19864ea5",
        "colab": {
          "base_uri": "https://localhost:8080/"
        }
      },
      "execution_count": 17,
      "outputs": [
        {
          "output_type": "stream",
          "name": "stdout",
          "text": [
            "Revised columns list : ['time', 'C01', 'C04', 'C05', 'C06', 'C07', 'C08', 'C09', 'C10', 'C11', 'C12', 'C13', 'C15', 'C16', 'C17', 'C20', 'C23', 'C24', 'C25', 'C26', 'C27', 'C28', 'C29', 'C30', 'C31', 'C32', 'C36', 'C38', 'C39', 'C41', 'C42', 'C44', 'C45', 'C46', 'C47', 'C48', 'C49', 'C50', 'C53', 'C54', 'C55', 'C56', 'C57', 'C58', 'C60', 'C62', 'C66', 'C68', 'C69', 'C70', 'C71', 'C72', 'C73', 'C74', 'C75', 'C76', 'C77', 'C78', 'C79']\n"
          ]
        }
      ]
    },
    {
      "cell_type": "code",
      "metadata": {
        "id": "Tvl-vqEKzUa5",
        "outputId": "1aa58f0b-b956-4481-bb40-4ffc0820b647",
        "colab": {
          "base_uri": "https://localhost:8080/"
        }
      },
      "source": [
        "TIMESTAMP_FIELD = \"time\"\n",
        "IDSTAMP_FIELD = 'id'\n",
        "ATTACK_FIELD = \"attack\"\n",
        "VALID_COLUMNS_IN_TRAIN_DATASET = TRAIN_DF_RAW.columns.drop([TIMESTAMP_FIELD])\n",
        "VALID_COLUMNS_IN_TRAIN_DATASET"
      ],
      "execution_count": 18,
      "outputs": [
        {
          "output_type": "execute_result",
          "data": {
            "text/plain": [
              "Index(['C01', 'C04', 'C05', 'C06', 'C07', 'C08', 'C09', 'C10', 'C11', 'C12',\n",
              "       'C13', 'C15', 'C16', 'C17', 'C20', 'C23', 'C24', 'C25', 'C26', 'C27',\n",
              "       'C28', 'C29', 'C30', 'C31', 'C32', 'C36', 'C38', 'C39', 'C41', 'C42',\n",
              "       'C44', 'C45', 'C46', 'C47', 'C48', 'C49', 'C50', 'C53', 'C54', 'C55',\n",
              "       'C56', 'C57', 'C58', 'C60', 'C62', 'C66', 'C68', 'C69', 'C70', 'C71',\n",
              "       'C72', 'C73', 'C74', 'C75', 'C76', 'C77', 'C78', 'C79'],\n",
              "      dtype='object')"
            ]
          },
          "metadata": {},
          "execution_count": 18
        }
      ]
    },
    {
      "cell_type": "code",
      "metadata": {
        "id": "Iws6Xwif7Yhy",
        "outputId": "6b5c5bfc-f0d1-4f17-8439-cb25fe1a7b14",
        "colab": {
          "base_uri": "https://localhost:8080/",
          "height": 488
        }
      },
      "source": [
        "TRAIN_DF_RAW[VALID_COLUMNS_IN_TRAIN_DATASET]"
      ],
      "execution_count": 19,
      "outputs": [
        {
          "output_type": "execute_result",
          "data": {
            "text/plain": [
              "              C01       C04     C05      C06        C07       C08      C09  \\\n",
              "0       395.19528  52.80456 -1.2648 -1.87531  779.59595  28.02645  10832.0   \n",
              "1       395.14420  52.78931 -1.3147 -1.88294  780.67328  28.02473  10984.0   \n",
              "2       395.14420  52.79694 -1.4032 -1.88294  780.06574  28.02817  11120.0   \n",
              "3       395.19528  52.79694 -1.6074 -1.88294  780.15265  28.02301  11256.0   \n",
              "4       395.34866  52.79694 -1.7811 -1.88294  781.83160  28.03595  11384.0   \n",
              "...           ...       ...     ...      ...        ...       ...      ...   \n",
              "478796  387.27219  66.72057 -0.9331 -1.84479  781.87915  28.02389    880.0   \n",
              "478797  387.52774  66.72057 -0.9996 -1.84479  787.65070  28.02385    840.0   \n",
              "478798  387.47665  66.72057 -1.2560 -1.84479  788.50256  28.03085    792.0   \n",
              "478799  387.73221  66.72057 -1.4912 -1.84479  785.80316  28.02649    752.0   \n",
              "478800  387.52774  66.72057 -1.5727 -1.84479  780.21381  28.02476    720.0   \n",
              "\n",
              "           C10      C11        C12  ...        C70  C71      C72       C73  \\\n",
              "0      -3.0660 -0.00297  301.01636  ...  808.29620  0.0  1.36810   8.79882   \n",
              "1      -2.9721  0.00072  297.43567  ...  819.16809  0.0  1.36810   8.78811   \n",
              "2      -2.9857 -0.00145  298.84619  ...  823.51697  0.0  1.36734   8.81787   \n",
              "3      -3.2166 -0.00318  297.74310  ...  823.95172  0.0  1.36734   8.87493   \n",
              "4      -3.5613  0.00015  297.01965  ...  827.86560  0.0  1.36810   8.83838   \n",
              "...        ...      ...        ...  ...        ...  ...      ...       ...   \n",
              "478796 -2.6936  0.00130  359.39307  ...  944.84705  0.0  1.32843  15.17817   \n",
              "478797 -2.5863  0.00065  357.67505  ...  940.49835  0.0  1.32843  15.17344   \n",
              "478798 -2.8287 -0.00029  356.17407  ...  935.71472  0.0  1.32919  15.16443   \n",
              "478799 -3.3212 -0.00246  353.42523  ...  944.84705  0.0  1.32843  15.09001   \n",
              "478800 -3.6418 -0.00202  350.92957  ...  951.80505  0.0  1.32919  15.08672   \n",
              "\n",
              "             C74       C75        C76        C77      C78     C79  \n",
              "0       35.43700  12.01782  305.03113  301.35992  33.6555  6.0951  \n",
              "1       35.45227  12.01782  304.27161  297.43567  33.6555  5.9262  \n",
              "2       35.45227  12.01782  303.89179  298.66534  33.6555  5.8101  \n",
              "3       35.43700  12.01782  303.67474  298.06860  33.6555  5.7509  \n",
              "4       35.45227  12.01782  303.22266  296.53137  33.6555  5.8547  \n",
              "...          ...       ...        ...        ...      ...     ...  \n",
              "478796  35.14710  11.79657  316.89453  296.54950  32.0000  6.6026  \n",
              "478797  35.13183  11.79657  315.59247  296.15161  32.0000  6.3894  \n",
              "478798  35.13183  11.79657  313.92865  293.40277  32.0000  6.2584  \n",
              "478799  35.14710  11.79657  315.61054  302.58972  32.0000  6.4150  \n",
              "478800  35.14710  11.79657  317.23816  309.00964  32.0000  6.6288  \n",
              "\n",
              "[921603 rows x 58 columns]"
            ],
            "text/html": [
              "\n",
              "  <div id=\"df-97561ed6-ef1f-4223-ad4f-701394ff7842\">\n",
              "    <div class=\"colab-df-container\">\n",
              "      <div>\n",
              "<style scoped>\n",
              "    .dataframe tbody tr th:only-of-type {\n",
              "        vertical-align: middle;\n",
              "    }\n",
              "\n",
              "    .dataframe tbody tr th {\n",
              "        vertical-align: top;\n",
              "    }\n",
              "\n",
              "    .dataframe thead th {\n",
              "        text-align: right;\n",
              "    }\n",
              "</style>\n",
              "<table border=\"1\" class=\"dataframe\">\n",
              "  <thead>\n",
              "    <tr style=\"text-align: right;\">\n",
              "      <th></th>\n",
              "      <th>C01</th>\n",
              "      <th>C04</th>\n",
              "      <th>C05</th>\n",
              "      <th>C06</th>\n",
              "      <th>C07</th>\n",
              "      <th>C08</th>\n",
              "      <th>C09</th>\n",
              "      <th>C10</th>\n",
              "      <th>C11</th>\n",
              "      <th>C12</th>\n",
              "      <th>...</th>\n",
              "      <th>C70</th>\n",
              "      <th>C71</th>\n",
              "      <th>C72</th>\n",
              "      <th>C73</th>\n",
              "      <th>C74</th>\n",
              "      <th>C75</th>\n",
              "      <th>C76</th>\n",
              "      <th>C77</th>\n",
              "      <th>C78</th>\n",
              "      <th>C79</th>\n",
              "    </tr>\n",
              "  </thead>\n",
              "  <tbody>\n",
              "    <tr>\n",
              "      <th>0</th>\n",
              "      <td>395.19528</td>\n",
              "      <td>52.80456</td>\n",
              "      <td>-1.2648</td>\n",
              "      <td>-1.87531</td>\n",
              "      <td>779.59595</td>\n",
              "      <td>28.02645</td>\n",
              "      <td>10832.0</td>\n",
              "      <td>-3.0660</td>\n",
              "      <td>-0.00297</td>\n",
              "      <td>301.01636</td>\n",
              "      <td>...</td>\n",
              "      <td>808.29620</td>\n",
              "      <td>0.0</td>\n",
              "      <td>1.36810</td>\n",
              "      <td>8.79882</td>\n",
              "      <td>35.43700</td>\n",
              "      <td>12.01782</td>\n",
              "      <td>305.03113</td>\n",
              "      <td>301.35992</td>\n",
              "      <td>33.6555</td>\n",
              "      <td>6.0951</td>\n",
              "    </tr>\n",
              "    <tr>\n",
              "      <th>1</th>\n",
              "      <td>395.14420</td>\n",
              "      <td>52.78931</td>\n",
              "      <td>-1.3147</td>\n",
              "      <td>-1.88294</td>\n",
              "      <td>780.67328</td>\n",
              "      <td>28.02473</td>\n",
              "      <td>10984.0</td>\n",
              "      <td>-2.9721</td>\n",
              "      <td>0.00072</td>\n",
              "      <td>297.43567</td>\n",
              "      <td>...</td>\n",
              "      <td>819.16809</td>\n",
              "      <td>0.0</td>\n",
              "      <td>1.36810</td>\n",
              "      <td>8.78811</td>\n",
              "      <td>35.45227</td>\n",
              "      <td>12.01782</td>\n",
              "      <td>304.27161</td>\n",
              "      <td>297.43567</td>\n",
              "      <td>33.6555</td>\n",
              "      <td>5.9262</td>\n",
              "    </tr>\n",
              "    <tr>\n",
              "      <th>2</th>\n",
              "      <td>395.14420</td>\n",
              "      <td>52.79694</td>\n",
              "      <td>-1.4032</td>\n",
              "      <td>-1.88294</td>\n",
              "      <td>780.06574</td>\n",
              "      <td>28.02817</td>\n",
              "      <td>11120.0</td>\n",
              "      <td>-2.9857</td>\n",
              "      <td>-0.00145</td>\n",
              "      <td>298.84619</td>\n",
              "      <td>...</td>\n",
              "      <td>823.51697</td>\n",
              "      <td>0.0</td>\n",
              "      <td>1.36734</td>\n",
              "      <td>8.81787</td>\n",
              "      <td>35.45227</td>\n",
              "      <td>12.01782</td>\n",
              "      <td>303.89179</td>\n",
              "      <td>298.66534</td>\n",
              "      <td>33.6555</td>\n",
              "      <td>5.8101</td>\n",
              "    </tr>\n",
              "    <tr>\n",
              "      <th>3</th>\n",
              "      <td>395.19528</td>\n",
              "      <td>52.79694</td>\n",
              "      <td>-1.6074</td>\n",
              "      <td>-1.88294</td>\n",
              "      <td>780.15265</td>\n",
              "      <td>28.02301</td>\n",
              "      <td>11256.0</td>\n",
              "      <td>-3.2166</td>\n",
              "      <td>-0.00318</td>\n",
              "      <td>297.74310</td>\n",
              "      <td>...</td>\n",
              "      <td>823.95172</td>\n",
              "      <td>0.0</td>\n",
              "      <td>1.36734</td>\n",
              "      <td>8.87493</td>\n",
              "      <td>35.43700</td>\n",
              "      <td>12.01782</td>\n",
              "      <td>303.67474</td>\n",
              "      <td>298.06860</td>\n",
              "      <td>33.6555</td>\n",
              "      <td>5.7509</td>\n",
              "    </tr>\n",
              "    <tr>\n",
              "      <th>4</th>\n",
              "      <td>395.34866</td>\n",
              "      <td>52.79694</td>\n",
              "      <td>-1.7811</td>\n",
              "      <td>-1.88294</td>\n",
              "      <td>781.83160</td>\n",
              "      <td>28.03595</td>\n",
              "      <td>11384.0</td>\n",
              "      <td>-3.5613</td>\n",
              "      <td>0.00015</td>\n",
              "      <td>297.01965</td>\n",
              "      <td>...</td>\n",
              "      <td>827.86560</td>\n",
              "      <td>0.0</td>\n",
              "      <td>1.36810</td>\n",
              "      <td>8.83838</td>\n",
              "      <td>35.45227</td>\n",
              "      <td>12.01782</td>\n",
              "      <td>303.22266</td>\n",
              "      <td>296.53137</td>\n",
              "      <td>33.6555</td>\n",
              "      <td>5.8547</td>\n",
              "    </tr>\n",
              "    <tr>\n",
              "      <th>...</th>\n",
              "      <td>...</td>\n",
              "      <td>...</td>\n",
              "      <td>...</td>\n",
              "      <td>...</td>\n",
              "      <td>...</td>\n",
              "      <td>...</td>\n",
              "      <td>...</td>\n",
              "      <td>...</td>\n",
              "      <td>...</td>\n",
              "      <td>...</td>\n",
              "      <td>...</td>\n",
              "      <td>...</td>\n",
              "      <td>...</td>\n",
              "      <td>...</td>\n",
              "      <td>...</td>\n",
              "      <td>...</td>\n",
              "      <td>...</td>\n",
              "      <td>...</td>\n",
              "      <td>...</td>\n",
              "      <td>...</td>\n",
              "      <td>...</td>\n",
              "    </tr>\n",
              "    <tr>\n",
              "      <th>478796</th>\n",
              "      <td>387.27219</td>\n",
              "      <td>66.72057</td>\n",
              "      <td>-0.9331</td>\n",
              "      <td>-1.84479</td>\n",
              "      <td>781.87915</td>\n",
              "      <td>28.02389</td>\n",
              "      <td>880.0</td>\n",
              "      <td>-2.6936</td>\n",
              "      <td>0.00130</td>\n",
              "      <td>359.39307</td>\n",
              "      <td>...</td>\n",
              "      <td>944.84705</td>\n",
              "      <td>0.0</td>\n",
              "      <td>1.32843</td>\n",
              "      <td>15.17817</td>\n",
              "      <td>35.14710</td>\n",
              "      <td>11.79657</td>\n",
              "      <td>316.89453</td>\n",
              "      <td>296.54950</td>\n",
              "      <td>32.0000</td>\n",
              "      <td>6.6026</td>\n",
              "    </tr>\n",
              "    <tr>\n",
              "      <th>478797</th>\n",
              "      <td>387.52774</td>\n",
              "      <td>66.72057</td>\n",
              "      <td>-0.9996</td>\n",
              "      <td>-1.84479</td>\n",
              "      <td>787.65070</td>\n",
              "      <td>28.02385</td>\n",
              "      <td>840.0</td>\n",
              "      <td>-2.5863</td>\n",
              "      <td>0.00065</td>\n",
              "      <td>357.67505</td>\n",
              "      <td>...</td>\n",
              "      <td>940.49835</td>\n",
              "      <td>0.0</td>\n",
              "      <td>1.32843</td>\n",
              "      <td>15.17344</td>\n",
              "      <td>35.13183</td>\n",
              "      <td>11.79657</td>\n",
              "      <td>315.59247</td>\n",
              "      <td>296.15161</td>\n",
              "      <td>32.0000</td>\n",
              "      <td>6.3894</td>\n",
              "    </tr>\n",
              "    <tr>\n",
              "      <th>478798</th>\n",
              "      <td>387.47665</td>\n",
              "      <td>66.72057</td>\n",
              "      <td>-1.2560</td>\n",
              "      <td>-1.84479</td>\n",
              "      <td>788.50256</td>\n",
              "      <td>28.03085</td>\n",
              "      <td>792.0</td>\n",
              "      <td>-2.8287</td>\n",
              "      <td>-0.00029</td>\n",
              "      <td>356.17407</td>\n",
              "      <td>...</td>\n",
              "      <td>935.71472</td>\n",
              "      <td>0.0</td>\n",
              "      <td>1.32919</td>\n",
              "      <td>15.16443</td>\n",
              "      <td>35.13183</td>\n",
              "      <td>11.79657</td>\n",
              "      <td>313.92865</td>\n",
              "      <td>293.40277</td>\n",
              "      <td>32.0000</td>\n",
              "      <td>6.2584</td>\n",
              "    </tr>\n",
              "    <tr>\n",
              "      <th>478799</th>\n",
              "      <td>387.73221</td>\n",
              "      <td>66.72057</td>\n",
              "      <td>-1.4912</td>\n",
              "      <td>-1.84479</td>\n",
              "      <td>785.80316</td>\n",
              "      <td>28.02649</td>\n",
              "      <td>752.0</td>\n",
              "      <td>-3.3212</td>\n",
              "      <td>-0.00246</td>\n",
              "      <td>353.42523</td>\n",
              "      <td>...</td>\n",
              "      <td>944.84705</td>\n",
              "      <td>0.0</td>\n",
              "      <td>1.32843</td>\n",
              "      <td>15.09001</td>\n",
              "      <td>35.14710</td>\n",
              "      <td>11.79657</td>\n",
              "      <td>315.61054</td>\n",
              "      <td>302.58972</td>\n",
              "      <td>32.0000</td>\n",
              "      <td>6.4150</td>\n",
              "    </tr>\n",
              "    <tr>\n",
              "      <th>478800</th>\n",
              "      <td>387.52774</td>\n",
              "      <td>66.72057</td>\n",
              "      <td>-1.5727</td>\n",
              "      <td>-1.84479</td>\n",
              "      <td>780.21381</td>\n",
              "      <td>28.02476</td>\n",
              "      <td>720.0</td>\n",
              "      <td>-3.6418</td>\n",
              "      <td>-0.00202</td>\n",
              "      <td>350.92957</td>\n",
              "      <td>...</td>\n",
              "      <td>951.80505</td>\n",
              "      <td>0.0</td>\n",
              "      <td>1.32919</td>\n",
              "      <td>15.08672</td>\n",
              "      <td>35.14710</td>\n",
              "      <td>11.79657</td>\n",
              "      <td>317.23816</td>\n",
              "      <td>309.00964</td>\n",
              "      <td>32.0000</td>\n",
              "      <td>6.6288</td>\n",
              "    </tr>\n",
              "  </tbody>\n",
              "</table>\n",
              "<p>921603 rows × 58 columns</p>\n",
              "</div>\n",
              "      <button class=\"colab-df-convert\" onclick=\"convertToInteractive('df-97561ed6-ef1f-4223-ad4f-701394ff7842')\"\n",
              "              title=\"Convert this dataframe to an interactive table.\"\n",
              "              style=\"display:none;\">\n",
              "        \n",
              "  <svg xmlns=\"http://www.w3.org/2000/svg\" height=\"24px\"viewBox=\"0 0 24 24\"\n",
              "       width=\"24px\">\n",
              "    <path d=\"M0 0h24v24H0V0z\" fill=\"none\"/>\n",
              "    <path d=\"M18.56 5.44l.94 2.06.94-2.06 2.06-.94-2.06-.94-.94-2.06-.94 2.06-2.06.94zm-11 1L8.5 8.5l.94-2.06 2.06-.94-2.06-.94L8.5 2.5l-.94 2.06-2.06.94zm10 10l.94 2.06.94-2.06 2.06-.94-2.06-.94-.94-2.06-.94 2.06-2.06.94z\"/><path d=\"M17.41 7.96l-1.37-1.37c-.4-.4-.92-.59-1.43-.59-.52 0-1.04.2-1.43.59L10.3 9.45l-7.72 7.72c-.78.78-.78 2.05 0 2.83L4 21.41c.39.39.9.59 1.41.59.51 0 1.02-.2 1.41-.59l7.78-7.78 2.81-2.81c.8-.78.8-2.07 0-2.86zM5.41 20L4 18.59l7.72-7.72 1.47 1.35L5.41 20z\"/>\n",
              "  </svg>\n",
              "      </button>\n",
              "      \n",
              "  <style>\n",
              "    .colab-df-container {\n",
              "      display:flex;\n",
              "      flex-wrap:wrap;\n",
              "      gap: 12px;\n",
              "    }\n",
              "\n",
              "    .colab-df-convert {\n",
              "      background-color: #E8F0FE;\n",
              "      border: none;\n",
              "      border-radius: 50%;\n",
              "      cursor: pointer;\n",
              "      display: none;\n",
              "      fill: #1967D2;\n",
              "      height: 32px;\n",
              "      padding: 0 0 0 0;\n",
              "      width: 32px;\n",
              "    }\n",
              "\n",
              "    .colab-df-convert:hover {\n",
              "      background-color: #E2EBFA;\n",
              "      box-shadow: 0px 1px 2px rgba(60, 64, 67, 0.3), 0px 1px 3px 1px rgba(60, 64, 67, 0.15);\n",
              "      fill: #174EA6;\n",
              "    }\n",
              "\n",
              "    [theme=dark] .colab-df-convert {\n",
              "      background-color: #3B4455;\n",
              "      fill: #D2E3FC;\n",
              "    }\n",
              "\n",
              "    [theme=dark] .colab-df-convert:hover {\n",
              "      background-color: #434B5C;\n",
              "      box-shadow: 0px 1px 3px 1px rgba(0, 0, 0, 0.15);\n",
              "      filter: drop-shadow(0px 1px 2px rgba(0, 0, 0, 0.3));\n",
              "      fill: #FFFFFF;\n",
              "    }\n",
              "  </style>\n",
              "\n",
              "      <script>\n",
              "        const buttonEl =\n",
              "          document.querySelector('#df-97561ed6-ef1f-4223-ad4f-701394ff7842 button.colab-df-convert');\n",
              "        buttonEl.style.display =\n",
              "          google.colab.kernel.accessAllowed ? 'block' : 'none';\n",
              "\n",
              "        async function convertToInteractive(key) {\n",
              "          const element = document.querySelector('#df-97561ed6-ef1f-4223-ad4f-701394ff7842');\n",
              "          const dataTable =\n",
              "            await google.colab.kernel.invokeFunction('convertToInteractive',\n",
              "                                                     [key], {});\n",
              "          if (!dataTable) return;\n",
              "\n",
              "          const docLinkHtml = 'Like what you see? Visit the ' +\n",
              "            '<a target=\"_blank\" href=https://colab.research.google.com/notebooks/data_table.ipynb>data table notebook</a>'\n",
              "            + ' to learn more about interactive tables.';\n",
              "          element.innerHTML = '';\n",
              "          dataTable['output_type'] = 'display_data';\n",
              "          await google.colab.output.renderOutput(dataTable, element);\n",
              "          const docLink = document.createElement('div');\n",
              "          docLink.innerHTML = docLinkHtml;\n",
              "          element.appendChild(docLink);\n",
              "        }\n",
              "      </script>\n",
              "    </div>\n",
              "  </div>\n",
              "  "
            ]
          },
          "metadata": {},
          "execution_count": 19
        }
      ]
    },
    {
      "cell_type": "markdown",
      "metadata": {
        "id": "HaTGyXPprWHh"
      },
      "source": [
        "Data normalization using the Min-Max Scaler"
      ]
    },
    {
      "cell_type": "code",
      "metadata": {
        "id": "nIhFaP9_4fxf"
      },
      "source": [
        "from sklearn.preprocessing import MinMaxScaler\n",
        "from sklearn.preprocessing import Normalizer"
      ],
      "execution_count": 20,
      "outputs": []
    },
    {
      "cell_type": "code",
      "metadata": {
        "id": "50SqyF_W4k-b"
      },
      "source": [
        "# Generation the Min-Max Scaler\n",
        "sc = MinMaxScaler()\n",
        "sc2 = Normalizer()"
      ],
      "execution_count": 21,
      "outputs": []
    },
    {
      "cell_type": "code",
      "metadata": {
        "id": "oKIq28cTk2j_"
      },
      "source": [
        "TAG_MIN = TRAIN_DF_RAW[VALID_COLUMNS_IN_TRAIN_DATASET].min()\n",
        "TAG_MAX = TRAIN_DF_RAW[VALID_COLUMNS_IN_TRAIN_DATASET].max()"
      ],
      "execution_count": 22,
      "outputs": []
    },
    {
      "cell_type": "code",
      "source": [
        "VALID_COLUMNS_IN_TRAIN_DATASET"
      ],
      "metadata": {
        "colab": {
          "base_uri": "https://localhost:8080/"
        },
        "id": "nLXN7O9CLxFh",
        "outputId": "7d343c5d-5c64-4e28-ef33-f91c19cb4fcc"
      },
      "execution_count": 23,
      "outputs": [
        {
          "output_type": "execute_result",
          "data": {
            "text/plain": [
              "Index(['C01', 'C04', 'C05', 'C06', 'C07', 'C08', 'C09', 'C10', 'C11', 'C12',\n",
              "       'C13', 'C15', 'C16', 'C17', 'C20', 'C23', 'C24', 'C25', 'C26', 'C27',\n",
              "       'C28', 'C29', 'C30', 'C31', 'C32', 'C36', 'C38', 'C39', 'C41', 'C42',\n",
              "       'C44', 'C45', 'C46', 'C47', 'C48', 'C49', 'C50', 'C53', 'C54', 'C55',\n",
              "       'C56', 'C57', 'C58', 'C60', 'C62', 'C66', 'C68', 'C69', 'C70', 'C71',\n",
              "       'C72', 'C73', 'C74', 'C75', 'C76', 'C77', 'C78', 'C79'],\n",
              "      dtype='object')"
            ]
          },
          "metadata": {},
          "execution_count": 23
        }
      ]
    },
    {
      "cell_type": "code",
      "metadata": {
        "id": "AU258JsGkuPC"
      },
      "source": [
        "def normalize(df):\n",
        "    ndf = df.copy()\n",
        "    for c in df.columns:\n",
        "        if TAG_MIN[c] == TAG_MAX[c]:\n",
        "            ndf[c] = df[c] - TAG_MIN[c]\n",
        "        else:\n",
        "            ndf[c] = (df[c] - TAG_MIN[c]) / (TAG_MAX[c] - TAG_MIN[c])\n",
        "    return ndf"
      ],
      "execution_count": 24,
      "outputs": []
    },
    {
      "cell_type": "code",
      "metadata": {
        "id": "hHeqmmsB40K4"
      },
      "source": [
        "sc_results = sc.fit_transform(TRAIN_DF_RAW[VALID_COLUMNS_IN_TRAIN_DATASET])    # Data Scaling by Min-Max Scaler\n",
        "sc_results = sc2.fit_transform(TRAIN_DF_RAW[VALID_COLUMNS_IN_TRAIN_DATASET])    # Data Scaling by Normalizer"
      ],
      "execution_count": 25,
      "outputs": []
    },
    {
      "cell_type": "code",
      "metadata": {
        "id": "dQtiMVSFz0cV",
        "outputId": "c2880fba-2d58-434d-b4d7-06be440d50fb",
        "colab": {
          "base_uri": "https://localhost:8080/",
          "height": 488
        }
      },
      "source": [
        "# TRAIN_DF = pd.DataFrame(sc_results).ewm(alpha=0.9).mean()\n",
        "TRAIN_DF = normalize(TRAIN_DF_RAW[VALID_COLUMNS_IN_TRAIN_DATASET]).ewm(alpha=0.9).mean()\n",
        "TRAIN_DF"
      ],
      "execution_count": 26,
      "outputs": [
        {
          "output_type": "execute_result",
          "data": {
            "text/plain": [
              "             C01       C04       C05       C06       C07       C08       C09  \\\n",
              "0       0.378953  0.227071  0.372380  0.000230  0.386721  0.410567  0.784144   \n",
              "1       0.378504  0.226596  0.353516  0.000161  0.399074  0.364415  0.794139   \n",
              "2       0.378463  0.226789  0.318663  0.000154  0.393283  0.451729  0.803903   \n",
              "3       0.378904  0.226808  0.238782  0.000154  0.393697  0.323289  0.813725   \n",
              "4       0.380282  0.226810  0.165794  0.000154  0.412796  0.654203  0.823039   \n",
              "...          ...       ...       ...       ...       ...       ...       ...   \n",
              "478796  0.302372  0.703684  0.509016  0.000538  0.420902  0.355242  0.064622   \n",
              "478797  0.304595  0.703684  0.485295  0.000538  0.481569  0.335967  0.061671   \n",
              "478798  0.304373  0.703684  0.386965  0.000538  0.497306  0.519990  0.058250   \n",
              "478799  0.306574  0.703684  0.289108  0.000538  0.468238  0.422572  0.055304   \n",
              "478800  0.305015  0.703684  0.248821  0.000538  0.401886  0.366873  0.052926   \n",
              "\n",
              "             C10       C11       C12  ...       C70  C71       C72       C73  \\\n",
              "0       0.508049  0.481272  0.260132  ...  0.584892  0.0  0.326835  0.254687   \n",
              "1       0.540538  0.513907  0.248014  ...  0.592044  0.0  0.326835  0.254315   \n",
              "2       0.538802  0.497829  0.251653  ...  0.595523  0.0  0.326387  0.255304   \n",
              "3       0.459532  0.481088  0.248317  ...  0.596151  0.0  0.326343  0.257362   \n",
              "4       0.333541  0.508572  0.245560  ...  0.598763  0.0  0.326786  0.256312   \n",
              "...          ...       ...       ...  ...       ...  ...       ...       ...   \n",
              "478796  0.639006  0.521409  0.479400  ...  0.683154  0.0  0.300845  0.497901   \n",
              "478797  0.685457  0.516982  0.471886  ...  0.680815  0.0  0.300850  0.497868   \n",
              "478798  0.607073  0.508309  0.466106  ...  0.677466  0.0  0.301298  0.497555   \n",
              "478799  0.430538  0.488442  0.456319  ...  0.683078  0.0  0.300895  0.494969   \n",
              "478800  0.303069  0.490307  0.446978  ...  0.688171  0.0  0.301303  0.494597   \n",
              "\n",
              "             C74       C75       C76       C77      C78       C79  \n",
              "0       0.331076  0.916661  0.269393  0.265017  1.00000  0.567254  \n",
              "1       0.337223  0.916661  0.266791  0.251792  1.00000  0.512135  \n",
              "2       0.337777  0.916661  0.265266  0.254707  1.00000  0.469622  \n",
              "3       0.331746  0.916661  0.264379  0.253005  1.00000  0.446285  \n",
              "4       0.337229  0.916661  0.262757  0.247706  1.00000  0.477489  \n",
              "...          ...       ...       ...       ...      ...       ...  \n",
              "478796  0.202699  0.111119  0.315343  0.248152  0.26162  0.757619  \n",
              "478797  0.196619  0.111119  0.309817  0.245953  0.26162  0.681373  \n",
              "478798  0.196011  0.111119  0.303620  0.236562  0.26162  0.631425  \n",
              "478799  0.202036  0.111119  0.308706  0.266275  0.26162  0.677024  \n",
              "478800  0.202639  0.111119  0.314736  0.290666  0.26162  0.750658  \n",
              "\n",
              "[921603 rows x 58 columns]"
            ],
            "text/html": [
              "\n",
              "  <div id=\"df-4157b668-6c54-43a5-aae2-fd1990ffdb83\">\n",
              "    <div class=\"colab-df-container\">\n",
              "      <div>\n",
              "<style scoped>\n",
              "    .dataframe tbody tr th:only-of-type {\n",
              "        vertical-align: middle;\n",
              "    }\n",
              "\n",
              "    .dataframe tbody tr th {\n",
              "        vertical-align: top;\n",
              "    }\n",
              "\n",
              "    .dataframe thead th {\n",
              "        text-align: right;\n",
              "    }\n",
              "</style>\n",
              "<table border=\"1\" class=\"dataframe\">\n",
              "  <thead>\n",
              "    <tr style=\"text-align: right;\">\n",
              "      <th></th>\n",
              "      <th>C01</th>\n",
              "      <th>C04</th>\n",
              "      <th>C05</th>\n",
              "      <th>C06</th>\n",
              "      <th>C07</th>\n",
              "      <th>C08</th>\n",
              "      <th>C09</th>\n",
              "      <th>C10</th>\n",
              "      <th>C11</th>\n",
              "      <th>C12</th>\n",
              "      <th>...</th>\n",
              "      <th>C70</th>\n",
              "      <th>C71</th>\n",
              "      <th>C72</th>\n",
              "      <th>C73</th>\n",
              "      <th>C74</th>\n",
              "      <th>C75</th>\n",
              "      <th>C76</th>\n",
              "      <th>C77</th>\n",
              "      <th>C78</th>\n",
              "      <th>C79</th>\n",
              "    </tr>\n",
              "  </thead>\n",
              "  <tbody>\n",
              "    <tr>\n",
              "      <th>0</th>\n",
              "      <td>0.378953</td>\n",
              "      <td>0.227071</td>\n",
              "      <td>0.372380</td>\n",
              "      <td>0.000230</td>\n",
              "      <td>0.386721</td>\n",
              "      <td>0.410567</td>\n",
              "      <td>0.784144</td>\n",
              "      <td>0.508049</td>\n",
              "      <td>0.481272</td>\n",
              "      <td>0.260132</td>\n",
              "      <td>...</td>\n",
              "      <td>0.584892</td>\n",
              "      <td>0.0</td>\n",
              "      <td>0.326835</td>\n",
              "      <td>0.254687</td>\n",
              "      <td>0.331076</td>\n",
              "      <td>0.916661</td>\n",
              "      <td>0.269393</td>\n",
              "      <td>0.265017</td>\n",
              "      <td>1.00000</td>\n",
              "      <td>0.567254</td>\n",
              "    </tr>\n",
              "    <tr>\n",
              "      <th>1</th>\n",
              "      <td>0.378504</td>\n",
              "      <td>0.226596</td>\n",
              "      <td>0.353516</td>\n",
              "      <td>0.000161</td>\n",
              "      <td>0.399074</td>\n",
              "      <td>0.364415</td>\n",
              "      <td>0.794139</td>\n",
              "      <td>0.540538</td>\n",
              "      <td>0.513907</td>\n",
              "      <td>0.248014</td>\n",
              "      <td>...</td>\n",
              "      <td>0.592044</td>\n",
              "      <td>0.0</td>\n",
              "      <td>0.326835</td>\n",
              "      <td>0.254315</td>\n",
              "      <td>0.337223</td>\n",
              "      <td>0.916661</td>\n",
              "      <td>0.266791</td>\n",
              "      <td>0.251792</td>\n",
              "      <td>1.00000</td>\n",
              "      <td>0.512135</td>\n",
              "    </tr>\n",
              "    <tr>\n",
              "      <th>2</th>\n",
              "      <td>0.378463</td>\n",
              "      <td>0.226789</td>\n",
              "      <td>0.318663</td>\n",
              "      <td>0.000154</td>\n",
              "      <td>0.393283</td>\n",
              "      <td>0.451729</td>\n",
              "      <td>0.803903</td>\n",
              "      <td>0.538802</td>\n",
              "      <td>0.497829</td>\n",
              "      <td>0.251653</td>\n",
              "      <td>...</td>\n",
              "      <td>0.595523</td>\n",
              "      <td>0.0</td>\n",
              "      <td>0.326387</td>\n",
              "      <td>0.255304</td>\n",
              "      <td>0.337777</td>\n",
              "      <td>0.916661</td>\n",
              "      <td>0.265266</td>\n",
              "      <td>0.254707</td>\n",
              "      <td>1.00000</td>\n",
              "      <td>0.469622</td>\n",
              "    </tr>\n",
              "    <tr>\n",
              "      <th>3</th>\n",
              "      <td>0.378904</td>\n",
              "      <td>0.226808</td>\n",
              "      <td>0.238782</td>\n",
              "      <td>0.000154</td>\n",
              "      <td>0.393697</td>\n",
              "      <td>0.323289</td>\n",
              "      <td>0.813725</td>\n",
              "      <td>0.459532</td>\n",
              "      <td>0.481088</td>\n",
              "      <td>0.248317</td>\n",
              "      <td>...</td>\n",
              "      <td>0.596151</td>\n",
              "      <td>0.0</td>\n",
              "      <td>0.326343</td>\n",
              "      <td>0.257362</td>\n",
              "      <td>0.331746</td>\n",
              "      <td>0.916661</td>\n",
              "      <td>0.264379</td>\n",
              "      <td>0.253005</td>\n",
              "      <td>1.00000</td>\n",
              "      <td>0.446285</td>\n",
              "    </tr>\n",
              "    <tr>\n",
              "      <th>4</th>\n",
              "      <td>0.380282</td>\n",
              "      <td>0.226810</td>\n",
              "      <td>0.165794</td>\n",
              "      <td>0.000154</td>\n",
              "      <td>0.412796</td>\n",
              "      <td>0.654203</td>\n",
              "      <td>0.823039</td>\n",
              "      <td>0.333541</td>\n",
              "      <td>0.508572</td>\n",
              "      <td>0.245560</td>\n",
              "      <td>...</td>\n",
              "      <td>0.598763</td>\n",
              "      <td>0.0</td>\n",
              "      <td>0.326786</td>\n",
              "      <td>0.256312</td>\n",
              "      <td>0.337229</td>\n",
              "      <td>0.916661</td>\n",
              "      <td>0.262757</td>\n",
              "      <td>0.247706</td>\n",
              "      <td>1.00000</td>\n",
              "      <td>0.477489</td>\n",
              "    </tr>\n",
              "    <tr>\n",
              "      <th>...</th>\n",
              "      <td>...</td>\n",
              "      <td>...</td>\n",
              "      <td>...</td>\n",
              "      <td>...</td>\n",
              "      <td>...</td>\n",
              "      <td>...</td>\n",
              "      <td>...</td>\n",
              "      <td>...</td>\n",
              "      <td>...</td>\n",
              "      <td>...</td>\n",
              "      <td>...</td>\n",
              "      <td>...</td>\n",
              "      <td>...</td>\n",
              "      <td>...</td>\n",
              "      <td>...</td>\n",
              "      <td>...</td>\n",
              "      <td>...</td>\n",
              "      <td>...</td>\n",
              "      <td>...</td>\n",
              "      <td>...</td>\n",
              "      <td>...</td>\n",
              "    </tr>\n",
              "    <tr>\n",
              "      <th>478796</th>\n",
              "      <td>0.302372</td>\n",
              "      <td>0.703684</td>\n",
              "      <td>0.509016</td>\n",
              "      <td>0.000538</td>\n",
              "      <td>0.420902</td>\n",
              "      <td>0.355242</td>\n",
              "      <td>0.064622</td>\n",
              "      <td>0.639006</td>\n",
              "      <td>0.521409</td>\n",
              "      <td>0.479400</td>\n",
              "      <td>...</td>\n",
              "      <td>0.683154</td>\n",
              "      <td>0.0</td>\n",
              "      <td>0.300845</td>\n",
              "      <td>0.497901</td>\n",
              "      <td>0.202699</td>\n",
              "      <td>0.111119</td>\n",
              "      <td>0.315343</td>\n",
              "      <td>0.248152</td>\n",
              "      <td>0.26162</td>\n",
              "      <td>0.757619</td>\n",
              "    </tr>\n",
              "    <tr>\n",
              "      <th>478797</th>\n",
              "      <td>0.304595</td>\n",
              "      <td>0.703684</td>\n",
              "      <td>0.485295</td>\n",
              "      <td>0.000538</td>\n",
              "      <td>0.481569</td>\n",
              "      <td>0.335967</td>\n",
              "      <td>0.061671</td>\n",
              "      <td>0.685457</td>\n",
              "      <td>0.516982</td>\n",
              "      <td>0.471886</td>\n",
              "      <td>...</td>\n",
              "      <td>0.680815</td>\n",
              "      <td>0.0</td>\n",
              "      <td>0.300850</td>\n",
              "      <td>0.497868</td>\n",
              "      <td>0.196619</td>\n",
              "      <td>0.111119</td>\n",
              "      <td>0.309817</td>\n",
              "      <td>0.245953</td>\n",
              "      <td>0.26162</td>\n",
              "      <td>0.681373</td>\n",
              "    </tr>\n",
              "    <tr>\n",
              "      <th>478798</th>\n",
              "      <td>0.304373</td>\n",
              "      <td>0.703684</td>\n",
              "      <td>0.386965</td>\n",
              "      <td>0.000538</td>\n",
              "      <td>0.497306</td>\n",
              "      <td>0.519990</td>\n",
              "      <td>0.058250</td>\n",
              "      <td>0.607073</td>\n",
              "      <td>0.508309</td>\n",
              "      <td>0.466106</td>\n",
              "      <td>...</td>\n",
              "      <td>0.677466</td>\n",
              "      <td>0.0</td>\n",
              "      <td>0.301298</td>\n",
              "      <td>0.497555</td>\n",
              "      <td>0.196011</td>\n",
              "      <td>0.111119</td>\n",
              "      <td>0.303620</td>\n",
              "      <td>0.236562</td>\n",
              "      <td>0.26162</td>\n",
              "      <td>0.631425</td>\n",
              "    </tr>\n",
              "    <tr>\n",
              "      <th>478799</th>\n",
              "      <td>0.306574</td>\n",
              "      <td>0.703684</td>\n",
              "      <td>0.289108</td>\n",
              "      <td>0.000538</td>\n",
              "      <td>0.468238</td>\n",
              "      <td>0.422572</td>\n",
              "      <td>0.055304</td>\n",
              "      <td>0.430538</td>\n",
              "      <td>0.488442</td>\n",
              "      <td>0.456319</td>\n",
              "      <td>...</td>\n",
              "      <td>0.683078</td>\n",
              "      <td>0.0</td>\n",
              "      <td>0.300895</td>\n",
              "      <td>0.494969</td>\n",
              "      <td>0.202036</td>\n",
              "      <td>0.111119</td>\n",
              "      <td>0.308706</td>\n",
              "      <td>0.266275</td>\n",
              "      <td>0.26162</td>\n",
              "      <td>0.677024</td>\n",
              "    </tr>\n",
              "    <tr>\n",
              "      <th>478800</th>\n",
              "      <td>0.305015</td>\n",
              "      <td>0.703684</td>\n",
              "      <td>0.248821</td>\n",
              "      <td>0.000538</td>\n",
              "      <td>0.401886</td>\n",
              "      <td>0.366873</td>\n",
              "      <td>0.052926</td>\n",
              "      <td>0.303069</td>\n",
              "      <td>0.490307</td>\n",
              "      <td>0.446978</td>\n",
              "      <td>...</td>\n",
              "      <td>0.688171</td>\n",
              "      <td>0.0</td>\n",
              "      <td>0.301303</td>\n",
              "      <td>0.494597</td>\n",
              "      <td>0.202639</td>\n",
              "      <td>0.111119</td>\n",
              "      <td>0.314736</td>\n",
              "      <td>0.290666</td>\n",
              "      <td>0.26162</td>\n",
              "      <td>0.750658</td>\n",
              "    </tr>\n",
              "  </tbody>\n",
              "</table>\n",
              "<p>921603 rows × 58 columns</p>\n",
              "</div>\n",
              "      <button class=\"colab-df-convert\" onclick=\"convertToInteractive('df-4157b668-6c54-43a5-aae2-fd1990ffdb83')\"\n",
              "              title=\"Convert this dataframe to an interactive table.\"\n",
              "              style=\"display:none;\">\n",
              "        \n",
              "  <svg xmlns=\"http://www.w3.org/2000/svg\" height=\"24px\"viewBox=\"0 0 24 24\"\n",
              "       width=\"24px\">\n",
              "    <path d=\"M0 0h24v24H0V0z\" fill=\"none\"/>\n",
              "    <path d=\"M18.56 5.44l.94 2.06.94-2.06 2.06-.94-2.06-.94-.94-2.06-.94 2.06-2.06.94zm-11 1L8.5 8.5l.94-2.06 2.06-.94-2.06-.94L8.5 2.5l-.94 2.06-2.06.94zm10 10l.94 2.06.94-2.06 2.06-.94-2.06-.94-.94-2.06-.94 2.06-2.06.94z\"/><path d=\"M17.41 7.96l-1.37-1.37c-.4-.4-.92-.59-1.43-.59-.52 0-1.04.2-1.43.59L10.3 9.45l-7.72 7.72c-.78.78-.78 2.05 0 2.83L4 21.41c.39.39.9.59 1.41.59.51 0 1.02-.2 1.41-.59l7.78-7.78 2.81-2.81c.8-.78.8-2.07 0-2.86zM5.41 20L4 18.59l7.72-7.72 1.47 1.35L5.41 20z\"/>\n",
              "  </svg>\n",
              "      </button>\n",
              "      \n",
              "  <style>\n",
              "    .colab-df-container {\n",
              "      display:flex;\n",
              "      flex-wrap:wrap;\n",
              "      gap: 12px;\n",
              "    }\n",
              "\n",
              "    .colab-df-convert {\n",
              "      background-color: #E8F0FE;\n",
              "      border: none;\n",
              "      border-radius: 50%;\n",
              "      cursor: pointer;\n",
              "      display: none;\n",
              "      fill: #1967D2;\n",
              "      height: 32px;\n",
              "      padding: 0 0 0 0;\n",
              "      width: 32px;\n",
              "    }\n",
              "\n",
              "    .colab-df-convert:hover {\n",
              "      background-color: #E2EBFA;\n",
              "      box-shadow: 0px 1px 2px rgba(60, 64, 67, 0.3), 0px 1px 3px 1px rgba(60, 64, 67, 0.15);\n",
              "      fill: #174EA6;\n",
              "    }\n",
              "\n",
              "    [theme=dark] .colab-df-convert {\n",
              "      background-color: #3B4455;\n",
              "      fill: #D2E3FC;\n",
              "    }\n",
              "\n",
              "    [theme=dark] .colab-df-convert:hover {\n",
              "      background-color: #434B5C;\n",
              "      box-shadow: 0px 1px 3px 1px rgba(0, 0, 0, 0.15);\n",
              "      filter: drop-shadow(0px 1px 2px rgba(0, 0, 0, 0.3));\n",
              "      fill: #FFFFFF;\n",
              "    }\n",
              "  </style>\n",
              "\n",
              "      <script>\n",
              "        const buttonEl =\n",
              "          document.querySelector('#df-4157b668-6c54-43a5-aae2-fd1990ffdb83 button.colab-df-convert');\n",
              "        buttonEl.style.display =\n",
              "          google.colab.kernel.accessAllowed ? 'block' : 'none';\n",
              "\n",
              "        async function convertToInteractive(key) {\n",
              "          const element = document.querySelector('#df-4157b668-6c54-43a5-aae2-fd1990ffdb83');\n",
              "          const dataTable =\n",
              "            await google.colab.kernel.invokeFunction('convertToInteractive',\n",
              "                                                     [key], {});\n",
              "          if (!dataTable) return;\n",
              "\n",
              "          const docLinkHtml = 'Like what you see? Visit the ' +\n",
              "            '<a target=\"_blank\" href=https://colab.research.google.com/notebooks/data_table.ipynb>data table notebook</a>'\n",
              "            + ' to learn more about interactive tables.';\n",
              "          element.innerHTML = '';\n",
              "          dataTable['output_type'] = 'display_data';\n",
              "          await google.colab.output.renderOutput(dataTable, element);\n",
              "          const docLink = document.createElement('div');\n",
              "          docLink.innerHTML = docLinkHtml;\n",
              "          element.appendChild(docLink);\n",
              "        }\n",
              "      </script>\n",
              "    </div>\n",
              "  </div>\n",
              "  "
            ]
          },
          "metadata": {},
          "execution_count": 26
        }
      ]
    },
    {
      "cell_type": "code",
      "metadata": {
        "id": "0gr7ikTyz1zY"
      },
      "source": [
        "def boundary_check(df):\n",
        "    x = np.array(df, dtype=np.float32)\n",
        "    return np.any(x > 1), np.any(x < -1), np.any(np.isnan(x))"
      ],
      "execution_count": 27,
      "outputs": []
    },
    {
      "cell_type": "code",
      "metadata": {
        "id": "NyZ5InfLz0ev",
        "outputId": "becbcf4b-f9e8-4f77-f665-f9618a975e23",
        "colab": {
          "base_uri": "https://localhost:8080/"
        }
      },
      "source": [
        "boundary_check(TRAIN_DF)"
      ],
      "execution_count": 28,
      "outputs": [
        {
          "output_type": "execute_result",
          "data": {
            "text/plain": [
              "(False, False, False)"
            ]
          },
          "metadata": {},
          "execution_count": 28
        }
      ]
    },
    {
      "cell_type": "code",
      "metadata": {
        "id": "G3zPo9XJz0g6"
      },
      "source": [
        "WINDOW_GIVEN = 89\n",
        "WINDOW_SIZE = 90\n",
        "\n",
        "class HaiDataset(Dataset):\n",
        "    def __init__(self, timestamps, df, stride=1, attacks=None):\n",
        "        self.ts = np.array(timestamps)\n",
        "        self.tag_values = np.array(df, dtype=np.float32)\n",
        "        self.valid_idxs = []\n",
        "        for L in trange(len(self.ts) - WINDOW_SIZE + 1):\n",
        "            R = L + WINDOW_SIZE - 1\n",
        "            if dateutil.parser.parse(self.ts[R]) - dateutil.parser.parse(\n",
        "                self.ts[L]\n",
        "            ) == timedelta(seconds=WINDOW_SIZE - 1):\n",
        "                self.valid_idxs.append(L)\n",
        "        self.valid_idxs = np.array(self.valid_idxs, dtype=np.int32)[::stride]\n",
        "        self.n_idxs = len(self.valid_idxs)\n",
        "        print(f\"# of valid windows: {self.n_idxs}\")\n",
        "        if attacks is not None:\n",
        "            self.attacks = np.array(attacks, dtype=np.float32)\n",
        "            self.with_attack = True\n",
        "        else:\n",
        "            self.with_attack = False\n",
        "\n",
        "    def __len__(self):\n",
        "        return self.n_idxs\n",
        "\n",
        "    def __getitem__(self, idx):\n",
        "        i = self.valid_idxs[idx]\n",
        "        last = i + WINDOW_SIZE - 1\n",
        "        item = {\"attack\": self.attacks[last]} if self.with_attack else {}\n",
        "        item[\"ts\"] = self.ts[i + WINDOW_SIZE - 1]\n",
        "        item[\"given\"] = torch.from_numpy(self.tag_values[i : i + WINDOW_GIVEN])\n",
        "        item[\"answer\"] = torch.from_numpy(self.tag_values[last])\n",
        "        return item"
      ],
      "execution_count": 29,
      "outputs": []
    },
    {
      "cell_type": "code",
      "metadata": {
        "id": "fM00jtv-z0jL",
        "outputId": "75ae1ddb-6ec2-4e63-f93e-4674a196f580",
        "colab": {
          "base_uri": "https://localhost:8080/",
          "height": 409,
          "referenced_widgets": [
            "c0e592999d164779a8f530806e1a650f",
            "13948fa9e0a3432487ae82653222ec32",
            "dc4c594f82b84f21b271ff50e77f9b3a",
            "bfcae13dc7584bbb8d05efa6e20bc398",
            "1ddefdefd2f645c982de39f69aeda553",
            "14a177a3b8db4283920d2fc14172535e",
            "32f229f42a3548b68085b6c28f660a9c",
            "a94f9bfae41e440bb6bf50797b4978c1",
            "50823f6d4a89409c8768075d9c220fee",
            "8bfeb769e96c43be9f5e490108e05e49",
            "6b8d80b350a047f5b0ce0298f9a11390"
          ]
        }
      },
      "source": [
        "HAI_DATASET_TRAIN = HaiDataset(TRAIN_DF_RAW[TIMESTAMP_FIELD], TRAIN_DF, stride=10)\n",
        "HAI_DATASET_TRAIN[0]"
      ],
      "execution_count": 30,
      "outputs": [
        {
          "output_type": "display_data",
          "data": {
            "text/plain": [
              "  0%|          | 0/921514 [00:00<?, ?it/s]"
            ],
            "application/vnd.jupyter.widget-view+json": {
              "version_major": 2,
              "version_minor": 0,
              "model_id": "c0e592999d164779a8f530806e1a650f"
            }
          },
          "metadata": {}
        },
        {
          "output_type": "stream",
          "name": "stdout",
          "text": [
            "# of valid windows: 92134\n"
          ]
        },
        {
          "output_type": "execute_result",
          "data": {
            "text/plain": [
              "{'ts': '2020-07-11 00:01:29',\n",
              " 'given': tensor([[0.3790, 0.2271, 0.3724,  ..., 0.2650, 1.0000, 0.5673],\n",
              "         [0.3785, 0.2266, 0.3535,  ..., 0.2518, 1.0000, 0.5121],\n",
              "         [0.3785, 0.2268, 0.3187,  ..., 0.2547, 1.0000, 0.4696],\n",
              "         ...,\n",
              "         [0.3730, 0.2268, 0.5175,  ..., 0.4418, 1.0000, 0.5003],\n",
              "         [0.3739, 0.2268, 0.4626,  ..., 0.4408, 1.0000, 0.5446],\n",
              "         [0.3740, 0.2268, 0.4529,  ..., 0.4533, 1.0000, 0.5467]]),\n",
              " 'answer': tensor([3.7401e-01, 2.2681e-01, 4.4518e-01, 1.5360e-04, 3.0547e-01, 6.0378e-01,\n",
              "         4.1797e-01, 5.0237e-01, 5.1502e-01, 4.5891e-01, 1.4508e-01, 4.7930e-01,\n",
              "         3.5710e-01, 1.1150e-03, 3.8993e-01, 2.0921e-04, 9.5674e-01, 0.0000e+00,\n",
              "         4.0782e-01, 3.6943e-01, 0.0000e+00, 4.1359e-01, 1.3964e-01, 9.8371e-01,\n",
              "         2.6923e-01, 1.0000e+00, 4.8270e-01, 7.2178e-01, 1.0000e+00, 1.2351e-01,\n",
              "         6.5662e-01, 3.7997e-01, 3.5329e-01, 5.2601e-01, 0.0000e+00, 3.0436e-01,\n",
              "         2.5663e-03, 5.8362e-01, 1.0000e+00, 2.2832e-01, 9.9250e-01, 4.8689e-02,\n",
              "         0.0000e+00, 9.9250e-01, 4.8951e-01, 1.5526e-01, 9.8961e-01, 8.3470e-01,\n",
              "         5.9678e-01, 0.0000e+00, 2.8131e-01, 3.3996e-01, 3.3716e-01, 9.1666e-01,\n",
              "         3.8761e-01, 4.6057e-01, 1.0000e+00, 5.3466e-01])}"
            ]
          },
          "metadata": {},
          "execution_count": 30
        }
      ]
    },
    {
      "cell_type": "code",
      "metadata": {
        "id": "49kKlc7zz0lT"
      },
      "source": [
        "N_HIDDENS = 100\n",
        "N_LAYERS = 4\n",
        "BATCH_SIZE = 512\n",
        "DropOut_Val = 0.0\n",
        "\n",
        "class StackedGRU(torch.nn.Module):\n",
        "    def __init__(self, n_tags):\n",
        "        super().__init__()\n",
        "        self.rnn = torch.nn.GRU(\n",
        "            input_size=n_tags,\n",
        "            hidden_size=N_HIDDENS,\n",
        "            num_layers=N_LAYERS,\n",
        "            bidirectional=True,\n",
        "            dropout=DropOut_Val\n",
        "        )\n",
        "        self.fc = torch.nn.Linear(N_HIDDENS * 2, n_tags)\n",
        "        self.lstm = torch.nn.LSTM(\n",
        "            input_size=n_tags, \n",
        "            hidden_size=N_HIDDENS, \n",
        "            dropout=DropOut_Val\n",
        "            )\n",
        "        \n",
        "        self.W = torch.nn.Parameter(torch.randn([N_HIDDENS, n_tags]).type(torch.float32))\n",
        "        self.b = torch.nn.Parameter(torch.randn([n_tags]).type(torch.float32))\n",
        "        self.Softmax = torch.nn.Softmax(dim=1)\n",
        "\n",
        "    def forward(self, x):\n",
        "        x = x.transpose(0, 1)  # (batch, seq, params) -> (seq, batch, params)\n",
        "        self.rnn.flatten_parameters()\n",
        "        self.lstm.flatten_parameters()\n",
        "        outs, _ = self.rnn(x)\n",
        "        outputs, _ = self.lstm(x)\n",
        "        out = self.fc(outs[-1]) # 최종 예측 Hidden Layer of RNN\n",
        "        outputs = outputs[-1]  # 최종 예측 Hidden Layer of LSTM\n",
        "        model = torch.mm(outputs, self.W) + self.b  # 최종 예측 최종 출력 층\n",
        "        return x[0] + out"
      ],
      "execution_count": 31,
      "outputs": []
    },
    {
      "cell_type": "code",
      "metadata": {
        "id": "3L0CIyjDz7v6",
        "outputId": "0749e273-f32c-4b96-b529-91e90f88e03e",
        "colab": {
          "base_uri": "https://localhost:8080/"
        }
      },
      "source": [
        "MODEL = StackedGRU(n_tags=TRAIN_DF.shape[1])\n",
        "MODEL.cuda()"
      ],
      "execution_count": 32,
      "outputs": [
        {
          "output_type": "execute_result",
          "data": {
            "text/plain": [
              "StackedGRU(\n",
              "  (rnn): GRU(58, 100, num_layers=4, bidirectional=True)\n",
              "  (fc): Linear(in_features=200, out_features=58, bias=True)\n",
              "  (lstm): LSTM(58, 100)\n",
              "  (Softmax): Softmax(dim=1)\n",
              ")"
            ]
          },
          "metadata": {},
          "execution_count": 32
        }
      ]
    },
    {
      "cell_type": "code",
      "metadata": {
        "id": "HxncNzDiz7yU"
      },
      "source": [
        "def train(dataset, model, batch_size, n_epochs):\n",
        "    dataloader = DataLoader(dataset, batch_size=batch_size, shuffle=True)\n",
        "    optimizer = torch.optim.AdamW(model.parameters())\n",
        "    loss_fn = torch.nn.MSELoss()\n",
        "    #loss_fn = torch.nn.CrossEntropyLoss()\n",
        "    epochs = trange(n_epochs, desc=\"training\")\n",
        "    best = {\"loss\": sys.float_info.max}\n",
        "    loss_history = []\n",
        "    for e in epochs:\n",
        "        epoch_loss = 0\n",
        "        for batch in dataloader:\n",
        "            optimizer.zero_grad()\n",
        "            given = batch[\"given\"].cuda()\n",
        "            guess = model(given)\n",
        "            answer = batch[\"answer\"].cuda()\n",
        "            loss = loss_fn(answer, guess)\n",
        "            loss.backward()\n",
        "            epoch_loss += loss.item()\n",
        "            optimizer.step()\n",
        "        loss_history.append(epoch_loss)\n",
        "        epochs.set_postfix_str(f\"loss: {epoch_loss:.6f}\")\n",
        "        if epoch_loss < best[\"loss\"]:\n",
        "            best[\"state\"] = model.state_dict()\n",
        "            best[\"loss\"] = epoch_loss\n",
        "            best[\"epoch\"] = e + 1\n",
        "    return best, loss_history"
      ],
      "execution_count": 33,
      "outputs": []
    },
    {
      "cell_type": "code",
      "metadata": {
        "id": "cO9uXkmJz70s",
        "outputId": "7c55f8a5-a4df-4d90-f062-40a6b78c45e8",
        "colab": {
          "base_uri": "https://localhost:8080/"
        }
      },
      "source": [
        "%%time\n",
        "MODEL.train()"
      ],
      "execution_count": 34,
      "outputs": [
        {
          "output_type": "stream",
          "name": "stdout",
          "text": [
            "CPU times: user 53 µs, sys: 2 µs, total: 55 µs\n",
            "Wall time: 67.9 µs\n"
          ]
        },
        {
          "output_type": "execute_result",
          "data": {
            "text/plain": [
              "StackedGRU(\n",
              "  (rnn): GRU(58, 100, num_layers=4, bidirectional=True)\n",
              "  (fc): Linear(in_features=200, out_features=58, bias=True)\n",
              "  (lstm): LSTM(58, 100)\n",
              "  (Softmax): Softmax(dim=1)\n",
              ")"
            ]
          },
          "metadata": {},
          "execution_count": 34
        }
      ]
    },
    {
      "cell_type": "code",
      "metadata": {
        "id": "fSEG4l6JQLH-",
        "outputId": "bd073927-7b90-48b7-ff73-44afa5348022",
        "colab": {
          "base_uri": "https://localhost:8080/",
          "height": 49,
          "referenced_widgets": [
            "b095aa2ea0da41d496853c8f1cba8572",
            "ea43be4dde37445f9ee2ac4a4a0af3c8",
            "05b722898508419d929dc542e2793fe0",
            "ff6ae03da72741b19ff94a4143e42e5c",
            "ab51ea383a7345ce9804c43d93c7d86c",
            "d264ea940df74b4d9685e3d6f691c4a6",
            "44d7074f231649eeb7b73a07f395d696",
            "2d1a83874cec4a1f88e9626c76b43ef7",
            "83cbb39c340840abb62e0f7a3d4d0208",
            "86845dc967564b49a816ef9ca6e38e47",
            "2ca7b966f2884a41a48b1420fc58842a"
          ]
        }
      },
      "source": [
        "BEST_MODEL, LOSS_HISTORY = train(HAI_DATASET_TRAIN, MODEL, BATCH_SIZE, 64)"
      ],
      "execution_count": 35,
      "outputs": [
        {
          "output_type": "display_data",
          "data": {
            "text/plain": [
              "training:   0%|          | 0/64 [00:00<?, ?it/s]"
            ],
            "application/vnd.jupyter.widget-view+json": {
              "version_major": 2,
              "version_minor": 0,
              "model_id": "b095aa2ea0da41d496853c8f1cba8572"
            }
          },
          "metadata": {}
        }
      ]
    },
    {
      "cell_type": "code",
      "metadata": {
        "id": "5Bei2S7wz72_",
        "colab": {
          "base_uri": "https://localhost:8080/"
        },
        "outputId": "fddb8a67-bf25-4234-ffe8-4d7edc48e43e"
      },
      "source": [
        "BEST_MODEL[\"loss\"], BEST_MODEL[\"epoch\"]"
      ],
      "execution_count": 36,
      "outputs": [
        {
          "output_type": "execute_result",
          "data": {
            "text/plain": [
              "(0.08538062628940679, 64)"
            ]
          },
          "metadata": {},
          "execution_count": 36
        }
      ]
    },
    {
      "cell_type": "code",
      "metadata": {
        "id": "9BijEtN0z75U"
      },
      "source": [
        "with open(\"model.pt\", \"wb\") as f:\n",
        "    torch.save(\n",
        "        {\n",
        "            \"state\": BEST_MODEL[\"state\"],\n",
        "            \"best_epoch\": BEST_MODEL[\"epoch\"],\n",
        "            \"loss_history\": LOSS_HISTORY,\n",
        "        },\n",
        "        f,\n",
        "    )"
      ],
      "execution_count": 37,
      "outputs": []
    },
    {
      "cell_type": "code",
      "metadata": {
        "id": "W9mzvy_oz77w",
        "colab": {
          "base_uri": "https://localhost:8080/"
        },
        "outputId": "db98bf02-4bd7-4ddc-9e0f-71b3c4999cc0"
      },
      "source": [
        "with open(\"model.pt\", \"rb\") as f:\n",
        "    SAVED_MODEL = torch.load(f)\n",
        "\n",
        "MODEL.load_state_dict(SAVED_MODEL[\"state\"])"
      ],
      "execution_count": 38,
      "outputs": [
        {
          "output_type": "execute_result",
          "data": {
            "text/plain": [
              "<All keys matched successfully>"
            ]
          },
          "metadata": {},
          "execution_count": 38
        }
      ]
    },
    {
      "cell_type": "code",
      "metadata": {
        "id": "cNXi-G17z79-",
        "colab": {
          "base_uri": "https://localhost:8080/",
          "height": 295
        },
        "outputId": "c1207ec3-7c00-42f2-fc8b-bea16b61d886"
      },
      "source": [
        "plt.figure(figsize=(16, 4))\n",
        "plt.title(\"Training Loss Graph\")\n",
        "plt.xlabel(\"epochs\")\n",
        "plt.ylabel(\"loss\")\n",
        "plt.yscale(\"log\")\n",
        "plt.plot(SAVED_MODEL[\"loss_history\"])\n",
        "plt.show()"
      ],
      "execution_count": 39,
      "outputs": [
        {
          "output_type": "display_data",
          "data": {
            "text/plain": [
              "<Figure size 1152x288 with 1 Axes>"
            ],
            "image/png": "[encoded data removed]"
          },
          "metadata": {
            "needs_background": "light"
          }
        }
      ]
    },
    {
      "cell_type": "code",
      "metadata": {
        "id": "bJ2UewAMz8AG",
        "colab": {
          "base_uri": "https://localhost:8080/",
          "height": 815
        },
        "outputId": "5e8d61ba-be37-49bf-c0e7-053651c7ba24"
      },
      "source": [
        "VALIDATION_DF_RAW = dataframe_from_csvs(VALIDATION_DATASET)\n",
        "VALIDATION_DF_RAW"
      ],
      "execution_count": 40,
      "outputs": [
        {
          "output_type": "execute_result",
          "data": {
            "text/plain": [
              "                      time        C01   C02  C03       C04     C05      C06  \\\n",
              "0      2020-07-07 15:00:00  402.70947  12.0   10  51.95007 -1.0189 -1.86768   \n",
              "1      2020-07-07 15:00:01  402.81174  12.0   10  51.96533 -1.2637 -1.86768   \n",
              "2      2020-07-07 15:00:02  402.76062  12.0   10  51.96533 -1.5398 -1.86768   \n",
              "3      2020-07-07 15:00:03  402.81174  12.0   10  51.98822 -1.6212 -1.86768   \n",
              "4      2020-07-07 15:00:04  402.91394  12.0   10  51.90429 -1.5631 -1.86768   \n",
              "...                    ...        ...   ...  ...       ...     ...      ...   \n",
              "43196  2020-07-08 02:59:56  397.08661  12.0   10  66.58325 -1.2052 -1.83716   \n",
              "43197  2020-07-08 02:59:57  397.18887  12.0   10  66.58325 -0.9256 -1.83716   \n",
              "43198  2020-07-08 02:59:58  397.13776  12.0   10  66.58325 -0.7843 -1.83716   \n",
              "43199  2020-07-08 02:59:59  397.34222  12.0   10  66.58325 -0.7646 -1.83716   \n",
              "43200  2020-07-08 03:00:00  397.49557  12.0   10  66.58325 -0.9083 -1.83716   \n",
              "\n",
              "             C07       C08  C09  ...  C71      C72       C73       C74  \\\n",
              "0      789.76508  28.03162  688  ...  0.0  1.34293  10.89290  34.88770   \n",
              "1      789.13147  28.02301  648  ...  0.0  1.34216  10.80512  34.88770   \n",
              "2      785.81653  28.02993  616  ...  0.0  1.34369  10.80029  34.88770   \n",
              "3      785.42438  28.02993  584  ...  0.0  1.34445  10.80579  34.88770   \n",
              "4      782.99249  28.02990  552  ...  0.0  1.34293  10.81415  34.90295   \n",
              "...          ...       ...  ...  ...  ...      ...       ...       ...   \n",
              "43196  786.93738  28.03250    0  ...  0.0  1.35971  16.19496  35.22338   \n",
              "43197  783.44989  28.02304    0  ...  0.0  1.35971  16.23927  35.23864   \n",
              "43198  784.86780  28.02814    0  ...  0.0  1.35818  16.20675  35.23864   \n",
              "43199  785.51416  28.02294    0  ...  0.0  1.35818  16.17168  35.25391   \n",
              "43200  786.98297  28.02990    0  ...  0.0  1.35895  16.10412  35.22338   \n",
              "\n",
              "            C75        C76        C77       C78     C79  attack  \n",
              "0      12.26196  380.31683  386.26666  32.59527  5.6330       0  \n",
              "1      12.26196  380.02747  386.30286  32.59527  5.4158       0  \n",
              "2      12.26196  381.52850  389.73883  32.59527  5.5532       0  \n",
              "3      12.26196  382.08911  388.94311  32.59527  5.7833       0  \n",
              "4      12.26196  383.44543  389.72082  32.59527  6.0309       0  \n",
              "...         ...        ...        ...       ...     ...     ...  \n",
              "43196  12.01019  390.13672  394.91107  31.81634  5.2977       0  \n",
              "43197  12.01019  390.24518  397.35248  31.81634  5.3188       0  \n",
              "43198  12.01019  390.46222  396.70142  31.81634  5.1800       0  \n",
              "43199  12.01019  391.78241  397.73218  31.81634  4.8763       0  \n",
              "43200  12.01019  391.31219  397.24390  31.81634  4.5790       0  \n",
              "\n",
              "[43201 rows x 81 columns]"
            ],
            "text/html": [
              "\n",
              "  <div id=\"df-29c084c1-ba1e-43f4-aefa-09430da4bd9d\">\n",
              "    <div class=\"colab-df-container\">\n",
              "      <div>\n",
              "<style scoped>\n",
              "    .dataframe tbody tr th:only-of-type {\n",
              "        vertical-align: middle;\n",
              "    }\n",
              "\n",
              "    .dataframe tbody tr th {\n",
              "        vertical-align: top;\n",
              "    }\n",
              "\n",
              "    .dataframe thead th {\n",
              "        text-align: right;\n",
              "    }\n",
              "</style>\n",
              "<table border=\"1\" class=\"dataframe\">\n",
              "  <thead>\n",
              "    <tr style=\"text-align: right;\">\n",
              "      <th></th>\n",
              "      <th>time</th>\n",
              "      <th>C01</th>\n",
              "      <th>C02</th>\n",
              "      <th>C03</th>\n",
              "      <th>C04</th>\n",
              "      <th>C05</th>\n",
              "      <th>C06</th>\n",
              "      <th>C07</th>\n",
              "      <th>C08</th>\n",
              "      <th>C09</th>\n",
              "      <th>...</th>\n",
              "      <th>C71</th>\n",
              "      <th>C72</th>\n",
              "      <th>C73</th>\n",
              "      <th>C74</th>\n",
              "      <th>C75</th>\n",
              "      <th>C76</th>\n",
              "      <th>C77</th>\n",
              "      <th>C78</th>\n",
              "      <th>C79</th>\n",
              "      <th>attack</th>\n",
              "    </tr>\n",
              "  </thead>\n",
              "  <tbody>\n",
              "    <tr>\n",
              "      <th>0</th>\n",
              "      <td>2020-07-07 15:00:00</td>\n",
              "      <td>402.70947</td>\n",
              "      <td>12.0</td>\n",
              "      <td>10</td>\n",
              "      <td>51.95007</td>\n",
              "      <td>-1.0189</td>\n",
              "      <td>-1.86768</td>\n",
              "      <td>789.76508</td>\n",
              "      <td>28.03162</td>\n",
              "      <td>688</td>\n",
              "      <td>...</td>\n",
              "      <td>0.0</td>\n",
              "      <td>1.34293</td>\n",
              "      <td>10.89290</td>\n",
              "      <td>34.88770</td>\n",
              "      <td>12.26196</td>\n",
              "      <td>380.31683</td>\n",
              "      <td>386.26666</td>\n",
              "      <td>32.59527</td>\n",
              "      <td>5.6330</td>\n",
              "      <td>0</td>\n",
              "    </tr>\n",
              "    <tr>\n",
              "      <th>1</th>\n",
              "      <td>2020-07-07 15:00:01</td>\n",
              "      <td>402.81174</td>\n",
              "      <td>12.0</td>\n",
              "      <td>10</td>\n",
              "      <td>51.96533</td>\n",
              "      <td>-1.2637</td>\n",
              "      <td>-1.86768</td>\n",
              "      <td>789.13147</td>\n",
              "      <td>28.02301</td>\n",
              "      <td>648</td>\n",
              "      <td>...</td>\n",
              "      <td>0.0</td>\n",
              "      <td>1.34216</td>\n",
              "      <td>10.80512</td>\n",
              "      <td>34.88770</td>\n",
              "      <td>12.26196</td>\n",
              "      <td>380.02747</td>\n",
              "      <td>386.30286</td>\n",
              "      <td>32.59527</td>\n",
              "      <td>5.4158</td>\n",
              "      <td>0</td>\n",
              "    </tr>\n",
              "    <tr>\n",
              "      <th>2</th>\n",
              "      <td>2020-07-07 15:00:02</td>\n",
              "      <td>402.76062</td>\n",
              "      <td>12.0</td>\n",
              "      <td>10</td>\n",
              "      <td>51.96533</td>\n",
              "      <td>-1.5398</td>\n",
              "      <td>-1.86768</td>\n",
              "      <td>785.81653</td>\n",
              "      <td>28.02993</td>\n",
              "      <td>616</td>\n",
              "      <td>...</td>\n",
              "      <td>0.0</td>\n",
              "      <td>1.34369</td>\n",
              "      <td>10.80029</td>\n",
              "      <td>34.88770</td>\n",
              "      <td>12.26196</td>\n",
              "      <td>381.52850</td>\n",
              "      <td>389.73883</td>\n",
              "      <td>32.59527</td>\n",
              "      <td>5.5532</td>\n",
              "      <td>0</td>\n",
              "    </tr>\n",
              "    <tr>\n",
              "      <th>3</th>\n",
              "      <td>2020-07-07 15:00:03</td>\n",
              "      <td>402.81174</td>\n",
              "      <td>12.0</td>\n",
              "      <td>10</td>\n",
              "      <td>51.98822</td>\n",
              "      <td>-1.6212</td>\n",
              "      <td>-1.86768</td>\n",
              "      <td>785.42438</td>\n",
              "      <td>28.02993</td>\n",
              "      <td>584</td>\n",
              "      <td>...</td>\n",
              "      <td>0.0</td>\n",
              "      <td>1.34445</td>\n",
              "      <td>10.80579</td>\n",
              "      <td>34.88770</td>\n",
              "      <td>12.26196</td>\n",
              "      <td>382.08911</td>\n",
              "      <td>388.94311</td>\n",
              "      <td>32.59527</td>\n",
              "      <td>5.7833</td>\n",
              "      <td>0</td>\n",
              "    </tr>\n",
              "    <tr>\n",
              "      <th>4</th>\n",
              "      <td>2020-07-07 15:00:04</td>\n",
              "      <td>402.91394</td>\n",
              "      <td>12.0</td>\n",
              "      <td>10</td>\n",
              "      <td>51.90429</td>\n",
              "      <td>-1.5631</td>\n",
              "      <td>-1.86768</td>\n",
              "      <td>782.99249</td>\n",
              "      <td>28.02990</td>\n",
              "      <td>552</td>\n",
              "      <td>...</td>\n",
              "      <td>0.0</td>\n",
              "      <td>1.34293</td>\n",
              "      <td>10.81415</td>\n",
              "      <td>34.90295</td>\n",
              "      <td>12.26196</td>\n",
              "      <td>383.44543</td>\n",
              "      <td>389.72082</td>\n",
              "      <td>32.59527</td>\n",
              "      <td>6.0309</td>\n",
              "      <td>0</td>\n",
              "    </tr>\n",
              "    <tr>\n",
              "      <th>...</th>\n",
              "      <td>...</td>\n",
              "      <td>...</td>\n",
              "      <td>...</td>\n",
              "      <td>...</td>\n",
              "      <td>...</td>\n",
              "      <td>...</td>\n",
              "      <td>...</td>\n",
              "      <td>...</td>\n",
              "      <td>...</td>\n",
              "      <td>...</td>\n",
              "      <td>...</td>\n",
              "      <td>...</td>\n",
              "      <td>...</td>\n",
              "      <td>...</td>\n",
              "      <td>...</td>\n",
              "      <td>...</td>\n",
              "      <td>...</td>\n",
              "      <td>...</td>\n",
              "      <td>...</td>\n",
              "      <td>...</td>\n",
              "      <td>...</td>\n",
              "    </tr>\n",
              "    <tr>\n",
              "      <th>43196</th>\n",
              "      <td>2020-07-08 02:59:56</td>\n",
              "      <td>397.08661</td>\n",
              "      <td>12.0</td>\n",
              "      <td>10</td>\n",
              "      <td>66.58325</td>\n",
              "      <td>-1.2052</td>\n",
              "      <td>-1.83716</td>\n",
              "      <td>786.93738</td>\n",
              "      <td>28.03250</td>\n",
              "      <td>0</td>\n",
              "      <td>...</td>\n",
              "      <td>0.0</td>\n",
              "      <td>1.35971</td>\n",
              "      <td>16.19496</td>\n",
              "      <td>35.22338</td>\n",
              "      <td>12.01019</td>\n",
              "      <td>390.13672</td>\n",
              "      <td>394.91107</td>\n",
              "      <td>31.81634</td>\n",
              "      <td>5.2977</td>\n",
              "      <td>0</td>\n",
              "    </tr>\n",
              "    <tr>\n",
              "      <th>43197</th>\n",
              "      <td>2020-07-08 02:59:57</td>\n",
              "      <td>397.18887</td>\n",
              "      <td>12.0</td>\n",
              "      <td>10</td>\n",
              "      <td>66.58325</td>\n",
              "      <td>-0.9256</td>\n",
              "      <td>-1.83716</td>\n",
              "      <td>783.44989</td>\n",
              "      <td>28.02304</td>\n",
              "      <td>0</td>\n",
              "      <td>...</td>\n",
              "      <td>0.0</td>\n",
              "      <td>1.35971</td>\n",
              "      <td>16.23927</td>\n",
              "      <td>35.23864</td>\n",
              "      <td>12.01019</td>\n",
              "      <td>390.24518</td>\n",
              "      <td>397.35248</td>\n",
              "      <td>31.81634</td>\n",
              "      <td>5.3188</td>\n",
              "      <td>0</td>\n",
              "    </tr>\n",
              "    <tr>\n",
              "      <th>43198</th>\n",
              "      <td>2020-07-08 02:59:58</td>\n",
              "      <td>397.13776</td>\n",
              "      <td>12.0</td>\n",
              "      <td>10</td>\n",
              "      <td>66.58325</td>\n",
              "      <td>-0.7843</td>\n",
              "      <td>-1.83716</td>\n",
              "      <td>784.86780</td>\n",
              "      <td>28.02814</td>\n",
              "      <td>0</td>\n",
              "      <td>...</td>\n",
              "      <td>0.0</td>\n",
              "      <td>1.35818</td>\n",
              "      <td>16.20675</td>\n",
              "      <td>35.23864</td>\n",
              "      <td>12.01019</td>\n",
              "      <td>390.46222</td>\n",
              "      <td>396.70142</td>\n",
              "      <td>31.81634</td>\n",
              "      <td>5.1800</td>\n",
              "      <td>0</td>\n",
              "    </tr>\n",
              "    <tr>\n",
              "      <th>43199</th>\n",
              "      <td>2020-07-08 02:59:59</td>\n",
              "      <td>397.34222</td>\n",
              "      <td>12.0</td>\n",
              "      <td>10</td>\n",
              "      <td>66.58325</td>\n",
              "      <td>-0.7646</td>\n",
              "      <td>-1.83716</td>\n",
              "      <td>785.51416</td>\n",
              "      <td>28.02294</td>\n",
              "      <td>0</td>\n",
              "      <td>...</td>\n",
              "      <td>0.0</td>\n",
              "      <td>1.35818</td>\n",
              "      <td>16.17168</td>\n",
              "      <td>35.25391</td>\n",
              "      <td>12.01019</td>\n",
              "      <td>391.78241</td>\n",
              "      <td>397.73218</td>\n",
              "      <td>31.81634</td>\n",
              "      <td>4.8763</td>\n",
              "      <td>0</td>\n",
              "    </tr>\n",
              "    <tr>\n",
              "      <th>43200</th>\n",
              "      <td>2020-07-08 03:00:00</td>\n",
              "      <td>397.49557</td>\n",
              "      <td>12.0</td>\n",
              "      <td>10</td>\n",
              "      <td>66.58325</td>\n",
              "      <td>-0.9083</td>\n",
              "      <td>-1.83716</td>\n",
              "      <td>786.98297</td>\n",
              "      <td>28.02990</td>\n",
              "      <td>0</td>\n",
              "      <td>...</td>\n",
              "      <td>0.0</td>\n",
              "      <td>1.35895</td>\n",
              "      <td>16.10412</td>\n",
              "      <td>35.22338</td>\n",
              "      <td>12.01019</td>\n",
              "      <td>391.31219</td>\n",
              "      <td>397.24390</td>\n",
              "      <td>31.81634</td>\n",
              "      <td>4.5790</td>\n",
              "      <td>0</td>\n",
              "    </tr>\n",
              "  </tbody>\n",
              "</table>\n",
              "<p>43201 rows × 81 columns</p>\n",
              "</div>\n",
              "      <button class=\"colab-df-convert\" onclick=\"convertToInteractive('df-29c084c1-ba1e-43f4-aefa-09430da4bd9d')\"\n",
              "              title=\"Convert this dataframe to an interactive table.\"\n",
              "              style=\"display:none;\">\n",
              "        \n",
              "  <svg xmlns=\"http://www.w3.org/2000/svg\" height=\"24px\"viewBox=\"0 0 24 24\"\n",
              "       width=\"24px\">\n",
              "    <path d=\"M0 0h24v24H0V0z\" fill=\"none\"/>\n",
              "    <path d=\"M18.56 5.44l.94 2.06.94-2.06 2.06-.94-2.06-.94-.94-2.06-.94 2.06-2.06.94zm-11 1L8.5 8.5l.94-2.06 2.06-.94-2.06-.94L8.5 2.5l-.94 2.06-2.06.94zm10 10l.94 2.06.94-2.06 2.06-.94-2.06-.94-.94-2.06-.94 2.06-2.06.94z\"/><path d=\"M17.41 7.96l-1.37-1.37c-.4-.4-.92-.59-1.43-.59-.52 0-1.04.2-1.43.59L10.3 9.45l-7.72 7.72c-.78.78-.78 2.05 0 2.83L4 21.41c.39.39.9.59 1.41.59.51 0 1.02-.2 1.41-.59l7.78-7.78 2.81-2.81c.8-.78.8-2.07 0-2.86zM5.41 20L4 18.59l7.72-7.72 1.47 1.35L5.41 20z\"/>\n",
              "  </svg>\n",
              "      </button>\n",
              "      \n",
              "  <style>\n",
              "    .colab-df-container {\n",
              "      display:flex;\n",
              "      flex-wrap:wrap;\n",
              "      gap: 12px;\n",
              "    }\n",
              "\n",
              "    .colab-df-convert {\n",
              "      background-color: #E8F0FE;\n",
              "      border: none;\n",
              "      border-radius: 50%;\n",
              "      cursor: pointer;\n",
              "      display: none;\n",
              "      fill: #1967D2;\n",
              "      height: 32px;\n",
              "      padding: 0 0 0 0;\n",
              "      width: 32px;\n",
              "    }\n",
              "\n",
              "    .colab-df-convert:hover {\n",
              "      background-color: #E2EBFA;\n",
              "      box-shadow: 0px 1px 2px rgba(60, 64, 67, 0.3), 0px 1px 3px 1px rgba(60, 64, 67, 0.15);\n",
              "      fill: #174EA6;\n",
              "    }\n",
              "\n",
              "    [theme=dark] .colab-df-convert {\n",
              "      background-color: #3B4455;\n",
              "      fill: #D2E3FC;\n",
              "    }\n",
              "\n",
              "    [theme=dark] .colab-df-convert:hover {\n",
              "      background-color: #434B5C;\n",
              "      box-shadow: 0px 1px 3px 1px rgba(0, 0, 0, 0.15);\n",
              "      filter: drop-shadow(0px 1px 2px rgba(0, 0, 0, 0.3));\n",
              "      fill: #FFFFFF;\n",
              "    }\n",
              "  </style>\n",
              "\n",
              "      <script>\n",
              "        const buttonEl =\n",
              "          document.querySelector('#df-29c084c1-ba1e-43f4-aefa-09430da4bd9d button.colab-df-convert');\n",
              "        buttonEl.style.display =\n",
              "          google.colab.kernel.accessAllowed ? 'block' : 'none';\n",
              "\n",
              "        async function convertToInteractive(key) {\n",
              "          const element = document.querySelector('#df-29c084c1-ba1e-43f4-aefa-09430da4bd9d');\n",
              "          const dataTable =\n",
              "            await google.colab.kernel.invokeFunction('convertToInteractive',\n",
              "                                                     [key], {});\n",
              "          if (!dataTable) return;\n",
              "\n",
              "          const docLinkHtml = 'Like what you see? Visit the ' +\n",
              "            '<a target=\"_blank\" href=https://colab.research.google.com/notebooks/data_table.ipynb>data table notebook</a>'\n",
              "            + ' to learn more about interactive tables.';\n",
              "          element.innerHTML = '';\n",
              "          dataTable['output_type'] = 'display_data';\n",
              "          await google.colab.output.renderOutput(dataTable, element);\n",
              "          const docLink = document.createElement('div');\n",
              "          docLink.innerHTML = docLinkHtml;\n",
              "          element.appendChild(docLink);\n",
              "        }\n",
              "      </script>\n",
              "    </div>\n",
              "  </div>\n",
              "  "
            ]
          },
          "metadata": {},
          "execution_count": 40
        }
      ]
    },
    {
      "cell_type": "code",
      "metadata": {
        "id": "8OpKZPkr0jw9"
      },
      "source": [
        "VALIDATION_DF = normalize(VALIDATION_DF_RAW[VALID_COLUMNS_IN_TRAIN_DATASET])  # Data Scaling\n",
        "# VALIDATION_DF = sc.fit_transform(VALIDATION_DF_RAW[VALID_COLUMNS_IN_TRAIN_DATASET])    # Data Scaling by MinMaxScaler\n",
        "# VALIDATION_DF = sc.fit_transform(VALIDATION_DF_RAW[VALID_COLUMNS_IN_TRAIN_DATASET])    # Data Scaling by Normalizer"
      ],
      "execution_count": 41,
      "outputs": []
    },
    {
      "cell_type": "code",
      "metadata": {
        "id": "TtahrwmH0jzb",
        "colab": {
          "base_uri": "https://localhost:8080/"
        },
        "outputId": "d8402be6-4c3e-4658-e4ef-6b92c132d33b"
      },
      "source": [
        "boundary_check(VALIDATION_DF)"
      ],
      "execution_count": 42,
      "outputs": [
        {
          "output_type": "execute_result",
          "data": {
            "text/plain": [
              "(True, True, False)"
            ]
          },
          "metadata": {},
          "execution_count": 42
        }
      ]
    },
    {
      "cell_type": "code",
      "metadata": {
        "id": "GYqqFg-w0j1r",
        "colab": {
          "base_uri": "https://localhost:8080/",
          "height": 428,
          "referenced_widgets": [
            "3b579bcaef014ce18d80b5896f9ad911",
            "c0f9a26f5dda466f85bbea07348ac171",
            "afb9480f375749d192fd3300bc018235",
            "1f6d63c967fe431abb0ce59d6298adee",
            "de7c314de43c4e83b91b8136e105b8b6",
            "efa3c80ffd2449c18460a0b09f254541",
            "106e4bab2a174e8a8a5180f6471bc8bc",
            "4955cb17de6540a18b3e46e0d10843ae",
            "349563dd24fc42ef90176d1ff7cd7064",
            "ddff45f045d44dbe8095a274cce0122a",
            "32a2d653964b4d4db98c6de54ee43ea2"
          ]
        },
        "outputId": "16d6f5a7-de0f-4de7-c2a8-bc3f5f837adb"
      },
      "source": [
        "HAI_DATASET_VALIDATION = HaiDataset(\n",
        "    VALIDATION_DF_RAW[TIMESTAMP_FIELD], VALIDATION_DF, attacks=VALIDATION_DF_RAW[ATTACK_FIELD]\n",
        ")\n",
        "HAI_DATASET_VALIDATION[0]"
      ],
      "execution_count": 43,
      "outputs": [
        {
          "output_type": "display_data",
          "data": {
            "text/plain": [
              "  0%|          | 0/43112 [00:00<?, ?it/s]"
            ],
            "application/vnd.jupyter.widget-view+json": {
              "version_major": 2,
              "version_minor": 0,
              "model_id": "3b579bcaef014ce18d80b5896f9ad911"
            }
          },
          "metadata": {}
        },
        {
          "output_type": "stream",
          "name": "stdout",
          "text": [
            "# of valid windows: 43112\n"
          ]
        },
        {
          "output_type": "execute_result",
          "data": {
            "text/plain": [
              "{'attack': 0.0,\n",
              " 'ts': '2020-07-07 15:01:29',\n",
              " 'given': tensor([[0.4516, 0.1978, 0.4746,  ..., 0.5798, 0.5271, 0.4014],\n",
              "         [0.4526, 0.1983, 0.3728,  ..., 0.5799, 0.5271, 0.3234],\n",
              "         [0.4521, 0.1983, 0.2580,  ..., 0.5927, 0.5271, 0.3727],\n",
              "         ...,\n",
              "         [0.5267, 0.1620, 0.2691,  ..., 0.3193, 0.5271, 0.3745],\n",
              "         [0.5257, 0.1620, 0.2043,  ..., 0.3134, 0.5271, 0.4363],\n",
              "         [0.5252, 0.1620, 0.1861,  ..., 0.3089, 0.5271, 0.5319]]),\n",
              " 'answer': tensor([5.2717e-01, 1.6201e-01, 2.4634e-01, 3.0731e-04, 4.7660e-01, 5.1151e-01,\n",
              "         1.1574e-03, 1.5182e-01, 4.9051e-01, 5.5063e-01, 2.8699e-01, 4.4413e-01,\n",
              "         4.3588e-01, 2.4863e-02, 3.4310e-01, 7.5772e-01, 6.8562e-01, 0.0000e+00,\n",
              "         3.7939e-01, 2.5223e-01, 0.0000e+00, 3.9106e-01, 2.5138e-02, 9.9257e-01,\n",
              "         3.4135e-01, 1.0000e+00, 4.1100e-01, 4.6915e-01, 9.9916e-01, 2.5674e-04,\n",
              "         5.0073e-01, 3.8212e-01, 2.3146e-01, 6.1364e-01, 0.0000e+00, 4.8101e-01,\n",
              "         7.6219e-01, 5.8022e-01, 1.0000e+00, 1.3777e-01, 9.9420e-01, 4.8721e-02,\n",
              "         7.6795e-01, 9.9123e-01, 4.4749e-01, 2.8254e-01, 9.9751e-01, 3.5354e-01,\n",
              "         6.0346e-01, 0.0000e+00, 3.6832e-01, 2.0053e-01, 9.4593e-02, 1.7778e+00,\n",
              "         3.4465e-01, 3.1577e-01, 5.2712e-01, 6.1266e-01])}"
            ]
          },
          "metadata": {},
          "execution_count": 43
        }
      ]
    },
    {
      "cell_type": "code",
      "source": [
        "from google.colab import files\n",
        "\n",
        "VALIDATION_DF_RAW.to_csv('VALIDATION_DF_RAW.csv', index=False)\n",
        "files.download('VALIDATION_DF_RAW.csv')"
      ],
      "metadata": {
        "id": "DJ1Im1KMisCQ",
        "outputId": "71a928b3-f375-494c-9d20-27b08a0d5b7d",
        "colab": {
          "base_uri": "https://localhost:8080/",
          "height": 17
        }
      },
      "execution_count": 90,
      "outputs": [
        {
          "output_type": "display_data",
          "data": {
            "text/plain": [
              "<IPython.core.display.Javascript object>"
            ],
            "application/javascript": [
              "\n",
              "    async function download(id, filename, size) {\n",
              "      if (!google.colab.kernel.accessAllowed) {\n",
              "        return;\n",
              "      }\n",
              "      const div = document.createElement('div');\n",
              "      const label = document.createElement('label');\n",
              "      label.textContent = `Downloading \"${filename}\": `;\n",
              "      div.appendChild(label);\n",
              "      const progress = document.createElement('progress');\n",
              "      progress.max = size;\n",
              "      div.appendChild(progress);\n",
              "      document.body.appendChild(div);\n",
              "\n",
              "      const buffers = [];\n",
              "      let downloaded = 0;\n",
              "\n",
              "      const channel = await google.colab.kernel.comms.open(id);\n",
              "      // Send a message to notify the kernel that we're ready.\n",
              "      channel.send({})\n",
              "\n",
              "      for await (const message of channel.messages) {\n",
              "        // Send a message to notify the kernel that we're ready.\n",
              "        channel.send({})\n",
              "        if (message.buffers) {\n",
              "          for (const buffer of message.buffers) {\n",
              "            buffers.push(buffer);\n",
              "            downloaded += buffer.byteLength;\n",
              "            progress.value = downloaded;\n",
              "          }\n",
              "        }\n",
              "      }\n",
              "      const blob = new Blob(buffers, {type: 'application/binary'});\n",
              "      const a = document.createElement('a');\n",
              "      a.href = window.URL.createObjectURL(blob);\n",
              "      a.download = filename;\n",
              "      div.appendChild(a);\n",
              "      a.click();\n",
              "      div.remove();\n",
              "    }\n",
              "  "
            ]
          },
          "metadata": {}
        },
        {
          "output_type": "display_data",
          "data": {
            "text/plain": [
              "<IPython.core.display.Javascript object>"
            ],
            "application/javascript": [
              "download(\"download_74d41f7a-1919-4c95-bceb-aa07364f5749\", \"VALIDATION_DF_RAW.csv\", 24447430)"
            ]
          },
          "metadata": {}
        }
      ]
    },
    {
      "cell_type": "code",
      "source": [
        "VALIDATION_DF.to_csv('VALIDATION_DF.csv', index=False)\n",
        "files.download('VALIDATION_DF.csv')"
      ],
      "metadata": {
        "id": "npTuH7Z0mZQM",
        "outputId": "e6d605ca-8c03-45d9-ccb7-02781ad526cf",
        "colab": {
          "base_uri": "https://localhost:8080/",
          "height": 17
        }
      },
      "execution_count": 93,
      "outputs": [
        {
          "output_type": "display_data",
          "data": {
            "text/plain": [
              "<IPython.core.display.Javascript object>"
            ],
            "application/javascript": [
              "\n",
              "    async function download(id, filename, size) {\n",
              "      if (!google.colab.kernel.accessAllowed) {\n",
              "        return;\n",
              "      }\n",
              "      const div = document.createElement('div');\n",
              "      const label = document.createElement('label');\n",
              "      label.textContent = `Downloading \"${filename}\": `;\n",
              "      div.appendChild(label);\n",
              "      const progress = document.createElement('progress');\n",
              "      progress.max = size;\n",
              "      div.appendChild(progress);\n",
              "      document.body.appendChild(div);\n",
              "\n",
              "      const buffers = [];\n",
              "      let downloaded = 0;\n",
              "\n",
              "      const channel = await google.colab.kernel.comms.open(id);\n",
              "      // Send a message to notify the kernel that we're ready.\n",
              "      channel.send({})\n",
              "\n",
              "      for await (const message of channel.messages) {\n",
              "        // Send a message to notify the kernel that we're ready.\n",
              "        channel.send({})\n",
              "        if (message.buffers) {\n",
              "          for (const buffer of message.buffers) {\n",
              "            buffers.push(buffer);\n",
              "            downloaded += buffer.byteLength;\n",
              "            progress.value = downloaded;\n",
              "          }\n",
              "        }\n",
              "      }\n",
              "      const blob = new Blob(buffers, {type: 'application/binary'});\n",
              "      const a = document.createElement('a');\n",
              "      a.href = window.URL.createObjectURL(blob);\n",
              "      a.download = filename;\n",
              "      div.appendChild(a);\n",
              "      a.click();\n",
              "      div.remove();\n",
              "    }\n",
              "  "
            ]
          },
          "metadata": {}
        },
        {
          "output_type": "display_data",
          "data": {
            "text/plain": [
              "<IPython.core.display.Javascript object>"
            ],
            "application/javascript": [
              "download(\"download_749e207d-b161-4901-871f-b1d437cec059\", \"VALIDATION_DF.csv\", 44486122)"
            ]
          },
          "metadata": {}
        }
      ]
    },
    {
      "cell_type": "code",
      "metadata": {
        "id": "nBrwiGGr0j4E"
      },
      "source": [
        "def inference(dataset, model, batch_size):\n",
        "    dataloader = DataLoader(dataset, batch_size=batch_size)\n",
        "    ts, dist, att, pred, actual = [], [], [], [], []\n",
        "    with torch.no_grad():\n",
        "        for batch in dataloader:\n",
        "            given = batch[\"given\"].cuda()\n",
        "            answer = batch[\"answer\"].cuda()\n",
        "            guess = model(given)\n",
        "\n",
        "            ts.append(np.array(batch[\"ts\"]))\n",
        "            pred.append(torch.abs(guess).cpu().numpy())\n",
        "            actual.append(torch.abs(answer).cpu().numpy())\n",
        "\n",
        "            dist.append(torch.abs(answer - guess).cpu().numpy())\n",
        "            try:\n",
        "                att.append(np.array(batch[\"attack\"]))\n",
        "            except:\n",
        "                att.append(np.zeros(batch_size))\n",
        "            \n",
        "    return (\n",
        "        np.concatenate(ts),\n",
        "        np.concatenate(dist),\n",
        "        np.concatenate(att),\n",
        "        np.concatenate(pred),\n",
        "        np.concatenate(actual)\n",
        "    )"
      ],
      "execution_count": 98,
      "outputs": []
    },
    {
      "cell_type": "markdown",
      "source": [
        "Inference 함수는 데이터를 순차적으로 보면서 모델이 예측한 값과 실제 값의 차를 구해서 기록함"
      ],
      "metadata": {
        "id": "2iNci0mVblkD"
      }
    },
    {
      "cell_type": "code",
      "metadata": {
        "id": "_qTJSK3S0j6f",
        "colab": {
          "base_uri": "https://localhost:8080/"
        },
        "outputId": "5c788011-821f-40bd-b3e4-aa065037a557"
      },
      "source": [
        "%%time\n",
        "MODEL.eval()\n",
        "CHECK_TS, CHECK_DIST, CHECK_ATT, PRED, ACTUAL = inference(HAI_DATASET_VALIDATION, MODEL, BATCH_SIZE)"
      ],
      "execution_count": 99,
      "outputs": [
        {
          "output_type": "stream",
          "name": "stdout",
          "text": [
            "CPU times: user 3.64 s, sys: 29 ms, total: 3.67 s\n",
            "Wall time: 3.65 s\n"
          ]
        }
      ]
    },
    {
      "cell_type": "code",
      "source": [
        "PRED\n",
        "df_PRED = pd.DataFrame(PRED)\n",
        "df_PRED.to_csv('PRED.csv', index=False)\n",
        "files.download('PRED.csv')"
      ],
      "metadata": {
        "id": "CEglwaiirMqW",
        "outputId": "47993401-bb90-4a8f-f1f7-2eee7649e920",
        "colab": {
          "base_uri": "https://localhost:8080/",
          "height": 17
        }
      },
      "execution_count": 108,
      "outputs": [
        {
          "output_type": "display_data",
          "data": {
            "text/plain": [
              "<IPython.core.display.Javascript object>"
            ],
            "application/javascript": [
              "\n",
              "    async function download(id, filename, size) {\n",
              "      if (!google.colab.kernel.accessAllowed) {\n",
              "        return;\n",
              "      }\n",
              "      const div = document.createElement('div');\n",
              "      const label = document.createElement('label');\n",
              "      label.textContent = `Downloading \"${filename}\": `;\n",
              "      div.appendChild(label);\n",
              "      const progress = document.createElement('progress');\n",
              "      progress.max = size;\n",
              "      div.appendChild(progress);\n",
              "      document.body.appendChild(div);\n",
              "\n",
              "      const buffers = [];\n",
              "      let downloaded = 0;\n",
              "\n",
              "      const channel = await google.colab.kernel.comms.open(id);\n",
              "      // Send a message to notify the kernel that we're ready.\n",
              "      channel.send({})\n",
              "\n",
              "      for await (const message of channel.messages) {\n",
              "        // Send a message to notify the kernel that we're ready.\n",
              "        channel.send({})\n",
              "        if (message.buffers) {\n",
              "          for (const buffer of message.buffers) {\n",
              "            buffers.push(buffer);\n",
              "            downloaded += buffer.byteLength;\n",
              "            progress.value = downloaded;\n",
              "          }\n",
              "        }\n",
              "      }\n",
              "      const blob = new Blob(buffers, {type: 'application/binary'});\n",
              "      const a = document.createElement('a');\n",
              "      a.href = window.URL.createObjectURL(blob);\n",
              "      a.download = filename;\n",
              "      div.appendChild(a);\n",
              "      a.click();\n",
              "      div.remove();\n",
              "    }\n",
              "  "
            ]
          },
          "metadata": {}
        },
        {
          "output_type": "display_data",
          "data": {
            "text/plain": [
              "<IPython.core.display.Javascript object>"
            ],
            "application/javascript": [
              "download(\"download_0972abbb-5111-4c38-9e34-0706e0192bcf\", \"PRED.csv\", 26984958)"
            ]
          },
          "metadata": {}
        }
      ]
    },
    {
      "cell_type": "code",
      "source": [
        "ACTUAL\n",
        "df_ACTUAL = pd.DataFrame(ACTUAL)\n",
        "df_ACTUAL.to_csv('ACTUAL.csv', index=False)\n",
        "files.download('ACTUAL.csv')"
      ],
      "metadata": {
        "id": "Lyq9dMR2rO4o",
        "outputId": "961b9b73-9b64-4927-ad9f-a58d12b8258f",
        "colab": {
          "base_uri": "https://localhost:8080/",
          "height": 17
        }
      },
      "execution_count": 109,
      "outputs": [
        {
          "output_type": "display_data",
          "data": {
            "text/plain": [
              "<IPython.core.display.Javascript object>"
            ],
            "application/javascript": [
              "\n",
              "    async function download(id, filename, size) {\n",
              "      if (!google.colab.kernel.accessAllowed) {\n",
              "        return;\n",
              "      }\n",
              "      const div = document.createElement('div');\n",
              "      const label = document.createElement('label');\n",
              "      label.textContent = `Downloading \"${filename}\": `;\n",
              "      div.appendChild(label);\n",
              "      const progress = document.createElement('progress');\n",
              "      progress.max = size;\n",
              "      div.appendChild(progress);\n",
              "      document.body.appendChild(div);\n",
              "\n",
              "      const buffers = [];\n",
              "      let downloaded = 0;\n",
              "\n",
              "      const channel = await google.colab.kernel.comms.open(id);\n",
              "      // Send a message to notify the kernel that we're ready.\n",
              "      channel.send({})\n",
              "\n",
              "      for await (const message of channel.messages) {\n",
              "        // Send a message to notify the kernel that we're ready.\n",
              "        channel.send({})\n",
              "        if (message.buffers) {\n",
              "          for (const buffer of message.buffers) {\n",
              "            buffers.push(buffer);\n",
              "            downloaded += buffer.byteLength;\n",
              "            progress.value = downloaded;\n",
              "          }\n",
              "        }\n",
              "      }\n",
              "      const blob = new Blob(buffers, {type: 'application/binary'});\n",
              "      const a = document.createElement('a');\n",
              "      a.href = window.URL.createObjectURL(blob);\n",
              "      a.download = filename;\n",
              "      div.appendChild(a);\n",
              "      a.click();\n",
              "      div.remove();\n",
              "    }\n",
              "  "
            ]
          },
          "metadata": {}
        },
        {
          "output_type": "display_data",
          "data": {
            "text/plain": [
              "<IPython.core.display.Javascript object>"
            ],
            "application/javascript": [
              "download(\"download_44d14735-1ef7-402b-9a51-7c550e3c6e0a\", \"ACTUAL.csv\", 25160839)"
            ]
          },
          "metadata": {}
        }
      ]
    },
    {
      "cell_type": "code",
      "source": [
        "CHECK_DIST\n",
        "df_CHECK_DIST = pd.DataFrame(CHECK_DIST)\n",
        "df_CHECK_DIST.to_csv('CHECK_DIST.csv', index=False)\n",
        "files.download('CHECK_DIST.csv')"
      ],
      "metadata": {
        "id": "NW06cT45swn5",
        "outputId": "9308e649-2e14-4299-d4fb-aae6ac8a4fa9",
        "colab": {
          "base_uri": "https://localhost:8080/",
          "height": 17
        }
      },
      "execution_count": 110,
      "outputs": [
        {
          "output_type": "display_data",
          "data": {
            "text/plain": [
              "<IPython.core.display.Javascript object>"
            ],
            "application/javascript": [
              "\n",
              "    async function download(id, filename, size) {\n",
              "      if (!google.colab.kernel.accessAllowed) {\n",
              "        return;\n",
              "      }\n",
              "      const div = document.createElement('div');\n",
              "      const label = document.createElement('label');\n",
              "      label.textContent = `Downloading \"${filename}\": `;\n",
              "      div.appendChild(label);\n",
              "      const progress = document.createElement('progress');\n",
              "      progress.max = size;\n",
              "      div.appendChild(progress);\n",
              "      document.body.appendChild(div);\n",
              "\n",
              "      const buffers = [];\n",
              "      let downloaded = 0;\n",
              "\n",
              "      const channel = await google.colab.kernel.comms.open(id);\n",
              "      // Send a message to notify the kernel that we're ready.\n",
              "      channel.send({})\n",
              "\n",
              "      for await (const message of channel.messages) {\n",
              "        // Send a message to notify the kernel that we're ready.\n",
              "        channel.send({})\n",
              "        if (message.buffers) {\n",
              "          for (const buffer of message.buffers) {\n",
              "            buffers.push(buffer);\n",
              "            downloaded += buffer.byteLength;\n",
              "            progress.value = downloaded;\n",
              "          }\n",
              "        }\n",
              "      }\n",
              "      const blob = new Blob(buffers, {type: 'application/binary'});\n",
              "      const a = document.createElement('a');\n",
              "      a.href = window.URL.createObjectURL(blob);\n",
              "      a.download = filename;\n",
              "      div.appendChild(a);\n",
              "      a.click();\n",
              "      div.remove();\n",
              "    }\n",
              "  "
            ]
          },
          "metadata": {}
        },
        {
          "output_type": "display_data",
          "data": {
            "text/plain": [
              "<IPython.core.display.Javascript object>"
            ],
            "application/javascript": [
              "download(\"download_1656c010-dcc2-46f0-b993-2c49df717b67\", \"CHECK_DIST.csv\", 30859598)"
            ]
          },
          "metadata": {}
        }
      ]
    },
    {
      "cell_type": "code",
      "source": [
        "CHECK_TS\n",
        "df_CHECK_TS = pd.DataFrame(CHECK_TS)\n",
        "df_CHECK_TS.to_csv('CHECK_TS.csv', index=False)\n",
        "files.download('CHECK_TS.csv')"
      ],
      "metadata": {
        "id": "iYLhwmHjtyK6",
        "outputId": "0ce390c1-3e93-4752-ecd6-2ebe1f46ac99",
        "colab": {
          "base_uri": "https://localhost:8080/",
          "height": 17
        }
      },
      "execution_count": 111,
      "outputs": [
        {
          "output_type": "display_data",
          "data": {
            "text/plain": [
              "<IPython.core.display.Javascript object>"
            ],
            "application/javascript": [
              "\n",
              "    async function download(id, filename, size) {\n",
              "      if (!google.colab.kernel.accessAllowed) {\n",
              "        return;\n",
              "      }\n",
              "      const div = document.createElement('div');\n",
              "      const label = document.createElement('label');\n",
              "      label.textContent = `Downloading \"${filename}\": `;\n",
              "      div.appendChild(label);\n",
              "      const progress = document.createElement('progress');\n",
              "      progress.max = size;\n",
              "      div.appendChild(progress);\n",
              "      document.body.appendChild(div);\n",
              "\n",
              "      const buffers = [];\n",
              "      let downloaded = 0;\n",
              "\n",
              "      const channel = await google.colab.kernel.comms.open(id);\n",
              "      // Send a message to notify the kernel that we're ready.\n",
              "      channel.send({})\n",
              "\n",
              "      for await (const message of channel.messages) {\n",
              "        // Send a message to notify the kernel that we're ready.\n",
              "        channel.send({})\n",
              "        if (message.buffers) {\n",
              "          for (const buffer of message.buffers) {\n",
              "            buffers.push(buffer);\n",
              "            downloaded += buffer.byteLength;\n",
              "            progress.value = downloaded;\n",
              "          }\n",
              "        }\n",
              "      }\n",
              "      const blob = new Blob(buffers, {type: 'application/binary'});\n",
              "      const a = document.createElement('a');\n",
              "      a.href = window.URL.createObjectURL(blob);\n",
              "      a.download = filename;\n",
              "      div.appendChild(a);\n",
              "      a.click();\n",
              "      div.remove();\n",
              "    }\n",
              "  "
            ]
          },
          "metadata": {}
        },
        {
          "output_type": "display_data",
          "data": {
            "text/plain": [
              "<IPython.core.display.Javascript object>"
            ],
            "application/javascript": [
              "download(\"download_3ab3731d-28d7-4265-9006-c2f94762a960\", \"CHECK_TS.csv\", 862242)"
            ]
          },
          "metadata": {}
        }
      ]
    },
    {
      "cell_type": "code",
      "source": [
        "CHECK_ATT\n",
        "df_CHECK_ATT = pd.DataFrame(CHECK_ATT)\n",
        "df_CHECK_ATT.to_csv('CHECK_ATT.csv', index=False)\n",
        "files.download('CHECK_ATT.csv')"
      ],
      "metadata": {
        "id": "qtH_jHTCuB__",
        "outputId": "b71d48b1-886a-4128-a3d8-4976e79d3842",
        "colab": {
          "base_uri": "https://localhost:8080/",
          "height": 17
        }
      },
      "execution_count": 112,
      "outputs": [
        {
          "output_type": "display_data",
          "data": {
            "text/plain": [
              "<IPython.core.display.Javascript object>"
            ],
            "application/javascript": [
              "\n",
              "    async function download(id, filename, size) {\n",
              "      if (!google.colab.kernel.accessAllowed) {\n",
              "        return;\n",
              "      }\n",
              "      const div = document.createElement('div');\n",
              "      const label = document.createElement('label');\n",
              "      label.textContent = `Downloading \"${filename}\": `;\n",
              "      div.appendChild(label);\n",
              "      const progress = document.createElement('progress');\n",
              "      progress.max = size;\n",
              "      div.appendChild(progress);\n",
              "      document.body.appendChild(div);\n",
              "\n",
              "      const buffers = [];\n",
              "      let downloaded = 0;\n",
              "\n",
              "      const channel = await google.colab.kernel.comms.open(id);\n",
              "      // Send a message to notify the kernel that we're ready.\n",
              "      channel.send({})\n",
              "\n",
              "      for await (const message of channel.messages) {\n",
              "        // Send a message to notify the kernel that we're ready.\n",
              "        channel.send({})\n",
              "        if (message.buffers) {\n",
              "          for (const buffer of message.buffers) {\n",
              "            buffers.push(buffer);\n",
              "            downloaded += buffer.byteLength;\n",
              "            progress.value = downloaded;\n",
              "          }\n",
              "        }\n",
              "      }\n",
              "      const blob = new Blob(buffers, {type: 'application/binary'});\n",
              "      const a = document.createElement('a');\n",
              "      a.href = window.URL.createObjectURL(blob);\n",
              "      a.download = filename;\n",
              "      div.appendChild(a);\n",
              "      a.click();\n",
              "      div.remove();\n",
              "    }\n",
              "  "
            ]
          },
          "metadata": {}
        },
        {
          "output_type": "display_data",
          "data": {
            "text/plain": [
              "<IPython.core.display.Javascript object>"
            ],
            "application/javascript": [
              "download(\"download_9551651d-c482-4356-927f-f9d21b51cb38\", \"CHECK_ATT.csv\", 172450)"
            ]
          },
          "metadata": {}
        }
      ]
    },
    {
      "cell_type": "code",
      "source": [
        "BATCH_SIZE"
      ],
      "metadata": {
        "id": "l8YJSrwee17Q",
        "outputId": "d7232ca7-e830-4b6a-d436-4dabccb885e0",
        "colab": {
          "base_uri": "https://localhost:8080/"
        }
      },
      "execution_count": 76,
      "outputs": [
        {
          "output_type": "execute_result",
          "data": {
            "text/plain": [
              "512"
            ]
          },
          "metadata": {},
          "execution_count": 76
        }
      ]
    },
    {
      "cell_type": "code",
      "source": [
        "MODEL"
      ],
      "metadata": {
        "id": "wAjFldr7eTRT",
        "outputId": "b3015f33-dd83-4c9b-a2f7-c2fe216603ea",
        "colab": {
          "base_uri": "https://localhost:8080/"
        }
      },
      "execution_count": 75,
      "outputs": [
        {
          "output_type": "execute_result",
          "data": {
            "text/plain": [
              "StackedGRU(\n",
              "  (rnn): GRU(58, 100, num_layers=4, bidirectional=True)\n",
              "  (fc): Linear(in_features=200, out_features=58, bias=True)\n",
              "  (lstm): LSTM(58, 100)\n",
              "  (Softmax): Softmax(dim=1)\n",
              ")"
            ]
          },
          "metadata": {},
          "execution_count": 75
        }
      ]
    },
    {
      "cell_type": "code",
      "metadata": {
        "id": "9AXSOUkU0j_N",
        "colab": {
          "base_uri": "https://localhost:8080/",
          "height": 284
        },
        "outputId": "d91ec884-34ab-452d-dda1-dff4028d7f64"
      },
      "source": [
        "ANOMALY_SCORE = np.mean(CHECK_DIST, axis=1)\n",
        "plt.plot(ANOMALY_SCORE)"
      ],
      "execution_count": 47,
      "outputs": [
        {
          "output_type": "execute_result",
          "data": {
            "text/plain": [
              "[<matplotlib.lines.Line2D at 0x7f596892c400>]"
            ]
          },
          "metadata": {},
          "execution_count": 47
        },
        {
          "output_type": "display_data",
          "data": {
            "text/plain": [
              "<Figure size 432x288 with 1 Axes>"
            ],
            "image/png": "[encoded data removed]"
          },
          "metadata": {
            "needs_background": "light"
          }
        }
      ]
    },
    {
      "cell_type": "code",
      "source": [
        "plt.plot(CHECK_ATT)"
      ],
      "metadata": {
        "colab": {
          "base_uri": "https://localhost:8080/",
          "height": 284
        },
        "id": "VdS_DjYvcv9u",
        "outputId": "f8121937-add7-4b81-dc07-00f15159283c"
      },
      "execution_count": 48,
      "outputs": [
        {
          "output_type": "execute_result",
          "data": {
            "text/plain": [
              "[<matplotlib.lines.Line2D at 0x7f5968735ca0>]"
            ]
          },
          "metadata": {},
          "execution_count": 48
        },
        {
          "output_type": "display_data",
          "data": {
            "text/plain": [
              "<Figure size 432x288 with 1 Axes>"
            ],
            "image/png": "[encoded data removed]"
          },
          "metadata": {
            "needs_background": "light"
          }
        }
      ]
    },
    {
      "cell_type": "code",
      "metadata": {
        "id": "jU3vnJN20kB5"
      },
      "source": [
        "def check_graph(xs, att, piece=2, THRESHOLD=None):\n",
        "    l = xs.shape[0]\n",
        "    chunk = l // piece\n",
        "    fig, axs = plt.subplots(piece, figsize=(20, 4 * piece))\n",
        "    for i in range(piece):\n",
        "        L = i * chunk\n",
        "        R = min(L + chunk, l)\n",
        "        xticks = range(L, R)\n",
        "        axs[i].plot(xticks, xs[L:R])\n",
        "        if len(xs[L:R]) > 0:\n",
        "            peak = max(xs[L:R])\n",
        "            axs[i].plot(xticks, att[L:R] * peak * 0.5)\n",
        "        if THRESHOLD!=None:\n",
        "            axs[i].axhline(y=THRESHOLD, color='r')\n",
        "        plt.legend(['Anomaly Score', 'Abnormal Actual', 'Threshold'])\n",
        "        plt.xlabel('time[sec]')\n",
        "    plt.show()"
      ],
      "execution_count": 49,
      "outputs": []
    },
    {
      "cell_type": "code",
      "metadata": {
        "id": "TEac0qdu0kDz",
        "colab": {
          "base_uri": "https://localhost:8080/",
          "height": 497
        },
        "outputId": "e4a205e1-130b-4906-f607-201690a781c2"
      },
      "source": [
        "THRESHOLD = 0.04\n",
        "check_graph(ANOMALY_SCORE, CHECK_ATT, piece=2, THRESHOLD=THRESHOLD)"
      ],
      "execution_count": 50,
      "outputs": [
        {
          "output_type": "display_data",
          "data": {
            "text/plain": [
              "<Figure size 1440x576 with 2 Axes>"
            ],
            "image/png": "[encoded data removed]"
          },
          "metadata": {
            "needs_background": "light"
          }
        }
      ]
    },
    {
      "cell_type": "markdown",
      "source": [
        "주황색 선은 Abnormal Operation 동작 부분을 나타내고, 파란색 선은 Anomaly Score (모델과 실제 데이터의 오차 크기)를 나타냅니다. Abnormal Operation 동작 부분에서 Anomaly Score (오차 크기) 가 큰 것으로 보이고 있습니다.\n",
        "임의이 Threshold(빨간색 선)가 넘어갈 경우 Abnormal Operation으로 간주하고 Abnormal은 1로 정상은 0으로 구분할 수 있습니다."
      ],
      "metadata": {
        "id": "5t7xtoIwgX_u"
      }
    },
    {
      "cell_type": "code",
      "metadata": {
        "id": "9jrBlQoV0kGD"
      },
      "source": [
        "def put_labels(distance, threshold):\n",
        "    xs = np.zeros_like(distance)\n",
        "    xs[distance > threshold] = 1\n",
        "    return xs"
      ],
      "execution_count": 51,
      "outputs": []
    },
    {
      "cell_type": "code",
      "source": [
        "plt.plot(ANOMALY_SCORE)"
      ],
      "metadata": {
        "colab": {
          "base_uri": "https://localhost:8080/",
          "height": 284
        },
        "id": "pLsQko5uhspV",
        "outputId": "bad00e7b-0558-4179-9d9f-f5ed17ea8c4c"
      },
      "execution_count": 52,
      "outputs": [
        {
          "output_type": "execute_result",
          "data": {
            "text/plain": [
              "[<matplotlib.lines.Line2D at 0x7f5968699640>]"
            ]
          },
          "metadata": {},
          "execution_count": 52
        },
        {
          "output_type": "display_data",
          "data": {
            "text/plain": [
              "<Figure size 432x288 with 1 Axes>"
            ],
            "image/png": "[encoded data removed]"
          },
          "metadata": {
            "needs_background": "light"
          }
        }
      ]
    },
    {
      "cell_type": "code",
      "source": [
        "THRESHOLD = 0.45"
      ],
      "metadata": {
        "id": "ABBPRxA5h6X9"
      },
      "execution_count": 53,
      "outputs": []
    },
    {
      "cell_type": "code",
      "metadata": {
        "id": "3owxdJ6P0kIU",
        "colab": {
          "base_uri": "https://localhost:8080/"
        },
        "outputId": "c0fe1697-921b-4c52-b727-2bce895585f0"
      },
      "source": [
        "LABELS = put_labels(ANOMALY_SCORE, THRESHOLD)\n",
        "LABELS, LABELS.shape"
      ],
      "execution_count": 54,
      "outputs": [
        {
          "output_type": "execute_result",
          "data": {
            "text/plain": [
              "(array([0., 0., 0., ..., 0., 0., 0.], dtype=float32), (43112,))"
            ]
          },
          "metadata": {},
          "execution_count": 54
        }
      ]
    },
    {
      "cell_type": "code",
      "metadata": {
        "id": "K5LJaAgv0kKY",
        "colab": {
          "base_uri": "https://localhost:8080/"
        },
        "outputId": "0bf6d6f0-58dd-4e6e-cf1a-83427dc63ce6"
      },
      "source": [
        "ATTACK_LABELS = put_labels(np.array(VALIDATION_DF_RAW[ATTACK_FIELD]), threshold = 0.05)\n",
        "ATTACK_LABELS, ATTACK_LABELS.shape"
      ],
      "execution_count": 55,
      "outputs": [
        {
          "output_type": "execute_result",
          "data": {
            "text/plain": [
              "(array([0, 0, 0, ..., 0, 0, 0]), (43201,))"
            ]
          },
          "metadata": {},
          "execution_count": 55
        }
      ]
    },
    {
      "cell_type": "code",
      "source": [
        "plt.plot(ATTACK_LABELS)"
      ],
      "metadata": {
        "colab": {
          "base_uri": "https://localhost:8080/",
          "height": 284
        },
        "id": "LAU0rf3tiLZB",
        "outputId": "065c807c-5070-407b-b4ed-8f9397909947"
      },
      "execution_count": 56,
      "outputs": [
        {
          "output_type": "execute_result",
          "data": {
            "text/plain": [
              "[<matplotlib.lines.Line2D at 0x7f59684a9670>]"
            ]
          },
          "metadata": {},
          "execution_count": 56
        },
        {
          "output_type": "display_data",
          "data": {
            "text/plain": [
              "<Figure size 432x288 with 1 Axes>"
            ],
            "image/png": "[encoded data removed]"
          },
          "metadata": {
            "needs_background": "light"
          }
        }
      ]
    },
    {
      "cell_type": "code",
      "metadata": {
        "id": "KGeQd1gH0uWl"
      },
      "source": [
        "def fill_blank(check_ts, labels, total_ts):\n",
        "    def ts_generator():\n",
        "        for t in total_ts:\n",
        "            yield dateutil.parser.parse(t)\n",
        "\n",
        "    def label_generator():\n",
        "        for t, label in zip(check_ts, labels):\n",
        "            yield dateutil.parser.parse(t), label\n",
        "\n",
        "    g_ts = ts_generator()\n",
        "    g_label = label_generator()\n",
        "    final_labels = []\n",
        "\n",
        "    try:\n",
        "        current = next(g_ts)\n",
        "        ts_label, label = next(g_label)\n",
        "        while True:\n",
        "            if current > ts_label:\n",
        "                ts_label, label = next(g_label)\n",
        "                continue\n",
        "            elif current < ts_label:\n",
        "                final_labels.append(0)\n",
        "                current = next(g_ts)\n",
        "                continue\n",
        "            final_labels.append(label)\n",
        "            current = next(g_ts)\n",
        "            ts_label, label = next(g_label)\n",
        "    except StopIteration:\n",
        "        return np.array(final_labels, dtype=np.int8)"
      ],
      "execution_count": 57,
      "outputs": []
    },
    {
      "cell_type": "code",
      "metadata": {
        "id": "cVzXFKAe0uY_",
        "colab": {
          "base_uri": "https://localhost:8080/"
        },
        "outputId": "57cf4058-3de3-4084-c389-d9d502957f0a"
      },
      "source": [
        "%%time\n",
        "FINAL_LABELS = fill_blank(CHECK_TS, LABELS, np.array(VALIDATION_DF_RAW[TIMESTAMP_FIELD]))\n",
        "FINAL_LABELS.shape"
      ],
      "execution_count": 58,
      "outputs": [
        {
          "output_type": "stream",
          "name": "stdout",
          "text": [
            "CPU times: user 5.17 s, sys: 25 ms, total: 5.19 s\n",
            "Wall time: 5.22 s\n"
          ]
        },
        {
          "output_type": "execute_result",
          "data": {
            "text/plain": [
              "(43201,)"
            ]
          },
          "metadata": {},
          "execution_count": 58
        }
      ]
    },
    {
      "cell_type": "code",
      "metadata": {
        "id": "dhjuxuSy0ubW",
        "colab": {
          "base_uri": "https://localhost:8080/"
        },
        "outputId": "46de4a5c-bf2e-4730-bbba-dd8ffdc2f5a9"
      },
      "source": [
        "ATTACK_LABELS.shape[0] == FINAL_LABELS.shape[0]"
      ],
      "execution_count": 59,
      "outputs": [
        {
          "output_type": "execute_result",
          "data": {
            "text/plain": [
              "True"
            ]
          },
          "metadata": {},
          "execution_count": 59
        }
      ]
    },
    {
      "cell_type": "code",
      "source": [
        "ATTACK_LABELS"
      ],
      "metadata": {
        "id": "XCEEjQZ7fDIG",
        "outputId": "0e99ba2b-c8d8-4dbd-aed0-9aa2847a9d76",
        "colab": {
          "base_uri": "https://localhost:8080/"
        }
      },
      "execution_count": 77,
      "outputs": [
        {
          "output_type": "execute_result",
          "data": {
            "text/plain": [
              "array([0, 0, 0, ..., 0, 0, 0])"
            ]
          },
          "metadata": {},
          "execution_count": 77
        }
      ]
    },
    {
      "cell_type": "code",
      "source": [
        "FINAL_LABELS"
      ],
      "metadata": {
        "id": "vunYt5vHfHT3",
        "outputId": "e00c125f-1730-4f53-f2cc-8d7dbeb28889",
        "colab": {
          "base_uri": "https://localhost:8080/"
        }
      },
      "execution_count": 78,
      "outputs": [
        {
          "output_type": "execute_result",
          "data": {
            "text/plain": [
              "array([0, 0, 0, ..., 0, 0, 0], dtype=int8)"
            ]
          },
          "metadata": {},
          "execution_count": 78
        }
      ]
    },
    {
      "cell_type": "code",
      "metadata": {
        "id": "XuepoM9P0ugJ",
        "colab": {
          "base_uri": "https://localhost:8080/"
        },
        "outputId": "77c4097c-0048-44be-bda7-4f5e0ef36c07"
      },
      "source": [
        "TaPR = etapr.evaluate(anomalies=ATTACK_LABELS, predictions=FINAL_LABELS)\n",
        "print(f\"F1: {TaPR['f1']:.3f} (TaP: {TaPR['TaP']:.3f}, TaR: {TaPR['TaR']:.3f})\")\n",
        "print(f\"# of detected anomalies: {len(TaPR['Detected_Anomalies'])}\")\n",
        "print(f\"Detected anomalies: {TaPR['Detected_Anomalies']}\")"
      ],
      "execution_count": 60,
      "outputs": [
        {
          "output_type": "stream",
          "name": "stdout",
          "text": [
            "F1: 0.000 (TaP: 0.000, TaR: 0.000)\n",
            "# of detected anomalies: 0\n",
            "Detected anomalies: []\n"
          ]
        }
      ]
    },
    {
      "cell_type": "code",
      "metadata": {
        "id": "g_esqCbA0uiV",
        "colab": {
          "base_uri": "https://localhost:8080/",
          "height": 815
        },
        "outputId": "2ff0465e-f8f2-4314-b0a2-fed406890e9b"
      },
      "source": [
        "TEST_DF_RAW = dataframe_from_csvs(TEST_DATASET)\n",
        "TEST_DF_RAW"
      ],
      "execution_count": 61,
      "outputs": [
        {
          "output_type": "execute_result",
          "data": {
            "text/plain": [
              "                      time        C01   C02  C03       C04     C05       C06  \\\n",
              "0      2020-07-09 15:00:00  384.30737  12.0   10  70.35980 -1.6171  -1.79901   \n",
              "1      2020-07-09 15:00:01  384.30737  12.0   10  70.35980 -1.7606  -1.79901   \n",
              "2      2020-07-09 15:00:02  384.20517  12.0   10  70.35980 -1.7606  -1.80664   \n",
              "3      2020-07-09 15:00:03  384.25626  12.0   10  70.35980 -1.7814  -1.79901   \n",
              "4      2020-07-09 15:00:04  384.20517  12.0   10  70.35980 -1.7370  -1.79901   \n",
              "...                    ...        ...   ...  ...       ...     ...       ...   \n",
              "92396  2020-07-31 12:29:56  420.08923  12.0   10  48.31848 -0.8706  97.19238   \n",
              "92397  2020-07-31 12:29:57  420.08923  12.0   10  48.31848 -0.7498  97.19238   \n",
              "92398  2020-07-31 12:29:58  420.24258  12.0   10  48.31848 -0.6076  97.19238   \n",
              "92399  2020-07-31 12:29:59  420.24258  12.0   10  48.31848 -0.4618  97.19238   \n",
              "92400  2020-07-31 12:30:00  420.29373  12.0   10  48.31848 -0.3661  97.20001   \n",
              "\n",
              "             C07       C08  C09  ...        C70    C71      C72       C73  \\\n",
              "0      774.20752  28.02385  136  ...  936.58447    0.0  1.35437  13.97231   \n",
              "1      772.58758  28.02730  136  ...  940.93317    0.0  1.35437  13.93358   \n",
              "2      772.58758  28.02730  136  ...  936.58447    0.0  1.35513  13.95248   \n",
              "3      777.48810  28.02905  136  ...  933.54034    0.0  1.35513  13.89971   \n",
              "4      778.42212  28.03169  136  ...  944.41223    0.0  1.35437  13.94603   \n",
              "...          ...       ...  ...  ...        ...    ...      ...       ...   \n",
              "92396  786.54382  28.03253  232  ...  824.82147  100.0  1.35666   9.62203   \n",
              "92397  784.07184  28.03598  224  ...  823.51697  100.0  1.35513   9.48747   \n",
              "92398  786.83881  28.02642  208  ...  824.82147  100.0  1.35666   9.57787   \n",
              "92399  786.66138  28.03341  200  ...  833.51904  100.0  1.35513   9.56291   \n",
              "92400  785.72290  28.03247  192  ...  827.43085  100.0  1.35590   9.53689   \n",
              "\n",
              "            C74       C75        C76        C77   C78     C79  \n",
              "0      35.22338  12.02545  293.51129  283.92651  32.0  6.5059  \n",
              "1      35.20813  12.02545  292.67938  283.36591  32.0  6.3079  \n",
              "2      35.20813  12.02545  291.90179  282.93189  32.0  6.3079  \n",
              "3      35.20813  12.02545  291.59430  282.06378  32.0  6.1203  \n",
              "4      35.20813  12.02545  289.87628  283.67334  32.0  5.9543  \n",
              "...         ...       ...        ...        ...   ...     ...  \n",
              "92396  36.47460  11.78894  357.27722  361.14728  32.0  6.2809  \n",
              "92397  36.47460  11.78894  357.29529  359.84521  32.0  6.3602  \n",
              "92398  36.48986  11.78894  357.27722  360.60474  32.0  6.3742  \n",
              "92399  36.48986  11.78894  357.80170  357.42188  32.0  6.2864  \n",
              "92400  36.47460  11.78894  357.07825  358.65161  32.0  6.0371  \n",
              "\n",
              "[358804 rows x 80 columns]"
            ],
            "text/html": [
              "\n",
              "  <div id=\"df-d203950f-71fe-4f4b-b7b8-80fc99f6ef48\">\n",
              "    <div class=\"colab-df-container\">\n",
              "      <div>\n",
              "<style scoped>\n",
              "    .dataframe tbody tr th:only-of-type {\n",
              "        vertical-align: middle;\n",
              "    }\n",
              "\n",
              "    .dataframe tbody tr th {\n",
              "        vertical-align: top;\n",
              "    }\n",
              "\n",
              "    .dataframe thead th {\n",
              "        text-align: right;\n",
              "    }\n",
              "</style>\n",
              "<table border=\"1\" class=\"dataframe\">\n",
              "  <thead>\n",
              "    <tr style=\"text-align: right;\">\n",
              "      <th></th>\n",
              "      <th>time</th>\n",
              "      <th>C01</th>\n",
              "      <th>C02</th>\n",
              "      <th>C03</th>\n",
              "      <th>C04</th>\n",
              "      <th>C05</th>\n",
              "      <th>C06</th>\n",
              "      <th>C07</th>\n",
              "      <th>C08</th>\n",
              "      <th>C09</th>\n",
              "      <th>...</th>\n",
              "      <th>C70</th>\n",
              "      <th>C71</th>\n",
              "      <th>C72</th>\n",
              "      <th>C73</th>\n",
              "      <th>C74</th>\n",
              "      <th>C75</th>\n",
              "      <th>C76</th>\n",
              "      <th>C77</th>\n",
              "      <th>C78</th>\n",
              "      <th>C79</th>\n",
              "    </tr>\n",
              "  </thead>\n",
              "  <tbody>\n",
              "    <tr>\n",
              "      <th>0</th>\n",
              "      <td>2020-07-09 15:00:00</td>\n",
              "      <td>384.30737</td>\n",
              "      <td>12.0</td>\n",
              "      <td>10</td>\n",
              "      <td>70.35980</td>\n",
              "      <td>-1.6171</td>\n",
              "      <td>-1.79901</td>\n",
              "      <td>774.20752</td>\n",
              "      <td>28.02385</td>\n",
              "      <td>136</td>\n",
              "      <td>...</td>\n",
              "      <td>936.58447</td>\n",
              "      <td>0.0</td>\n",
              "      <td>1.35437</td>\n",
              "      <td>13.97231</td>\n",
              "      <td>35.22338</td>\n",
              "      <td>12.02545</td>\n",
              "      <td>293.51129</td>\n",
              "      <td>283.92651</td>\n",
              "      <td>32.0</td>\n",
              "      <td>6.5059</td>\n",
              "    </tr>\n",
              "    <tr>\n",
              "      <th>1</th>\n",
              "      <td>2020-07-09 15:00:01</td>\n",
              "      <td>384.30737</td>\n",
              "      <td>12.0</td>\n",
              "      <td>10</td>\n",
              "      <td>70.35980</td>\n",
              "      <td>-1.7606</td>\n",
              "      <td>-1.79901</td>\n",
              "      <td>772.58758</td>\n",
              "      <td>28.02730</td>\n",
              "      <td>136</td>\n",
              "      <td>...</td>\n",
              "      <td>940.93317</td>\n",
              "      <td>0.0</td>\n",
              "      <td>1.35437</td>\n",
              "      <td>13.93358</td>\n",
              "      <td>35.20813</td>\n",
              "      <td>12.02545</td>\n",
              "      <td>292.67938</td>\n",
              "      <td>283.36591</td>\n",
              "      <td>32.0</td>\n",
              "      <td>6.3079</td>\n",
              "    </tr>\n",
              "    <tr>\n",
              "      <th>2</th>\n",
              "      <td>2020-07-09 15:00:02</td>\n",
              "      <td>384.20517</td>\n",
              "      <td>12.0</td>\n",
              "      <td>10</td>\n",
              "      <td>70.35980</td>\n",
              "      <td>-1.7606</td>\n",
              "      <td>-1.80664</td>\n",
              "      <td>772.58758</td>\n",
              "      <td>28.02730</td>\n",
              "      <td>136</td>\n",
              "      <td>...</td>\n",
              "      <td>936.58447</td>\n",
              "      <td>0.0</td>\n",
              "      <td>1.35513</td>\n",
              "      <td>13.95248</td>\n",
              "      <td>35.20813</td>\n",
              "      <td>12.02545</td>\n",
              "      <td>291.90179</td>\n",
              "      <td>282.93189</td>\n",
              "      <td>32.0</td>\n",
              "      <td>6.3079</td>\n",
              "    </tr>\n",
              "    <tr>\n",
              "      <th>3</th>\n",
              "      <td>2020-07-09 15:00:03</td>\n",
              "      <td>384.25626</td>\n",
              "      <td>12.0</td>\n",
              "      <td>10</td>\n",
              "      <td>70.35980</td>\n",
              "      <td>-1.7814</td>\n",
              "      <td>-1.79901</td>\n",
              "      <td>777.48810</td>\n",
              "      <td>28.02905</td>\n",
              "      <td>136</td>\n",
              "      <td>...</td>\n",
              "      <td>933.54034</td>\n",
              "      <td>0.0</td>\n",
              "      <td>1.35513</td>\n",
              "      <td>13.89971</td>\n",
              "      <td>35.20813</td>\n",
              "      <td>12.02545</td>\n",
              "      <td>291.59430</td>\n",
              "      <td>282.06378</td>\n",
              "      <td>32.0</td>\n",
              "      <td>6.1203</td>\n",
              "    </tr>\n",
              "    <tr>\n",
              "      <th>4</th>\n",
              "      <td>2020-07-09 15:00:04</td>\n",
              "      <td>384.20517</td>\n",
              "      <td>12.0</td>\n",
              "      <td>10</td>\n",
              "      <td>70.35980</td>\n",
              "      <td>-1.7370</td>\n",
              "      <td>-1.79901</td>\n",
              "      <td>778.42212</td>\n",
              "      <td>28.03169</td>\n",
              "      <td>136</td>\n",
              "      <td>...</td>\n",
              "      <td>944.41223</td>\n",
              "      <td>0.0</td>\n",
              "      <td>1.35437</td>\n",
              "      <td>13.94603</td>\n",
              "      <td>35.20813</td>\n",
              "      <td>12.02545</td>\n",
              "      <td>289.87628</td>\n",
              "      <td>283.67334</td>\n",
              "      <td>32.0</td>\n",
              "      <td>5.9543</td>\n",
              "    </tr>\n",
              "    <tr>\n",
              "      <th>...</th>\n",
              "      <td>...</td>\n",
              "      <td>...</td>\n",
              "      <td>...</td>\n",
              "      <td>...</td>\n",
              "      <td>...</td>\n",
              "      <td>...</td>\n",
              "      <td>...</td>\n",
              "      <td>...</td>\n",
              "      <td>...</td>\n",
              "      <td>...</td>\n",
              "      <td>...</td>\n",
              "      <td>...</td>\n",
              "      <td>...</td>\n",
              "      <td>...</td>\n",
              "      <td>...</td>\n",
              "      <td>...</td>\n",
              "      <td>...</td>\n",
              "      <td>...</td>\n",
              "      <td>...</td>\n",
              "      <td>...</td>\n",
              "      <td>...</td>\n",
              "    </tr>\n",
              "    <tr>\n",
              "      <th>92396</th>\n",
              "      <td>2020-07-31 12:29:56</td>\n",
              "      <td>420.08923</td>\n",
              "      <td>12.0</td>\n",
              "      <td>10</td>\n",
              "      <td>48.31848</td>\n",
              "      <td>-0.8706</td>\n",
              "      <td>97.19238</td>\n",
              "      <td>786.54382</td>\n",
              "      <td>28.03253</td>\n",
              "      <td>232</td>\n",
              "      <td>...</td>\n",
              "      <td>824.82147</td>\n",
              "      <td>100.0</td>\n",
              "      <td>1.35666</td>\n",
              "      <td>9.62203</td>\n",
              "      <td>36.47460</td>\n",
              "      <td>11.78894</td>\n",
              "      <td>357.27722</td>\n",
              "      <td>361.14728</td>\n",
              "      <td>32.0</td>\n",
              "      <td>6.2809</td>\n",
              "    </tr>\n",
              "    <tr>\n",
              "      <th>92397</th>\n",
              "      <td>2020-07-31 12:29:57</td>\n",
              "      <td>420.08923</td>\n",
              "      <td>12.0</td>\n",
              "      <td>10</td>\n",
              "      <td>48.31848</td>\n",
              "      <td>-0.7498</td>\n",
              "      <td>97.19238</td>\n",
              "      <td>784.07184</td>\n",
              "      <td>28.03598</td>\n",
              "      <td>224</td>\n",
              "      <td>...</td>\n",
              "      <td>823.51697</td>\n",
              "      <td>100.0</td>\n",
              "      <td>1.35513</td>\n",
              "      <td>9.48747</td>\n",
              "      <td>36.47460</td>\n",
              "      <td>11.78894</td>\n",
              "      <td>357.29529</td>\n",
              "      <td>359.84521</td>\n",
              "      <td>32.0</td>\n",
              "      <td>6.3602</td>\n",
              "    </tr>\n",
              "    <tr>\n",
              "      <th>92398</th>\n",
              "      <td>2020-07-31 12:29:58</td>\n",
              "      <td>420.24258</td>\n",
              "      <td>12.0</td>\n",
              "      <td>10</td>\n",
              "      <td>48.31848</td>\n",
              "      <td>-0.6076</td>\n",
              "      <td>97.19238</td>\n",
              "      <td>786.83881</td>\n",
              "      <td>28.02642</td>\n",
              "      <td>208</td>\n",
              "      <td>...</td>\n",
              "      <td>824.82147</td>\n",
              "      <td>100.0</td>\n",
              "      <td>1.35666</td>\n",
              "      <td>9.57787</td>\n",
              "      <td>36.48986</td>\n",
              "      <td>11.78894</td>\n",
              "      <td>357.27722</td>\n",
              "      <td>360.60474</td>\n",
              "      <td>32.0</td>\n",
              "      <td>6.3742</td>\n",
              "    </tr>\n",
              "    <tr>\n",
              "      <th>92399</th>\n",
              "      <td>2020-07-31 12:29:59</td>\n",
              "      <td>420.24258</td>\n",
              "      <td>12.0</td>\n",
              "      <td>10</td>\n",
              "      <td>48.31848</td>\n",
              "      <td>-0.4618</td>\n",
              "      <td>97.19238</td>\n",
              "      <td>786.66138</td>\n",
              "      <td>28.03341</td>\n",
              "      <td>200</td>\n",
              "      <td>...</td>\n",
              "      <td>833.51904</td>\n",
              "      <td>100.0</td>\n",
              "      <td>1.35513</td>\n",
              "      <td>9.56291</td>\n",
              "      <td>36.48986</td>\n",
              "      <td>11.78894</td>\n",
              "      <td>357.80170</td>\n",
              "      <td>357.42188</td>\n",
              "      <td>32.0</td>\n",
              "      <td>6.2864</td>\n",
              "    </tr>\n",
              "    <tr>\n",
              "      <th>92400</th>\n",
              "      <td>2020-07-31 12:30:00</td>\n",
              "      <td>420.29373</td>\n",
              "      <td>12.0</td>\n",
              "      <td>10</td>\n",
              "      <td>48.31848</td>\n",
              "      <td>-0.3661</td>\n",
              "      <td>97.20001</td>\n",
              "      <td>785.72290</td>\n",
              "      <td>28.03247</td>\n",
              "      <td>192</td>\n",
              "      <td>...</td>\n",
              "      <td>827.43085</td>\n",
              "      <td>100.0</td>\n",
              "      <td>1.35590</td>\n",
              "      <td>9.53689</td>\n",
              "      <td>36.47460</td>\n",
              "      <td>11.78894</td>\n",
              "      <td>357.07825</td>\n",
              "      <td>358.65161</td>\n",
              "      <td>32.0</td>\n",
              "      <td>6.0371</td>\n",
              "    </tr>\n",
              "  </tbody>\n",
              "</table>\n",
              "<p>358804 rows × 80 columns</p>\n",
              "</div>\n",
              "      <button class=\"colab-df-convert\" onclick=\"convertToInteractive('df-d203950f-71fe-4f4b-b7b8-80fc99f6ef48')\"\n",
              "              title=\"Convert this dataframe to an interactive table.\"\n",
              "              style=\"display:none;\">\n",
              "        \n",
              "  <svg xmlns=\"http://www.w3.org/2000/svg\" height=\"24px\"viewBox=\"0 0 24 24\"\n",
              "       width=\"24px\">\n",
              "    <path d=\"M0 0h24v24H0V0z\" fill=\"none\"/>\n",
              "    <path d=\"M18.56 5.44l.94 2.06.94-2.06 2.06-.94-2.06-.94-.94-2.06-.94 2.06-2.06.94zm-11 1L8.5 8.5l.94-2.06 2.06-.94-2.06-.94L8.5 2.5l-.94 2.06-2.06.94zm10 10l.94 2.06.94-2.06 2.06-.94-2.06-.94-.94-2.06-.94 2.06-2.06.94z\"/><path d=\"M17.41 7.96l-1.37-1.37c-.4-.4-.92-.59-1.43-.59-.52 0-1.04.2-1.43.59L10.3 9.45l-7.72 7.72c-.78.78-.78 2.05 0 2.83L4 21.41c.39.39.9.59 1.41.59.51 0 1.02-.2 1.41-.59l7.78-7.78 2.81-2.81c.8-.78.8-2.07 0-2.86zM5.41 20L4 18.59l7.72-7.72 1.47 1.35L5.41 20z\"/>\n",
              "  </svg>\n",
              "      </button>\n",
              "      \n",
              "  <style>\n",
              "    .colab-df-container {\n",
              "      display:flex;\n",
              "      flex-wrap:wrap;\n",
              "      gap: 12px;\n",
              "    }\n",
              "\n",
              "    .colab-df-convert {\n",
              "      background-color: #E8F0FE;\n",
              "      border: none;\n",
              "      border-radius: 50%;\n",
              "      cursor: pointer;\n",
              "      display: none;\n",
              "      fill: #1967D2;\n",
              "      height: 32px;\n",
              "      padding: 0 0 0 0;\n",
              "      width: 32px;\n",
              "    }\n",
              "\n",
              "    .colab-df-convert:hover {\n",
              "      background-color: #E2EBFA;\n",
              "      box-shadow: 0px 1px 2px rgba(60, 64, 67, 0.3), 0px 1px 3px 1px rgba(60, 64, 67, 0.15);\n",
              "      fill: #174EA6;\n",
              "    }\n",
              "\n",
              "    [theme=dark] .colab-df-convert {\n",
              "      background-color: #3B4455;\n",
              "      fill: #D2E3FC;\n",
              "    }\n",
              "\n",
              "    [theme=dark] .colab-df-convert:hover {\n",
              "      background-color: #434B5C;\n",
              "      box-shadow: 0px 1px 3px 1px rgba(0, 0, 0, 0.15);\n",
              "      filter: drop-shadow(0px 1px 2px rgba(0, 0, 0, 0.3));\n",
              "      fill: #FFFFFF;\n",
              "    }\n",
              "  </style>\n",
              "\n",
              "      <script>\n",
              "        const buttonEl =\n",
              "          document.querySelector('#df-d203950f-71fe-4f4b-b7b8-80fc99f6ef48 button.colab-df-convert');\n",
              "        buttonEl.style.display =\n",
              "          google.colab.kernel.accessAllowed ? 'block' : 'none';\n",
              "\n",
              "        async function convertToInteractive(key) {\n",
              "          const element = document.querySelector('#df-d203950f-71fe-4f4b-b7b8-80fc99f6ef48');\n",
              "          const dataTable =\n",
              "            await google.colab.kernel.invokeFunction('convertToInteractive',\n",
              "                                                     [key], {});\n",
              "          if (!dataTable) return;\n",
              "\n",
              "          const docLinkHtml = 'Like what you see? Visit the ' +\n",
              "            '<a target=\"_blank\" href=https://colab.research.google.com/notebooks/data_table.ipynb>data table notebook</a>'\n",
              "            + ' to learn more about interactive tables.';\n",
              "          element.innerHTML = '';\n",
              "          dataTable['output_type'] = 'display_data';\n",
              "          await google.colab.output.renderOutput(dataTable, element);\n",
              "          const docLink = document.createElement('div');\n",
              "          docLink.innerHTML = docLinkHtml;\n",
              "          element.appendChild(docLink);\n",
              "        }\n",
              "      </script>\n",
              "    </div>\n",
              "  </div>\n",
              "  "
            ]
          },
          "metadata": {},
          "execution_count": 61
        }
      ]
    },
    {
      "cell_type": "code",
      "metadata": {
        "id": "T50LCvbJ0ukh",
        "colab": {
          "base_uri": "https://localhost:8080/",
          "height": 488
        },
        "outputId": "58b89526-7c95-45d1-f2ff-5fd53f9eacea"
      },
      "source": [
        "TEST_DF = normalize(TEST_DF_RAW[VALID_COLUMNS_IN_TRAIN_DATASET]).ewm(alpha=0.9).mean()\n",
        "TEST_DF"
      ],
      "execution_count": 62,
      "outputs": [
        {
          "output_type": "execute_result",
          "data": {
            "text/plain": [
              "            C01       C04       C05       C06       C07       C08       C09  \\\n",
              "0      0.273715  0.828325  0.225882  0.000999  0.318761  0.333825  0.010417   \n",
              "1      0.273715  0.828325  0.171634  0.000999  0.300187  0.426398  0.010417   \n",
              "2      0.272825  0.828325  0.166747  0.000930  0.298514  0.434738  0.010417   \n",
              "3      0.273182  0.828325  0.158478  0.000992  0.353980  0.482056  0.010417   \n",
              "4      0.272773  0.828325  0.174269  0.000998  0.370123  0.556914  0.010417   \n",
              "...         ...       ...       ...       ...       ...       ...       ...   \n",
              "92396  0.619520  0.073426  0.532147  0.998079  0.476720  0.581066  0.017489   \n",
              "92397  0.619561  0.073426  0.581096  0.998079  0.446527  0.680775  0.016853   \n",
              "92398  0.620899  0.073426  0.639210  0.998079  0.474916  0.436791  0.015748   \n",
              "92399  0.621033  0.073426  0.699587  0.998079  0.475741  0.598077  0.015116   \n",
              "92400  0.621491  0.073426  0.741441  0.998148  0.465171  0.589235  0.014532   \n",
              "\n",
              "            C10       C11       C12  ...       C70  C71       C72       C73  \\\n",
              "0      0.139867  0.487693  0.198263  ...  0.677723  0.0  0.317842  0.452044   \n",
              "1      0.137445  0.492115  0.195142  ...  0.680584  0.0  0.317842  0.450701   \n",
              "2      0.137227  0.508991  0.192253  ...  0.678007  0.0  0.318290  0.451229   \n",
              "3      0.190063  0.510049  0.193118  ...  0.675769  0.0  0.318335  0.449470   \n",
              "4      0.266280  0.507615  0.189690  ...  0.682626  0.0  0.317891  0.450884   \n",
              "...         ...       ...       ...  ...       ...  ...       ...       ...   \n",
              "92396  0.358745  0.489188  0.745671  ...  0.596406  1.0  0.319337  0.285888   \n",
              "92397  0.386044  0.490382  0.748083  ...  0.595956  1.0  0.318439  0.281450   \n",
              "92398  0.453718  0.489188  0.748445  ...  0.596761  1.0  0.319252  0.284110   \n",
              "92399  0.563381  0.517612  0.747269  ...  0.602505  1.0  0.318431  0.283862   \n",
              "92400  0.705708  0.518528  0.742668  ...  0.599115  1.0  0.318803  0.282944   \n",
              "\n",
              "            C74       C75       C76       C77      C78       C79  \n",
              "0      0.236483  0.944440  0.225971  0.200389  0.26162  0.714722  \n",
              "1      0.230344  0.944440  0.223121  0.198499  0.26162  0.650106  \n",
              "2      0.229791  0.944440  0.220223  0.196880  0.26162  0.644285  \n",
              "3      0.229736  0.944440  0.218893  0.193823  0.26162  0.583093  \n",
              "4      0.229731  0.944440  0.212932  0.198888  0.26162  0.523348  \n",
              "...         ...       ...       ...       ...      ...       ...  \n",
              "92396  0.790598  0.083339  0.466152  0.485809  0.26162  0.622130  \n",
              "92397  0.790543  0.083339  0.466370  0.482229  0.26162  0.658390  \n",
              "92398  0.796619  0.083339  0.466330  0.484406  0.26162  0.666539  \n",
              "92399  0.797227  0.083339  0.468106  0.474004  0.26162  0.638988  \n",
              "92400  0.791206  0.083339  0.465829  0.477066  0.26162  0.555689  \n",
              "\n",
              "[358804 rows x 58 columns]"
            ],
            "text/html": [
              "\n",
              "  <div id=\"df-e2508806-efd3-4217-8bf3-49d8b1c97fbc\">\n",
              "    <div class=\"colab-df-container\">\n",
              "      <div>\n",
              "<style scoped>\n",
              "    .dataframe tbody tr th:only-of-type {\n",
              "        vertical-align: middle;\n",
              "    }\n",
              "\n",
              "    .dataframe tbody tr th {\n",
              "        vertical-align: top;\n",
              "    }\n",
              "\n",
              "    .dataframe thead th {\n",
              "        text-align: right;\n",
              "    }\n",
              "</style>\n",
              "<table border=\"1\" class=\"dataframe\">\n",
              "  <thead>\n",
              "    <tr style=\"text-align: right;\">\n",
              "      <th></th>\n",
              "      <th>C01</th>\n",
              "      <th>C04</th>\n",
              "      <th>C05</th>\n",
              "      <th>C06</th>\n",
              "      <th>C07</th>\n",
              "      <th>C08</th>\n",
              "      <th>C09</th>\n",
              "      <th>C10</th>\n",
              "      <th>C11</th>\n",
              "      <th>C12</th>\n",
              "      <th>...</th>\n",
              "      <th>C70</th>\n",
              "      <th>C71</th>\n",
              "      <th>C72</th>\n",
              "      <th>C73</th>\n",
              "      <th>C74</th>\n",
              "      <th>C75</th>\n",
              "      <th>C76</th>\n",
              "      <th>C77</th>\n",
              "      <th>C78</th>\n",
              "      <th>C79</th>\n",
              "    </tr>\n",
              "  </thead>\n",
              "  <tbody>\n",
              "    <tr>\n",
              "      <th>0</th>\n",
              "      <td>0.273715</td>\n",
              "      <td>0.828325</td>\n",
              "      <td>0.225882</td>\n",
              "      <td>0.000999</td>\n",
              "      <td>0.318761</td>\n",
              "      <td>0.333825</td>\n",
              "      <td>0.010417</td>\n",
              "      <td>0.139867</td>\n",
              "      <td>0.487693</td>\n",
              "      <td>0.198263</td>\n",
              "      <td>...</td>\n",
              "      <td>0.677723</td>\n",
              "      <td>0.0</td>\n",
              "      <td>0.317842</td>\n",
              "      <td>0.452044</td>\n",
              "      <td>0.236483</td>\n",
              "      <td>0.944440</td>\n",
              "      <td>0.225971</td>\n",
              "      <td>0.200389</td>\n",
              "      <td>0.26162</td>\n",
              "      <td>0.714722</td>\n",
              "    </tr>\n",
              "    <tr>\n",
              "      <th>1</th>\n",
              "      <td>0.273715</td>\n",
              "      <td>0.828325</td>\n",
              "      <td>0.171634</td>\n",
              "      <td>0.000999</td>\n",
              "      <td>0.300187</td>\n",
              "      <td>0.426398</td>\n",
              "      <td>0.010417</td>\n",
              "      <td>0.137445</td>\n",
              "      <td>0.492115</td>\n",
              "      <td>0.195142</td>\n",
              "      <td>...</td>\n",
              "      <td>0.680584</td>\n",
              "      <td>0.0</td>\n",
              "      <td>0.317842</td>\n",
              "      <td>0.450701</td>\n",
              "      <td>0.230344</td>\n",
              "      <td>0.944440</td>\n",
              "      <td>0.223121</td>\n",
              "      <td>0.198499</td>\n",
              "      <td>0.26162</td>\n",
              "      <td>0.650106</td>\n",
              "    </tr>\n",
              "    <tr>\n",
              "      <th>2</th>\n",
              "      <td>0.272825</td>\n",
              "      <td>0.828325</td>\n",
              "      <td>0.166747</td>\n",
              "      <td>0.000930</td>\n",
              "      <td>0.298514</td>\n",
              "      <td>0.434738</td>\n",
              "      <td>0.010417</td>\n",
              "      <td>0.137227</td>\n",
              "      <td>0.508991</td>\n",
              "      <td>0.192253</td>\n",
              "      <td>...</td>\n",
              "      <td>0.678007</td>\n",
              "      <td>0.0</td>\n",
              "      <td>0.318290</td>\n",
              "      <td>0.451229</td>\n",
              "      <td>0.229791</td>\n",
              "      <td>0.944440</td>\n",
              "      <td>0.220223</td>\n",
              "      <td>0.196880</td>\n",
              "      <td>0.26162</td>\n",
              "      <td>0.644285</td>\n",
              "    </tr>\n",
              "    <tr>\n",
              "      <th>3</th>\n",
              "      <td>0.273182</td>\n",
              "      <td>0.828325</td>\n",
              "      <td>0.158478</td>\n",
              "      <td>0.000992</td>\n",
              "      <td>0.353980</td>\n",
              "      <td>0.482056</td>\n",
              "      <td>0.010417</td>\n",
              "      <td>0.190063</td>\n",
              "      <td>0.510049</td>\n",
              "      <td>0.193118</td>\n",
              "      <td>...</td>\n",
              "      <td>0.675769</td>\n",
              "      <td>0.0</td>\n",
              "      <td>0.318335</td>\n",
              "      <td>0.449470</td>\n",
              "      <td>0.229736</td>\n",
              "      <td>0.944440</td>\n",
              "      <td>0.218893</td>\n",
              "      <td>0.193823</td>\n",
              "      <td>0.26162</td>\n",
              "      <td>0.583093</td>\n",
              "    </tr>\n",
              "    <tr>\n",
              "      <th>4</th>\n",
              "      <td>0.272773</td>\n",
              "      <td>0.828325</td>\n",
              "      <td>0.174269</td>\n",
              "      <td>0.000998</td>\n",
              "      <td>0.370123</td>\n",
              "      <td>0.556914</td>\n",
              "      <td>0.010417</td>\n",
              "      <td>0.266280</td>\n",
              "      <td>0.507615</td>\n",
              "      <td>0.189690</td>\n",
              "      <td>...</td>\n",
              "      <td>0.682626</td>\n",
              "      <td>0.0</td>\n",
              "      <td>0.317891</td>\n",
              "      <td>0.450884</td>\n",
              "      <td>0.229731</td>\n",
              "      <td>0.944440</td>\n",
              "      <td>0.212932</td>\n",
              "      <td>0.198888</td>\n",
              "      <td>0.26162</td>\n",
              "      <td>0.523348</td>\n",
              "    </tr>\n",
              "    <tr>\n",
              "      <th>...</th>\n",
              "      <td>...</td>\n",
              "      <td>...</td>\n",
              "      <td>...</td>\n",
              "      <td>...</td>\n",
              "      <td>...</td>\n",
              "      <td>...</td>\n",
              "      <td>...</td>\n",
              "      <td>...</td>\n",
              "      <td>...</td>\n",
              "      <td>...</td>\n",
              "      <td>...</td>\n",
              "      <td>...</td>\n",
              "      <td>...</td>\n",
              "      <td>...</td>\n",
              "      <td>...</td>\n",
              "      <td>...</td>\n",
              "      <td>...</td>\n",
              "      <td>...</td>\n",
              "      <td>...</td>\n",
              "      <td>...</td>\n",
              "      <td>...</td>\n",
              "    </tr>\n",
              "    <tr>\n",
              "      <th>92396</th>\n",
              "      <td>0.619520</td>\n",
              "      <td>0.073426</td>\n",
              "      <td>0.532147</td>\n",
              "      <td>0.998079</td>\n",
              "      <td>0.476720</td>\n",
              "      <td>0.581066</td>\n",
              "      <td>0.017489</td>\n",
              "      <td>0.358745</td>\n",
              "      <td>0.489188</td>\n",
              "      <td>0.745671</td>\n",
              "      <td>...</td>\n",
              "      <td>0.596406</td>\n",
              "      <td>1.0</td>\n",
              "      <td>0.319337</td>\n",
              "      <td>0.285888</td>\n",
              "      <td>0.790598</td>\n",
              "      <td>0.083339</td>\n",
              "      <td>0.466152</td>\n",
              "      <td>0.485809</td>\n",
              "      <td>0.26162</td>\n",
              "      <td>0.622130</td>\n",
              "    </tr>\n",
              "    <tr>\n",
              "      <th>92397</th>\n",
              "      <td>0.619561</td>\n",
              "      <td>0.073426</td>\n",
              "      <td>0.581096</td>\n",
              "      <td>0.998079</td>\n",
              "      <td>0.446527</td>\n",
              "      <td>0.680775</td>\n",
              "      <td>0.016853</td>\n",
              "      <td>0.386044</td>\n",
              "      <td>0.490382</td>\n",
              "      <td>0.748083</td>\n",
              "      <td>...</td>\n",
              "      <td>0.595956</td>\n",
              "      <td>1.0</td>\n",
              "      <td>0.318439</td>\n",
              "      <td>0.281450</td>\n",
              "      <td>0.790543</td>\n",
              "      <td>0.083339</td>\n",
              "      <td>0.466370</td>\n",
              "      <td>0.482229</td>\n",
              "      <td>0.26162</td>\n",
              "      <td>0.658390</td>\n",
              "    </tr>\n",
              "    <tr>\n",
              "      <th>92398</th>\n",
              "      <td>0.620899</td>\n",
              "      <td>0.073426</td>\n",
              "      <td>0.639210</td>\n",
              "      <td>0.998079</td>\n",
              "      <td>0.474916</td>\n",
              "      <td>0.436791</td>\n",
              "      <td>0.015748</td>\n",
              "      <td>0.453718</td>\n",
              "      <td>0.489188</td>\n",
              "      <td>0.748445</td>\n",
              "      <td>...</td>\n",
              "      <td>0.596761</td>\n",
              "      <td>1.0</td>\n",
              "      <td>0.319252</td>\n",
              "      <td>0.284110</td>\n",
              "      <td>0.796619</td>\n",
              "      <td>0.083339</td>\n",
              "      <td>0.466330</td>\n",
              "      <td>0.484406</td>\n",
              "      <td>0.26162</td>\n",
              "      <td>0.666539</td>\n",
              "    </tr>\n",
              "    <tr>\n",
              "      <th>92399</th>\n",
              "      <td>0.621033</td>\n",
              "      <td>0.073426</td>\n",
              "      <td>0.699587</td>\n",
              "      <td>0.998079</td>\n",
              "      <td>0.475741</td>\n",
              "      <td>0.598077</td>\n",
              "      <td>0.015116</td>\n",
              "      <td>0.563381</td>\n",
              "      <td>0.517612</td>\n",
              "      <td>0.747269</td>\n",
              "      <td>...</td>\n",
              "      <td>0.602505</td>\n",
              "      <td>1.0</td>\n",
              "      <td>0.318431</td>\n",
              "      <td>0.283862</td>\n",
              "      <td>0.797227</td>\n",
              "      <td>0.083339</td>\n",
              "      <td>0.468106</td>\n",
              "      <td>0.474004</td>\n",
              "      <td>0.26162</td>\n",
              "      <td>0.638988</td>\n",
              "    </tr>\n",
              "    <tr>\n",
              "      <th>92400</th>\n",
              "      <td>0.621491</td>\n",
              "      <td>0.073426</td>\n",
              "      <td>0.741441</td>\n",
              "      <td>0.998148</td>\n",
              "      <td>0.465171</td>\n",
              "      <td>0.589235</td>\n",
              "      <td>0.014532</td>\n",
              "      <td>0.705708</td>\n",
              "      <td>0.518528</td>\n",
              "      <td>0.742668</td>\n",
              "      <td>...</td>\n",
              "      <td>0.599115</td>\n",
              "      <td>1.0</td>\n",
              "      <td>0.318803</td>\n",
              "      <td>0.282944</td>\n",
              "      <td>0.791206</td>\n",
              "      <td>0.083339</td>\n",
              "      <td>0.465829</td>\n",
              "      <td>0.477066</td>\n",
              "      <td>0.26162</td>\n",
              "      <td>0.555689</td>\n",
              "    </tr>\n",
              "  </tbody>\n",
              "</table>\n",
              "<p>358804 rows × 58 columns</p>\n",
              "</div>\n",
              "      <button class=\"colab-df-convert\" onclick=\"convertToInteractive('df-e2508806-efd3-4217-8bf3-49d8b1c97fbc')\"\n",
              "              title=\"Convert this dataframe to an interactive table.\"\n",
              "              style=\"display:none;\">\n",
              "        \n",
              "  <svg xmlns=\"http://www.w3.org/2000/svg\" height=\"24px\"viewBox=\"0 0 24 24\"\n",
              "       width=\"24px\">\n",
              "    <path d=\"M0 0h24v24H0V0z\" fill=\"none\"/>\n",
              "    <path d=\"M18.56 5.44l.94 2.06.94-2.06 2.06-.94-2.06-.94-.94-2.06-.94 2.06-2.06.94zm-11 1L8.5 8.5l.94-2.06 2.06-.94-2.06-.94L8.5 2.5l-.94 2.06-2.06.94zm10 10l.94 2.06.94-2.06 2.06-.94-2.06-.94-.94-2.06-.94 2.06-2.06.94z\"/><path d=\"M17.41 7.96l-1.37-1.37c-.4-.4-.92-.59-1.43-.59-.52 0-1.04.2-1.43.59L10.3 9.45l-7.72 7.72c-.78.78-.78 2.05 0 2.83L4 21.41c.39.39.9.59 1.41.59.51 0 1.02-.2 1.41-.59l7.78-7.78 2.81-2.81c.8-.78.8-2.07 0-2.86zM5.41 20L4 18.59l7.72-7.72 1.47 1.35L5.41 20z\"/>\n",
              "  </svg>\n",
              "      </button>\n",
              "      \n",
              "  <style>\n",
              "    .colab-df-container {\n",
              "      display:flex;\n",
              "      flex-wrap:wrap;\n",
              "      gap: 12px;\n",
              "    }\n",
              "\n",
              "    .colab-df-convert {\n",
              "      background-color: #E8F0FE;\n",
              "      border: none;\n",
              "      border-radius: 50%;\n",
              "      cursor: pointer;\n",
              "      display: none;\n",
              "      fill: #1967D2;\n",
              "      height: 32px;\n",
              "      padding: 0 0 0 0;\n",
              "      width: 32px;\n",
              "    }\n",
              "\n",
              "    .colab-df-convert:hover {\n",
              "      background-color: #E2EBFA;\n",
              "      box-shadow: 0px 1px 2px rgba(60, 64, 67, 0.3), 0px 1px 3px 1px rgba(60, 64, 67, 0.15);\n",
              "      fill: #174EA6;\n",
              "    }\n",
              "\n",
              "    [theme=dark] .colab-df-convert {\n",
              "      background-color: #3B4455;\n",
              "      fill: #D2E3FC;\n",
              "    }\n",
              "\n",
              "    [theme=dark] .colab-df-convert:hover {\n",
              "      background-color: #434B5C;\n",
              "      box-shadow: 0px 1px 3px 1px rgba(0, 0, 0, 0.15);\n",
              "      filter: drop-shadow(0px 1px 2px rgba(0, 0, 0, 0.3));\n",
              "      fill: #FFFFFF;\n",
              "    }\n",
              "  </style>\n",
              "\n",
              "      <script>\n",
              "        const buttonEl =\n",
              "          document.querySelector('#df-e2508806-efd3-4217-8bf3-49d8b1c97fbc button.colab-df-convert');\n",
              "        buttonEl.style.display =\n",
              "          google.colab.kernel.accessAllowed ? 'block' : 'none';\n",
              "\n",
              "        async function convertToInteractive(key) {\n",
              "          const element = document.querySelector('#df-e2508806-efd3-4217-8bf3-49d8b1c97fbc');\n",
              "          const dataTable =\n",
              "            await google.colab.kernel.invokeFunction('convertToInteractive',\n",
              "                                                     [key], {});\n",
              "          if (!dataTable) return;\n",
              "\n",
              "          const docLinkHtml = 'Like what you see? Visit the ' +\n",
              "            '<a target=\"_blank\" href=https://colab.research.google.com/notebooks/data_table.ipynb>data table notebook</a>'\n",
              "            + ' to learn more about interactive tables.';\n",
              "          element.innerHTML = '';\n",
              "          dataTable['output_type'] = 'display_data';\n",
              "          await google.colab.output.renderOutput(dataTable, element);\n",
              "          const docLink = document.createElement('div');\n",
              "          docLink.innerHTML = docLinkHtml;\n",
              "          element.appendChild(docLink);\n",
              "        }\n",
              "      </script>\n",
              "    </div>\n",
              "  </div>\n",
              "  "
            ]
          },
          "metadata": {},
          "execution_count": 62
        }
      ]
    },
    {
      "cell_type": "code",
      "metadata": {
        "id": "s6DpuBRq0unQ",
        "colab": {
          "base_uri": "https://localhost:8080/"
        },
        "outputId": "d63a97ee-69e2-41d4-f88d-59c94953d681"
      },
      "source": [
        "boundary_check(TEST_DF)"
      ],
      "execution_count": 63,
      "outputs": [
        {
          "output_type": "execute_result",
          "data": {
            "text/plain": [
              "(True, True, False)"
            ]
          },
          "metadata": {},
          "execution_count": 63
        }
      ]
    },
    {
      "cell_type": "code",
      "metadata": {
        "id": "c92xpWyU0upk",
        "colab": {
          "base_uri": "https://localhost:8080/",
          "height": 428,
          "referenced_widgets": [
            "dd2e7aed560f4cf1b69e77550ca6e349",
            "1eed07d86d004472a702221603a7a064",
            "75f60f93750d4e4698d827e911f06468",
            "a16241a0225d4fc5bd6877f89bc646bd",
            "275ac8546d474df985c6724bcca00d97",
            "7a28f95597c5431f9dfa18eb20af1ca8",
            "0da7b4623b784714bb9a616bce36d933",
            "132f1904472d4eaabb255d74c7de9bca",
            "1a20453643f64b8f912fdc4021a03215",
            "a4aa63e96f5f41a58c93bddf6690306b",
            "cb0f1822f93146f79377da444c36c202"
          ]
        },
        "outputId": "93194641-7438-49ef-b21f-f0f10ae8687f"
      },
      "source": [
        "HAI_DATASET_TEST = HaiDataset(\n",
        "    TEST_DF_RAW[TIMESTAMP_FIELD], TEST_DF, attacks=None\n",
        ")\n",
        "HAI_DATASET_VALIDATION[0]"
      ],
      "execution_count": 64,
      "outputs": [
        {
          "output_type": "display_data",
          "data": {
            "text/plain": [
              "  0%|          | 0/358715 [00:00<?, ?it/s]"
            ],
            "application/vnd.jupyter.widget-view+json": {
              "version_major": 2,
              "version_minor": 0,
              "model_id": "dd2e7aed560f4cf1b69e77550ca6e349"
            }
          },
          "metadata": {}
        },
        {
          "output_type": "stream",
          "name": "stdout",
          "text": [
            "# of valid windows: 358448\n"
          ]
        },
        {
          "output_type": "execute_result",
          "data": {
            "text/plain": [
              "{'attack': 0.0,\n",
              " 'ts': '2020-07-07 15:01:29',\n",
              " 'given': tensor([[0.4516, 0.1978, 0.4746,  ..., 0.5798, 0.5271, 0.4014],\n",
              "         [0.4526, 0.1983, 0.3728,  ..., 0.5799, 0.5271, 0.3234],\n",
              "         [0.4521, 0.1983, 0.2580,  ..., 0.5927, 0.5271, 0.3727],\n",
              "         ...,\n",
              "         [0.5267, 0.1620, 0.2691,  ..., 0.3193, 0.5271, 0.3745],\n",
              "         [0.5257, 0.1620, 0.2043,  ..., 0.3134, 0.5271, 0.4363],\n",
              "         [0.5252, 0.1620, 0.1861,  ..., 0.3089, 0.5271, 0.5319]]),\n",
              " 'answer': tensor([5.2717e-01, 1.6201e-01, 2.4634e-01, 3.0731e-04, 4.7660e-01, 5.1151e-01,\n",
              "         1.1574e-03, 1.5182e-01, 4.9051e-01, 5.5063e-01, 2.8699e-01, 4.4413e-01,\n",
              "         4.3588e-01, 2.4863e-02, 3.4310e-01, 7.5772e-01, 6.8562e-01, 0.0000e+00,\n",
              "         3.7939e-01, 2.5223e-01, 0.0000e+00, 3.9106e-01, 2.5138e-02, 9.9257e-01,\n",
              "         3.4135e-01, 1.0000e+00, 4.1100e-01, 4.6915e-01, 9.9916e-01, 2.5674e-04,\n",
              "         5.0073e-01, 3.8212e-01, 2.3146e-01, 6.1364e-01, 0.0000e+00, 4.8101e-01,\n",
              "         7.6219e-01, 5.8022e-01, 1.0000e+00, 1.3777e-01, 9.9420e-01, 4.8721e-02,\n",
              "         7.6795e-01, 9.9123e-01, 4.4749e-01, 2.8254e-01, 9.9751e-01, 3.5354e-01,\n",
              "         6.0346e-01, 0.0000e+00, 3.6832e-01, 2.0053e-01, 9.4593e-02, 1.7778e+00,\n",
              "         3.4465e-01, 3.1577e-01, 5.2712e-01, 6.1266e-01])}"
            ]
          },
          "metadata": {},
          "execution_count": 64
        }
      ]
    },
    {
      "cell_type": "code",
      "metadata": {
        "id": "Eilp4AXu0uei"
      },
      "source": [
        "MODEL.eval()\n",
        "CHECK_TS, CHECK_DIST, CHECK_ATT = inference(HAI_DATASET_TEST, MODEL, BATCH_SIZE)"
      ],
      "execution_count": 65,
      "outputs": []
    },
    {
      "cell_type": "code",
      "metadata": {
        "id": "6baQeKUs03N8"
      },
      "source": [
        "ANOMALY_SCORE = np.mean(CHECK_DIST, axis=1)"
      ],
      "execution_count": 66,
      "outputs": []
    },
    {
      "cell_type": "code",
      "source": [
        "plt.plot(ANOMALY_SCORE)"
      ],
      "metadata": {
        "colab": {
          "base_uri": "https://localhost:8080/",
          "height": 284
        },
        "id": "pS3Kr1spUPry",
        "outputId": "c1858698-e632-4298-fc91-761fc9286a45"
      },
      "execution_count": 67,
      "outputs": [
        {
          "output_type": "execute_result",
          "data": {
            "text/plain": [
              "[<matplotlib.lines.Line2D at 0x7f59686c7e80>]"
            ]
          },
          "metadata": {},
          "execution_count": 67
        },
        {
          "output_type": "display_data",
          "data": {
            "text/plain": [
              "<Figure size 432x288 with 1 Axes>"
            ],
            "image/png": "[encoded data removed]"
          },
          "metadata": {
            "needs_background": "light"
          }
        }
      ]
    },
    {
      "cell_type": "code",
      "source": [
        "plt.plot(CHECK_ATT)"
      ],
      "metadata": {
        "colab": {
          "base_uri": "https://localhost:8080/",
          "height": 284
        },
        "id": "NDUxuYXOe7kM",
        "outputId": "053394fb-dc63-4953-fb76-63f9ee60a52d"
      },
      "execution_count": 68,
      "outputs": [
        {
          "output_type": "execute_result",
          "data": {
            "text/plain": [
              "[<matplotlib.lines.Line2D at 0x7f59686b22e0>]"
            ]
          },
          "metadata": {},
          "execution_count": 68
        },
        {
          "output_type": "display_data",
          "data": {
            "text/plain": [
              "<Figure size 432x288 with 1 Axes>"
            ],
            "image/png": "[encoded data removed]"
          },
          "metadata": {
            "needs_background": "light"
          }
        }
      ]
    },
    {
      "cell_type": "code",
      "metadata": {
        "id": "vLadBJlZ03Qu",
        "colab": {
          "base_uri": "https://localhost:8080/",
          "height": 714
        },
        "outputId": "98603498-45e5-4c40-ec7f-52102ec50cdc"
      },
      "source": [
        "check_graph(ANOMALY_SCORE, CHECK_ATT, piece=3, THRESHOLD=THRESHOLD)"
      ],
      "execution_count": 69,
      "outputs": [
        {
          "output_type": "display_data",
          "data": {
            "text/plain": [
              "<Figure size 1440x864 with 3 Axes>"
            ],
            "image/png": "[encoded data removed]"
          },
          "metadata": {
            "needs_background": "light"
          }
        }
      ]
    },
    {
      "cell_type": "code",
      "metadata": {
        "id": "N9ijN8bZ03Sx",
        "colab": {
          "base_uri": "https://localhost:8080/"
        },
        "outputId": "8a2be536-46f1-4b29-c19e-5cf896d381d1"
      },
      "source": [
        "LABELS = put_labels(ANOMALY_SCORE, THRESHOLD)\n",
        "LABELS, LABELS.shape"
      ],
      "execution_count": 70,
      "outputs": [
        {
          "output_type": "execute_result",
          "data": {
            "text/plain": [
              "(array([0., 0., 0., ..., 0., 0., 0.], dtype=float32), (358448,))"
            ]
          },
          "metadata": {},
          "execution_count": 70
        }
      ]
    },
    {
      "cell_type": "code",
      "metadata": {
        "id": "e8qp0sXA03VF",
        "colab": {
          "base_uri": "https://localhost:8080/",
          "height": 455
        },
        "outputId": "152ec4ff-8c2e-417f-e5b4-4026f105b2de"
      },
      "source": [
        "submission = pd.read_csv('data/sample_submission.csv')\n",
        "submission.index = submission['time']\n",
        "submission.loc[CHECK_TS,'attack'] = LABELS\n",
        "submission"
      ],
      "execution_count": 71,
      "outputs": [
        {
          "output_type": "execute_result",
          "data": {
            "text/plain": [
              "                                    time  attack\n",
              "time                                            \n",
              "2020-07-09 15:00:00  2020-07-09 15:00:00     0.0\n",
              "2020-07-09 15:00:01  2020-07-09 15:00:01     0.0\n",
              "2020-07-09 15:00:02  2020-07-09 15:00:02     0.0\n",
              "2020-07-09 15:00:03  2020-07-09 15:00:03     0.0\n",
              "2020-07-09 15:00:04  2020-07-09 15:00:04     0.0\n",
              "...                                  ...     ...\n",
              "2020-07-31 12:29:56  2020-07-31 12:29:56     0.0\n",
              "2020-07-31 12:29:57  2020-07-31 12:29:57     0.0\n",
              "2020-07-31 12:29:58  2020-07-31 12:29:58     0.0\n",
              "2020-07-31 12:29:59  2020-07-31 12:29:59     0.0\n",
              "2020-07-31 12:30:00  2020-07-31 12:30:00     0.0\n",
              "\n",
              "[358804 rows x 2 columns]"
            ],
            "text/html": [
              "\n",
              "  <div id=\"df-2a2db102-cf31-485e-a37d-5c5cfe414aa8\">\n",
              "    <div class=\"colab-df-container\">\n",
              "      <div>\n",
              "<style scoped>\n",
              "    .dataframe tbody tr th:only-of-type {\n",
              "        vertical-align: middle;\n",
              "    }\n",
              "\n",
              "    .dataframe tbody tr th {\n",
              "        vertical-align: top;\n",
              "    }\n",
              "\n",
              "    .dataframe thead th {\n",
              "        text-align: right;\n",
              "    }\n",
              "</style>\n",
              "<table border=\"1\" class=\"dataframe\">\n",
              "  <thead>\n",
              "    <tr style=\"text-align: right;\">\n",
              "      <th></th>\n",
              "      <th>time</th>\n",
              "      <th>attack</th>\n",
              "    </tr>\n",
              "    <tr>\n",
              "      <th>time</th>\n",
              "      <th></th>\n",
              "      <th></th>\n",
              "    </tr>\n",
              "  </thead>\n",
              "  <tbody>\n",
              "    <tr>\n",
              "      <th>2020-07-09 15:00:00</th>\n",
              "      <td>2020-07-09 15:00:00</td>\n",
              "      <td>0.0</td>\n",
              "    </tr>\n",
              "    <tr>\n",
              "      <th>2020-07-09 15:00:01</th>\n",
              "      <td>2020-07-09 15:00:01</td>\n",
              "      <td>0.0</td>\n",
              "    </tr>\n",
              "    <tr>\n",
              "      <th>2020-07-09 15:00:02</th>\n",
              "      <td>2020-07-09 15:00:02</td>\n",
              "      <td>0.0</td>\n",
              "    </tr>\n",
              "    <tr>\n",
              "      <th>2020-07-09 15:00:03</th>\n",
              "      <td>2020-07-09 15:00:03</td>\n",
              "      <td>0.0</td>\n",
              "    </tr>\n",
              "    <tr>\n",
              "      <th>2020-07-09 15:00:04</th>\n",
              "      <td>2020-07-09 15:00:04</td>\n",
              "      <td>0.0</td>\n",
              "    </tr>\n",
              "    <tr>\n",
              "      <th>...</th>\n",
              "      <td>...</td>\n",
              "      <td>...</td>\n",
              "    </tr>\n",
              "    <tr>\n",
              "      <th>2020-07-31 12:29:56</th>\n",
              "      <td>2020-07-31 12:29:56</td>\n",
              "      <td>0.0</td>\n",
              "    </tr>\n",
              "    <tr>\n",
              "      <th>2020-07-31 12:29:57</th>\n",
              "      <td>2020-07-31 12:29:57</td>\n",
              "      <td>0.0</td>\n",
              "    </tr>\n",
              "    <tr>\n",
              "      <th>2020-07-31 12:29:58</th>\n",
              "      <td>2020-07-31 12:29:58</td>\n",
              "      <td>0.0</td>\n",
              "    </tr>\n",
              "    <tr>\n",
              "      <th>2020-07-31 12:29:59</th>\n",
              "      <td>2020-07-31 12:29:59</td>\n",
              "      <td>0.0</td>\n",
              "    </tr>\n",
              "    <tr>\n",
              "      <th>2020-07-31 12:30:00</th>\n",
              "      <td>2020-07-31 12:30:00</td>\n",
              "      <td>0.0</td>\n",
              "    </tr>\n",
              "  </tbody>\n",
              "</table>\n",
              "<p>358804 rows × 2 columns</p>\n",
              "</div>\n",
              "      <button class=\"colab-df-convert\" onclick=\"convertToInteractive('df-2a2db102-cf31-485e-a37d-5c5cfe414aa8')\"\n",
              "              title=\"Convert this dataframe to an interactive table.\"\n",
              "              style=\"display:none;\">\n",
              "        \n",
              "  <svg xmlns=\"http://www.w3.org/2000/svg\" height=\"24px\"viewBox=\"0 0 24 24\"\n",
              "       width=\"24px\">\n",
              "    <path d=\"M0 0h24v24H0V0z\" fill=\"none\"/>\n",
              "    <path d=\"M18.56 5.44l.94 2.06.94-2.06 2.06-.94-2.06-.94-.94-2.06-.94 2.06-2.06.94zm-11 1L8.5 8.5l.94-2.06 2.06-.94-2.06-.94L8.5 2.5l-.94 2.06-2.06.94zm10 10l.94 2.06.94-2.06 2.06-.94-2.06-.94-.94-2.06-.94 2.06-2.06.94z\"/><path d=\"M17.41 7.96l-1.37-1.37c-.4-.4-.92-.59-1.43-.59-.52 0-1.04.2-1.43.59L10.3 9.45l-7.72 7.72c-.78.78-.78 2.05 0 2.83L4 21.41c.39.39.9.59 1.41.59.51 0 1.02-.2 1.41-.59l7.78-7.78 2.81-2.81c.8-.78.8-2.07 0-2.86zM5.41 20L4 18.59l7.72-7.72 1.47 1.35L5.41 20z\"/>\n",
              "  </svg>\n",
              "      </button>\n",
              "      \n",
              "  <style>\n",
              "    .colab-df-container {\n",
              "      display:flex;\n",
              "      flex-wrap:wrap;\n",
              "      gap: 12px;\n",
              "    }\n",
              "\n",
              "    .colab-df-convert {\n",
              "      background-color: #E8F0FE;\n",
              "      border: none;\n",
              "      border-radius: 50%;\n",
              "      cursor: pointer;\n",
              "      display: none;\n",
              "      fill: #1967D2;\n",
              "      height: 32px;\n",
              "      padding: 0 0 0 0;\n",
              "      width: 32px;\n",
              "    }\n",
              "\n",
              "    .colab-df-convert:hover {\n",
              "      background-color: #E2EBFA;\n",
              "      box-shadow: 0px 1px 2px rgba(60, 64, 67, 0.3), 0px 1px 3px 1px rgba(60, 64, 67, 0.15);\n",
              "      fill: #174EA6;\n",
              "    }\n",
              "\n",
              "    [theme=dark] .colab-df-convert {\n",
              "      background-color: #3B4455;\n",
              "      fill: #D2E3FC;\n",
              "    }\n",
              "\n",
              "    [theme=dark] .colab-df-convert:hover {\n",
              "      background-color: #434B5C;\n",
              "      box-shadow: 0px 1px 3px 1px rgba(0, 0, 0, 0.15);\n",
              "      filter: drop-shadow(0px 1px 2px rgba(0, 0, 0, 0.3));\n",
              "      fill: #FFFFFF;\n",
              "    }\n",
              "  </style>\n",
              "\n",
              "      <script>\n",
              "        const buttonEl =\n",
              "          document.querySelector('#df-2a2db102-cf31-485e-a37d-5c5cfe414aa8 button.colab-df-convert');\n",
              "        buttonEl.style.display =\n",
              "          google.colab.kernel.accessAllowed ? 'block' : 'none';\n",
              "\n",
              "        async function convertToInteractive(key) {\n",
              "          const element = document.querySelector('#df-2a2db102-cf31-485e-a37d-5c5cfe414aa8');\n",
              "          const dataTable =\n",
              "            await google.colab.kernel.invokeFunction('convertToInteractive',\n",
              "                                                     [key], {});\n",
              "          if (!dataTable) return;\n",
              "\n",
              "          const docLinkHtml = 'Like what you see? Visit the ' +\n",
              "            '<a target=\"_blank\" href=https://colab.research.google.com/notebooks/data_table.ipynb>data table notebook</a>'\n",
              "            + ' to learn more about interactive tables.';\n",
              "          element.innerHTML = '';\n",
              "          dataTable['output_type'] = 'display_data';\n",
              "          await google.colab.output.renderOutput(dataTable, element);\n",
              "          const docLink = document.createElement('div');\n",
              "          docLink.innerHTML = docLinkHtml;\n",
              "          element.appendChild(docLink);\n",
              "        }\n",
              "      </script>\n",
              "    </div>\n",
              "  </div>\n",
              "  "
            ]
          },
          "metadata": {},
          "execution_count": 71
        }
      ]
    },
    {
      "cell_type": "code",
      "source": [
        "submission[\"attack\"].plot()"
      ],
      "metadata": {
        "colab": {
          "base_uri": "https://localhost:8080/",
          "height": 298
        },
        "id": "57HLo6v2oe5_",
        "outputId": "a9fc7231-ccdb-49c0-a6a5-258ec5630781"
      },
      "execution_count": 72,
      "outputs": [
        {
          "output_type": "execute_result",
          "data": {
            "text/plain": [
              "<matplotlib.axes._subplots.AxesSubplot at 0x7f58a56b74f0>"
            ]
          },
          "metadata": {},
          "execution_count": 72
        },
        {
          "output_type": "display_data",
          "data": {
            "text/plain": [
              "<Figure size 432x288 with 1 Axes>"
            ],
            "image/png": "[encoded data removed]"
          },
          "metadata": {
            "needs_background": "light"
          }
        }
      ]
    },
    {
      "cell_type": "code",
      "metadata": {
        "id": "DFeBNcmc03XV"
      },
      "source": [
        "submission.to_csv('baseline.csv', index=False)"
      ],
      "execution_count": 73,
      "outputs": []
    },
    {
      "cell_type": "code",
      "metadata": {
        "id": "M79Qjtno03Zw",
        "colab": {
          "base_uri": "https://localhost:8080/",
          "height": 17
        },
        "outputId": "2fd64cdf-01db-44ed-ef27-b71e1d637fce"
      },
      "source": [
        "from google.colab import files\n",
        "files.download('baseline.csv')"
      ],
      "execution_count": 74,
      "outputs": [
        {
          "output_type": "display_data",
          "data": {
            "text/plain": [
              "<IPython.core.display.Javascript object>"
            ],
            "application/javascript": [
              "\n",
              "    async function download(id, filename, size) {\n",
              "      if (!google.colab.kernel.accessAllowed) {\n",
              "        return;\n",
              "      }\n",
              "      const div = document.createElement('div');\n",
              "      const label = document.createElement('label');\n",
              "      label.textContent = `Downloading \"${filename}\": `;\n",
              "      div.appendChild(label);\n",
              "      const progress = document.createElement('progress');\n",
              "      progress.max = size;\n",
              "      div.appendChild(progress);\n",
              "      document.body.appendChild(div);\n",
              "\n",
              "      const buffers = [];\n",
              "      let downloaded = 0;\n",
              "\n",
              "      const channel = await google.colab.kernel.comms.open(id);\n",
              "      // Send a message to notify the kernel that we're ready.\n",
              "      channel.send({})\n",
              "\n",
              "      for await (const message of channel.messages) {\n",
              "        // Send a message to notify the kernel that we're ready.\n",
              "        channel.send({})\n",
              "        if (message.buffers) {\n",
              "          for (const buffer of message.buffers) {\n",
              "            buffers.push(buffer);\n",
              "            downloaded += buffer.byteLength;\n",
              "            progress.value = downloaded;\n",
              "          }\n",
              "        }\n",
              "      }\n",
              "      const blob = new Blob(buffers, {type: 'application/binary'});\n",
              "      const a = document.createElement('a');\n",
              "      a.href = window.URL.createObjectURL(blob);\n",
              "      a.download = filename;\n",
              "      div.appendChild(a);\n",
              "      a.click();\n",
              "      div.remove();\n",
              "    }\n",
              "  "
            ]
          },
          "metadata": {}
        },
        {
          "output_type": "display_data",
          "data": {
            "text/plain": [
              "<IPython.core.display.Javascript object>"
            ],
            "application/javascript": [
              "download(\"download_051bfa59-54b7-4273-a613-470f482273c4\", \"baseline.csv\", 8611308)"
            ]
          },
          "metadata": {}
        }
      ]
    },
    {
      "cell_type": "code",
      "metadata": {
        "id": "FRfxM_MS03cK"
      },
      "source": [],
      "execution_count": 74,
      "outputs": []
    },
    {
      "cell_type": "markdown",
      "metadata": {
        "id": "5-OEtzmTzBh1"
      },
      "source": []
    }
  ]
}