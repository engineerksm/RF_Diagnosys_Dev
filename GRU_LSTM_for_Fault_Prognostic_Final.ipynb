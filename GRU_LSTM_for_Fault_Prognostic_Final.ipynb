{
  "nbformat": 4,
  "nbformat_minor": 0,
  "metadata": {
    "colab": {
      "provenance": [],
      "include_colab_link": true
    },
    "kernelspec": {
      "name": "python3",
      "display_name": "Python 3"
    },
    "accelerator": "GPU",
    "widgets": {
      "application/vnd.jupyter.widget-state+json": {
        "71855870b2bd4edb9f36ee4c187a9dbd": {
          "model_module": "@jupyter-widgets/controls",
          "model_name": "HBoxModel",
          "model_module_version": "1.5.0",
          "state": {
            "_dom_classes": [],
            "_model_module": "@jupyter-widgets/controls",
            "_model_module_version": "1.5.0",
            "_model_name": "HBoxModel",
            "_view_count": null,
            "_view_module": "@jupyter-widgets/controls",
            "_view_module_version": "1.5.0",
            "_view_name": "HBoxView",
            "box_style": "",
            "children": [
              "IPY_MODEL_42947d676d7d4d928395d08cf080f5cc",
              "IPY_MODEL_40ba2871708e4bc69651bcc2d6fd9f69",
              "IPY_MODEL_c8a6ee39e7e641159efc4356498709ac"
            ],
            "layout": "IPY_MODEL_36de0d6bc5cc4f9ea75119777298dee9"
          }
        },
        "42947d676d7d4d928395d08cf080f5cc": {
          "model_module": "@jupyter-widgets/controls",
          "model_name": "HTMLModel",
          "model_module_version": "1.5.0",
          "state": {
            "_dom_classes": [],
            "_model_module": "@jupyter-widgets/controls",
            "_model_module_version": "1.5.0",
            "_model_name": "HTMLModel",
            "_view_count": null,
            "_view_module": "@jupyter-widgets/controls",
            "_view_module_version": "1.5.0",
            "_view_name": "HTMLView",
            "description": "",
            "description_tooltip": null,
            "layout": "IPY_MODEL_c0d5018b0eb3448893b8f6b32f03aacc",
            "placeholder": "​",
            "style": "IPY_MODEL_4d585a05c3f74f25b0ece2da3de93b87",
            "value": "100%"
          }
        },
        "40ba2871708e4bc69651bcc2d6fd9f69": {
          "model_module": "@jupyter-widgets/controls",
          "model_name": "FloatProgressModel",
          "model_module_version": "1.5.0",
          "state": {
            "_dom_classes": [],
            "_model_module": "@jupyter-widgets/controls",
            "_model_module_version": "1.5.0",
            "_model_name": "FloatProgressModel",
            "_view_count": null,
            "_view_module": "@jupyter-widgets/controls",
            "_view_module_version": "1.5.0",
            "_view_name": "ProgressView",
            "bar_style": "success",
            "description": "",
            "description_tooltip": null,
            "layout": "IPY_MODEL_44804b8474694430a4fb4c0c1dca7483",
            "max": 921514,
            "min": 0,
            "orientation": "horizontal",
            "style": "IPY_MODEL_248ebb03a51443d490003d3e4f83950c",
            "value": 921514
          }
        },
        "c8a6ee39e7e641159efc4356498709ac": {
          "model_module": "@jupyter-widgets/controls",
          "model_name": "HTMLModel",
          "model_module_version": "1.5.0",
          "state": {
            "_dom_classes": [],
            "_model_module": "@jupyter-widgets/controls",
            "_model_module_version": "1.5.0",
            "_model_name": "HTMLModel",
            "_view_count": null,
            "_view_module": "@jupyter-widgets/controls",
            "_view_module_version": "1.5.0",
            "_view_name": "HTMLView",
            "description": "",
            "description_tooltip": null,
            "layout": "IPY_MODEL_b247c9fa645946eba245ce0ac32e067d",
            "placeholder": "​",
            "style": "IPY_MODEL_70f1b38407f04fa6bc60e1a899ac24cc",
            "value": " 921514/921514 [01:52&lt;00:00, 7981.09it/s]"
          }
        },
        "36de0d6bc5cc4f9ea75119777298dee9": {
          "model_module": "@jupyter-widgets/base",
          "model_name": "LayoutModel",
          "model_module_version": "1.2.0",
          "state": {
            "_model_module": "@jupyter-widgets/base",
            "_model_module_version": "1.2.0",
            "_model_name": "LayoutModel",
            "_view_count": null,
            "_view_module": "@jupyter-widgets/base",
            "_view_module_version": "1.2.0",
            "_view_name": "LayoutView",
            "align_content": null,
            "align_items": null,
            "align_self": null,
            "border": null,
            "bottom": null,
            "display": null,
            "flex": null,
            "flex_flow": null,
            "grid_area": null,
            "grid_auto_columns": null,
            "grid_auto_flow": null,
            "grid_auto_rows": null,
            "grid_column": null,
            "grid_gap": null,
            "grid_row": null,
            "grid_template_areas": null,
            "grid_template_columns": null,
            "grid_template_rows": null,
            "height": null,
            "justify_content": null,
            "justify_items": null,
            "left": null,
            "margin": null,
            "max_height": null,
            "max_width": null,
            "min_height": null,
            "min_width": null,
            "object_fit": null,
            "object_position": null,
            "order": null,
            "overflow": null,
            "overflow_x": null,
            "overflow_y": null,
            "padding": null,
            "right": null,
            "top": null,
            "visibility": null,
            "width": null
          }
        },
        "c0d5018b0eb3448893b8f6b32f03aacc": {
          "model_module": "@jupyter-widgets/base",
          "model_name": "LayoutModel",
          "model_module_version": "1.2.0",
          "state": {
            "_model_module": "@jupyter-widgets/base",
            "_model_module_version": "1.2.0",
            "_model_name": "LayoutModel",
            "_view_count": null,
            "_view_module": "@jupyter-widgets/base",
            "_view_module_version": "1.2.0",
            "_view_name": "LayoutView",
            "align_content": null,
            "align_items": null,
            "align_self": null,
            "border": null,
            "bottom": null,
            "display": null,
            "flex": null,
            "flex_flow": null,
            "grid_area": null,
            "grid_auto_columns": null,
            "grid_auto_flow": null,
            "grid_auto_rows": null,
            "grid_column": null,
            "grid_gap": null,
            "grid_row": null,
            "grid_template_areas": null,
            "grid_template_columns": null,
            "grid_template_rows": null,
            "height": null,
            "justify_content": null,
            "justify_items": null,
            "left": null,
            "margin": null,
            "max_height": null,
            "max_width": null,
            "min_height": null,
            "min_width": null,
            "object_fit": null,
            "object_position": null,
            "order": null,
            "overflow": null,
            "overflow_x": null,
            "overflow_y": null,
            "padding": null,
            "right": null,
            "top": null,
            "visibility": null,
            "width": null
          }
        },
        "4d585a05c3f74f25b0ece2da3de93b87": {
          "model_module": "@jupyter-widgets/controls",
          "model_name": "DescriptionStyleModel",
          "model_module_version": "1.5.0",
          "state": {
            "_model_module": "@jupyter-widgets/controls",
            "_model_module_version": "1.5.0",
            "_model_name": "DescriptionStyleModel",
            "_view_count": null,
            "_view_module": "@jupyter-widgets/base",
            "_view_module_version": "1.2.0",
            "_view_name": "StyleView",
            "description_width": ""
          }
        },
        "44804b8474694430a4fb4c0c1dca7483": {
          "model_module": "@jupyter-widgets/base",
          "model_name": "LayoutModel",
          "model_module_version": "1.2.0",
          "state": {
            "_model_module": "@jupyter-widgets/base",
            "_model_module_version": "1.2.0",
            "_model_name": "LayoutModel",
            "_view_count": null,
            "_view_module": "@jupyter-widgets/base",
            "_view_module_version": "1.2.0",
            "_view_name": "LayoutView",
            "align_content": null,
            "align_items": null,
            "align_self": null,
            "border": null,
            "bottom": null,
            "display": null,
            "flex": null,
            "flex_flow": null,
            "grid_area": null,
            "grid_auto_columns": null,
            "grid_auto_flow": null,
            "grid_auto_rows": null,
            "grid_column": null,
            "grid_gap": null,
            "grid_row": null,
            "grid_template_areas": null,
            "grid_template_columns": null,
            "grid_template_rows": null,
            "height": null,
            "justify_content": null,
            "justify_items": null,
            "left": null,
            "margin": null,
            "max_height": null,
            "max_width": null,
            "min_height": null,
            "min_width": null,
            "object_fit": null,
            "object_position": null,
            "order": null,
            "overflow": null,
            "overflow_x": null,
            "overflow_y": null,
            "padding": null,
            "right": null,
            "top": null,
            "visibility": null,
            "width": null
          }
        },
        "248ebb03a51443d490003d3e4f83950c": {
          "model_module": "@jupyter-widgets/controls",
          "model_name": "ProgressStyleModel",
          "model_module_version": "1.5.0",
          "state": {
            "_model_module": "@jupyter-widgets/controls",
            "_model_module_version": "1.5.0",
            "_model_name": "ProgressStyleModel",
            "_view_count": null,
            "_view_module": "@jupyter-widgets/base",
            "_view_module_version": "1.2.0",
            "_view_name": "StyleView",
            "bar_color": null,
            "description_width": ""
          }
        },
        "b247c9fa645946eba245ce0ac32e067d": {
          "model_module": "@jupyter-widgets/base",
          "model_name": "LayoutModel",
          "model_module_version": "1.2.0",
          "state": {
            "_model_module": "@jupyter-widgets/base",
            "_model_module_version": "1.2.0",
            "_model_name": "LayoutModel",
            "_view_count": null,
            "_view_module": "@jupyter-widgets/base",
            "_view_module_version": "1.2.0",
            "_view_name": "LayoutView",
            "align_content": null,
            "align_items": null,
            "align_self": null,
            "border": null,
            "bottom": null,
            "display": null,
            "flex": null,
            "flex_flow": null,
            "grid_area": null,
            "grid_auto_columns": null,
            "grid_auto_flow": null,
            "grid_auto_rows": null,
            "grid_column": null,
            "grid_gap": null,
            "grid_row": null,
            "grid_template_areas": null,
            "grid_template_columns": null,
            "grid_template_rows": null,
            "height": null,
            "justify_content": null,
            "justify_items": null,
            "left": null,
            "margin": null,
            "max_height": null,
            "max_width": null,
            "min_height": null,
            "min_width": null,
            "object_fit": null,
            "object_position": null,
            "order": null,
            "overflow": null,
            "overflow_x": null,
            "overflow_y": null,
            "padding": null,
            "right": null,
            "top": null,
            "visibility": null,
            "width": null
          }
        },
        "70f1b38407f04fa6bc60e1a899ac24cc": {
          "model_module": "@jupyter-widgets/controls",
          "model_name": "DescriptionStyleModel",
          "model_module_version": "1.5.0",
          "state": {
            "_model_module": "@jupyter-widgets/controls",
            "_model_module_version": "1.5.0",
            "_model_name": "DescriptionStyleModel",
            "_view_count": null,
            "_view_module": "@jupyter-widgets/base",
            "_view_module_version": "1.2.0",
            "_view_name": "StyleView",
            "description_width": ""
          }
        },
        "486aa58bc26c4b52a5fa36f290957a16": {
          "model_module": "@jupyter-widgets/controls",
          "model_name": "HBoxModel",
          "model_module_version": "1.5.0",
          "state": {
            "_dom_classes": [],
            "_model_module": "@jupyter-widgets/controls",
            "_model_module_version": "1.5.0",
            "_model_name": "HBoxModel",
            "_view_count": null,
            "_view_module": "@jupyter-widgets/controls",
            "_view_module_version": "1.5.0",
            "_view_name": "HBoxView",
            "box_style": "",
            "children": [
              "IPY_MODEL_ec660ac76c1a4eea82523b481e69146a",
              "IPY_MODEL_9e8f2dcaaffd463c88bf5e6cd4b50644",
              "IPY_MODEL_43c33cd0e6a94676a3d0ec625accaaf7"
            ],
            "layout": "IPY_MODEL_26370f1606474f20b6296cd8d1b4b242"
          }
        },
        "ec660ac76c1a4eea82523b481e69146a": {
          "model_module": "@jupyter-widgets/controls",
          "model_name": "HTMLModel",
          "model_module_version": "1.5.0",
          "state": {
            "_dom_classes": [],
            "_model_module": "@jupyter-widgets/controls",
            "_model_module_version": "1.5.0",
            "_model_name": "HTMLModel",
            "_view_count": null,
            "_view_module": "@jupyter-widgets/controls",
            "_view_module_version": "1.5.0",
            "_view_name": "HTMLView",
            "description": "",
            "description_tooltip": null,
            "layout": "IPY_MODEL_9200e683c3b94e68937abaca0e215816",
            "placeholder": "​",
            "style": "IPY_MODEL_e57dbc72697d433eb267ce50d1544ed0",
            "value": "training: 100%"
          }
        },
        "9e8f2dcaaffd463c88bf5e6cd4b50644": {
          "model_module": "@jupyter-widgets/controls",
          "model_name": "FloatProgressModel",
          "model_module_version": "1.5.0",
          "state": {
            "_dom_classes": [],
            "_model_module": "@jupyter-widgets/controls",
            "_model_module_version": "1.5.0",
            "_model_name": "FloatProgressModel",
            "_view_count": null,
            "_view_module": "@jupyter-widgets/controls",
            "_view_module_version": "1.5.0",
            "_view_name": "ProgressView",
            "bar_style": "success",
            "description": "",
            "description_tooltip": null,
            "layout": "IPY_MODEL_4aaabda4c06a441a8a380e798229a44f",
            "max": 32,
            "min": 0,
            "orientation": "horizontal",
            "style": "IPY_MODEL_446e530c9c5f47ccac4ee103f05aa7a1",
            "value": 32
          }
        },
        "43c33cd0e6a94676a3d0ec625accaaf7": {
          "model_module": "@jupyter-widgets/controls",
          "model_name": "HTMLModel",
          "model_module_version": "1.5.0",
          "state": {
            "_dom_classes": [],
            "_model_module": "@jupyter-widgets/controls",
            "_model_module_version": "1.5.0",
            "_model_name": "HTMLModel",
            "_view_count": null,
            "_view_module": "@jupyter-widgets/controls",
            "_view_module_version": "1.5.0",
            "_view_name": "HTMLView",
            "description": "",
            "description_tooltip": null,
            "layout": "IPY_MODEL_3062df4b54674b80bef6f0ae66cabbf6",
            "placeholder": "​",
            "style": "IPY_MODEL_c5235a0bb7af49258b5adc89adcb80cc",
            "value": " 32/32 [12:42&lt;00:00, 24.05s/it, loss: 0.110097]"
          }
        },
        "26370f1606474f20b6296cd8d1b4b242": {
          "model_module": "@jupyter-widgets/base",
          "model_name": "LayoutModel",
          "model_module_version": "1.2.0",
          "state": {
            "_model_module": "@jupyter-widgets/base",
            "_model_module_version": "1.2.0",
            "_model_name": "LayoutModel",
            "_view_count": null,
            "_view_module": "@jupyter-widgets/base",
            "_view_module_version": "1.2.0",
            "_view_name": "LayoutView",
            "align_content": null,
            "align_items": null,
            "align_self": null,
            "border": null,
            "bottom": null,
            "display": null,
            "flex": null,
            "flex_flow": null,
            "grid_area": null,
            "grid_auto_columns": null,
            "grid_auto_flow": null,
            "grid_auto_rows": null,
            "grid_column": null,
            "grid_gap": null,
            "grid_row": null,
            "grid_template_areas": null,
            "grid_template_columns": null,
            "grid_template_rows": null,
            "height": null,
            "justify_content": null,
            "justify_items": null,
            "left": null,
            "margin": null,
            "max_height": null,
            "max_width": null,
            "min_height": null,
            "min_width": null,
            "object_fit": null,
            "object_position": null,
            "order": null,
            "overflow": null,
            "overflow_x": null,
            "overflow_y": null,
            "padding": null,
            "right": null,
            "top": null,
            "visibility": null,
            "width": null
          }
        },
        "9200e683c3b94e68937abaca0e215816": {
          "model_module": "@jupyter-widgets/base",
          "model_name": "LayoutModel",
          "model_module_version": "1.2.0",
          "state": {
            "_model_module": "@jupyter-widgets/base",
            "_model_module_version": "1.2.0",
            "_model_name": "LayoutModel",
            "_view_count": null,
            "_view_module": "@jupyter-widgets/base",
            "_view_module_version": "1.2.0",
            "_view_name": "LayoutView",
            "align_content": null,
            "align_items": null,
            "align_self": null,
            "border": null,
            "bottom": null,
            "display": null,
            "flex": null,
            "flex_flow": null,
            "grid_area": null,
            "grid_auto_columns": null,
            "grid_auto_flow": null,
            "grid_auto_rows": null,
            "grid_column": null,
            "grid_gap": null,
            "grid_row": null,
            "grid_template_areas": null,
            "grid_template_columns": null,
            "grid_template_rows": null,
            "height": null,
            "justify_content": null,
            "justify_items": null,
            "left": null,
            "margin": null,
            "max_height": null,
            "max_width": null,
            "min_height": null,
            "min_width": null,
            "object_fit": null,
            "object_position": null,
            "order": null,
            "overflow": null,
            "overflow_x": null,
            "overflow_y": null,
            "padding": null,
            "right": null,
            "top": null,
            "visibility": null,
            "width": null
          }
        },
        "e57dbc72697d433eb267ce50d1544ed0": {
          "model_module": "@jupyter-widgets/controls",
          "model_name": "DescriptionStyleModel",
          "model_module_version": "1.5.0",
          "state": {
            "_model_module": "@jupyter-widgets/controls",
            "_model_module_version": "1.5.0",
            "_model_name": "DescriptionStyleModel",
            "_view_count": null,
            "_view_module": "@jupyter-widgets/base",
            "_view_module_version": "1.2.0",
            "_view_name": "StyleView",
            "description_width": ""
          }
        },
        "4aaabda4c06a441a8a380e798229a44f": {
          "model_module": "@jupyter-widgets/base",
          "model_name": "LayoutModel",
          "model_module_version": "1.2.0",
          "state": {
            "_model_module": "@jupyter-widgets/base",
            "_model_module_version": "1.2.0",
            "_model_name": "LayoutModel",
            "_view_count": null,
            "_view_module": "@jupyter-widgets/base",
            "_view_module_version": "1.2.0",
            "_view_name": "LayoutView",
            "align_content": null,
            "align_items": null,
            "align_self": null,
            "border": null,
            "bottom": null,
            "display": null,
            "flex": null,
            "flex_flow": null,
            "grid_area": null,
            "grid_auto_columns": null,
            "grid_auto_flow": null,
            "grid_auto_rows": null,
            "grid_column": null,
            "grid_gap": null,
            "grid_row": null,
            "grid_template_areas": null,
            "grid_template_columns": null,
            "grid_template_rows": null,
            "height": null,
            "justify_content": null,
            "justify_items": null,
            "left": null,
            "margin": null,
            "max_height": null,
            "max_width": null,
            "min_height": null,
            "min_width": null,
            "object_fit": null,
            "object_position": null,
            "order": null,
            "overflow": null,
            "overflow_x": null,
            "overflow_y": null,
            "padding": null,
            "right": null,
            "top": null,
            "visibility": null,
            "width": null
          }
        },
        "446e530c9c5f47ccac4ee103f05aa7a1": {
          "model_module": "@jupyter-widgets/controls",
          "model_name": "ProgressStyleModel",
          "model_module_version": "1.5.0",
          "state": {
            "_model_module": "@jupyter-widgets/controls",
            "_model_module_version": "1.5.0",
            "_model_name": "ProgressStyleModel",
            "_view_count": null,
            "_view_module": "@jupyter-widgets/base",
            "_view_module_version": "1.2.0",
            "_view_name": "StyleView",
            "bar_color": null,
            "description_width": ""
          }
        },
        "3062df4b54674b80bef6f0ae66cabbf6": {
          "model_module": "@jupyter-widgets/base",
          "model_name": "LayoutModel",
          "model_module_version": "1.2.0",
          "state": {
            "_model_module": "@jupyter-widgets/base",
            "_model_module_version": "1.2.0",
            "_model_name": "LayoutModel",
            "_view_count": null,
            "_view_module": "@jupyter-widgets/base",
            "_view_module_version": "1.2.0",
            "_view_name": "LayoutView",
            "align_content": null,
            "align_items": null,
            "align_self": null,
            "border": null,
            "bottom": null,
            "display": null,
            "flex": null,
            "flex_flow": null,
            "grid_area": null,
            "grid_auto_columns": null,
            "grid_auto_flow": null,
            "grid_auto_rows": null,
            "grid_column": null,
            "grid_gap": null,
            "grid_row": null,
            "grid_template_areas": null,
            "grid_template_columns": null,
            "grid_template_rows": null,
            "height": null,
            "justify_content": null,
            "justify_items": null,
            "left": null,
            "margin": null,
            "max_height": null,
            "max_width": null,
            "min_height": null,
            "min_width": null,
            "object_fit": null,
            "object_position": null,
            "order": null,
            "overflow": null,
            "overflow_x": null,
            "overflow_y": null,
            "padding": null,
            "right": null,
            "top": null,
            "visibility": null,
            "width": null
          }
        },
        "c5235a0bb7af49258b5adc89adcb80cc": {
          "model_module": "@jupyter-widgets/controls",
          "model_name": "DescriptionStyleModel",
          "model_module_version": "1.5.0",
          "state": {
            "_model_module": "@jupyter-widgets/controls",
            "_model_module_version": "1.5.0",
            "_model_name": "DescriptionStyleModel",
            "_view_count": null,
            "_view_module": "@jupyter-widgets/base",
            "_view_module_version": "1.2.0",
            "_view_name": "StyleView",
            "description_width": ""
          }
        },
        "5d2c58613b04499bbb05ce5f4f50fff8": {
          "model_module": "@jupyter-widgets/controls",
          "model_name": "HBoxModel",
          "model_module_version": "1.5.0",
          "state": {
            "_dom_classes": [],
            "_model_module": "@jupyter-widgets/controls",
            "_model_module_version": "1.5.0",
            "_model_name": "HBoxModel",
            "_view_count": null,
            "_view_module": "@jupyter-widgets/controls",
            "_view_module_version": "1.5.0",
            "_view_name": "HBoxView",
            "box_style": "",
            "children": [
              "IPY_MODEL_2cbb499a200b4ee28cd5d03f054fad6e",
              "IPY_MODEL_f1ddc561f51f4ccea80c3a88d63fed9a",
              "IPY_MODEL_caa27d558ed04ed3930505e6f3606ca1"
            ],
            "layout": "IPY_MODEL_8a06552e3a0d4298a1e7aceee6e9cbe9"
          }
        },
        "2cbb499a200b4ee28cd5d03f054fad6e": {
          "model_module": "@jupyter-widgets/controls",
          "model_name": "HTMLModel",
          "model_module_version": "1.5.0",
          "state": {
            "_dom_classes": [],
            "_model_module": "@jupyter-widgets/controls",
            "_model_module_version": "1.5.0",
            "_model_name": "HTMLModel",
            "_view_count": null,
            "_view_module": "@jupyter-widgets/controls",
            "_view_module_version": "1.5.0",
            "_view_name": "HTMLView",
            "description": "",
            "description_tooltip": null,
            "layout": "IPY_MODEL_3ead2a2b86c7462498a462f29905ce90",
            "placeholder": "​",
            "style": "IPY_MODEL_3680e1c120b6491d8480ba520cc14386",
            "value": "100%"
          }
        },
        "f1ddc561f51f4ccea80c3a88d63fed9a": {
          "model_module": "@jupyter-widgets/controls",
          "model_name": "FloatProgressModel",
          "model_module_version": "1.5.0",
          "state": {
            "_dom_classes": [],
            "_model_module": "@jupyter-widgets/controls",
            "_model_module_version": "1.5.0",
            "_model_name": "FloatProgressModel",
            "_view_count": null,
            "_view_module": "@jupyter-widgets/controls",
            "_view_module_version": "1.5.0",
            "_view_name": "ProgressView",
            "bar_style": "success",
            "description": "",
            "description_tooltip": null,
            "layout": "IPY_MODEL_d948e9e1f6cb43889f78be1cf32db890",
            "max": 43112,
            "min": 0,
            "orientation": "horizontal",
            "style": "IPY_MODEL_b1d81bae76d84e42825cf744136e07c2",
            "value": 43112
          }
        },
        "caa27d558ed04ed3930505e6f3606ca1": {
          "model_module": "@jupyter-widgets/controls",
          "model_name": "HTMLModel",
          "model_module_version": "1.5.0",
          "state": {
            "_dom_classes": [],
            "_model_module": "@jupyter-widgets/controls",
            "_model_module_version": "1.5.0",
            "_model_name": "HTMLModel",
            "_view_count": null,
            "_view_module": "@jupyter-widgets/controls",
            "_view_module_version": "1.5.0",
            "_view_name": "HTMLView",
            "description": "",
            "description_tooltip": null,
            "layout": "IPY_MODEL_4d7d51ca44cf4d1fb48975ef9996607c",
            "placeholder": "​",
            "style": "IPY_MODEL_4ebac1ddc6a5426a81ba8fe31f07070c",
            "value": " 43112/43112 [00:05&lt;00:00, 8442.17it/s]"
          }
        },
        "8a06552e3a0d4298a1e7aceee6e9cbe9": {
          "model_module": "@jupyter-widgets/base",
          "model_name": "LayoutModel",
          "model_module_version": "1.2.0",
          "state": {
            "_model_module": "@jupyter-widgets/base",
            "_model_module_version": "1.2.0",
            "_model_name": "LayoutModel",
            "_view_count": null,
            "_view_module": "@jupyter-widgets/base",
            "_view_module_version": "1.2.0",
            "_view_name": "LayoutView",
            "align_content": null,
            "align_items": null,
            "align_self": null,
            "border": null,
            "bottom": null,
            "display": null,
            "flex": null,
            "flex_flow": null,
            "grid_area": null,
            "grid_auto_columns": null,
            "grid_auto_flow": null,
            "grid_auto_rows": null,
            "grid_column": null,
            "grid_gap": null,
            "grid_row": null,
            "grid_template_areas": null,
            "grid_template_columns": null,
            "grid_template_rows": null,
            "height": null,
            "justify_content": null,
            "justify_items": null,
            "left": null,
            "margin": null,
            "max_height": null,
            "max_width": null,
            "min_height": null,
            "min_width": null,
            "object_fit": null,
            "object_position": null,
            "order": null,
            "overflow": null,
            "overflow_x": null,
            "overflow_y": null,
            "padding": null,
            "right": null,
            "top": null,
            "visibility": null,
            "width": null
          }
        },
        "3ead2a2b86c7462498a462f29905ce90": {
          "model_module": "@jupyter-widgets/base",
          "model_name": "LayoutModel",
          "model_module_version": "1.2.0",
          "state": {
            "_model_module": "@jupyter-widgets/base",
            "_model_module_version": "1.2.0",
            "_model_name": "LayoutModel",
            "_view_count": null,
            "_view_module": "@jupyter-widgets/base",
            "_view_module_version": "1.2.0",
            "_view_name": "LayoutView",
            "align_content": null,
            "align_items": null,
            "align_self": null,
            "border": null,
            "bottom": null,
            "display": null,
            "flex": null,
            "flex_flow": null,
            "grid_area": null,
            "grid_auto_columns": null,
            "grid_auto_flow": null,
            "grid_auto_rows": null,
            "grid_column": null,
            "grid_gap": null,
            "grid_row": null,
            "grid_template_areas": null,
            "grid_template_columns": null,
            "grid_template_rows": null,
            "height": null,
            "justify_content": null,
            "justify_items": null,
            "left": null,
            "margin": null,
            "max_height": null,
            "max_width": null,
            "min_height": null,
            "min_width": null,
            "object_fit": null,
            "object_position": null,
            "order": null,
            "overflow": null,
            "overflow_x": null,
            "overflow_y": null,
            "padding": null,
            "right": null,
            "top": null,
            "visibility": null,
            "width": null
          }
        },
        "3680e1c120b6491d8480ba520cc14386": {
          "model_module": "@jupyter-widgets/controls",
          "model_name": "DescriptionStyleModel",
          "model_module_version": "1.5.0",
          "state": {
            "_model_module": "@jupyter-widgets/controls",
            "_model_module_version": "1.5.0",
            "_model_name": "DescriptionStyleModel",
            "_view_count": null,
            "_view_module": "@jupyter-widgets/base",
            "_view_module_version": "1.2.0",
            "_view_name": "StyleView",
            "description_width": ""
          }
        },
        "d948e9e1f6cb43889f78be1cf32db890": {
          "model_module": "@jupyter-widgets/base",
          "model_name": "LayoutModel",
          "model_module_version": "1.2.0",
          "state": {
            "_model_module": "@jupyter-widgets/base",
            "_model_module_version": "1.2.0",
            "_model_name": "LayoutModel",
            "_view_count": null,
            "_view_module": "@jupyter-widgets/base",
            "_view_module_version": "1.2.0",
            "_view_name": "LayoutView",
            "align_content": null,
            "align_items": null,
            "align_self": null,
            "border": null,
            "bottom": null,
            "display": null,
            "flex": null,
            "flex_flow": null,
            "grid_area": null,
            "grid_auto_columns": null,
            "grid_auto_flow": null,
            "grid_auto_rows": null,
            "grid_column": null,
            "grid_gap": null,
            "grid_row": null,
            "grid_template_areas": null,
            "grid_template_columns": null,
            "grid_template_rows": null,
            "height": null,
            "justify_content": null,
            "justify_items": null,
            "left": null,
            "margin": null,
            "max_height": null,
            "max_width": null,
            "min_height": null,
            "min_width": null,
            "object_fit": null,
            "object_position": null,
            "order": null,
            "overflow": null,
            "overflow_x": null,
            "overflow_y": null,
            "padding": null,
            "right": null,
            "top": null,
            "visibility": null,
            "width": null
          }
        },
        "b1d81bae76d84e42825cf744136e07c2": {
          "model_module": "@jupyter-widgets/controls",
          "model_name": "ProgressStyleModel",
          "model_module_version": "1.5.0",
          "state": {
            "_model_module": "@jupyter-widgets/controls",
            "_model_module_version": "1.5.0",
            "_model_name": "ProgressStyleModel",
            "_view_count": null,
            "_view_module": "@jupyter-widgets/base",
            "_view_module_version": "1.2.0",
            "_view_name": "StyleView",
            "bar_color": null,
            "description_width": ""
          }
        },
        "4d7d51ca44cf4d1fb48975ef9996607c": {
          "model_module": "@jupyter-widgets/base",
          "model_name": "LayoutModel",
          "model_module_version": "1.2.0",
          "state": {
            "_model_module": "@jupyter-widgets/base",
            "_model_module_version": "1.2.0",
            "_model_name": "LayoutModel",
            "_view_count": null,
            "_view_module": "@jupyter-widgets/base",
            "_view_module_version": "1.2.0",
            "_view_name": "LayoutView",
            "align_content": null,
            "align_items": null,
            "align_self": null,
            "border": null,
            "bottom": null,
            "display": null,
            "flex": null,
            "flex_flow": null,
            "grid_area": null,
            "grid_auto_columns": null,
            "grid_auto_flow": null,
            "grid_auto_rows": null,
            "grid_column": null,
            "grid_gap": null,
            "grid_row": null,
            "grid_template_areas": null,
            "grid_template_columns": null,
            "grid_template_rows": null,
            "height": null,
            "justify_content": null,
            "justify_items": null,
            "left": null,
            "margin": null,
            "max_height": null,
            "max_width": null,
            "min_height": null,
            "min_width": null,
            "object_fit": null,
            "object_position": null,
            "order": null,
            "overflow": null,
            "overflow_x": null,
            "overflow_y": null,
            "padding": null,
            "right": null,
            "top": null,
            "visibility": null,
            "width": null
          }
        },
        "4ebac1ddc6a5426a81ba8fe31f07070c": {
          "model_module": "@jupyter-widgets/controls",
          "model_name": "DescriptionStyleModel",
          "model_module_version": "1.5.0",
          "state": {
            "_model_module": "@jupyter-widgets/controls",
            "_model_module_version": "1.5.0",
            "_model_name": "DescriptionStyleModel",
            "_view_count": null,
            "_view_module": "@jupyter-widgets/base",
            "_view_module_version": "1.2.0",
            "_view_name": "StyleView",
            "description_width": ""
          }
        }
      }
    }
  },
  "cells": [
    {
      "cell_type": "markdown",
      "metadata": {
        "id": "view-in-github",
        "colab_type": "text"
      },
      "source": [
        "<a href=\"https://colab.research.google.com/github/engineerksm/RF_Diagnosys_Dev/blob/master/GRU_LSTM_for_Fault_Prognostic_Final.ipynb\" target=\"_parent\"><img src=\"https://colab.research.google.com/assets/colab-badge.svg\" alt=\"Open In Colab\"/></a>"
      ]
    },
    {
      "cell_type": "markdown",
      "metadata": {
        "id": "1sJH-B2v6DU_"
      },
      "source": [
        "# mount google drive to google colab"
      ]
    },
    {
      "cell_type": "code",
      "metadata": {
        "id": "JtaqPtC1rKLc",
        "colab": {
          "base_uri": "https://localhost:8080/"
        },
        "outputId": "597ae1c1-3a5b-4974-a601-795580df652d"
      },
      "source": [
        "from google.colab import drive\n",
        "drive.mount(\"/content/drive\")"
      ],
      "execution_count": 1,
      "outputs": [
        {
          "output_type": "stream",
          "name": "stdout",
          "text": [
            "Drive already mounted at /content/drive; to attempt to forcibly remount, call drive.mount(\"/content/drive\", force_remount=True).\n"
          ]
        }
      ]
    },
    {
      "cell_type": "code",
      "metadata": {
        "id": "jG3_nxe1tMiN",
        "colab": {
          "base_uri": "https://localhost:8080/"
        },
        "outputId": "537242ac-74ab-487c-fc10-141a6be7d039"
      },
      "source": [
        "cd /content/drive/My Drive/Colab Notebooks/HAICON"
      ],
      "execution_count": 2,
      "outputs": [
        {
          "output_type": "stream",
          "name": "stdout",
          "text": [
            "/content/drive/My Drive/Colab Notebooks/HAICON\n"
          ]
        }
      ]
    },
    {
      "cell_type": "markdown",
      "metadata": {
        "id": "RCILSy-q-dAF"
      },
      "source": [
        "* Note that everytime you rerun"
      ]
    },
    {
      "cell_type": "code",
      "metadata": {
        "id": "Wj78OtUJtkg_",
        "colab": {
          "base_uri": "https://localhost:8080/"
        },
        "outputId": "3cf24a30-0b94-4e58-db79-cf1e20d8dbbe"
      },
      "source": [
        "pip install eTaPR-1.12-py3-none-any.whl"
      ],
      "execution_count": 3,
      "outputs": [
        {
          "output_type": "stream",
          "name": "stdout",
          "text": [
            "Looking in indexes: https://pypi.org/simple, https://us-python.pkg.dev/colab-wheels/public/simple/\n",
            "Processing ./eTaPR-1.12-py3-none-any.whl\n",
            "eTaPR is already installed with the same version as the provided wheel. Use --force-reinstall to force an installation of the wheel.\n"
          ]
        }
      ]
    },
    {
      "cell_type": "code",
      "metadata": {
        "id": "KFuPDfl5tpl2"
      },
      "source": [
        "import sys\n",
        "\n",
        "from pathlib import Path\n",
        "from datetime import timedelta\n",
        "\n",
        "import dateutil\n",
        "import numpy as np\n",
        "import matplotlib.pyplot as plt\n",
        "import pandas as pd\n",
        "import torch\n",
        "\n",
        "from torch.utils.data import Dataset, DataLoader\n",
        "from tqdm.notebook import trange\n",
        "from TaPR_pkg import etapr"
      ],
      "execution_count": 4,
      "outputs": []
    },
    {
      "cell_type": "code",
      "metadata": {
        "id": "Pb4CL52wzfSb"
      },
      "source": [
        "torch.manual_seed(0)\n",
        "torch.backends.cudnn.deterministic = True\n",
        "torch.backends.cudnn.benchmark = False\n",
        "np.random.seed(0)"
      ],
      "execution_count": 5,
      "outputs": []
    },
    {
      "cell_type": "code",
      "source": [
        "torch.cuda.is_available()"
      ],
      "metadata": {
        "colab": {
          "base_uri": "https://localhost:8080/"
        },
        "id": "-D4N8GAcKt02",
        "outputId": "e907395b-f43b-4a58-cbae-d02e79061329"
      },
      "execution_count": 6,
      "outputs": [
        {
          "output_type": "execute_result",
          "data": {
            "text/plain": [
              "True"
            ]
          },
          "metadata": {},
          "execution_count": 6
        }
      ]
    },
    {
      "cell_type": "markdown",
      "source": [
        "**Data Preprocessing**"
      ],
      "metadata": {
        "id": "hG16JNDAWTE9"
      }
    },
    {
      "cell_type": "code",
      "metadata": {
        "id": "UHI1UtqjzEZa",
        "outputId": "aeac35a0-f0fd-436d-d6f8-4b456a1e4795",
        "colab": {
          "base_uri": "https://localhost:8080/"
        }
      },
      "source": [
        "TRAIN_DATASET = sorted([x for x in Path(\"data/training/\").glob(\"*.csv\")])\n",
        "TRAIN_DATASET"
      ],
      "execution_count": 7,
      "outputs": [
        {
          "output_type": "execute_result",
          "data": {
            "text/plain": [
              "[PosixPath('data/training/train1.csv'),\n",
              " PosixPath('data/training/train2.csv'),\n",
              " PosixPath('data/training/train3.csv')]"
            ]
          },
          "metadata": {},
          "execution_count": 7
        }
      ]
    },
    {
      "cell_type": "code",
      "metadata": {
        "id": "Lv165WrAzEb7",
        "outputId": "ae77dba4-1958-4333-e126-9e4dc897c597",
        "colab": {
          "base_uri": "https://localhost:8080/"
        }
      },
      "source": [
        "TEST_DATASET = sorted([x for x in Path(\"data/testing/\").glob(\"*.csv\")])\n",
        "TEST_DATASET"
      ],
      "execution_count": 8,
      "outputs": [
        {
          "output_type": "execute_result",
          "data": {
            "text/plain": [
              "[PosixPath('data/testing/test1.csv'),\n",
              " PosixPath('data/testing/test2.csv'),\n",
              " PosixPath('data/testing/test3.csv'),\n",
              " PosixPath('data/testing/test4.csv')]"
            ]
          },
          "metadata": {},
          "execution_count": 8
        }
      ]
    },
    {
      "cell_type": "code",
      "metadata": {
        "id": "1ZISBpBAzEeT",
        "outputId": "fe3ce4c2-386f-4d7c-d6a0-94a6df8fb94f",
        "colab": {
          "base_uri": "https://localhost:8080/"
        }
      },
      "source": [
        "VALIDATION_DATASET = sorted([x for x in Path(\"data/validation/\").glob(\"*.csv\")])\n",
        "VALIDATION_DATASET"
      ],
      "execution_count": 9,
      "outputs": [
        {
          "output_type": "execute_result",
          "data": {
            "text/plain": [
              "[PosixPath('data/validation/validation.csv')]"
            ]
          },
          "metadata": {},
          "execution_count": 9
        }
      ]
    },
    {
      "cell_type": "code",
      "metadata": {
        "id": "RNJjHBDWzUWr"
      },
      "source": [
        "def dataframe_from_csv(target):\n",
        "    return pd.read_csv(target).rename(columns=lambda x: x.strip())\n",
        "\n",
        "def dataframe_from_csvs(targets):\n",
        "    return pd.concat([dataframe_from_csv(x) for x in targets])"
      ],
      "execution_count": 10,
      "outputs": []
    },
    {
      "cell_type": "code",
      "metadata": {
        "id": "r4xrOuPXzUYq",
        "outputId": "1579856d-be58-4a02-b90c-11f6776ae445",
        "colab": {
          "base_uri": "https://localhost:8080/",
          "height": 835
        }
      },
      "source": [
        "TRAIN_DF_RAW = dataframe_from_csvs(TRAIN_DATASET)\n",
        "TRAIN_DF_RAW"
      ],
      "execution_count": 11,
      "outputs": [
        {
          "output_type": "execute_result",
          "data": {
            "text/plain": [
              "                       time        C01  C02  C03       C04     C05      C06  \\\n",
              "0       2020-07-11 00:00:00  395.19528   12   10  52.80456 -1.2648 -1.87531   \n",
              "1       2020-07-11 00:00:01  395.14420   12   10  52.78931 -1.3147 -1.88294   \n",
              "2       2020-07-11 00:00:02  395.14420   12   10  52.79694 -1.4032 -1.88294   \n",
              "3       2020-07-11 00:00:03  395.19528   12   10  52.79694 -1.6074 -1.88294   \n",
              "4       2020-07-11 00:00:04  395.34866   12   10  52.79694 -1.7811 -1.88294   \n",
              "...                     ...        ...  ...  ...       ...     ...      ...   \n",
              "478796  2020-08-10 10:59:56  387.27219   12   10  66.72057 -0.9331 -1.84479   \n",
              "478797  2020-08-10 10:59:57  387.52774   12   10  66.72057 -0.9996 -1.84479   \n",
              "478798  2020-08-10 10:59:58  387.47665   12   10  66.72057 -1.2560 -1.84479   \n",
              "478799  2020-08-10 10:59:59  387.73221   12   10  66.72057 -1.4912 -1.84479   \n",
              "478800  2020-08-10 11:00:00  387.52774   12   10  66.72057 -1.5727 -1.84479   \n",
              "\n",
              "              C07       C08      C09  ...        C70  C71      C72       C73  \\\n",
              "0       779.59595  28.02645  10832.0  ...  808.29620  0.0  1.36810   8.79882   \n",
              "1       780.67328  28.02473  10984.0  ...  819.16809  0.0  1.36810   8.78811   \n",
              "2       780.06574  28.02817  11120.0  ...  823.51697  0.0  1.36734   8.81787   \n",
              "3       780.15265  28.02301  11256.0  ...  823.95172  0.0  1.36734   8.87493   \n",
              "4       781.83160  28.03595  11384.0  ...  827.86560  0.0  1.36810   8.83838   \n",
              "...           ...       ...      ...  ...        ...  ...      ...       ...   \n",
              "478796  781.87915  28.02389    880.0  ...  944.84705  0.0  1.32843  15.17817   \n",
              "478797  787.65070  28.02385    840.0  ...  940.49835  0.0  1.32843  15.17344   \n",
              "478798  788.50256  28.03085    792.0  ...  935.71472  0.0  1.32919  15.16443   \n",
              "478799  785.80316  28.02649    752.0  ...  944.84705  0.0  1.32843  15.09001   \n",
              "478800  780.21381  28.02476    720.0  ...  951.80505  0.0  1.32919  15.08672   \n",
              "\n",
              "             C74       C75        C76        C77      C78     C79  \n",
              "0       35.43700  12.01782  305.03113  301.35992  33.6555  6.0951  \n",
              "1       35.45227  12.01782  304.27161  297.43567  33.6555  5.9262  \n",
              "2       35.45227  12.01782  303.89179  298.66534  33.6555  5.8101  \n",
              "3       35.43700  12.01782  303.67474  298.06860  33.6555  5.7509  \n",
              "4       35.45227  12.01782  303.22266  296.53137  33.6555  5.8547  \n",
              "...          ...       ...        ...        ...      ...     ...  \n",
              "478796  35.14710  11.79657  316.89453  296.54950  32.0000  6.6026  \n",
              "478797  35.13183  11.79657  315.59247  296.15161  32.0000  6.3894  \n",
              "478798  35.13183  11.79657  313.92865  293.40277  32.0000  6.2584  \n",
              "478799  35.14710  11.79657  315.61054  302.58972  32.0000  6.4150  \n",
              "478800  35.14710  11.79657  317.23816  309.00964  32.0000  6.6288  \n",
              "\n",
              "[921603 rows x 80 columns]"
            ],
            "text/html": [
              "\n",
              "  <div id=\"df-05798d15-a075-47ab-ac71-0a22ab3ce328\">\n",
              "    <div class=\"colab-df-container\">\n",
              "      <div>\n",
              "<style scoped>\n",
              "    .dataframe tbody tr th:only-of-type {\n",
              "        vertical-align: middle;\n",
              "    }\n",
              "\n",
              "    .dataframe tbody tr th {\n",
              "        vertical-align: top;\n",
              "    }\n",
              "\n",
              "    .dataframe thead th {\n",
              "        text-align: right;\n",
              "    }\n",
              "</style>\n",
              "<table border=\"1\" class=\"dataframe\">\n",
              "  <thead>\n",
              "    <tr style=\"text-align: right;\">\n",
              "      <th></th>\n",
              "      <th>time</th>\n",
              "      <th>C01</th>\n",
              "      <th>C02</th>\n",
              "      <th>C03</th>\n",
              "      <th>C04</th>\n",
              "      <th>C05</th>\n",
              "      <th>C06</th>\n",
              "      <th>C07</th>\n",
              "      <th>C08</th>\n",
              "      <th>C09</th>\n",
              "      <th>...</th>\n",
              "      <th>C70</th>\n",
              "      <th>C71</th>\n",
              "      <th>C72</th>\n",
              "      <th>C73</th>\n",
              "      <th>C74</th>\n",
              "      <th>C75</th>\n",
              "      <th>C76</th>\n",
              "      <th>C77</th>\n",
              "      <th>C78</th>\n",
              "      <th>C79</th>\n",
              "    </tr>\n",
              "  </thead>\n",
              "  <tbody>\n",
              "    <tr>\n",
              "      <th>0</th>\n",
              "      <td>2020-07-11 00:00:00</td>\n",
              "      <td>395.19528</td>\n",
              "      <td>12</td>\n",
              "      <td>10</td>\n",
              "      <td>52.80456</td>\n",
              "      <td>-1.2648</td>\n",
              "      <td>-1.87531</td>\n",
              "      <td>779.59595</td>\n",
              "      <td>28.02645</td>\n",
              "      <td>10832.0</td>\n",
              "      <td>...</td>\n",
              "      <td>808.29620</td>\n",
              "      <td>0.0</td>\n",
              "      <td>1.36810</td>\n",
              "      <td>8.79882</td>\n",
              "      <td>35.43700</td>\n",
              "      <td>12.01782</td>\n",
              "      <td>305.03113</td>\n",
              "      <td>301.35992</td>\n",
              "      <td>33.6555</td>\n",
              "      <td>6.0951</td>\n",
              "    </tr>\n",
              "    <tr>\n",
              "      <th>1</th>\n",
              "      <td>2020-07-11 00:00:01</td>\n",
              "      <td>395.14420</td>\n",
              "      <td>12</td>\n",
              "      <td>10</td>\n",
              "      <td>52.78931</td>\n",
              "      <td>-1.3147</td>\n",
              "      <td>-1.88294</td>\n",
              "      <td>780.67328</td>\n",
              "      <td>28.02473</td>\n",
              "      <td>10984.0</td>\n",
              "      <td>...</td>\n",
              "      <td>819.16809</td>\n",
              "      <td>0.0</td>\n",
              "      <td>1.36810</td>\n",
              "      <td>8.78811</td>\n",
              "      <td>35.45227</td>\n",
              "      <td>12.01782</td>\n",
              "      <td>304.27161</td>\n",
              "      <td>297.43567</td>\n",
              "      <td>33.6555</td>\n",
              "      <td>5.9262</td>\n",
              "    </tr>\n",
              "    <tr>\n",
              "      <th>2</th>\n",
              "      <td>2020-07-11 00:00:02</td>\n",
              "      <td>395.14420</td>\n",
              "      <td>12</td>\n",
              "      <td>10</td>\n",
              "      <td>52.79694</td>\n",
              "      <td>-1.4032</td>\n",
              "      <td>-1.88294</td>\n",
              "      <td>780.06574</td>\n",
              "      <td>28.02817</td>\n",
              "      <td>11120.0</td>\n",
              "      <td>...</td>\n",
              "      <td>823.51697</td>\n",
              "      <td>0.0</td>\n",
              "      <td>1.36734</td>\n",
              "      <td>8.81787</td>\n",
              "      <td>35.45227</td>\n",
              "      <td>12.01782</td>\n",
              "      <td>303.89179</td>\n",
              "      <td>298.66534</td>\n",
              "      <td>33.6555</td>\n",
              "      <td>5.8101</td>\n",
              "    </tr>\n",
              "    <tr>\n",
              "      <th>3</th>\n",
              "      <td>2020-07-11 00:00:03</td>\n",
              "      <td>395.19528</td>\n",
              "      <td>12</td>\n",
              "      <td>10</td>\n",
              "      <td>52.79694</td>\n",
              "      <td>-1.6074</td>\n",
              "      <td>-1.88294</td>\n",
              "      <td>780.15265</td>\n",
              "      <td>28.02301</td>\n",
              "      <td>11256.0</td>\n",
              "      <td>...</td>\n",
              "      <td>823.95172</td>\n",
              "      <td>0.0</td>\n",
              "      <td>1.36734</td>\n",
              "      <td>8.87493</td>\n",
              "      <td>35.43700</td>\n",
              "      <td>12.01782</td>\n",
              "      <td>303.67474</td>\n",
              "      <td>298.06860</td>\n",
              "      <td>33.6555</td>\n",
              "      <td>5.7509</td>\n",
              "    </tr>\n",
              "    <tr>\n",
              "      <th>4</th>\n",
              "      <td>2020-07-11 00:00:04</td>\n",
              "      <td>395.34866</td>\n",
              "      <td>12</td>\n",
              "      <td>10</td>\n",
              "      <td>52.79694</td>\n",
              "      <td>-1.7811</td>\n",
              "      <td>-1.88294</td>\n",
              "      <td>781.83160</td>\n",
              "      <td>28.03595</td>\n",
              "      <td>11384.0</td>\n",
              "      <td>...</td>\n",
              "      <td>827.86560</td>\n",
              "      <td>0.0</td>\n",
              "      <td>1.36810</td>\n",
              "      <td>8.83838</td>\n",
              "      <td>35.45227</td>\n",
              "      <td>12.01782</td>\n",
              "      <td>303.22266</td>\n",
              "      <td>296.53137</td>\n",
              "      <td>33.6555</td>\n",
              "      <td>5.8547</td>\n",
              "    </tr>\n",
              "    <tr>\n",
              "      <th>...</th>\n",
              "      <td>...</td>\n",
              "      <td>...</td>\n",
              "      <td>...</td>\n",
              "      <td>...</td>\n",
              "      <td>...</td>\n",
              "      <td>...</td>\n",
              "      <td>...</td>\n",
              "      <td>...</td>\n",
              "      <td>...</td>\n",
              "      <td>...</td>\n",
              "      <td>...</td>\n",
              "      <td>...</td>\n",
              "      <td>...</td>\n",
              "      <td>...</td>\n",
              "      <td>...</td>\n",
              "      <td>...</td>\n",
              "      <td>...</td>\n",
              "      <td>...</td>\n",
              "      <td>...</td>\n",
              "      <td>...</td>\n",
              "      <td>...</td>\n",
              "    </tr>\n",
              "    <tr>\n",
              "      <th>478796</th>\n",
              "      <td>2020-08-10 10:59:56</td>\n",
              "      <td>387.27219</td>\n",
              "      <td>12</td>\n",
              "      <td>10</td>\n",
              "      <td>66.72057</td>\n",
              "      <td>-0.9331</td>\n",
              "      <td>-1.84479</td>\n",
              "      <td>781.87915</td>\n",
              "      <td>28.02389</td>\n",
              "      <td>880.0</td>\n",
              "      <td>...</td>\n",
              "      <td>944.84705</td>\n",
              "      <td>0.0</td>\n",
              "      <td>1.32843</td>\n",
              "      <td>15.17817</td>\n",
              "      <td>35.14710</td>\n",
              "      <td>11.79657</td>\n",
              "      <td>316.89453</td>\n",
              "      <td>296.54950</td>\n",
              "      <td>32.0000</td>\n",
              "      <td>6.6026</td>\n",
              "    </tr>\n",
              "    <tr>\n",
              "      <th>478797</th>\n",
              "      <td>2020-08-10 10:59:57</td>\n",
              "      <td>387.52774</td>\n",
              "      <td>12</td>\n",
              "      <td>10</td>\n",
              "      <td>66.72057</td>\n",
              "      <td>-0.9996</td>\n",
              "      <td>-1.84479</td>\n",
              "      <td>787.65070</td>\n",
              "      <td>28.02385</td>\n",
              "      <td>840.0</td>\n",
              "      <td>...</td>\n",
              "      <td>940.49835</td>\n",
              "      <td>0.0</td>\n",
              "      <td>1.32843</td>\n",
              "      <td>15.17344</td>\n",
              "      <td>35.13183</td>\n",
              "      <td>11.79657</td>\n",
              "      <td>315.59247</td>\n",
              "      <td>296.15161</td>\n",
              "      <td>32.0000</td>\n",
              "      <td>6.3894</td>\n",
              "    </tr>\n",
              "    <tr>\n",
              "      <th>478798</th>\n",
              "      <td>2020-08-10 10:59:58</td>\n",
              "      <td>387.47665</td>\n",
              "      <td>12</td>\n",
              "      <td>10</td>\n",
              "      <td>66.72057</td>\n",
              "      <td>-1.2560</td>\n",
              "      <td>-1.84479</td>\n",
              "      <td>788.50256</td>\n",
              "      <td>28.03085</td>\n",
              "      <td>792.0</td>\n",
              "      <td>...</td>\n",
              "      <td>935.71472</td>\n",
              "      <td>0.0</td>\n",
              "      <td>1.32919</td>\n",
              "      <td>15.16443</td>\n",
              "      <td>35.13183</td>\n",
              "      <td>11.79657</td>\n",
              "      <td>313.92865</td>\n",
              "      <td>293.40277</td>\n",
              "      <td>32.0000</td>\n",
              "      <td>6.2584</td>\n",
              "    </tr>\n",
              "    <tr>\n",
              "      <th>478799</th>\n",
              "      <td>2020-08-10 10:59:59</td>\n",
              "      <td>387.73221</td>\n",
              "      <td>12</td>\n",
              "      <td>10</td>\n",
              "      <td>66.72057</td>\n",
              "      <td>-1.4912</td>\n",
              "      <td>-1.84479</td>\n",
              "      <td>785.80316</td>\n",
              "      <td>28.02649</td>\n",
              "      <td>752.0</td>\n",
              "      <td>...</td>\n",
              "      <td>944.84705</td>\n",
              "      <td>0.0</td>\n",
              "      <td>1.32843</td>\n",
              "      <td>15.09001</td>\n",
              "      <td>35.14710</td>\n",
              "      <td>11.79657</td>\n",
              "      <td>315.61054</td>\n",
              "      <td>302.58972</td>\n",
              "      <td>32.0000</td>\n",
              "      <td>6.4150</td>\n",
              "    </tr>\n",
              "    <tr>\n",
              "      <th>478800</th>\n",
              "      <td>2020-08-10 11:00:00</td>\n",
              "      <td>387.52774</td>\n",
              "      <td>12</td>\n",
              "      <td>10</td>\n",
              "      <td>66.72057</td>\n",
              "      <td>-1.5727</td>\n",
              "      <td>-1.84479</td>\n",
              "      <td>780.21381</td>\n",
              "      <td>28.02476</td>\n",
              "      <td>720.0</td>\n",
              "      <td>...</td>\n",
              "      <td>951.80505</td>\n",
              "      <td>0.0</td>\n",
              "      <td>1.32919</td>\n",
              "      <td>15.08672</td>\n",
              "      <td>35.14710</td>\n",
              "      <td>11.79657</td>\n",
              "      <td>317.23816</td>\n",
              "      <td>309.00964</td>\n",
              "      <td>32.0000</td>\n",
              "      <td>6.6288</td>\n",
              "    </tr>\n",
              "  </tbody>\n",
              "</table>\n",
              "<p>921603 rows × 80 columns</p>\n",
              "</div>\n",
              "      <button class=\"colab-df-convert\" onclick=\"convertToInteractive('df-05798d15-a075-47ab-ac71-0a22ab3ce328')\"\n",
              "              title=\"Convert this dataframe to an interactive table.\"\n",
              "              style=\"display:none;\">\n",
              "        \n",
              "  <svg xmlns=\"http://www.w3.org/2000/svg\" height=\"24px\"viewBox=\"0 0 24 24\"\n",
              "       width=\"24px\">\n",
              "    <path d=\"M0 0h24v24H0V0z\" fill=\"none\"/>\n",
              "    <path d=\"M18.56 5.44l.94 2.06.94-2.06 2.06-.94-2.06-.94-.94-2.06-.94 2.06-2.06.94zm-11 1L8.5 8.5l.94-2.06 2.06-.94-2.06-.94L8.5 2.5l-.94 2.06-2.06.94zm10 10l.94 2.06.94-2.06 2.06-.94-2.06-.94-.94-2.06-.94 2.06-2.06.94z\"/><path d=\"M17.41 7.96l-1.37-1.37c-.4-.4-.92-.59-1.43-.59-.52 0-1.04.2-1.43.59L10.3 9.45l-7.72 7.72c-.78.78-.78 2.05 0 2.83L4 21.41c.39.39.9.59 1.41.59.51 0 1.02-.2 1.41-.59l7.78-7.78 2.81-2.81c.8-.78.8-2.07 0-2.86zM5.41 20L4 18.59l7.72-7.72 1.47 1.35L5.41 20z\"/>\n",
              "  </svg>\n",
              "      </button>\n",
              "      \n",
              "  <style>\n",
              "    .colab-df-container {\n",
              "      display:flex;\n",
              "      flex-wrap:wrap;\n",
              "      gap: 12px;\n",
              "    }\n",
              "\n",
              "    .colab-df-convert {\n",
              "      background-color: #E8F0FE;\n",
              "      border: none;\n",
              "      border-radius: 50%;\n",
              "      cursor: pointer;\n",
              "      display: none;\n",
              "      fill: #1967D2;\n",
              "      height: 32px;\n",
              "      padding: 0 0 0 0;\n",
              "      width: 32px;\n",
              "    }\n",
              "\n",
              "    .colab-df-convert:hover {\n",
              "      background-color: #E2EBFA;\n",
              "      box-shadow: 0px 1px 2px rgba(60, 64, 67, 0.3), 0px 1px 3px 1px rgba(60, 64, 67, 0.15);\n",
              "      fill: #174EA6;\n",
              "    }\n",
              "\n",
              "    [theme=dark] .colab-df-convert {\n",
              "      background-color: #3B4455;\n",
              "      fill: #D2E3FC;\n",
              "    }\n",
              "\n",
              "    [theme=dark] .colab-df-convert:hover {\n",
              "      background-color: #434B5C;\n",
              "      box-shadow: 0px 1px 3px 1px rgba(0, 0, 0, 0.15);\n",
              "      filter: drop-shadow(0px 1px 2px rgba(0, 0, 0, 0.3));\n",
              "      fill: #FFFFFF;\n",
              "    }\n",
              "  </style>\n",
              "\n",
              "      <script>\n",
              "        const buttonEl =\n",
              "          document.querySelector('#df-05798d15-a075-47ab-ac71-0a22ab3ce328 button.colab-df-convert');\n",
              "        buttonEl.style.display =\n",
              "          google.colab.kernel.accessAllowed ? 'block' : 'none';\n",
              "\n",
              "        async function convertToInteractive(key) {\n",
              "          const element = document.querySelector('#df-05798d15-a075-47ab-ac71-0a22ab3ce328');\n",
              "          const dataTable =\n",
              "            await google.colab.kernel.invokeFunction('convertToInteractive',\n",
              "                                                     [key], {});\n",
              "          if (!dataTable) return;\n",
              "\n",
              "          const docLinkHtml = 'Like what you see? Visit the ' +\n",
              "            '<a target=\"_blank\" href=https://colab.research.google.com/notebooks/data_table.ipynb>data table notebook</a>'\n",
              "            + ' to learn more about interactive tables.';\n",
              "          element.innerHTML = '';\n",
              "          dataTable['output_type'] = 'display_data';\n",
              "          await google.colab.output.renderOutput(dataTable, element);\n",
              "          const docLink = document.createElement('div');\n",
              "          docLink.innerHTML = docLinkHtml;\n",
              "          element.appendChild(docLink);\n",
              "        }\n",
              "      </script>\n",
              "    </div>\n",
              "  </div>\n",
              "  "
            ]
          },
          "metadata": {},
          "execution_count": 11
        }
      ]
    },
    {
      "cell_type": "markdown",
      "metadata": {
        "id": "5MXWST9IcFD6"
      },
      "source": [
        "Find the mean, median, and standard deviation for C04 column"
      ]
    },
    {
      "cell_type": "code",
      "metadata": {
        "id": "oUjsnSJzcDj7",
        "outputId": "e8daa51a-e025-40c9-954d-de6c6a5ad28b",
        "colab": {
          "base_uri": "https://localhost:8080/"
        }
      },
      "source": [
        "mean_result = TRAIN_DF_RAW['C04'].mean(axis='rows', skipna=True)\n",
        "median_result = TRAIN_DF_RAW['C04'].median(axis='rows', skipna=True)\n",
        "std_result = TRAIN_DF_RAW['C04'].std(axis='rows', skipna=True)\n",
        "print('mean value in C04 columns \\n {0}'.format(mean_result))\n",
        "print('median value in C04 columns \\n {0}'.format(median_result))\n",
        "print('standard deviation in C04 columns \\n {0}'.format(std_result))"
      ],
      "execution_count": 12,
      "outputs": [
        {
          "output_type": "stream",
          "name": "stdout",
          "text": [
            "mean value in C04 columns \n",
            " 59.299039180189276\n",
            "median value in C04 columns \n",
            " 61.05194\n",
            "standard deviation in C04 columns \n",
            " 6.714803964331488\n"
          ]
        }
      ]
    },
    {
      "cell_type": "code",
      "metadata": {
        "id": "gwrLwT1gledp"
      },
      "source": [
        "import numpy as np"
      ],
      "execution_count": 13,
      "outputs": []
    },
    {
      "cell_type": "code",
      "metadata": {
        "id": "wg9D142shj1P",
        "outputId": "7b1fb018-2886-4df9-a92e-e0f1e70cbe63",
        "colab": {
          "base_uri": "https://localhost:8080/"
        }
      },
      "source": [
        "TRAIN_DF_RAW = TRAIN_DF_RAW.fillna(0)\n",
        "std_result = TRAIN_DF_RAW.std(axis='rows', skipna=True)\n",
        "std_result = np.round(std_result, 2)\n",
        "print('standard deviation in each columns \\n {0}'.format(std_result))"
      ],
      "execution_count": 14,
      "outputs": [
        {
          "output_type": "stream",
          "name": "stdout",
          "text": [
            "standard deviation in each columns \n",
            " C01    15.63\n",
            "C02     0.00\n",
            "C03     0.00\n",
            "C04     6.71\n",
            "C05     0.35\n",
            "       ...  \n",
            "C75     0.10\n",
            "C76    34.45\n",
            "C77    37.85\n",
            "C78     0.58\n",
            "C79     0.38\n",
            "Length: 79, dtype: float64\n"
          ]
        },
        {
          "output_type": "stream",
          "name": "stderr",
          "text": [
            "<ipython-input-14-a7976ef2b2a0>:2: FutureWarning: Dropping of nuisance columns in DataFrame reductions (with 'numeric_only=None') is deprecated; in a future version this will raise TypeError.  Select only valid columns before calling the reduction.\n",
            "  std_result = TRAIN_DF_RAW.std(axis='rows', skipna=True)\n"
          ]
        }
      ]
    },
    {
      "cell_type": "code",
      "metadata": {
        "id": "cKhAEZ1JkvJv",
        "outputId": "819ef951-e60d-4365-f6fc-da1be89b36d9",
        "colab": {
          "base_uri": "https://localhost:8080/"
        }
      },
      "source": [
        "original_Params = list(TRAIN_DF_RAW.columns)\n",
        "print('Original columns list : {0}'.format(original_Params))"
      ],
      "execution_count": 15,
      "outputs": [
        {
          "output_type": "stream",
          "name": "stdout",
          "text": [
            "Original columns list : ['time', 'C01', 'C02', 'C03', 'C04', 'C05', 'C06', 'C07', 'C08', 'C09', 'C10', 'C11', 'C12', 'C13', 'C14', 'C15', 'C16', 'C17', 'C18', 'C19', 'C20', 'C21', 'C22', 'C23', 'C24', 'C25', 'C26', 'C27', 'C28', 'C29', 'C30', 'C31', 'C32', 'C33', 'C34', 'C35', 'C36', 'C37', 'C38', 'C39', 'C40', 'C41', 'C42', 'C43', 'C44', 'C45', 'C46', 'C47', 'C48', 'C49', 'C50', 'C51', 'C52', 'C53', 'C54', 'C55', 'C56', 'C57', 'C58', 'C59', 'C60', 'C61', 'C62', 'C63', 'C64', 'C65', 'C66', 'C67', 'C68', 'C69', 'C70', 'C71', 'C72', 'C73', 'C74', 'C75', 'C76', 'C77', 'C78', 'C79']\n"
          ]
        }
      ]
    },
    {
      "cell_type": "code",
      "source": [
        "len(original_Params), original_Params[1]\n",
        "for idx in range(1, len(original_Params)) : \n",
        "  std_result = TRAIN_DF_RAW[(original_Params[idx])].std(axis='rows', skipna=True)\n",
        "  #print('{0} {1}\\n'.format(original_Params[idx], std_result))\n",
        "  if (std_result == 0) : \n",
        "    TRAIN_DF_RAW.drop(columns=[original_Params[idx]], axis=1,inplace=True)\n",
        "    print('{0} {1}\\t'.format(original_Params[idx], std_result))"
      ],
      "metadata": {
        "id": "oUy7do-0EwMp",
        "outputId": "972d3aea-f1db-420c-921e-2d9a3579d605",
        "colab": {
          "base_uri": "https://localhost:8080/"
        }
      },
      "execution_count": 16,
      "outputs": [
        {
          "output_type": "stream",
          "name": "stdout",
          "text": [
            "C02 0.0\t\n",
            "C03 0.0\t\n",
            "C14 0.0\t\n",
            "C18 0.0\t\n",
            "C19 0.0\t\n",
            "C21 0.0\t\n",
            "C22 0.0\t\n",
            "C33 0.0\t\n",
            "C34 0.0\t\n",
            "C35 0.0\t\n",
            "C37 0.0\t\n",
            "C40 0.0\t\n",
            "C43 0.0\t\n",
            "C51 0.0\t\n",
            "C52 0.0\t\n",
            "C59 0.0\t\n",
            "C61 0.0\t\n",
            "C63 0.0\t\n",
            "C64 0.0\t\n",
            "C65 0.0\t\n",
            "C67 0.0\t\n"
          ]
        }
      ]
    },
    {
      "cell_type": "code",
      "source": [
        "Revised_Params = list(TRAIN_DF_RAW.columns)\n",
        "print('Revised columns list : {0}'.format(Revised_Params))"
      ],
      "metadata": {
        "id": "LWE3Se_sC0Ql",
        "outputId": "49de95cb-d996-4515-87ef-2c9c132953c6",
        "colab": {
          "base_uri": "https://localhost:8080/"
        }
      },
      "execution_count": 17,
      "outputs": [
        {
          "output_type": "stream",
          "name": "stdout",
          "text": [
            "Revised columns list : ['time', 'C01', 'C04', 'C05', 'C06', 'C07', 'C08', 'C09', 'C10', 'C11', 'C12', 'C13', 'C15', 'C16', 'C17', 'C20', 'C23', 'C24', 'C25', 'C26', 'C27', 'C28', 'C29', 'C30', 'C31', 'C32', 'C36', 'C38', 'C39', 'C41', 'C42', 'C44', 'C45', 'C46', 'C47', 'C48', 'C49', 'C50', 'C53', 'C54', 'C55', 'C56', 'C57', 'C58', 'C60', 'C62', 'C66', 'C68', 'C69', 'C70', 'C71', 'C72', 'C73', 'C74', 'C75', 'C76', 'C77', 'C78', 'C79']\n"
          ]
        }
      ]
    },
    {
      "cell_type": "code",
      "metadata": {
        "id": "Tvl-vqEKzUa5",
        "outputId": "30f612c2-6d80-4d77-f824-ef70931ac557",
        "colab": {
          "base_uri": "https://localhost:8080/"
        }
      },
      "source": [
        "TIMESTAMP_FIELD = \"time\"\n",
        "IDSTAMP_FIELD = 'id'\n",
        "ATTACK_FIELD = \"attack\"\n",
        "VALID_COLUMNS_IN_TRAIN_DATASET = TRAIN_DF_RAW.columns.drop([TIMESTAMP_FIELD])\n",
        "VALID_COLUMNS_IN_TRAIN_DATASET"
      ],
      "execution_count": 18,
      "outputs": [
        {
          "output_type": "execute_result",
          "data": {
            "text/plain": [
              "Index(['C01', 'C04', 'C05', 'C06', 'C07', 'C08', 'C09', 'C10', 'C11', 'C12',\n",
              "       'C13', 'C15', 'C16', 'C17', 'C20', 'C23', 'C24', 'C25', 'C26', 'C27',\n",
              "       'C28', 'C29', 'C30', 'C31', 'C32', 'C36', 'C38', 'C39', 'C41', 'C42',\n",
              "       'C44', 'C45', 'C46', 'C47', 'C48', 'C49', 'C50', 'C53', 'C54', 'C55',\n",
              "       'C56', 'C57', 'C58', 'C60', 'C62', 'C66', 'C68', 'C69', 'C70', 'C71',\n",
              "       'C72', 'C73', 'C74', 'C75', 'C76', 'C77', 'C78', 'C79'],\n",
              "      dtype='object')"
            ]
          },
          "metadata": {},
          "execution_count": 18
        }
      ]
    },
    {
      "cell_type": "code",
      "metadata": {
        "id": "Iws6Xwif7Yhy",
        "outputId": "53ed8f47-f22c-42c1-9523-e31fad538e07",
        "colab": {
          "base_uri": "https://localhost:8080/",
          "height": 488
        }
      },
      "source": [
        "TRAIN_DF_RAW[VALID_COLUMNS_IN_TRAIN_DATASET]"
      ],
      "execution_count": 19,
      "outputs": [
        {
          "output_type": "execute_result",
          "data": {
            "text/plain": [
              "              C01       C04     C05      C06        C07       C08      C09  \\\n",
              "0       395.19528  52.80456 -1.2648 -1.87531  779.59595  28.02645  10832.0   \n",
              "1       395.14420  52.78931 -1.3147 -1.88294  780.67328  28.02473  10984.0   \n",
              "2       395.14420  52.79694 -1.4032 -1.88294  780.06574  28.02817  11120.0   \n",
              "3       395.19528  52.79694 -1.6074 -1.88294  780.15265  28.02301  11256.0   \n",
              "4       395.34866  52.79694 -1.7811 -1.88294  781.83160  28.03595  11384.0   \n",
              "...           ...       ...     ...      ...        ...       ...      ...   \n",
              "478796  387.27219  66.72057 -0.9331 -1.84479  781.87915  28.02389    880.0   \n",
              "478797  387.52774  66.72057 -0.9996 -1.84479  787.65070  28.02385    840.0   \n",
              "478798  387.47665  66.72057 -1.2560 -1.84479  788.50256  28.03085    792.0   \n",
              "478799  387.73221  66.72057 -1.4912 -1.84479  785.80316  28.02649    752.0   \n",
              "478800  387.52774  66.72057 -1.5727 -1.84479  780.21381  28.02476    720.0   \n",
              "\n",
              "           C10      C11        C12  ...        C70  C71      C72       C73  \\\n",
              "0      -3.0660 -0.00297  301.01636  ...  808.29620  0.0  1.36810   8.79882   \n",
              "1      -2.9721  0.00072  297.43567  ...  819.16809  0.0  1.36810   8.78811   \n",
              "2      -2.9857 -0.00145  298.84619  ...  823.51697  0.0  1.36734   8.81787   \n",
              "3      -3.2166 -0.00318  297.74310  ...  823.95172  0.0  1.36734   8.87493   \n",
              "4      -3.5613  0.00015  297.01965  ...  827.86560  0.0  1.36810   8.83838   \n",
              "...        ...      ...        ...  ...        ...  ...      ...       ...   \n",
              "478796 -2.6936  0.00130  359.39307  ...  944.84705  0.0  1.32843  15.17817   \n",
              "478797 -2.5863  0.00065  357.67505  ...  940.49835  0.0  1.32843  15.17344   \n",
              "478798 -2.8287 -0.00029  356.17407  ...  935.71472  0.0  1.32919  15.16443   \n",
              "478799 -3.3212 -0.00246  353.42523  ...  944.84705  0.0  1.32843  15.09001   \n",
              "478800 -3.6418 -0.00202  350.92957  ...  951.80505  0.0  1.32919  15.08672   \n",
              "\n",
              "             C74       C75        C76        C77      C78     C79  \n",
              "0       35.43700  12.01782  305.03113  301.35992  33.6555  6.0951  \n",
              "1       35.45227  12.01782  304.27161  297.43567  33.6555  5.9262  \n",
              "2       35.45227  12.01782  303.89179  298.66534  33.6555  5.8101  \n",
              "3       35.43700  12.01782  303.67474  298.06860  33.6555  5.7509  \n",
              "4       35.45227  12.01782  303.22266  296.53137  33.6555  5.8547  \n",
              "...          ...       ...        ...        ...      ...     ...  \n",
              "478796  35.14710  11.79657  316.89453  296.54950  32.0000  6.6026  \n",
              "478797  35.13183  11.79657  315.59247  296.15161  32.0000  6.3894  \n",
              "478798  35.13183  11.79657  313.92865  293.40277  32.0000  6.2584  \n",
              "478799  35.14710  11.79657  315.61054  302.58972  32.0000  6.4150  \n",
              "478800  35.14710  11.79657  317.23816  309.00964  32.0000  6.6288  \n",
              "\n",
              "[921603 rows x 58 columns]"
            ],
            "text/html": [
              "\n",
              "  <div id=\"df-7f485719-a149-4bf3-b72b-b551e1c34c4a\">\n",
              "    <div class=\"colab-df-container\">\n",
              "      <div>\n",
              "<style scoped>\n",
              "    .dataframe tbody tr th:only-of-type {\n",
              "        vertical-align: middle;\n",
              "    }\n",
              "\n",
              "    .dataframe tbody tr th {\n",
              "        vertical-align: top;\n",
              "    }\n",
              "\n",
              "    .dataframe thead th {\n",
              "        text-align: right;\n",
              "    }\n",
              "</style>\n",
              "<table border=\"1\" class=\"dataframe\">\n",
              "  <thead>\n",
              "    <tr style=\"text-align: right;\">\n",
              "      <th></th>\n",
              "      <th>C01</th>\n",
              "      <th>C04</th>\n",
              "      <th>C05</th>\n",
              "      <th>C06</th>\n",
              "      <th>C07</th>\n",
              "      <th>C08</th>\n",
              "      <th>C09</th>\n",
              "      <th>C10</th>\n",
              "      <th>C11</th>\n",
              "      <th>C12</th>\n",
              "      <th>...</th>\n",
              "      <th>C70</th>\n",
              "      <th>C71</th>\n",
              "      <th>C72</th>\n",
              "      <th>C73</th>\n",
              "      <th>C74</th>\n",
              "      <th>C75</th>\n",
              "      <th>C76</th>\n",
              "      <th>C77</th>\n",
              "      <th>C78</th>\n",
              "      <th>C79</th>\n",
              "    </tr>\n",
              "  </thead>\n",
              "  <tbody>\n",
              "    <tr>\n",
              "      <th>0</th>\n",
              "      <td>395.19528</td>\n",
              "      <td>52.80456</td>\n",
              "      <td>-1.2648</td>\n",
              "      <td>-1.87531</td>\n",
              "      <td>779.59595</td>\n",
              "      <td>28.02645</td>\n",
              "      <td>10832.0</td>\n",
              "      <td>-3.0660</td>\n",
              "      <td>-0.00297</td>\n",
              "      <td>301.01636</td>\n",
              "      <td>...</td>\n",
              "      <td>808.29620</td>\n",
              "      <td>0.0</td>\n",
              "      <td>1.36810</td>\n",
              "      <td>8.79882</td>\n",
              "      <td>35.43700</td>\n",
              "      <td>12.01782</td>\n",
              "      <td>305.03113</td>\n",
              "      <td>301.35992</td>\n",
              "      <td>33.6555</td>\n",
              "      <td>6.0951</td>\n",
              "    </tr>\n",
              "    <tr>\n",
              "      <th>1</th>\n",
              "      <td>395.14420</td>\n",
              "      <td>52.78931</td>\n",
              "      <td>-1.3147</td>\n",
              "      <td>-1.88294</td>\n",
              "      <td>780.67328</td>\n",
              "      <td>28.02473</td>\n",
              "      <td>10984.0</td>\n",
              "      <td>-2.9721</td>\n",
              "      <td>0.00072</td>\n",
              "      <td>297.43567</td>\n",
              "      <td>...</td>\n",
              "      <td>819.16809</td>\n",
              "      <td>0.0</td>\n",
              "      <td>1.36810</td>\n",
              "      <td>8.78811</td>\n",
              "      <td>35.45227</td>\n",
              "      <td>12.01782</td>\n",
              "      <td>304.27161</td>\n",
              "      <td>297.43567</td>\n",
              "      <td>33.6555</td>\n",
              "      <td>5.9262</td>\n",
              "    </tr>\n",
              "    <tr>\n",
              "      <th>2</th>\n",
              "      <td>395.14420</td>\n",
              "      <td>52.79694</td>\n",
              "      <td>-1.4032</td>\n",
              "      <td>-1.88294</td>\n",
              "      <td>780.06574</td>\n",
              "      <td>28.02817</td>\n",
              "      <td>11120.0</td>\n",
              "      <td>-2.9857</td>\n",
              "      <td>-0.00145</td>\n",
              "      <td>298.84619</td>\n",
              "      <td>...</td>\n",
              "      <td>823.51697</td>\n",
              "      <td>0.0</td>\n",
              "      <td>1.36734</td>\n",
              "      <td>8.81787</td>\n",
              "      <td>35.45227</td>\n",
              "      <td>12.01782</td>\n",
              "      <td>303.89179</td>\n",
              "      <td>298.66534</td>\n",
              "      <td>33.6555</td>\n",
              "      <td>5.8101</td>\n",
              "    </tr>\n",
              "    <tr>\n",
              "      <th>3</th>\n",
              "      <td>395.19528</td>\n",
              "      <td>52.79694</td>\n",
              "      <td>-1.6074</td>\n",
              "      <td>-1.88294</td>\n",
              "      <td>780.15265</td>\n",
              "      <td>28.02301</td>\n",
              "      <td>11256.0</td>\n",
              "      <td>-3.2166</td>\n",
              "      <td>-0.00318</td>\n",
              "      <td>297.74310</td>\n",
              "      <td>...</td>\n",
              "      <td>823.95172</td>\n",
              "      <td>0.0</td>\n",
              "      <td>1.36734</td>\n",
              "      <td>8.87493</td>\n",
              "      <td>35.43700</td>\n",
              "      <td>12.01782</td>\n",
              "      <td>303.67474</td>\n",
              "      <td>298.06860</td>\n",
              "      <td>33.6555</td>\n",
              "      <td>5.7509</td>\n",
              "    </tr>\n",
              "    <tr>\n",
              "      <th>4</th>\n",
              "      <td>395.34866</td>\n",
              "      <td>52.79694</td>\n",
              "      <td>-1.7811</td>\n",
              "      <td>-1.88294</td>\n",
              "      <td>781.83160</td>\n",
              "      <td>28.03595</td>\n",
              "      <td>11384.0</td>\n",
              "      <td>-3.5613</td>\n",
              "      <td>0.00015</td>\n",
              "      <td>297.01965</td>\n",
              "      <td>...</td>\n",
              "      <td>827.86560</td>\n",
              "      <td>0.0</td>\n",
              "      <td>1.36810</td>\n",
              "      <td>8.83838</td>\n",
              "      <td>35.45227</td>\n",
              "      <td>12.01782</td>\n",
              "      <td>303.22266</td>\n",
              "      <td>296.53137</td>\n",
              "      <td>33.6555</td>\n",
              "      <td>5.8547</td>\n",
              "    </tr>\n",
              "    <tr>\n",
              "      <th>...</th>\n",
              "      <td>...</td>\n",
              "      <td>...</td>\n",
              "      <td>...</td>\n",
              "      <td>...</td>\n",
              "      <td>...</td>\n",
              "      <td>...</td>\n",
              "      <td>...</td>\n",
              "      <td>...</td>\n",
              "      <td>...</td>\n",
              "      <td>...</td>\n",
              "      <td>...</td>\n",
              "      <td>...</td>\n",
              "      <td>...</td>\n",
              "      <td>...</td>\n",
              "      <td>...</td>\n",
              "      <td>...</td>\n",
              "      <td>...</td>\n",
              "      <td>...</td>\n",
              "      <td>...</td>\n",
              "      <td>...</td>\n",
              "      <td>...</td>\n",
              "    </tr>\n",
              "    <tr>\n",
              "      <th>478796</th>\n",
              "      <td>387.27219</td>\n",
              "      <td>66.72057</td>\n",
              "      <td>-0.9331</td>\n",
              "      <td>-1.84479</td>\n",
              "      <td>781.87915</td>\n",
              "      <td>28.02389</td>\n",
              "      <td>880.0</td>\n",
              "      <td>-2.6936</td>\n",
              "      <td>0.00130</td>\n",
              "      <td>359.39307</td>\n",
              "      <td>...</td>\n",
              "      <td>944.84705</td>\n",
              "      <td>0.0</td>\n",
              "      <td>1.32843</td>\n",
              "      <td>15.17817</td>\n",
              "      <td>35.14710</td>\n",
              "      <td>11.79657</td>\n",
              "      <td>316.89453</td>\n",
              "      <td>296.54950</td>\n",
              "      <td>32.0000</td>\n",
              "      <td>6.6026</td>\n",
              "    </tr>\n",
              "    <tr>\n",
              "      <th>478797</th>\n",
              "      <td>387.52774</td>\n",
              "      <td>66.72057</td>\n",
              "      <td>-0.9996</td>\n",
              "      <td>-1.84479</td>\n",
              "      <td>787.65070</td>\n",
              "      <td>28.02385</td>\n",
              "      <td>840.0</td>\n",
              "      <td>-2.5863</td>\n",
              "      <td>0.00065</td>\n",
              "      <td>357.67505</td>\n",
              "      <td>...</td>\n",
              "      <td>940.49835</td>\n",
              "      <td>0.0</td>\n",
              "      <td>1.32843</td>\n",
              "      <td>15.17344</td>\n",
              "      <td>35.13183</td>\n",
              "      <td>11.79657</td>\n",
              "      <td>315.59247</td>\n",
              "      <td>296.15161</td>\n",
              "      <td>32.0000</td>\n",
              "      <td>6.3894</td>\n",
              "    </tr>\n",
              "    <tr>\n",
              "      <th>478798</th>\n",
              "      <td>387.47665</td>\n",
              "      <td>66.72057</td>\n",
              "      <td>-1.2560</td>\n",
              "      <td>-1.84479</td>\n",
              "      <td>788.50256</td>\n",
              "      <td>28.03085</td>\n",
              "      <td>792.0</td>\n",
              "      <td>-2.8287</td>\n",
              "      <td>-0.00029</td>\n",
              "      <td>356.17407</td>\n",
              "      <td>...</td>\n",
              "      <td>935.71472</td>\n",
              "      <td>0.0</td>\n",
              "      <td>1.32919</td>\n",
              "      <td>15.16443</td>\n",
              "      <td>35.13183</td>\n",
              "      <td>11.79657</td>\n",
              "      <td>313.92865</td>\n",
              "      <td>293.40277</td>\n",
              "      <td>32.0000</td>\n",
              "      <td>6.2584</td>\n",
              "    </tr>\n",
              "    <tr>\n",
              "      <th>478799</th>\n",
              "      <td>387.73221</td>\n",
              "      <td>66.72057</td>\n",
              "      <td>-1.4912</td>\n",
              "      <td>-1.84479</td>\n",
              "      <td>785.80316</td>\n",
              "      <td>28.02649</td>\n",
              "      <td>752.0</td>\n",
              "      <td>-3.3212</td>\n",
              "      <td>-0.00246</td>\n",
              "      <td>353.42523</td>\n",
              "      <td>...</td>\n",
              "      <td>944.84705</td>\n",
              "      <td>0.0</td>\n",
              "      <td>1.32843</td>\n",
              "      <td>15.09001</td>\n",
              "      <td>35.14710</td>\n",
              "      <td>11.79657</td>\n",
              "      <td>315.61054</td>\n",
              "      <td>302.58972</td>\n",
              "      <td>32.0000</td>\n",
              "      <td>6.4150</td>\n",
              "    </tr>\n",
              "    <tr>\n",
              "      <th>478800</th>\n",
              "      <td>387.52774</td>\n",
              "      <td>66.72057</td>\n",
              "      <td>-1.5727</td>\n",
              "      <td>-1.84479</td>\n",
              "      <td>780.21381</td>\n",
              "      <td>28.02476</td>\n",
              "      <td>720.0</td>\n",
              "      <td>-3.6418</td>\n",
              "      <td>-0.00202</td>\n",
              "      <td>350.92957</td>\n",
              "      <td>...</td>\n",
              "      <td>951.80505</td>\n",
              "      <td>0.0</td>\n",
              "      <td>1.32919</td>\n",
              "      <td>15.08672</td>\n",
              "      <td>35.14710</td>\n",
              "      <td>11.79657</td>\n",
              "      <td>317.23816</td>\n",
              "      <td>309.00964</td>\n",
              "      <td>32.0000</td>\n",
              "      <td>6.6288</td>\n",
              "    </tr>\n",
              "  </tbody>\n",
              "</table>\n",
              "<p>921603 rows × 58 columns</p>\n",
              "</div>\n",
              "      <button class=\"colab-df-convert\" onclick=\"convertToInteractive('df-7f485719-a149-4bf3-b72b-b551e1c34c4a')\"\n",
              "              title=\"Convert this dataframe to an interactive table.\"\n",
              "              style=\"display:none;\">\n",
              "        \n",
              "  <svg xmlns=\"http://www.w3.org/2000/svg\" height=\"24px\"viewBox=\"0 0 24 24\"\n",
              "       width=\"24px\">\n",
              "    <path d=\"M0 0h24v24H0V0z\" fill=\"none\"/>\n",
              "    <path d=\"M18.56 5.44l.94 2.06.94-2.06 2.06-.94-2.06-.94-.94-2.06-.94 2.06-2.06.94zm-11 1L8.5 8.5l.94-2.06 2.06-.94-2.06-.94L8.5 2.5l-.94 2.06-2.06.94zm10 10l.94 2.06.94-2.06 2.06-.94-2.06-.94-.94-2.06-.94 2.06-2.06.94z\"/><path d=\"M17.41 7.96l-1.37-1.37c-.4-.4-.92-.59-1.43-.59-.52 0-1.04.2-1.43.59L10.3 9.45l-7.72 7.72c-.78.78-.78 2.05 0 2.83L4 21.41c.39.39.9.59 1.41.59.51 0 1.02-.2 1.41-.59l7.78-7.78 2.81-2.81c.8-.78.8-2.07 0-2.86zM5.41 20L4 18.59l7.72-7.72 1.47 1.35L5.41 20z\"/>\n",
              "  </svg>\n",
              "      </button>\n",
              "      \n",
              "  <style>\n",
              "    .colab-df-container {\n",
              "      display:flex;\n",
              "      flex-wrap:wrap;\n",
              "      gap: 12px;\n",
              "    }\n",
              "\n",
              "    .colab-df-convert {\n",
              "      background-color: #E8F0FE;\n",
              "      border: none;\n",
              "      border-radius: 50%;\n",
              "      cursor: pointer;\n",
              "      display: none;\n",
              "      fill: #1967D2;\n",
              "      height: 32px;\n",
              "      padding: 0 0 0 0;\n",
              "      width: 32px;\n",
              "    }\n",
              "\n",
              "    .colab-df-convert:hover {\n",
              "      background-color: #E2EBFA;\n",
              "      box-shadow: 0px 1px 2px rgba(60, 64, 67, 0.3), 0px 1px 3px 1px rgba(60, 64, 67, 0.15);\n",
              "      fill: #174EA6;\n",
              "    }\n",
              "\n",
              "    [theme=dark] .colab-df-convert {\n",
              "      background-color: #3B4455;\n",
              "      fill: #D2E3FC;\n",
              "    }\n",
              "\n",
              "    [theme=dark] .colab-df-convert:hover {\n",
              "      background-color: #434B5C;\n",
              "      box-shadow: 0px 1px 3px 1px rgba(0, 0, 0, 0.15);\n",
              "      filter: drop-shadow(0px 1px 2px rgba(0, 0, 0, 0.3));\n",
              "      fill: #FFFFFF;\n",
              "    }\n",
              "  </style>\n",
              "\n",
              "      <script>\n",
              "        const buttonEl =\n",
              "          document.querySelector('#df-7f485719-a149-4bf3-b72b-b551e1c34c4a button.colab-df-convert');\n",
              "        buttonEl.style.display =\n",
              "          google.colab.kernel.accessAllowed ? 'block' : 'none';\n",
              "\n",
              "        async function convertToInteractive(key) {\n",
              "          const element = document.querySelector('#df-7f485719-a149-4bf3-b72b-b551e1c34c4a');\n",
              "          const dataTable =\n",
              "            await google.colab.kernel.invokeFunction('convertToInteractive',\n",
              "                                                     [key], {});\n",
              "          if (!dataTable) return;\n",
              "\n",
              "          const docLinkHtml = 'Like what you see? Visit the ' +\n",
              "            '<a target=\"_blank\" href=https://colab.research.google.com/notebooks/data_table.ipynb>data table notebook</a>'\n",
              "            + ' to learn more about interactive tables.';\n",
              "          element.innerHTML = '';\n",
              "          dataTable['output_type'] = 'display_data';\n",
              "          await google.colab.output.renderOutput(dataTable, element);\n",
              "          const docLink = document.createElement('div');\n",
              "          docLink.innerHTML = docLinkHtml;\n",
              "          element.appendChild(docLink);\n",
              "        }\n",
              "      </script>\n",
              "    </div>\n",
              "  </div>\n",
              "  "
            ]
          },
          "metadata": {},
          "execution_count": 19
        }
      ]
    },
    {
      "cell_type": "markdown",
      "metadata": {
        "id": "HaTGyXPprWHh"
      },
      "source": [
        "Data normalization using the Min-Max Scaler"
      ]
    },
    {
      "cell_type": "code",
      "metadata": {
        "id": "nIhFaP9_4fxf"
      },
      "source": [
        "from sklearn.preprocessing import MinMaxScaler\n",
        "from sklearn.preprocessing import Normalizer"
      ],
      "execution_count": 20,
      "outputs": []
    },
    {
      "cell_type": "code",
      "metadata": {
        "id": "50SqyF_W4k-b"
      },
      "source": [
        "# Generation the Min-Max Scaler\n",
        "sc = MinMaxScaler()\n",
        "sc2 = Normalizer()"
      ],
      "execution_count": 21,
      "outputs": []
    },
    {
      "cell_type": "code",
      "metadata": {
        "id": "oKIq28cTk2j_"
      },
      "source": [
        "TAG_MIN = TRAIN_DF_RAW[VALID_COLUMNS_IN_TRAIN_DATASET].min()\n",
        "TAG_MAX = TRAIN_DF_RAW[VALID_COLUMNS_IN_TRAIN_DATASET].max()"
      ],
      "execution_count": 22,
      "outputs": []
    },
    {
      "cell_type": "code",
      "source": [
        "VALID_COLUMNS_IN_TRAIN_DATASET"
      ],
      "metadata": {
        "colab": {
          "base_uri": "https://localhost:8080/"
        },
        "id": "nLXN7O9CLxFh",
        "outputId": "31d0e127-f66e-47a3-b316-55af3bfc5ac8"
      },
      "execution_count": 23,
      "outputs": [
        {
          "output_type": "execute_result",
          "data": {
            "text/plain": [
              "Index(['C01', 'C04', 'C05', 'C06', 'C07', 'C08', 'C09', 'C10', 'C11', 'C12',\n",
              "       'C13', 'C15', 'C16', 'C17', 'C20', 'C23', 'C24', 'C25', 'C26', 'C27',\n",
              "       'C28', 'C29', 'C30', 'C31', 'C32', 'C36', 'C38', 'C39', 'C41', 'C42',\n",
              "       'C44', 'C45', 'C46', 'C47', 'C48', 'C49', 'C50', 'C53', 'C54', 'C55',\n",
              "       'C56', 'C57', 'C58', 'C60', 'C62', 'C66', 'C68', 'C69', 'C70', 'C71',\n",
              "       'C72', 'C73', 'C74', 'C75', 'C76', 'C77', 'C78', 'C79'],\n",
              "      dtype='object')"
            ]
          },
          "metadata": {},
          "execution_count": 23
        }
      ]
    },
    {
      "cell_type": "code",
      "metadata": {
        "id": "AU258JsGkuPC"
      },
      "source": [
        "def normalize(df):\n",
        "    ndf = df.copy()\n",
        "    for c in df.columns:\n",
        "        if TAG_MIN[c] == TAG_MAX[c]:\n",
        "            ndf[c] = df[c] - TAG_MIN[c]\n",
        "        else:\n",
        "            ndf[c] = (df[c] - TAG_MIN[c]) / (TAG_MAX[c] - TAG_MIN[c])\n",
        "    return ndf"
      ],
      "execution_count": 24,
      "outputs": []
    },
    {
      "cell_type": "code",
      "metadata": {
        "id": "hHeqmmsB40K4"
      },
      "source": [
        "sc_results = sc.fit_transform(TRAIN_DF_RAW[VALID_COLUMNS_IN_TRAIN_DATASET])    # Data Scaling by Min-Max Scaler\n",
        "sc_results = sc2.fit_transform(TRAIN_DF_RAW[VALID_COLUMNS_IN_TRAIN_DATASET])    # Data Scaling by Normalizer"
      ],
      "execution_count": 25,
      "outputs": []
    },
    {
      "cell_type": "code",
      "metadata": {
        "id": "dQtiMVSFz0cV",
        "outputId": "d2a501ec-feb1-46de-a8e6-ca5f1ca73bf0",
        "colab": {
          "base_uri": "https://localhost:8080/",
          "height": 488
        }
      },
      "source": [
        "# TRAIN_DF = pd.DataFrame(sc_results).ewm(alpha=0.9).mean()\n",
        "TRAIN_DF = normalize(TRAIN_DF_RAW[VALID_COLUMNS_IN_TRAIN_DATASET]).ewm(alpha=0.9).mean()\n",
        "TRAIN_DF"
      ],
      "execution_count": 26,
      "outputs": [
        {
          "output_type": "execute_result",
          "data": {
            "text/plain": [
              "             C01       C04       C05       C06       C07       C08       C09  \\\n",
              "0       0.378953  0.227071  0.372380  0.000230  0.386721  0.410567  0.784144   \n",
              "1       0.378504  0.226596  0.353516  0.000161  0.399074  0.364415  0.794139   \n",
              "2       0.378463  0.226789  0.318663  0.000154  0.393283  0.451729  0.803903   \n",
              "3       0.378904  0.226808  0.238782  0.000154  0.393697  0.323289  0.813725   \n",
              "4       0.380282  0.226810  0.165794  0.000154  0.412796  0.654203  0.823039   \n",
              "...          ...       ...       ...       ...       ...       ...       ...   \n",
              "478796  0.302372  0.703684  0.509016  0.000538  0.420902  0.355242  0.064622   \n",
              "478797  0.304595  0.703684  0.485295  0.000538  0.481569  0.335967  0.061671   \n",
              "478798  0.304373  0.703684  0.386965  0.000538  0.497306  0.519990  0.058250   \n",
              "478799  0.306574  0.703684  0.289108  0.000538  0.468238  0.422572  0.055304   \n",
              "478800  0.305015  0.703684  0.248821  0.000538  0.401886  0.366873  0.052926   \n",
              "\n",
              "             C10       C11       C12  ...       C70  C71       C72       C73  \\\n",
              "0       0.508049  0.481272  0.260132  ...  0.584892  0.0  0.326835  0.254687   \n",
              "1       0.540538  0.513907  0.248014  ...  0.592044  0.0  0.326835  0.254315   \n",
              "2       0.538802  0.497829  0.251653  ...  0.595523  0.0  0.326387  0.255304   \n",
              "3       0.459532  0.481088  0.248317  ...  0.596151  0.0  0.326343  0.257362   \n",
              "4       0.333541  0.508572  0.245560  ...  0.598763  0.0  0.326786  0.256312   \n",
              "...          ...       ...       ...  ...       ...  ...       ...       ...   \n",
              "478796  0.639006  0.521409  0.479400  ...  0.683154  0.0  0.300845  0.497901   \n",
              "478797  0.685457  0.516982  0.471886  ...  0.680815  0.0  0.300850  0.497868   \n",
              "478798  0.607073  0.508309  0.466106  ...  0.677466  0.0  0.301298  0.497555   \n",
              "478799  0.430538  0.488442  0.456319  ...  0.683078  0.0  0.300895  0.494969   \n",
              "478800  0.303069  0.490307  0.446978  ...  0.688171  0.0  0.301303  0.494597   \n",
              "\n",
              "             C74       C75       C76       C77      C78       C79  \n",
              "0       0.331076  0.916661  0.269393  0.265017  1.00000  0.567254  \n",
              "1       0.337223  0.916661  0.266791  0.251792  1.00000  0.512135  \n",
              "2       0.337777  0.916661  0.265266  0.254707  1.00000  0.469622  \n",
              "3       0.331746  0.916661  0.264379  0.253005  1.00000  0.446285  \n",
              "4       0.337229  0.916661  0.262757  0.247706  1.00000  0.477489  \n",
              "...          ...       ...       ...       ...      ...       ...  \n",
              "478796  0.202699  0.111119  0.315343  0.248152  0.26162  0.757619  \n",
              "478797  0.196619  0.111119  0.309817  0.245953  0.26162  0.681373  \n",
              "478798  0.196011  0.111119  0.303620  0.236562  0.26162  0.631425  \n",
              "478799  0.202036  0.111119  0.308706  0.266275  0.26162  0.677024  \n",
              "478800  0.202639  0.111119  0.314736  0.290666  0.26162  0.750658  \n",
              "\n",
              "[921603 rows x 58 columns]"
            ],
            "text/html": [
              "\n",
              "  <div id=\"df-da21e6d8-1b8d-4e3c-b209-c58486aa64cb\">\n",
              "    <div class=\"colab-df-container\">\n",
              "      <div>\n",
              "<style scoped>\n",
              "    .dataframe tbody tr th:only-of-type {\n",
              "        vertical-align: middle;\n",
              "    }\n",
              "\n",
              "    .dataframe tbody tr th {\n",
              "        vertical-align: top;\n",
              "    }\n",
              "\n",
              "    .dataframe thead th {\n",
              "        text-align: right;\n",
              "    }\n",
              "</style>\n",
              "<table border=\"1\" class=\"dataframe\">\n",
              "  <thead>\n",
              "    <tr style=\"text-align: right;\">\n",
              "      <th></th>\n",
              "      <th>C01</th>\n",
              "      <th>C04</th>\n",
              "      <th>C05</th>\n",
              "      <th>C06</th>\n",
              "      <th>C07</th>\n",
              "      <th>C08</th>\n",
              "      <th>C09</th>\n",
              "      <th>C10</th>\n",
              "      <th>C11</th>\n",
              "      <th>C12</th>\n",
              "      <th>...</th>\n",
              "      <th>C70</th>\n",
              "      <th>C71</th>\n",
              "      <th>C72</th>\n",
              "      <th>C73</th>\n",
              "      <th>C74</th>\n",
              "      <th>C75</th>\n",
              "      <th>C76</th>\n",
              "      <th>C77</th>\n",
              "      <th>C78</th>\n",
              "      <th>C79</th>\n",
              "    </tr>\n",
              "  </thead>\n",
              "  <tbody>\n",
              "    <tr>\n",
              "      <th>0</th>\n",
              "      <td>0.378953</td>\n",
              "      <td>0.227071</td>\n",
              "      <td>0.372380</td>\n",
              "      <td>0.000230</td>\n",
              "      <td>0.386721</td>\n",
              "      <td>0.410567</td>\n",
              "      <td>0.784144</td>\n",
              "      <td>0.508049</td>\n",
              "      <td>0.481272</td>\n",
              "      <td>0.260132</td>\n",
              "      <td>...</td>\n",
              "      <td>0.584892</td>\n",
              "      <td>0.0</td>\n",
              "      <td>0.326835</td>\n",
              "      <td>0.254687</td>\n",
              "      <td>0.331076</td>\n",
              "      <td>0.916661</td>\n",
              "      <td>0.269393</td>\n",
              "      <td>0.265017</td>\n",
              "      <td>1.00000</td>\n",
              "      <td>0.567254</td>\n",
              "    </tr>\n",
              "    <tr>\n",
              "      <th>1</th>\n",
              "      <td>0.378504</td>\n",
              "      <td>0.226596</td>\n",
              "      <td>0.353516</td>\n",
              "      <td>0.000161</td>\n",
              "      <td>0.399074</td>\n",
              "      <td>0.364415</td>\n",
              "      <td>0.794139</td>\n",
              "      <td>0.540538</td>\n",
              "      <td>0.513907</td>\n",
              "      <td>0.248014</td>\n",
              "      <td>...</td>\n",
              "      <td>0.592044</td>\n",
              "      <td>0.0</td>\n",
              "      <td>0.326835</td>\n",
              "      <td>0.254315</td>\n",
              "      <td>0.337223</td>\n",
              "      <td>0.916661</td>\n",
              "      <td>0.266791</td>\n",
              "      <td>0.251792</td>\n",
              "      <td>1.00000</td>\n",
              "      <td>0.512135</td>\n",
              "    </tr>\n",
              "    <tr>\n",
              "      <th>2</th>\n",
              "      <td>0.378463</td>\n",
              "      <td>0.226789</td>\n",
              "      <td>0.318663</td>\n",
              "      <td>0.000154</td>\n",
              "      <td>0.393283</td>\n",
              "      <td>0.451729</td>\n",
              "      <td>0.803903</td>\n",
              "      <td>0.538802</td>\n",
              "      <td>0.497829</td>\n",
              "      <td>0.251653</td>\n",
              "      <td>...</td>\n",
              "      <td>0.595523</td>\n",
              "      <td>0.0</td>\n",
              "      <td>0.326387</td>\n",
              "      <td>0.255304</td>\n",
              "      <td>0.337777</td>\n",
              "      <td>0.916661</td>\n",
              "      <td>0.265266</td>\n",
              "      <td>0.254707</td>\n",
              "      <td>1.00000</td>\n",
              "      <td>0.469622</td>\n",
              "    </tr>\n",
              "    <tr>\n",
              "      <th>3</th>\n",
              "      <td>0.378904</td>\n",
              "      <td>0.226808</td>\n",
              "      <td>0.238782</td>\n",
              "      <td>0.000154</td>\n",
              "      <td>0.393697</td>\n",
              "      <td>0.323289</td>\n",
              "      <td>0.813725</td>\n",
              "      <td>0.459532</td>\n",
              "      <td>0.481088</td>\n",
              "      <td>0.248317</td>\n",
              "      <td>...</td>\n",
              "      <td>0.596151</td>\n",
              "      <td>0.0</td>\n",
              "      <td>0.326343</td>\n",
              "      <td>0.257362</td>\n",
              "      <td>0.331746</td>\n",
              "      <td>0.916661</td>\n",
              "      <td>0.264379</td>\n",
              "      <td>0.253005</td>\n",
              "      <td>1.00000</td>\n",
              "      <td>0.446285</td>\n",
              "    </tr>\n",
              "    <tr>\n",
              "      <th>4</th>\n",
              "      <td>0.380282</td>\n",
              "      <td>0.226810</td>\n",
              "      <td>0.165794</td>\n",
              "      <td>0.000154</td>\n",
              "      <td>0.412796</td>\n",
              "      <td>0.654203</td>\n",
              "      <td>0.823039</td>\n",
              "      <td>0.333541</td>\n",
              "      <td>0.508572</td>\n",
              "      <td>0.245560</td>\n",
              "      <td>...</td>\n",
              "      <td>0.598763</td>\n",
              "      <td>0.0</td>\n",
              "      <td>0.326786</td>\n",
              "      <td>0.256312</td>\n",
              "      <td>0.337229</td>\n",
              "      <td>0.916661</td>\n",
              "      <td>0.262757</td>\n",
              "      <td>0.247706</td>\n",
              "      <td>1.00000</td>\n",
              "      <td>0.477489</td>\n",
              "    </tr>\n",
              "    <tr>\n",
              "      <th>...</th>\n",
              "      <td>...</td>\n",
              "      <td>...</td>\n",
              "      <td>...</td>\n",
              "      <td>...</td>\n",
              "      <td>...</td>\n",
              "      <td>...</td>\n",
              "      <td>...</td>\n",
              "      <td>...</td>\n",
              "      <td>...</td>\n",
              "      <td>...</td>\n",
              "      <td>...</td>\n",
              "      <td>...</td>\n",
              "      <td>...</td>\n",
              "      <td>...</td>\n",
              "      <td>...</td>\n",
              "      <td>...</td>\n",
              "      <td>...</td>\n",
              "      <td>...</td>\n",
              "      <td>...</td>\n",
              "      <td>...</td>\n",
              "      <td>...</td>\n",
              "    </tr>\n",
              "    <tr>\n",
              "      <th>478796</th>\n",
              "      <td>0.302372</td>\n",
              "      <td>0.703684</td>\n",
              "      <td>0.509016</td>\n",
              "      <td>0.000538</td>\n",
              "      <td>0.420902</td>\n",
              "      <td>0.355242</td>\n",
              "      <td>0.064622</td>\n",
              "      <td>0.639006</td>\n",
              "      <td>0.521409</td>\n",
              "      <td>0.479400</td>\n",
              "      <td>...</td>\n",
              "      <td>0.683154</td>\n",
              "      <td>0.0</td>\n",
              "      <td>0.300845</td>\n",
              "      <td>0.497901</td>\n",
              "      <td>0.202699</td>\n",
              "      <td>0.111119</td>\n",
              "      <td>0.315343</td>\n",
              "      <td>0.248152</td>\n",
              "      <td>0.26162</td>\n",
              "      <td>0.757619</td>\n",
              "    </tr>\n",
              "    <tr>\n",
              "      <th>478797</th>\n",
              "      <td>0.304595</td>\n",
              "      <td>0.703684</td>\n",
              "      <td>0.485295</td>\n",
              "      <td>0.000538</td>\n",
              "      <td>0.481569</td>\n",
              "      <td>0.335967</td>\n",
              "      <td>0.061671</td>\n",
              "      <td>0.685457</td>\n",
              "      <td>0.516982</td>\n",
              "      <td>0.471886</td>\n",
              "      <td>...</td>\n",
              "      <td>0.680815</td>\n",
              "      <td>0.0</td>\n",
              "      <td>0.300850</td>\n",
              "      <td>0.497868</td>\n",
              "      <td>0.196619</td>\n",
              "      <td>0.111119</td>\n",
              "      <td>0.309817</td>\n",
              "      <td>0.245953</td>\n",
              "      <td>0.26162</td>\n",
              "      <td>0.681373</td>\n",
              "    </tr>\n",
              "    <tr>\n",
              "      <th>478798</th>\n",
              "      <td>0.304373</td>\n",
              "      <td>0.703684</td>\n",
              "      <td>0.386965</td>\n",
              "      <td>0.000538</td>\n",
              "      <td>0.497306</td>\n",
              "      <td>0.519990</td>\n",
              "      <td>0.058250</td>\n",
              "      <td>0.607073</td>\n",
              "      <td>0.508309</td>\n",
              "      <td>0.466106</td>\n",
              "      <td>...</td>\n",
              "      <td>0.677466</td>\n",
              "      <td>0.0</td>\n",
              "      <td>0.301298</td>\n",
              "      <td>0.497555</td>\n",
              "      <td>0.196011</td>\n",
              "      <td>0.111119</td>\n",
              "      <td>0.303620</td>\n",
              "      <td>0.236562</td>\n",
              "      <td>0.26162</td>\n",
              "      <td>0.631425</td>\n",
              "    </tr>\n",
              "    <tr>\n",
              "      <th>478799</th>\n",
              "      <td>0.306574</td>\n",
              "      <td>0.703684</td>\n",
              "      <td>0.289108</td>\n",
              "      <td>0.000538</td>\n",
              "      <td>0.468238</td>\n",
              "      <td>0.422572</td>\n",
              "      <td>0.055304</td>\n",
              "      <td>0.430538</td>\n",
              "      <td>0.488442</td>\n",
              "      <td>0.456319</td>\n",
              "      <td>...</td>\n",
              "      <td>0.683078</td>\n",
              "      <td>0.0</td>\n",
              "      <td>0.300895</td>\n",
              "      <td>0.494969</td>\n",
              "      <td>0.202036</td>\n",
              "      <td>0.111119</td>\n",
              "      <td>0.308706</td>\n",
              "      <td>0.266275</td>\n",
              "      <td>0.26162</td>\n",
              "      <td>0.677024</td>\n",
              "    </tr>\n",
              "    <tr>\n",
              "      <th>478800</th>\n",
              "      <td>0.305015</td>\n",
              "      <td>0.703684</td>\n",
              "      <td>0.248821</td>\n",
              "      <td>0.000538</td>\n",
              "      <td>0.401886</td>\n",
              "      <td>0.366873</td>\n",
              "      <td>0.052926</td>\n",
              "      <td>0.303069</td>\n",
              "      <td>0.490307</td>\n",
              "      <td>0.446978</td>\n",
              "      <td>...</td>\n",
              "      <td>0.688171</td>\n",
              "      <td>0.0</td>\n",
              "      <td>0.301303</td>\n",
              "      <td>0.494597</td>\n",
              "      <td>0.202639</td>\n",
              "      <td>0.111119</td>\n",
              "      <td>0.314736</td>\n",
              "      <td>0.290666</td>\n",
              "      <td>0.26162</td>\n",
              "      <td>0.750658</td>\n",
              "    </tr>\n",
              "  </tbody>\n",
              "</table>\n",
              "<p>921603 rows × 58 columns</p>\n",
              "</div>\n",
              "      <button class=\"colab-df-convert\" onclick=\"convertToInteractive('df-da21e6d8-1b8d-4e3c-b209-c58486aa64cb')\"\n",
              "              title=\"Convert this dataframe to an interactive table.\"\n",
              "              style=\"display:none;\">\n",
              "        \n",
              "  <svg xmlns=\"http://www.w3.org/2000/svg\" height=\"24px\"viewBox=\"0 0 24 24\"\n",
              "       width=\"24px\">\n",
              "    <path d=\"M0 0h24v24H0V0z\" fill=\"none\"/>\n",
              "    <path d=\"M18.56 5.44l.94 2.06.94-2.06 2.06-.94-2.06-.94-.94-2.06-.94 2.06-2.06.94zm-11 1L8.5 8.5l.94-2.06 2.06-.94-2.06-.94L8.5 2.5l-.94 2.06-2.06.94zm10 10l.94 2.06.94-2.06 2.06-.94-2.06-.94-.94-2.06-.94 2.06-2.06.94z\"/><path d=\"M17.41 7.96l-1.37-1.37c-.4-.4-.92-.59-1.43-.59-.52 0-1.04.2-1.43.59L10.3 9.45l-7.72 7.72c-.78.78-.78 2.05 0 2.83L4 21.41c.39.39.9.59 1.41.59.51 0 1.02-.2 1.41-.59l7.78-7.78 2.81-2.81c.8-.78.8-2.07 0-2.86zM5.41 20L4 18.59l7.72-7.72 1.47 1.35L5.41 20z\"/>\n",
              "  </svg>\n",
              "      </button>\n",
              "      \n",
              "  <style>\n",
              "    .colab-df-container {\n",
              "      display:flex;\n",
              "      flex-wrap:wrap;\n",
              "      gap: 12px;\n",
              "    }\n",
              "\n",
              "    .colab-df-convert {\n",
              "      background-color: #E8F0FE;\n",
              "      border: none;\n",
              "      border-radius: 50%;\n",
              "      cursor: pointer;\n",
              "      display: none;\n",
              "      fill: #1967D2;\n",
              "      height: 32px;\n",
              "      padding: 0 0 0 0;\n",
              "      width: 32px;\n",
              "    }\n",
              "\n",
              "    .colab-df-convert:hover {\n",
              "      background-color: #E2EBFA;\n",
              "      box-shadow: 0px 1px 2px rgba(60, 64, 67, 0.3), 0px 1px 3px 1px rgba(60, 64, 67, 0.15);\n",
              "      fill: #174EA6;\n",
              "    }\n",
              "\n",
              "    [theme=dark] .colab-df-convert {\n",
              "      background-color: #3B4455;\n",
              "      fill: #D2E3FC;\n",
              "    }\n",
              "\n",
              "    [theme=dark] .colab-df-convert:hover {\n",
              "      background-color: #434B5C;\n",
              "      box-shadow: 0px 1px 3px 1px rgba(0, 0, 0, 0.15);\n",
              "      filter: drop-shadow(0px 1px 2px rgba(0, 0, 0, 0.3));\n",
              "      fill: #FFFFFF;\n",
              "    }\n",
              "  </style>\n",
              "\n",
              "      <script>\n",
              "        const buttonEl =\n",
              "          document.querySelector('#df-da21e6d8-1b8d-4e3c-b209-c58486aa64cb button.colab-df-convert');\n",
              "        buttonEl.style.display =\n",
              "          google.colab.kernel.accessAllowed ? 'block' : 'none';\n",
              "\n",
              "        async function convertToInteractive(key) {\n",
              "          const element = document.querySelector('#df-da21e6d8-1b8d-4e3c-b209-c58486aa64cb');\n",
              "          const dataTable =\n",
              "            await google.colab.kernel.invokeFunction('convertToInteractive',\n",
              "                                                     [key], {});\n",
              "          if (!dataTable) return;\n",
              "\n",
              "          const docLinkHtml = 'Like what you see? Visit the ' +\n",
              "            '<a target=\"_blank\" href=https://colab.research.google.com/notebooks/data_table.ipynb>data table notebook</a>'\n",
              "            + ' to learn more about interactive tables.';\n",
              "          element.innerHTML = '';\n",
              "          dataTable['output_type'] = 'display_data';\n",
              "          await google.colab.output.renderOutput(dataTable, element);\n",
              "          const docLink = document.createElement('div');\n",
              "          docLink.innerHTML = docLinkHtml;\n",
              "          element.appendChild(docLink);\n",
              "        }\n",
              "      </script>\n",
              "    </div>\n",
              "  </div>\n",
              "  "
            ]
          },
          "metadata": {},
          "execution_count": 26
        }
      ]
    },
    {
      "cell_type": "code",
      "metadata": {
        "id": "0gr7ikTyz1zY"
      },
      "source": [
        "def boundary_check(df):\n",
        "    x = np.array(df, dtype=np.float32)\n",
        "    return np.any(x > 1), np.any(x < -1), np.any(np.isnan(x))"
      ],
      "execution_count": 27,
      "outputs": []
    },
    {
      "cell_type": "code",
      "metadata": {
        "id": "NyZ5InfLz0ev",
        "outputId": "706572b6-8085-4b20-e05a-1b963e21f443",
        "colab": {
          "base_uri": "https://localhost:8080/"
        }
      },
      "source": [
        "boundary_check(TRAIN_DF)"
      ],
      "execution_count": 28,
      "outputs": [
        {
          "output_type": "execute_result",
          "data": {
            "text/plain": [
              "(False, False, False)"
            ]
          },
          "metadata": {},
          "execution_count": 28
        }
      ]
    },
    {
      "cell_type": "code",
      "metadata": {
        "id": "G3zPo9XJz0g6"
      },
      "source": [
        "WINDOW_GIVEN = 89\n",
        "WINDOW_SIZE = 90\n",
        "\n",
        "class HaiDataset(Dataset):\n",
        "    def __init__(self, timestamps, df, stride=1, attacks=None):\n",
        "        self.ts = np.array(timestamps)\n",
        "        self.tag_values = np.array(df, dtype=np.float32)\n",
        "        self.valid_idxs = []\n",
        "        for L in trange(len(self.ts) - WINDOW_SIZE + 1):\n",
        "            R = L + WINDOW_SIZE - 1\n",
        "            if dateutil.parser.parse(self.ts[R]) - dateutil.parser.parse(\n",
        "                self.ts[L]\n",
        "            ) == timedelta(seconds=WINDOW_SIZE - 1):\n",
        "                self.valid_idxs.append(L)\n",
        "        self.valid_idxs = np.array(self.valid_idxs, dtype=np.int32)[::stride]\n",
        "        self.n_idxs = len(self.valid_idxs)\n",
        "        print(f\"# of valid windows: {self.n_idxs}\")\n",
        "        if attacks is not None:\n",
        "            self.attacks = np.array(attacks, dtype=np.float32)\n",
        "            self.with_attack = True\n",
        "        else:\n",
        "            self.with_attack = False\n",
        "\n",
        "    def __len__(self):\n",
        "        return self.n_idxs\n",
        "\n",
        "    def __getitem__(self, idx):\n",
        "        i = self.valid_idxs[idx]\n",
        "        last = i + WINDOW_SIZE - 1\n",
        "        item = {\"attack\": self.attacks[last]} if self.with_attack else {}\n",
        "        item[\"ts\"] = self.ts[i + WINDOW_SIZE - 1]\n",
        "        item[\"given\"] = torch.from_numpy(self.tag_values[i : i + WINDOW_GIVEN])\n",
        "        item[\"answer\"] = torch.from_numpy(self.tag_values[last])\n",
        "        return item"
      ],
      "execution_count": 29,
      "outputs": []
    },
    {
      "cell_type": "code",
      "metadata": {
        "id": "fM00jtv-z0jL",
        "outputId": "4ed67cc8-d8d2-4357-b858-ecbb117a887f",
        "colab": {
          "base_uri": "https://localhost:8080/",
          "height": 398,
          "referenced_widgets": [
            "71855870b2bd4edb9f36ee4c187a9dbd",
            "42947d676d7d4d928395d08cf080f5cc",
            "40ba2871708e4bc69651bcc2d6fd9f69",
            "c8a6ee39e7e641159efc4356498709ac",
            "36de0d6bc5cc4f9ea75119777298dee9",
            "c0d5018b0eb3448893b8f6b32f03aacc",
            "4d585a05c3f74f25b0ece2da3de93b87",
            "44804b8474694430a4fb4c0c1dca7483",
            "248ebb03a51443d490003d3e4f83950c",
            "b247c9fa645946eba245ce0ac32e067d",
            "70f1b38407f04fa6bc60e1a899ac24cc"
          ]
        }
      },
      "source": [
        "HAI_DATASET_TRAIN = HaiDataset(TRAIN_DF_RAW[TIMESTAMP_FIELD], TRAIN_DF, stride=10)\n",
        "HAI_DATASET_TRAIN[0]"
      ],
      "execution_count": 30,
      "outputs": [
        {
          "output_type": "display_data",
          "data": {
            "text/plain": [
              "  0%|          | 0/921514 [00:00<?, ?it/s]"
            ],
            "application/vnd.jupyter.widget-view+json": {
              "version_major": 2,
              "version_minor": 0,
              "model_id": "71855870b2bd4edb9f36ee4c187a9dbd"
            }
          },
          "metadata": {}
        },
        {
          "output_type": "stream",
          "name": "stdout",
          "text": [
            "# of valid windows: 92134\n"
          ]
        },
        {
          "output_type": "execute_result",
          "data": {
            "text/plain": [
              "{'ts': '2020-07-11 00:01:29',\n",
              " 'given': tensor([[0.3790, 0.2271, 0.3724,  ..., 0.2650, 1.0000, 0.5673],\n",
              "         [0.3785, 0.2266, 0.3535,  ..., 0.2518, 1.0000, 0.5121],\n",
              "         [0.3785, 0.2268, 0.3187,  ..., 0.2547, 1.0000, 0.4696],\n",
              "         ...,\n",
              "         [0.3730, 0.2268, 0.5175,  ..., 0.4418, 1.0000, 0.5003],\n",
              "         [0.3739, 0.2268, 0.4626,  ..., 0.4408, 1.0000, 0.5446],\n",
              "         [0.3740, 0.2268, 0.4529,  ..., 0.4533, 1.0000, 0.5467]]),\n",
              " 'answer': tensor([3.7401e-01, 2.2681e-01, 4.4518e-01, 1.5360e-04, 3.0547e-01, 6.0378e-01,\n",
              "         4.1797e-01, 5.0237e-01, 5.1502e-01, 4.5891e-01, 1.4508e-01, 4.7930e-01,\n",
              "         3.5710e-01, 1.1150e-03, 3.8993e-01, 2.0921e-04, 9.5674e-01, 0.0000e+00,\n",
              "         4.0782e-01, 3.6943e-01, 0.0000e+00, 4.1359e-01, 1.3964e-01, 9.8371e-01,\n",
              "         2.6923e-01, 1.0000e+00, 4.8270e-01, 7.2178e-01, 1.0000e+00, 1.2351e-01,\n",
              "         6.5662e-01, 3.7997e-01, 3.5329e-01, 5.2601e-01, 0.0000e+00, 3.0436e-01,\n",
              "         2.5663e-03, 5.8362e-01, 1.0000e+00, 2.2832e-01, 9.9250e-01, 4.8689e-02,\n",
              "         0.0000e+00, 9.9250e-01, 4.8951e-01, 1.5526e-01, 9.8961e-01, 8.3470e-01,\n",
              "         5.9678e-01, 0.0000e+00, 2.8131e-01, 3.3996e-01, 3.3716e-01, 9.1666e-01,\n",
              "         3.8761e-01, 4.6057e-01, 1.0000e+00, 5.3466e-01])}"
            ]
          },
          "metadata": {},
          "execution_count": 30
        }
      ]
    },
    {
      "cell_type": "code",
      "metadata": {
        "id": "49kKlc7zz0lT"
      },
      "source": [
        "N_HIDDENS = 100\n",
        "N_LAYERS = 4\n",
        "BATCH_SIZE = 512\n",
        "DropOut_Val = 0.0\n",
        "\n",
        "class StackedGRU(torch.nn.Module):\n",
        "    def __init__(self, n_tags):\n",
        "        super().__init__()\n",
        "        self.rnn = torch.nn.GRU(\n",
        "            input_size=n_tags,\n",
        "            hidden_size=N_HIDDENS,\n",
        "            num_layers=N_LAYERS,\n",
        "            bidirectional=True,\n",
        "            dropout=DropOut_Val\n",
        "        )\n",
        "        self.fc = torch.nn.Linear(N_HIDDENS * 2, n_tags)\n",
        "        self.lstm = torch.nn.LSTM(\n",
        "            input_size=n_tags, \n",
        "            hidden_size=N_HIDDENS, \n",
        "            dropout=DropOut_Val\n",
        "            )\n",
        "        \n",
        "        self.W = torch.nn.Parameter(torch.randn([N_HIDDENS, n_tags]).type(torch.float32))\n",
        "        self.b = torch.nn.Parameter(torch.randn([n_tags]).type(torch.float32))\n",
        "        self.Softmax = torch.nn.Softmax(dim=1)\n",
        "\n",
        "    def forward(self, x):\n",
        "        x = x.transpose(0, 1)  # (batch, seq, params) -> (seq, batch, params)\n",
        "        self.rnn.flatten_parameters()\n",
        "        self.lstm.flatten_parameters()\n",
        "        outs, _ = self.rnn(x)\n",
        "        outputs, _ = self.lstm(x)\n",
        "        out = self.fc(outs[-1]) # 최종 예측 Hidden Layer of RNN\n",
        "        outputs = outputs[-1]  # 최종 예측 Hidden Layer of LSTM\n",
        "        model = torch.mm(outputs, self.W) + self.b  # 최종 예측 최종 출력 층\n",
        "        return x[0] + out"
      ],
      "execution_count": 31,
      "outputs": []
    },
    {
      "cell_type": "code",
      "metadata": {
        "id": "3L0CIyjDz7v6",
        "outputId": "59fdd848-b44f-49d9-e45c-b6bc276399a1",
        "colab": {
          "base_uri": "https://localhost:8080/"
        }
      },
      "source": [
        "MODEL = StackedGRU(n_tags=TRAIN_DF.shape[1])\n",
        "MODEL.cuda()"
      ],
      "execution_count": 32,
      "outputs": [
        {
          "output_type": "execute_result",
          "data": {
            "text/plain": [
              "StackedGRU(\n",
              "  (rnn): GRU(58, 100, num_layers=4, bidirectional=True)\n",
              "  (fc): Linear(in_features=200, out_features=58, bias=True)\n",
              "  (lstm): LSTM(58, 100)\n",
              "  (Softmax): Softmax(dim=1)\n",
              ")"
            ]
          },
          "metadata": {},
          "execution_count": 32
        }
      ]
    },
    {
      "cell_type": "code",
      "metadata": {
        "id": "HxncNzDiz7yU"
      },
      "source": [
        "def train(dataset, model, batch_size, n_epochs):\n",
        "    dataloader = DataLoader(dataset, batch_size=batch_size, shuffle=True)\n",
        "    optimizer = torch.optim.AdamW(model.parameters())\n",
        "    loss_fn = torch.nn.MSELoss()\n",
        "    #loss_fn = torch.nn.CrossEntropyLoss()\n",
        "    epochs = trange(n_epochs, desc=\"training\")\n",
        "    best = {\"loss\": sys.float_info.max}\n",
        "    loss_history = []\n",
        "    for e in epochs:\n",
        "        epoch_loss = 0\n",
        "        for batch in dataloader:\n",
        "            optimizer.zero_grad()\n",
        "            given = batch[\"given\"].cuda()\n",
        "            guess = model(given)\n",
        "            answer = batch[\"answer\"].cuda()\n",
        "            loss = loss_fn(answer, guess)\n",
        "            loss.backward()\n",
        "            epoch_loss += loss.item()\n",
        "            optimizer.step()\n",
        "        loss_history.append(epoch_loss)\n",
        "        epochs.set_postfix_str(f\"loss: {epoch_loss:.6f}\")\n",
        "        if epoch_loss < best[\"loss\"]:\n",
        "            best[\"state\"] = model.state_dict()\n",
        "            best[\"loss\"] = epoch_loss\n",
        "            best[\"epoch\"] = e + 1\n",
        "    return best, loss_history"
      ],
      "execution_count": 33,
      "outputs": []
    },
    {
      "cell_type": "code",
      "metadata": {
        "id": "cO9uXkmJz70s",
        "outputId": "5e7bded5-689d-49f6-9c5e-2b8cd4083c3e",
        "colab": {
          "base_uri": "https://localhost:8080/"
        }
      },
      "source": [
        "%%time\n",
        "MODEL.train()"
      ],
      "execution_count": 34,
      "outputs": [
        {
          "output_type": "stream",
          "name": "stdout",
          "text": [
            "CPU times: user 75 µs, sys: 2 µs, total: 77 µs\n",
            "Wall time: 82 µs\n"
          ]
        },
        {
          "output_type": "execute_result",
          "data": {
            "text/plain": [
              "StackedGRU(\n",
              "  (rnn): GRU(58, 100, num_layers=4, bidirectional=True)\n",
              "  (fc): Linear(in_features=200, out_features=58, bias=True)\n",
              "  (lstm): LSTM(58, 100)\n",
              "  (Softmax): Softmax(dim=1)\n",
              ")"
            ]
          },
          "metadata": {},
          "execution_count": 34
        }
      ]
    },
    {
      "cell_type": "code",
      "metadata": {
        "id": "fSEG4l6JQLH-",
        "outputId": "c8bfec71-9da0-4387-9892-07562021bba7",
        "colab": {
          "base_uri": "https://localhost:8080/",
          "height": 49,
          "referenced_widgets": [
            "486aa58bc26c4b52a5fa36f290957a16",
            "ec660ac76c1a4eea82523b481e69146a",
            "9e8f2dcaaffd463c88bf5e6cd4b50644",
            "43c33cd0e6a94676a3d0ec625accaaf7",
            "26370f1606474f20b6296cd8d1b4b242",
            "9200e683c3b94e68937abaca0e215816",
            "e57dbc72697d433eb267ce50d1544ed0",
            "4aaabda4c06a441a8a380e798229a44f",
            "446e530c9c5f47ccac4ee103f05aa7a1",
            "3062df4b54674b80bef6f0ae66cabbf6",
            "c5235a0bb7af49258b5adc89adcb80cc"
          ]
        }
      },
      "source": [
        "BEST_MODEL, LOSS_HISTORY = train(HAI_DATASET_TRAIN, MODEL, BATCH_SIZE, 32)"
      ],
      "execution_count": 35,
      "outputs": [
        {
          "output_type": "display_data",
          "data": {
            "text/plain": [
              "training:   0%|          | 0/32 [00:00<?, ?it/s]"
            ],
            "application/vnd.jupyter.widget-view+json": {
              "version_major": 2,
              "version_minor": 0,
              "model_id": "486aa58bc26c4b52a5fa36f290957a16"
            }
          },
          "metadata": {}
        }
      ]
    },
    {
      "cell_type": "code",
      "metadata": {
        "id": "5Bei2S7wz72_",
        "colab": {
          "base_uri": "https://localhost:8080/"
        },
        "outputId": "3a9fdaf5-acbf-4e2e-fe69-2eb8979f9248"
      },
      "source": [
        "BEST_MODEL[\"loss\"], BEST_MODEL[\"epoch\"]"
      ],
      "execution_count": 36,
      "outputs": [
        {
          "output_type": "execute_result",
          "data": {
            "text/plain": [
              "(0.11009684210876003, 32)"
            ]
          },
          "metadata": {},
          "execution_count": 36
        }
      ]
    },
    {
      "cell_type": "code",
      "metadata": {
        "id": "9BijEtN0z75U"
      },
      "source": [
        "with open(\"model.pt\", \"wb\") as f:\n",
        "    torch.save(\n",
        "        {\n",
        "            \"state\": BEST_MODEL[\"state\"],\n",
        "            \"best_epoch\": BEST_MODEL[\"epoch\"],\n",
        "            \"loss_history\": LOSS_HISTORY,\n",
        "        },\n",
        "        f,\n",
        "    )"
      ],
      "execution_count": 37,
      "outputs": []
    },
    {
      "cell_type": "code",
      "metadata": {
        "id": "W9mzvy_oz77w",
        "colab": {
          "base_uri": "https://localhost:8080/"
        },
        "outputId": "dcc5324a-9306-48d0-b04d-e0ca8098ab90"
      },
      "source": [
        "with open(\"model.pt\", \"rb\") as f:\n",
        "    SAVED_MODEL = torch.load(f)\n",
        "\n",
        "MODEL.load_state_dict(SAVED_MODEL[\"state\"])"
      ],
      "execution_count": 38,
      "outputs": [
        {
          "output_type": "execute_result",
          "data": {
            "text/plain": [
              "<All keys matched successfully>"
            ]
          },
          "metadata": {},
          "execution_count": 38
        }
      ]
    },
    {
      "cell_type": "code",
      "metadata": {
        "id": "cNXi-G17z79-",
        "colab": {
          "base_uri": "https://localhost:8080/",
          "height": 295
        },
        "outputId": "fa0ed464-4655-43d5-d181-ae7b8c279808"
      },
      "source": [
        "plt.figure(figsize=(16, 4))\n",
        "plt.title(\"Training Loss Graph\")\n",
        "plt.xlabel(\"epochs\")\n",
        "plt.ylabel(\"loss\")\n",
        "plt.yscale(\"log\")\n",
        "plt.plot(SAVED_MODEL[\"loss_history\"])\n",
        "plt.show()"
      ],
      "execution_count": 39,
      "outputs": [
        {
          "output_type": "display_data",
          "data": {
            "text/plain": [
              "<Figure size 1152x288 with 1 Axes>"
            ],
            "image/png": "[encoded data removed]"
          },
          "metadata": {
            "needs_background": "light"
          }
        }
      ]
    },
    {
      "cell_type": "code",
      "metadata": {
        "id": "bJ2UewAMz8AG",
        "colab": {
          "base_uri": "https://localhost:8080/",
          "height": 835
        },
        "outputId": "6b9f867e-3951-4503-ab21-ddb151dedca1"
      },
      "source": [
        "VALIDATION_DF_RAW = dataframe_from_csvs(VALIDATION_DATASET)\n",
        "VALIDATION_DF_RAW"
      ],
      "execution_count": 40,
      "outputs": [
        {
          "output_type": "execute_result",
          "data": {
            "text/plain": [
              "                      time        C01   C02  C03       C04     C05      C06  \\\n",
              "0      2020-07-07 15:00:00  402.70947  12.0   10  51.95007 -1.0189 -1.86768   \n",
              "1      2020-07-07 15:00:01  402.81174  12.0   10  51.96533 -1.2637 -1.86768   \n",
              "2      2020-07-07 15:00:02  402.76062  12.0   10  51.96533 -1.5398 -1.86768   \n",
              "3      2020-07-07 15:00:03  402.81174  12.0   10  51.98822 -1.6212 -1.86768   \n",
              "4      2020-07-07 15:00:04  402.91394  12.0   10  51.90429 -1.5631 -1.86768   \n",
              "...                    ...        ...   ...  ...       ...     ...      ...   \n",
              "43196  2020-07-08 02:59:56  397.08661  12.0   10  66.58325 -1.2052 -1.83716   \n",
              "43197  2020-07-08 02:59:57  397.18887  12.0   10  66.58325 -0.9256 -1.83716   \n",
              "43198  2020-07-08 02:59:58  397.13776  12.0   10  66.58325 -0.7843 -1.83716   \n",
              "43199  2020-07-08 02:59:59  397.34222  12.0   10  66.58325 -0.7646 -1.83716   \n",
              "43200  2020-07-08 03:00:00  397.49557  12.0   10  66.58325 -0.9083 -1.83716   \n",
              "\n",
              "             C07       C08  C09  ...  C71      C72       C73       C74  \\\n",
              "0      789.76508  28.03162  688  ...  0.0  1.34293  10.89290  34.88770   \n",
              "1      789.13147  28.02301  648  ...  0.0  1.34216  10.80512  34.88770   \n",
              "2      785.81653  28.02993  616  ...  0.0  1.34369  10.80029  34.88770   \n",
              "3      785.42438  28.02993  584  ...  0.0  1.34445  10.80579  34.88770   \n",
              "4      782.99249  28.02990  552  ...  0.0  1.34293  10.81415  34.90295   \n",
              "...          ...       ...  ...  ...  ...      ...       ...       ...   \n",
              "43196  786.93738  28.03250    0  ...  0.0  1.35971  16.19496  35.22338   \n",
              "43197  783.44989  28.02304    0  ...  0.0  1.35971  16.23927  35.23864   \n",
              "43198  784.86780  28.02814    0  ...  0.0  1.35818  16.20675  35.23864   \n",
              "43199  785.51416  28.02294    0  ...  0.0  1.35818  16.17168  35.25391   \n",
              "43200  786.98297  28.02990    0  ...  0.0  1.35895  16.10412  35.22338   \n",
              "\n",
              "            C75        C76        C77       C78     C79  attack  \n",
              "0      12.26196  380.31683  386.26666  32.59527  5.6330       0  \n",
              "1      12.26196  380.02747  386.30286  32.59527  5.4158       0  \n",
              "2      12.26196  381.52850  389.73883  32.59527  5.5532       0  \n",
              "3      12.26196  382.08911  388.94311  32.59527  5.7833       0  \n",
              "4      12.26196  383.44543  389.72082  32.59527  6.0309       0  \n",
              "...         ...        ...        ...       ...     ...     ...  \n",
              "43196  12.01019  390.13672  394.91107  31.81634  5.2977       0  \n",
              "43197  12.01019  390.24518  397.35248  31.81634  5.3188       0  \n",
              "43198  12.01019  390.46222  396.70142  31.81634  5.1800       0  \n",
              "43199  12.01019  391.78241  397.73218  31.81634  4.8763       0  \n",
              "43200  12.01019  391.31219  397.24390  31.81634  4.5790       0  \n",
              "\n",
              "[43201 rows x 81 columns]"
            ],
            "text/html": [
              "\n",
              "  <div id=\"df-a78d3599-cd93-4b03-9823-cea7e582ebdd\">\n",
              "    <div class=\"colab-df-container\">\n",
              "      <div>\n",
              "<style scoped>\n",
              "    .dataframe tbody tr th:only-of-type {\n",
              "        vertical-align: middle;\n",
              "    }\n",
              "\n",
              "    .dataframe tbody tr th {\n",
              "        vertical-align: top;\n",
              "    }\n",
              "\n",
              "    .dataframe thead th {\n",
              "        text-align: right;\n",
              "    }\n",
              "</style>\n",
              "<table border=\"1\" class=\"dataframe\">\n",
              "  <thead>\n",
              "    <tr style=\"text-align: right;\">\n",
              "      <th></th>\n",
              "      <th>time</th>\n",
              "      <th>C01</th>\n",
              "      <th>C02</th>\n",
              "      <th>C03</th>\n",
              "      <th>C04</th>\n",
              "      <th>C05</th>\n",
              "      <th>C06</th>\n",
              "      <th>C07</th>\n",
              "      <th>C08</th>\n",
              "      <th>C09</th>\n",
              "      <th>...</th>\n",
              "      <th>C71</th>\n",
              "      <th>C72</th>\n",
              "      <th>C73</th>\n",
              "      <th>C74</th>\n",
              "      <th>C75</th>\n",
              "      <th>C76</th>\n",
              "      <th>C77</th>\n",
              "      <th>C78</th>\n",
              "      <th>C79</th>\n",
              "      <th>attack</th>\n",
              "    </tr>\n",
              "  </thead>\n",
              "  <tbody>\n",
              "    <tr>\n",
              "      <th>0</th>\n",
              "      <td>2020-07-07 15:00:00</td>\n",
              "      <td>402.70947</td>\n",
              "      <td>12.0</td>\n",
              "      <td>10</td>\n",
              "      <td>51.95007</td>\n",
              "      <td>-1.0189</td>\n",
              "      <td>-1.86768</td>\n",
              "      <td>789.76508</td>\n",
              "      <td>28.03162</td>\n",
              "      <td>688</td>\n",
              "      <td>...</td>\n",
              "      <td>0.0</td>\n",
              "      <td>1.34293</td>\n",
              "      <td>10.89290</td>\n",
              "      <td>34.88770</td>\n",
              "      <td>12.26196</td>\n",
              "      <td>380.31683</td>\n",
              "      <td>386.26666</td>\n",
              "      <td>32.59527</td>\n",
              "      <td>5.6330</td>\n",
              "      <td>0</td>\n",
              "    </tr>\n",
              "    <tr>\n",
              "      <th>1</th>\n",
              "      <td>2020-07-07 15:00:01</td>\n",
              "      <td>402.81174</td>\n",
              "      <td>12.0</td>\n",
              "      <td>10</td>\n",
              "      <td>51.96533</td>\n",
              "      <td>-1.2637</td>\n",
              "      <td>-1.86768</td>\n",
              "      <td>789.13147</td>\n",
              "      <td>28.02301</td>\n",
              "      <td>648</td>\n",
              "      <td>...</td>\n",
              "      <td>0.0</td>\n",
              "      <td>1.34216</td>\n",
              "      <td>10.80512</td>\n",
              "      <td>34.88770</td>\n",
              "      <td>12.26196</td>\n",
              "      <td>380.02747</td>\n",
              "      <td>386.30286</td>\n",
              "      <td>32.59527</td>\n",
              "      <td>5.4158</td>\n",
              "      <td>0</td>\n",
              "    </tr>\n",
              "    <tr>\n",
              "      <th>2</th>\n",
              "      <td>2020-07-07 15:00:02</td>\n",
              "      <td>402.76062</td>\n",
              "      <td>12.0</td>\n",
              "      <td>10</td>\n",
              "      <td>51.96533</td>\n",
              "      <td>-1.5398</td>\n",
              "      <td>-1.86768</td>\n",
              "      <td>785.81653</td>\n",
              "      <td>28.02993</td>\n",
              "      <td>616</td>\n",
              "      <td>...</td>\n",
              "      <td>0.0</td>\n",
              "      <td>1.34369</td>\n",
              "      <td>10.80029</td>\n",
              "      <td>34.88770</td>\n",
              "      <td>12.26196</td>\n",
              "      <td>381.52850</td>\n",
              "      <td>389.73883</td>\n",
              "      <td>32.59527</td>\n",
              "      <td>5.5532</td>\n",
              "      <td>0</td>\n",
              "    </tr>\n",
              "    <tr>\n",
              "      <th>3</th>\n",
              "      <td>2020-07-07 15:00:03</td>\n",
              "      <td>402.81174</td>\n",
              "      <td>12.0</td>\n",
              "      <td>10</td>\n",
              "      <td>51.98822</td>\n",
              "      <td>-1.6212</td>\n",
              "      <td>-1.86768</td>\n",
              "      <td>785.42438</td>\n",
              "      <td>28.02993</td>\n",
              "      <td>584</td>\n",
              "      <td>...</td>\n",
              "      <td>0.0</td>\n",
              "      <td>1.34445</td>\n",
              "      <td>10.80579</td>\n",
              "      <td>34.88770</td>\n",
              "      <td>12.26196</td>\n",
              "      <td>382.08911</td>\n",
              "      <td>388.94311</td>\n",
              "      <td>32.59527</td>\n",
              "      <td>5.7833</td>\n",
              "      <td>0</td>\n",
              "    </tr>\n",
              "    <tr>\n",
              "      <th>4</th>\n",
              "      <td>2020-07-07 15:00:04</td>\n",
              "      <td>402.91394</td>\n",
              "      <td>12.0</td>\n",
              "      <td>10</td>\n",
              "      <td>51.90429</td>\n",
              "      <td>-1.5631</td>\n",
              "      <td>-1.86768</td>\n",
              "      <td>782.99249</td>\n",
              "      <td>28.02990</td>\n",
              "      <td>552</td>\n",
              "      <td>...</td>\n",
              "      <td>0.0</td>\n",
              "      <td>1.34293</td>\n",
              "      <td>10.81415</td>\n",
              "      <td>34.90295</td>\n",
              "      <td>12.26196</td>\n",
              "      <td>383.44543</td>\n",
              "      <td>389.72082</td>\n",
              "      <td>32.59527</td>\n",
              "      <td>6.0309</td>\n",
              "      <td>0</td>\n",
              "    </tr>\n",
              "    <tr>\n",
              "      <th>...</th>\n",
              "      <td>...</td>\n",
              "      <td>...</td>\n",
              "      <td>...</td>\n",
              "      <td>...</td>\n",
              "      <td>...</td>\n",
              "      <td>...</td>\n",
              "      <td>...</td>\n",
              "      <td>...</td>\n",
              "      <td>...</td>\n",
              "      <td>...</td>\n",
              "      <td>...</td>\n",
              "      <td>...</td>\n",
              "      <td>...</td>\n",
              "      <td>...</td>\n",
              "      <td>...</td>\n",
              "      <td>...</td>\n",
              "      <td>...</td>\n",
              "      <td>...</td>\n",
              "      <td>...</td>\n",
              "      <td>...</td>\n",
              "      <td>...</td>\n",
              "    </tr>\n",
              "    <tr>\n",
              "      <th>43196</th>\n",
              "      <td>2020-07-08 02:59:56</td>\n",
              "      <td>397.08661</td>\n",
              "      <td>12.0</td>\n",
              "      <td>10</td>\n",
              "      <td>66.58325</td>\n",
              "      <td>-1.2052</td>\n",
              "      <td>-1.83716</td>\n",
              "      <td>786.93738</td>\n",
              "      <td>28.03250</td>\n",
              "      <td>0</td>\n",
              "      <td>...</td>\n",
              "      <td>0.0</td>\n",
              "      <td>1.35971</td>\n",
              "      <td>16.19496</td>\n",
              "      <td>35.22338</td>\n",
              "      <td>12.01019</td>\n",
              "      <td>390.13672</td>\n",
              "      <td>394.91107</td>\n",
              "      <td>31.81634</td>\n",
              "      <td>5.2977</td>\n",
              "      <td>0</td>\n",
              "    </tr>\n",
              "    <tr>\n",
              "      <th>43197</th>\n",
              "      <td>2020-07-08 02:59:57</td>\n",
              "      <td>397.18887</td>\n",
              "      <td>12.0</td>\n",
              "      <td>10</td>\n",
              "      <td>66.58325</td>\n",
              "      <td>-0.9256</td>\n",
              "      <td>-1.83716</td>\n",
              "      <td>783.44989</td>\n",
              "      <td>28.02304</td>\n",
              "      <td>0</td>\n",
              "      <td>...</td>\n",
              "      <td>0.0</td>\n",
              "      <td>1.35971</td>\n",
              "      <td>16.23927</td>\n",
              "      <td>35.23864</td>\n",
              "      <td>12.01019</td>\n",
              "      <td>390.24518</td>\n",
              "      <td>397.35248</td>\n",
              "      <td>31.81634</td>\n",
              "      <td>5.3188</td>\n",
              "      <td>0</td>\n",
              "    </tr>\n",
              "    <tr>\n",
              "      <th>43198</th>\n",
              "      <td>2020-07-08 02:59:58</td>\n",
              "      <td>397.13776</td>\n",
              "      <td>12.0</td>\n",
              "      <td>10</td>\n",
              "      <td>66.58325</td>\n",
              "      <td>-0.7843</td>\n",
              "      <td>-1.83716</td>\n",
              "      <td>784.86780</td>\n",
              "      <td>28.02814</td>\n",
              "      <td>0</td>\n",
              "      <td>...</td>\n",
              "      <td>0.0</td>\n",
              "      <td>1.35818</td>\n",
              "      <td>16.20675</td>\n",
              "      <td>35.23864</td>\n",
              "      <td>12.01019</td>\n",
              "      <td>390.46222</td>\n",
              "      <td>396.70142</td>\n",
              "      <td>31.81634</td>\n",
              "      <td>5.1800</td>\n",
              "      <td>0</td>\n",
              "    </tr>\n",
              "    <tr>\n",
              "      <th>43199</th>\n",
              "      <td>2020-07-08 02:59:59</td>\n",
              "      <td>397.34222</td>\n",
              "      <td>12.0</td>\n",
              "      <td>10</td>\n",
              "      <td>66.58325</td>\n",
              "      <td>-0.7646</td>\n",
              "      <td>-1.83716</td>\n",
              "      <td>785.51416</td>\n",
              "      <td>28.02294</td>\n",
              "      <td>0</td>\n",
              "      <td>...</td>\n",
              "      <td>0.0</td>\n",
              "      <td>1.35818</td>\n",
              "      <td>16.17168</td>\n",
              "      <td>35.25391</td>\n",
              "      <td>12.01019</td>\n",
              "      <td>391.78241</td>\n",
              "      <td>397.73218</td>\n",
              "      <td>31.81634</td>\n",
              "      <td>4.8763</td>\n",
              "      <td>0</td>\n",
              "    </tr>\n",
              "    <tr>\n",
              "      <th>43200</th>\n",
              "      <td>2020-07-08 03:00:00</td>\n",
              "      <td>397.49557</td>\n",
              "      <td>12.0</td>\n",
              "      <td>10</td>\n",
              "      <td>66.58325</td>\n",
              "      <td>-0.9083</td>\n",
              "      <td>-1.83716</td>\n",
              "      <td>786.98297</td>\n",
              "      <td>28.02990</td>\n",
              "      <td>0</td>\n",
              "      <td>...</td>\n",
              "      <td>0.0</td>\n",
              "      <td>1.35895</td>\n",
              "      <td>16.10412</td>\n",
              "      <td>35.22338</td>\n",
              "      <td>12.01019</td>\n",
              "      <td>391.31219</td>\n",
              "      <td>397.24390</td>\n",
              "      <td>31.81634</td>\n",
              "      <td>4.5790</td>\n",
              "      <td>0</td>\n",
              "    </tr>\n",
              "  </tbody>\n",
              "</table>\n",
              "<p>43201 rows × 81 columns</p>\n",
              "</div>\n",
              "      <button class=\"colab-df-convert\" onclick=\"convertToInteractive('df-a78d3599-cd93-4b03-9823-cea7e582ebdd')\"\n",
              "              title=\"Convert this dataframe to an interactive table.\"\n",
              "              style=\"display:none;\">\n",
              "        \n",
              "  <svg xmlns=\"http://www.w3.org/2000/svg\" height=\"24px\"viewBox=\"0 0 24 24\"\n",
              "       width=\"24px\">\n",
              "    <path d=\"M0 0h24v24H0V0z\" fill=\"none\"/>\n",
              "    <path d=\"M18.56 5.44l.94 2.06.94-2.06 2.06-.94-2.06-.94-.94-2.06-.94 2.06-2.06.94zm-11 1L8.5 8.5l.94-2.06 2.06-.94-2.06-.94L8.5 2.5l-.94 2.06-2.06.94zm10 10l.94 2.06.94-2.06 2.06-.94-2.06-.94-.94-2.06-.94 2.06-2.06.94z\"/><path d=\"M17.41 7.96l-1.37-1.37c-.4-.4-.92-.59-1.43-.59-.52 0-1.04.2-1.43.59L10.3 9.45l-7.72 7.72c-.78.78-.78 2.05 0 2.83L4 21.41c.39.39.9.59 1.41.59.51 0 1.02-.2 1.41-.59l7.78-7.78 2.81-2.81c.8-.78.8-2.07 0-2.86zM5.41 20L4 18.59l7.72-7.72 1.47 1.35L5.41 20z\"/>\n",
              "  </svg>\n",
              "      </button>\n",
              "      \n",
              "  <style>\n",
              "    .colab-df-container {\n",
              "      display:flex;\n",
              "      flex-wrap:wrap;\n",
              "      gap: 12px;\n",
              "    }\n",
              "\n",
              "    .colab-df-convert {\n",
              "      background-color: #E8F0FE;\n",
              "      border: none;\n",
              "      border-radius: 50%;\n",
              "      cursor: pointer;\n",
              "      display: none;\n",
              "      fill: #1967D2;\n",
              "      height: 32px;\n",
              "      padding: 0 0 0 0;\n",
              "      width: 32px;\n",
              "    }\n",
              "\n",
              "    .colab-df-convert:hover {\n",
              "      background-color: #E2EBFA;\n",
              "      box-shadow: 0px 1px 2px rgba(60, 64, 67, 0.3), 0px 1px 3px 1px rgba(60, 64, 67, 0.15);\n",
              "      fill: #174EA6;\n",
              "    }\n",
              "\n",
              "    [theme=dark] .colab-df-convert {\n",
              "      background-color: #3B4455;\n",
              "      fill: #D2E3FC;\n",
              "    }\n",
              "\n",
              "    [theme=dark] .colab-df-convert:hover {\n",
              "      background-color: #434B5C;\n",
              "      box-shadow: 0px 1px 3px 1px rgba(0, 0, 0, 0.15);\n",
              "      filter: drop-shadow(0px 1px 2px rgba(0, 0, 0, 0.3));\n",
              "      fill: #FFFFFF;\n",
              "    }\n",
              "  </style>\n",
              "\n",
              "      <script>\n",
              "        const buttonEl =\n",
              "          document.querySelector('#df-a78d3599-cd93-4b03-9823-cea7e582ebdd button.colab-df-convert');\n",
              "        buttonEl.style.display =\n",
              "          google.colab.kernel.accessAllowed ? 'block' : 'none';\n",
              "\n",
              "        async function convertToInteractive(key) {\n",
              "          const element = document.querySelector('#df-a78d3599-cd93-4b03-9823-cea7e582ebdd');\n",
              "          const dataTable =\n",
              "            await google.colab.kernel.invokeFunction('convertToInteractive',\n",
              "                                                     [key], {});\n",
              "          if (!dataTable) return;\n",
              "\n",
              "          const docLinkHtml = 'Like what you see? Visit the ' +\n",
              "            '<a target=\"_blank\" href=https://colab.research.google.com/notebooks/data_table.ipynb>data table notebook</a>'\n",
              "            + ' to learn more about interactive tables.';\n",
              "          element.innerHTML = '';\n",
              "          dataTable['output_type'] = 'display_data';\n",
              "          await google.colab.output.renderOutput(dataTable, element);\n",
              "          const docLink = document.createElement('div');\n",
              "          docLink.innerHTML = docLinkHtml;\n",
              "          element.appendChild(docLink);\n",
              "        }\n",
              "      </script>\n",
              "    </div>\n",
              "  </div>\n",
              "  "
            ]
          },
          "metadata": {},
          "execution_count": 40
        }
      ]
    },
    {
      "cell_type": "code",
      "metadata": {
        "id": "8OpKZPkr0jw9"
      },
      "source": [
        "VALIDATION_DF = normalize(VALIDATION_DF_RAW[VALID_COLUMNS_IN_TRAIN_DATASET])  # Data Scaling\n",
        "# VALIDATION_DF = sc.fit_transform(VALIDATION_DF_RAW[VALID_COLUMNS_IN_TRAIN_DATASET])    # Data Scaling by MinMaxScaler\n",
        "# VALIDATION_DF = sc.fit_transform(VALIDATION_DF_RAW[VALID_COLUMNS_IN_TRAIN_DATASET])    # Data Scaling by Normalizer"
      ],
      "execution_count": 41,
      "outputs": []
    },
    {
      "cell_type": "code",
      "metadata": {
        "id": "TtahrwmH0jzb",
        "colab": {
          "base_uri": "https://localhost:8080/"
        },
        "outputId": "c3aea161-858b-4edc-e3a9-776795c031de"
      },
      "source": [
        "boundary_check(VALIDATION_DF)"
      ],
      "execution_count": 42,
      "outputs": [
        {
          "output_type": "execute_result",
          "data": {
            "text/plain": [
              "(True, True, False)"
            ]
          },
          "metadata": {},
          "execution_count": 42
        }
      ]
    },
    {
      "cell_type": "code",
      "metadata": {
        "id": "GYqqFg-w0j1r",
        "colab": {
          "base_uri": "https://localhost:8080/",
          "height": 416,
          "referenced_widgets": [
            "5d2c58613b04499bbb05ce5f4f50fff8",
            "2cbb499a200b4ee28cd5d03f054fad6e",
            "f1ddc561f51f4ccea80c3a88d63fed9a",
            "caa27d558ed04ed3930505e6f3606ca1",
            "8a06552e3a0d4298a1e7aceee6e9cbe9",
            "3ead2a2b86c7462498a462f29905ce90",
            "3680e1c120b6491d8480ba520cc14386",
            "d948e9e1f6cb43889f78be1cf32db890",
            "b1d81bae76d84e42825cf744136e07c2",
            "4d7d51ca44cf4d1fb48975ef9996607c",
            "4ebac1ddc6a5426a81ba8fe31f07070c"
          ]
        },
        "outputId": "85f7a2da-d3ab-46cc-a1fa-e25f65c8f722"
      },
      "source": [
        "HAI_DATASET_VALIDATION = HaiDataset(\n",
        "    VALIDATION_DF_RAW[TIMESTAMP_FIELD], VALIDATION_DF, attacks=VALIDATION_DF_RAW[ATTACK_FIELD]\n",
        ")\n",
        "HAI_DATASET_VALIDATION[0]"
      ],
      "execution_count": 43,
      "outputs": [
        {
          "output_type": "display_data",
          "data": {
            "text/plain": [
              "  0%|          | 0/43112 [00:00<?, ?it/s]"
            ],
            "application/vnd.jupyter.widget-view+json": {
              "version_major": 2,
              "version_minor": 0,
              "model_id": "5d2c58613b04499bbb05ce5f4f50fff8"
            }
          },
          "metadata": {}
        },
        {
          "output_type": "stream",
          "name": "stdout",
          "text": [
            "# of valid windows: 43112\n"
          ]
        },
        {
          "output_type": "execute_result",
          "data": {
            "text/plain": [
              "{'attack': 0.0,\n",
              " 'ts': '2020-07-07 15:01:29',\n",
              " 'given': tensor([[0.4516, 0.1978, 0.4746,  ..., 0.5798, 0.5271, 0.4014],\n",
              "         [0.4526, 0.1983, 0.3728,  ..., 0.5799, 0.5271, 0.3234],\n",
              "         [0.4521, 0.1983, 0.2580,  ..., 0.5927, 0.5271, 0.3727],\n",
              "         ...,\n",
              "         [0.5267, 0.1620, 0.2691,  ..., 0.3193, 0.5271, 0.3745],\n",
              "         [0.5257, 0.1620, 0.2043,  ..., 0.3134, 0.5271, 0.4363],\n",
              "         [0.5252, 0.1620, 0.1861,  ..., 0.3089, 0.5271, 0.5319]]),\n",
              " 'answer': tensor([5.2717e-01, 1.6201e-01, 2.4634e-01, 3.0731e-04, 4.7660e-01, 5.1151e-01,\n",
              "         1.1574e-03, 1.5182e-01, 4.9051e-01, 5.5063e-01, 2.8699e-01, 4.4413e-01,\n",
              "         4.3588e-01, 2.4863e-02, 3.4310e-01, 7.5772e-01, 6.8562e-01, 0.0000e+00,\n",
              "         3.7939e-01, 2.5223e-01, 0.0000e+00, 3.9106e-01, 2.5138e-02, 9.9257e-01,\n",
              "         3.4135e-01, 1.0000e+00, 4.1100e-01, 4.6915e-01, 9.9916e-01, 2.5674e-04,\n",
              "         5.0073e-01, 3.8212e-01, 2.3146e-01, 6.1364e-01, 0.0000e+00, 4.8101e-01,\n",
              "         7.6219e-01, 5.8022e-01, 1.0000e+00, 1.3777e-01, 9.9420e-01, 4.8721e-02,\n",
              "         7.6795e-01, 9.9123e-01, 4.4749e-01, 2.8254e-01, 9.9751e-01, 3.5354e-01,\n",
              "         6.0346e-01, 0.0000e+00, 3.6832e-01, 2.0053e-01, 9.4593e-02, 1.7778e+00,\n",
              "         3.4465e-01, 3.1577e-01, 5.2712e-01, 6.1266e-01])}"
            ]
          },
          "metadata": {},
          "execution_count": 43
        }
      ]
    },
    {
      "cell_type": "code",
      "source": [
        "from google.colab import files\n",
        "\n",
        "VALIDATION_DF_RAW.to_csv('VALIDATION_DF_RAW.csv', index=False)\n",
        "files.download('VALIDATION_DF_RAW.csv')"
      ],
      "metadata": {
        "id": "DJ1Im1KMisCQ",
        "outputId": "1fbbde66-b313-477b-a3d3-c222c3188326",
        "colab": {
          "base_uri": "https://localhost:8080/",
          "height": 17
        }
      },
      "execution_count": 44,
      "outputs": [
        {
          "output_type": "display_data",
          "data": {
            "text/plain": [
              "<IPython.core.display.Javascript object>"
            ],
            "application/javascript": [
              "\n",
              "    async function download(id, filename, size) {\n",
              "      if (!google.colab.kernel.accessAllowed) {\n",
              "        return;\n",
              "      }\n",
              "      const div = document.createElement('div');\n",
              "      const label = document.createElement('label');\n",
              "      label.textContent = `Downloading \"${filename}\": `;\n",
              "      div.appendChild(label);\n",
              "      const progress = document.createElement('progress');\n",
              "      progress.max = size;\n",
              "      div.appendChild(progress);\n",
              "      document.body.appendChild(div);\n",
              "\n",
              "      const buffers = [];\n",
              "      let downloaded = 0;\n",
              "\n",
              "      const channel = await google.colab.kernel.comms.open(id);\n",
              "      // Send a message to notify the kernel that we're ready.\n",
              "      channel.send({})\n",
              "\n",
              "      for await (const message of channel.messages) {\n",
              "        // Send a message to notify the kernel that we're ready.\n",
              "        channel.send({})\n",
              "        if (message.buffers) {\n",
              "          for (const buffer of message.buffers) {\n",
              "            buffers.push(buffer);\n",
              "            downloaded += buffer.byteLength;\n",
              "            progress.value = downloaded;\n",
              "          }\n",
              "        }\n",
              "      }\n",
              "      const blob = new Blob(buffers, {type: 'application/binary'});\n",
              "      const a = document.createElement('a');\n",
              "      a.href = window.URL.createObjectURL(blob);\n",
              "      a.download = filename;\n",
              "      div.appendChild(a);\n",
              "      a.click();\n",
              "      div.remove();\n",
              "    }\n",
              "  "
            ]
          },
          "metadata": {}
        },
        {
          "output_type": "display_data",
          "data": {
            "text/plain": [
              "<IPython.core.display.Javascript object>"
            ],
            "application/javascript": [
              "download(\"download_a4dbf6a9-fafd-4e50-9879-5e3b2e6a4341\", \"VALIDATION_DF_RAW.csv\", 24447430)"
            ]
          },
          "metadata": {}
        }
      ]
    },
    {
      "cell_type": "code",
      "source": [
        "VALIDATION_DF.to_csv('VALIDATION_DF.csv', index=False)\n",
        "files.download('VALIDATION_DF.csv')"
      ],
      "metadata": {
        "id": "npTuH7Z0mZQM",
        "outputId": "ba0d8c04-e39d-45eb-fed3-c2b699e23ad2",
        "colab": {
          "base_uri": "https://localhost:8080/",
          "height": 17
        }
      },
      "execution_count": 45,
      "outputs": [
        {
          "output_type": "display_data",
          "data": {
            "text/plain": [
              "<IPython.core.display.Javascript object>"
            ],
            "application/javascript": [
              "\n",
              "    async function download(id, filename, size) {\n",
              "      if (!google.colab.kernel.accessAllowed) {\n",
              "        return;\n",
              "      }\n",
              "      const div = document.createElement('div');\n",
              "      const label = document.createElement('label');\n",
              "      label.textContent = `Downloading \"${filename}\": `;\n",
              "      div.appendChild(label);\n",
              "      const progress = document.createElement('progress');\n",
              "      progress.max = size;\n",
              "      div.appendChild(progress);\n",
              "      document.body.appendChild(div);\n",
              "\n",
              "      const buffers = [];\n",
              "      let downloaded = 0;\n",
              "\n",
              "      const channel = await google.colab.kernel.comms.open(id);\n",
              "      // Send a message to notify the kernel that we're ready.\n",
              "      channel.send({})\n",
              "\n",
              "      for await (const message of channel.messages) {\n",
              "        // Send a message to notify the kernel that we're ready.\n",
              "        channel.send({})\n",
              "        if (message.buffers) {\n",
              "          for (const buffer of message.buffers) {\n",
              "            buffers.push(buffer);\n",
              "            downloaded += buffer.byteLength;\n",
              "            progress.value = downloaded;\n",
              "          }\n",
              "        }\n",
              "      }\n",
              "      const blob = new Blob(buffers, {type: 'application/binary'});\n",
              "      const a = document.createElement('a');\n",
              "      a.href = window.URL.createObjectURL(blob);\n",
              "      a.download = filename;\n",
              "      div.appendChild(a);\n",
              "      a.click();\n",
              "      div.remove();\n",
              "    }\n",
              "  "
            ]
          },
          "metadata": {}
        },
        {
          "output_type": "display_data",
          "data": {
            "text/plain": [
              "<IPython.core.display.Javascript object>"
            ],
            "application/javascript": [
              "download(\"download_2b802b99-d54a-44dd-81dc-af79cf70de1a\", \"VALIDATION_DF.csv\", 44486122)"
            ]
          },
          "metadata": {}
        }
      ]
    },
    {
      "cell_type": "code",
      "metadata": {
        "id": "nBrwiGGr0j4E"
      },
      "source": [
        "def inference(dataset, model, batch_size):\n",
        "    dataloader = DataLoader(dataset, batch_size=batch_size)\n",
        "    ts, dist, att, pred, actual = [], [], [], [], []\n",
        "    with torch.no_grad():\n",
        "        for batch in dataloader:\n",
        "            given = batch[\"given\"].cuda()\n",
        "            answer = batch[\"answer\"].cuda()\n",
        "            guess = model(given)\n",
        "\n",
        "            ts.append(np.array(batch[\"ts\"]))\n",
        "            pred.append(torch.abs(guess).cpu().numpy())\n",
        "            actual.append(torch.abs(answer).cpu().numpy())\n",
        "\n",
        "            dist.append(torch.abs(answer - guess).cpu().numpy())\n",
        "            try:\n",
        "                att.append(np.array(batch[\"attack\"]))\n",
        "            except:\n",
        "                att.append(np.zeros(batch_size))\n",
        "            \n",
        "    return (\n",
        "        np.concatenate(ts),\n",
        "        np.concatenate(dist),\n",
        "        np.concatenate(att),\n",
        "        np.concatenate(pred),\n",
        "        np.concatenate(actual)\n",
        "    )"
      ],
      "execution_count": 46,
      "outputs": []
    },
    {
      "cell_type": "markdown",
      "source": [
        "Inference 함수는 데이터를 순차적으로 보면서 모델이 예측한 값과 실제 값의 차를 구해서 기록함"
      ],
      "metadata": {
        "id": "2iNci0mVblkD"
      }
    },
    {
      "cell_type": "code",
      "metadata": {
        "id": "_qTJSK3S0j6f",
        "colab": {
          "base_uri": "https://localhost:8080/"
        },
        "outputId": "9a989b04-86be-4c69-8755-098f3e311e05"
      },
      "source": [
        "%%time\n",
        "MODEL.eval()\n",
        "CHECK_TS, CHECK_DIST, CHECK_ATT, PRED, ACTUAL = inference(HAI_DATASET_VALIDATION, MODEL, BATCH_SIZE)"
      ],
      "execution_count": 47,
      "outputs": [
        {
          "output_type": "stream",
          "name": "stdout",
          "text": [
            "CPU times: user 3.91 s, sys: 15 ms, total: 3.92 s\n",
            "Wall time: 3.91 s\n"
          ]
        }
      ]
    },
    {
      "cell_type": "code",
      "source": [
        "PRED\n",
        "df_PRED = pd.DataFrame(PRED)\n",
        "df_PRED.to_csv('PRED.csv', index=False)\n",
        "files.download('PRED.csv')"
      ],
      "metadata": {
        "id": "CEglwaiirMqW",
        "outputId": "2f0140d3-2815-4220-862b-02c8968f64ae",
        "colab": {
          "base_uri": "https://localhost:8080/",
          "height": 17
        }
      },
      "execution_count": 48,
      "outputs": [
        {
          "output_type": "display_data",
          "data": {
            "text/plain": [
              "<IPython.core.display.Javascript object>"
            ],
            "application/javascript": [
              "\n",
              "    async function download(id, filename, size) {\n",
              "      if (!google.colab.kernel.accessAllowed) {\n",
              "        return;\n",
              "      }\n",
              "      const div = document.createElement('div');\n",
              "      const label = document.createElement('label');\n",
              "      label.textContent = `Downloading \"${filename}\": `;\n",
              "      div.appendChild(label);\n",
              "      const progress = document.createElement('progress');\n",
              "      progress.max = size;\n",
              "      div.appendChild(progress);\n",
              "      document.body.appendChild(div);\n",
              "\n",
              "      const buffers = [];\n",
              "      let downloaded = 0;\n",
              "\n",
              "      const channel = await google.colab.kernel.comms.open(id);\n",
              "      // Send a message to notify the kernel that we're ready.\n",
              "      channel.send({})\n",
              "\n",
              "      for await (const message of channel.messages) {\n",
              "        // Send a message to notify the kernel that we're ready.\n",
              "        channel.send({})\n",
              "        if (message.buffers) {\n",
              "          for (const buffer of message.buffers) {\n",
              "            buffers.push(buffer);\n",
              "            downloaded += buffer.byteLength;\n",
              "            progress.value = downloaded;\n",
              "          }\n",
              "        }\n",
              "      }\n",
              "      const blob = new Blob(buffers, {type: 'application/binary'});\n",
              "      const a = document.createElement('a');\n",
              "      a.href = window.URL.createObjectURL(blob);\n",
              "      a.download = filename;\n",
              "      div.appendChild(a);\n",
              "      a.click();\n",
              "      div.remove();\n",
              "    }\n",
              "  "
            ]
          },
          "metadata": {}
        },
        {
          "output_type": "display_data",
          "data": {
            "text/plain": [
              "<IPython.core.display.Javascript object>"
            ],
            "application/javascript": [
              "download(\"download_a282e03e-e0e2-493c-9d12-d2060156edc3\", \"PRED.csv\", 26921981)"
            ]
          },
          "metadata": {}
        }
      ]
    },
    {
      "cell_type": "code",
      "source": [
        "ACTUAL\n",
        "df_ACTUAL = pd.DataFrame(ACTUAL)\n",
        "df_ACTUAL.to_csv('ACTUAL.csv', index=False)\n",
        "files.download('ACTUAL.csv')"
      ],
      "metadata": {
        "id": "Lyq9dMR2rO4o",
        "outputId": "fa23238e-d5df-48f0-86ae-580c9e063809",
        "colab": {
          "base_uri": "https://localhost:8080/",
          "height": 17
        }
      },
      "execution_count": 49,
      "outputs": [
        {
          "output_type": "display_data",
          "data": {
            "text/plain": [
              "<IPython.core.display.Javascript object>"
            ],
            "application/javascript": [
              "\n",
              "    async function download(id, filename, size) {\n",
              "      if (!google.colab.kernel.accessAllowed) {\n",
              "        return;\n",
              "      }\n",
              "      const div = document.createElement('div');\n",
              "      const label = document.createElement('label');\n",
              "      label.textContent = `Downloading \"${filename}\": `;\n",
              "      div.appendChild(label);\n",
              "      const progress = document.createElement('progress');\n",
              "      progress.max = size;\n",
              "      div.appendChild(progress);\n",
              "      document.body.appendChild(div);\n",
              "\n",
              "      const buffers = [];\n",
              "      let downloaded = 0;\n",
              "\n",
              "      const channel = await google.colab.kernel.comms.open(id);\n",
              "      // Send a message to notify the kernel that we're ready.\n",
              "      channel.send({})\n",
              "\n",
              "      for await (const message of channel.messages) {\n",
              "        // Send a message to notify the kernel that we're ready.\n",
              "        channel.send({})\n",
              "        if (message.buffers) {\n",
              "          for (const buffer of message.buffers) {\n",
              "            buffers.push(buffer);\n",
              "            downloaded += buffer.byteLength;\n",
              "            progress.value = downloaded;\n",
              "          }\n",
              "        }\n",
              "      }\n",
              "      const blob = new Blob(buffers, {type: 'application/binary'});\n",
              "      const a = document.createElement('a');\n",
              "      a.href = window.URL.createObjectURL(blob);\n",
              "      a.download = filename;\n",
              "      div.appendChild(a);\n",
              "      a.click();\n",
              "      div.remove();\n",
              "    }\n",
              "  "
            ]
          },
          "metadata": {}
        },
        {
          "output_type": "display_data",
          "data": {
            "text/plain": [
              "<IPython.core.display.Javascript object>"
            ],
            "application/javascript": [
              "download(\"download_0d11f801-5749-42ae-b268-482a40202aee\", \"ACTUAL.csv\", 25160839)"
            ]
          },
          "metadata": {}
        }
      ]
    },
    {
      "cell_type": "code",
      "source": [
        "CHECK_DIST\n",
        "df_CHECK_DIST = pd.DataFrame(CHECK_DIST)\n",
        "df_CHECK_DIST.to_csv('CHECK_DIST.csv', index=False)\n",
        "files.download('CHECK_DIST.csv')"
      ],
      "metadata": {
        "id": "NW06cT45swn5",
        "outputId": "660c7906-4b5e-4495-8c11-f25e2403737e",
        "colab": {
          "base_uri": "https://localhost:8080/",
          "height": 17
        }
      },
      "execution_count": 50,
      "outputs": [
        {
          "output_type": "display_data",
          "data": {
            "text/plain": [
              "<IPython.core.display.Javascript object>"
            ],
            "application/javascript": [
              "\n",
              "    async function download(id, filename, size) {\n",
              "      if (!google.colab.kernel.accessAllowed) {\n",
              "        return;\n",
              "      }\n",
              "      const div = document.createElement('div');\n",
              "      const label = document.createElement('label');\n",
              "      label.textContent = `Downloading \"${filename}\": `;\n",
              "      div.appendChild(label);\n",
              "      const progress = document.createElement('progress');\n",
              "      progress.max = size;\n",
              "      div.appendChild(progress);\n",
              "      document.body.appendChild(div);\n",
              "\n",
              "      const buffers = [];\n",
              "      let downloaded = 0;\n",
              "\n",
              "      const channel = await google.colab.kernel.comms.open(id);\n",
              "      // Send a message to notify the kernel that we're ready.\n",
              "      channel.send({})\n",
              "\n",
              "      for await (const message of channel.messages) {\n",
              "        // Send a message to notify the kernel that we're ready.\n",
              "        channel.send({})\n",
              "        if (message.buffers) {\n",
              "          for (const buffer of message.buffers) {\n",
              "            buffers.push(buffer);\n",
              "            downloaded += buffer.byteLength;\n",
              "            progress.value = downloaded;\n",
              "          }\n",
              "        }\n",
              "      }\n",
              "      const blob = new Blob(buffers, {type: 'application/binary'});\n",
              "      const a = document.createElement('a');\n",
              "      a.href = window.URL.createObjectURL(blob);\n",
              "      a.download = filename;\n",
              "      div.appendChild(a);\n",
              "      a.click();\n",
              "      div.remove();\n",
              "    }\n",
              "  "
            ]
          },
          "metadata": {}
        },
        {
          "output_type": "display_data",
          "data": {
            "text/plain": [
              "<IPython.core.display.Javascript object>"
            ],
            "application/javascript": [
              "download(\"download_0cc75e59-51b0-482d-8809-7b032e877252\", \"CHECK_DIST.csv\", 30530944)"
            ]
          },
          "metadata": {}
        }
      ]
    },
    {
      "cell_type": "code",
      "source": [
        "CHECK_TS\n",
        "df_CHECK_TS = pd.DataFrame(CHECK_TS)\n",
        "df_CHECK_TS.to_csv('CHECK_TS.csv', index=False)\n",
        "files.download('CHECK_TS.csv')"
      ],
      "metadata": {
        "id": "iYLhwmHjtyK6",
        "outputId": "f688c567-6282-4f03-959a-bf91312074c9",
        "colab": {
          "base_uri": "https://localhost:8080/",
          "height": 17
        }
      },
      "execution_count": 51,
      "outputs": [
        {
          "output_type": "display_data",
          "data": {
            "text/plain": [
              "<IPython.core.display.Javascript object>"
            ],
            "application/javascript": [
              "\n",
              "    async function download(id, filename, size) {\n",
              "      if (!google.colab.kernel.accessAllowed) {\n",
              "        return;\n",
              "      }\n",
              "      const div = document.createElement('div');\n",
              "      const label = document.createElement('label');\n",
              "      label.textContent = `Downloading \"${filename}\": `;\n",
              "      div.appendChild(label);\n",
              "      const progress = document.createElement('progress');\n",
              "      progress.max = size;\n",
              "      div.appendChild(progress);\n",
              "      document.body.appendChild(div);\n",
              "\n",
              "      const buffers = [];\n",
              "      let downloaded = 0;\n",
              "\n",
              "      const channel = await google.colab.kernel.comms.open(id);\n",
              "      // Send a message to notify the kernel that we're ready.\n",
              "      channel.send({})\n",
              "\n",
              "      for await (const message of channel.messages) {\n",
              "        // Send a message to notify the kernel that we're ready.\n",
              "        channel.send({})\n",
              "        if (message.buffers) {\n",
              "          for (const buffer of message.buffers) {\n",
              "            buffers.push(buffer);\n",
              "            downloaded += buffer.byteLength;\n",
              "            progress.value = downloaded;\n",
              "          }\n",
              "        }\n",
              "      }\n",
              "      const blob = new Blob(buffers, {type: 'application/binary'});\n",
              "      const a = document.createElement('a');\n",
              "      a.href = window.URL.createObjectURL(blob);\n",
              "      a.download = filename;\n",
              "      div.appendChild(a);\n",
              "      a.click();\n",
              "      div.remove();\n",
              "    }\n",
              "  "
            ]
          },
          "metadata": {}
        },
        {
          "output_type": "display_data",
          "data": {
            "text/plain": [
              "<IPython.core.display.Javascript object>"
            ],
            "application/javascript": [
              "download(\"download_dc94006e-fd96-4b2d-bb07-d33cf0dcfa92\", \"CHECK_TS.csv\", 862242)"
            ]
          },
          "metadata": {}
        }
      ]
    },
    {
      "cell_type": "code",
      "source": [
        "CHECK_ATT\n",
        "df_CHECK_ATT = pd.DataFrame(CHECK_ATT)\n",
        "df_CHECK_ATT.to_csv('CHECK_ATT.csv', index=False)\n",
        "files.download('CHECK_ATT.csv')"
      ],
      "metadata": {
        "id": "qtH_jHTCuB__",
        "outputId": "81e1370c-2f39-4191-d5e0-5adbcc8628cf",
        "colab": {
          "base_uri": "https://localhost:8080/",
          "height": 17
        }
      },
      "execution_count": 52,
      "outputs": [
        {
          "output_type": "display_data",
          "data": {
            "text/plain": [
              "<IPython.core.display.Javascript object>"
            ],
            "application/javascript": [
              "\n",
              "    async function download(id, filename, size) {\n",
              "      if (!google.colab.kernel.accessAllowed) {\n",
              "        return;\n",
              "      }\n",
              "      const div = document.createElement('div');\n",
              "      const label = document.createElement('label');\n",
              "      label.textContent = `Downloading \"${filename}\": `;\n",
              "      div.appendChild(label);\n",
              "      const progress = document.createElement('progress');\n",
              "      progress.max = size;\n",
              "      div.appendChild(progress);\n",
              "      document.body.appendChild(div);\n",
              "\n",
              "      const buffers = [];\n",
              "      let downloaded = 0;\n",
              "\n",
              "      const channel = await google.colab.kernel.comms.open(id);\n",
              "      // Send a message to notify the kernel that we're ready.\n",
              "      channel.send({})\n",
              "\n",
              "      for await (const message of channel.messages) {\n",
              "        // Send a message to notify the kernel that we're ready.\n",
              "        channel.send({})\n",
              "        if (message.buffers) {\n",
              "          for (const buffer of message.buffers) {\n",
              "            buffers.push(buffer);\n",
              "            downloaded += buffer.byteLength;\n",
              "            progress.value = downloaded;\n",
              "          }\n",
              "        }\n",
              "      }\n",
              "      const blob = new Blob(buffers, {type: 'application/binary'});\n",
              "      const a = document.createElement('a');\n",
              "      a.href = window.URL.createObjectURL(blob);\n",
              "      a.download = filename;\n",
              "      div.appendChild(a);\n",
              "      a.click();\n",
              "      div.remove();\n",
              "    }\n",
              "  "
            ]
          },
          "metadata": {}
        },
        {
          "output_type": "display_data",
          "data": {
            "text/plain": [
              "<IPython.core.display.Javascript object>"
            ],
            "application/javascript": [
              "download(\"download_4a850b53-42ae-4c19-a7f3-350e9a94276b\", \"CHECK_ATT.csv\", 172450)"
            ]
          },
          "metadata": {}
        }
      ]
    },
    {
      "cell_type": "code",
      "source": [
        "BATCH_SIZE"
      ],
      "metadata": {
        "id": "l8YJSrwee17Q",
        "outputId": "c6ee2034-fee7-4521-f111-277e9760f81e",
        "colab": {
          "base_uri": "https://localhost:8080/"
        }
      },
      "execution_count": 53,
      "outputs": [
        {
          "output_type": "execute_result",
          "data": {
            "text/plain": [
              "512"
            ]
          },
          "metadata": {},
          "execution_count": 53
        }
      ]
    },
    {
      "cell_type": "code",
      "source": [
        "MODEL"
      ],
      "metadata": {
        "id": "wAjFldr7eTRT",
        "outputId": "f493de5b-05f7-445f-fd36-7e27135673b7",
        "colab": {
          "base_uri": "https://localhost:8080/"
        }
      },
      "execution_count": 54,
      "outputs": [
        {
          "output_type": "execute_result",
          "data": {
            "text/plain": [
              "StackedGRU(\n",
              "  (rnn): GRU(58, 100, num_layers=4, bidirectional=True)\n",
              "  (fc): Linear(in_features=200, out_features=58, bias=True)\n",
              "  (lstm): LSTM(58, 100)\n",
              "  (Softmax): Softmax(dim=1)\n",
              ")"
            ]
          },
          "metadata": {},
          "execution_count": 54
        }
      ]
    },
    {
      "cell_type": "code",
      "metadata": {
        "id": "9AXSOUkU0j_N",
        "colab": {
          "base_uri": "https://localhost:8080/",
          "height": 283
        },
        "outputId": "25f4871c-98b0-497b-a4e2-eb46c2f3107c"
      },
      "source": [
        "ANOMALY_SCORE = np.mean(CHECK_DIST, axis=1)\n",
        "plt.plot(ANOMALY_SCORE)"
      ],
      "execution_count": 55,
      "outputs": [
        {
          "output_type": "execute_result",
          "data": {
            "text/plain": [
              "[<matplotlib.lines.Line2D at 0x7f890c3c5850>]"
            ]
          },
          "metadata": {},
          "execution_count": 55
        },
        {
          "output_type": "display_data",
          "data": {
            "text/plain": [
              "<Figure size 432x288 with 1 Axes>"
            ],
            "image/png": "[encoded data removed]"
          },
          "metadata": {
            "needs_background": "light"
          }
        }
      ]
    },
    {
      "cell_type": "code",
      "source": [
        "plt.plot(CHECK_ATT)"
      ],
      "metadata": {
        "colab": {
          "base_uri": "https://localhost:8080/",
          "height": 283
        },
        "id": "VdS_DjYvcv9u",
        "outputId": "c3d25e08-4c05-40e2-9f47-1e83507fa928"
      },
      "execution_count": 56,
      "outputs": [
        {
          "output_type": "execute_result",
          "data": {
            "text/plain": [
              "[<matplotlib.lines.Line2D at 0x7f890d5b5130>]"
            ]
          },
          "metadata": {},
          "execution_count": 56
        },
        {
          "output_type": "display_data",
          "data": {
            "text/plain": [
              "<Figure size 432x288 with 1 Axes>"
            ],
            "image/png": "[encoded data removed]"
          },
          "metadata": {
            "needs_background": "light"
          }
        }
      ]
    },
    {
      "cell_type": "code",
      "metadata": {
        "id": "jU3vnJN20kB5"
      },
      "source": [
        "def check_graph(xs, att, piece=2, THRESHOLD=None):\n",
        "    l = xs.shape[0]\n",
        "    chunk = l // piece\n",
        "    fig, axs = plt.subplots(piece, figsize=(20, 4 * piece))\n",
        "    for i in range(piece):\n",
        "        L = i * chunk\n",
        "        R = min(L + chunk, l)\n",
        "        xticks = range(L, R)\n",
        "        axs[i].plot(xticks, xs[L:R])\n",
        "        if len(xs[L:R]) > 0:\n",
        "            peak = max(xs[L:R])\n",
        "            axs[i].plot(xticks, att[L:R] * peak * 0.5)\n",
        "        if THRESHOLD!=None:\n",
        "            axs[i].axhline(y=THRESHOLD, color='r')\n",
        "        plt.legend(['Anomaly Score', 'Abnormal Actual', 'Threshold'])\n",
        "        plt.xlabel('time[sec]')\n",
        "    plt.show()"
      ],
      "execution_count": 57,
      "outputs": []
    },
    {
      "cell_type": "code",
      "metadata": {
        "id": "TEac0qdu0kDz",
        "colab": {
          "base_uri": "https://localhost:8080/",
          "height": 497
        },
        "outputId": "a781b552-f3f3-4ba1-930e-abe72ce820ac"
      },
      "source": [
        "THRESHOLD = 0.04\n",
        "check_graph(ANOMALY_SCORE, CHECK_ATT, piece=2, THRESHOLD=THRESHOLD)"
      ],
      "execution_count": 58,
      "outputs": [
        {
          "output_type": "display_data",
          "data": {
            "text/plain": [
              "<Figure size 1440x576 with 2 Axes>"
            ],
            "image/png": "[encoded data removed]"
          },
          "metadata": {
            "needs_background": "light"
          }
        }
      ]
    },
    {
      "cell_type": "markdown",
      "source": [
        "주황색 선은 Abnormal Operation 동작 부분을 나타내고, 파란색 선은 Anomaly Score (모델과 실제 데이터의 오차 크기)를 나타냅니다. Abnormal Operation 동작 부분에서 Anomaly Score (오차 크기) 가 큰 것으로 보이고 있습니다.\n",
        "임의이 Threshold(빨간색 선)가 넘어갈 경우 Abnormal Operation으로 간주하고 Abnormal은 1로 정상은 0으로 구분할 수 있습니다."
      ],
      "metadata": {
        "id": "5t7xtoIwgX_u"
      }
    },
    {
      "cell_type": "code",
      "metadata": {
        "id": "9jrBlQoV0kGD"
      },
      "source": [
        "def put_labels(distance, threshold):\n",
        "    xs = np.zeros_like(distance)\n",
        "    xs[distance > threshold] = 1\n",
        "    return xs"
      ],
      "execution_count": 59,
      "outputs": []
    },
    {
      "cell_type": "code",
      "source": [
        "plt.plot(ANOMALY_SCORE)"
      ],
      "metadata": {
        "colab": {
          "base_uri": "https://localhost:8080/",
          "height": 283
        },
        "id": "pLsQko5uhspV",
        "outputId": "6f56e331-6fa8-4c53-d81f-5dee94b5efca"
      },
      "execution_count": 60,
      "outputs": [
        {
          "output_type": "execute_result",
          "data": {
            "text/plain": [
              "[<matplotlib.lines.Line2D at 0x7f890cbe8e80>]"
            ]
          },
          "metadata": {},
          "execution_count": 60
        },
        {
          "output_type": "display_data",
          "data": {
            "text/plain": [
              "<Figure size 432x288 with 1 Axes>"
            ],
            "image/png": "[encoded data removed]"
          },
          "metadata": {
            "needs_background": "light"
          }
        }
      ]
    },
    {
      "cell_type": "code",
      "metadata": {
        "id": "3owxdJ6P0kIU",
        "colab": {
          "base_uri": "https://localhost:8080/"
        },
        "outputId": "9a1410e1-8963-4ab2-dc2b-acab48bcb902"
      },
      "source": [
        "LABELS = put_labels(ANOMALY_SCORE, THRESHOLD)\n",
        "LABELS, LABELS.shape"
      ],
      "execution_count": 61,
      "outputs": [
        {
          "output_type": "execute_result",
          "data": {
            "text/plain": [
              "(array([0., 0., 0., ..., 0., 0., 0.], dtype=float32), (43112,))"
            ]
          },
          "metadata": {},
          "execution_count": 61
        }
      ]
    },
    {
      "cell_type": "code",
      "source": [
        "plt.plot(LABELS)"
      ],
      "metadata": {
        "id": "Vz0VhAfmjHKC",
        "outputId": "57b01364-07aa-4927-ba17-d86ee1c4b8e0",
        "colab": {
          "base_uri": "https://localhost:8080/",
          "height": 283
        }
      },
      "execution_count": 62,
      "outputs": [
        {
          "output_type": "execute_result",
          "data": {
            "text/plain": [
              "[<matplotlib.lines.Line2D at 0x7f890bf7a4f0>]"
            ]
          },
          "metadata": {},
          "execution_count": 62
        },
        {
          "output_type": "display_data",
          "data": {
            "text/plain": [
              "<Figure size 432x288 with 1 Axes>"
            ],
            "image/png": "[encoded data removed]"
          },
          "metadata": {
            "needs_background": "light"
          }
        }
      ]
    },
    {
      "cell_type": "code",
      "metadata": {
        "id": "K5LJaAgv0kKY",
        "colab": {
          "base_uri": "https://localhost:8080/"
        },
        "outputId": "146e1c15-c54f-45f3-dd82-b3e442999f8d"
      },
      "source": [
        "ATTACK_LABELS = put_labels(np.array(VALIDATION_DF_RAW[ATTACK_FIELD]), threshold = THRESHOLD)\n",
        "ATTACK_LABELS, ATTACK_LABELS.shape"
      ],
      "execution_count": 63,
      "outputs": [
        {
          "output_type": "execute_result",
          "data": {
            "text/plain": [
              "(array([0, 0, 0, ..., 0, 0, 0]), (43201,))"
            ]
          },
          "metadata": {},
          "execution_count": 63
        }
      ]
    },
    {
      "cell_type": "code",
      "source": [
        "plt.plot(ATTACK_LABELS)"
      ],
      "metadata": {
        "colab": {
          "base_uri": "https://localhost:8080/",
          "height": 283
        },
        "id": "LAU0rf3tiLZB",
        "outputId": "c8c20b0f-ae97-453a-fbd2-14fcb5e27875"
      },
      "execution_count": 64,
      "outputs": [
        {
          "output_type": "execute_result",
          "data": {
            "text/plain": [
              "[<matplotlib.lines.Line2D at 0x7f890d1ef100>]"
            ]
          },
          "metadata": {},
          "execution_count": 64
        },
        {
          "output_type": "display_data",
          "data": {
            "text/plain": [
              "<Figure size 432x288 with 1 Axes>"
            ],
            "image/png": "[encoded data removed]"
          },
          "metadata": {
            "needs_background": "light"
          }
        }
      ]
    },
    {
      "cell_type": "code",
      "metadata": {
        "id": "KGeQd1gH0uWl"
      },
      "source": [
        "def fill_blank(check_ts, labels, total_ts):\n",
        "    def ts_generator():\n",
        "        for t in total_ts:\n",
        "            yield dateutil.parser.parse(t)\n",
        "\n",
        "    def label_generator():\n",
        "        for t, label in zip(check_ts, labels):\n",
        "            yield dateutil.parser.parse(t), label\n",
        "\n",
        "    g_ts = ts_generator()\n",
        "    g_label = label_generator()\n",
        "    final_labels = []\n",
        "\n",
        "    try:\n",
        "        current = next(g_ts)\n",
        "        ts_label, label = next(g_label)\n",
        "        while True:\n",
        "            if current > ts_label:\n",
        "                ts_label, label = next(g_label)\n",
        "                continue\n",
        "            elif current < ts_label:\n",
        "                final_labels.append(0)\n",
        "                current = next(g_ts)\n",
        "                continue\n",
        "            final_labels.append(label)\n",
        "            current = next(g_ts)\n",
        "            ts_label, label = next(g_label)\n",
        "    except StopIteration:\n",
        "        return np.array(final_labels, dtype=np.int8)"
      ],
      "execution_count": 65,
      "outputs": []
    },
    {
      "cell_type": "code",
      "metadata": {
        "id": "cVzXFKAe0uY_",
        "colab": {
          "base_uri": "https://localhost:8080/"
        },
        "outputId": "ba42d4cd-bc81-45f8-d1b5-17bf996ce9ed"
      },
      "source": [
        "%%time\n",
        "FINAL_LABELS = fill_blank(CHECK_TS, LABELS, np.array(VALIDATION_DF_RAW[TIMESTAMP_FIELD]))\n",
        "FINAL_LABELS.shape"
      ],
      "execution_count": 66,
      "outputs": [
        {
          "output_type": "stream",
          "name": "stdout",
          "text": [
            "CPU times: user 5.01 s, sys: 51 ms, total: 5.06 s\n",
            "Wall time: 5.11 s\n"
          ]
        },
        {
          "output_type": "execute_result",
          "data": {
            "text/plain": [
              "(43201,)"
            ]
          },
          "metadata": {},
          "execution_count": 66
        }
      ]
    },
    {
      "cell_type": "code",
      "metadata": {
        "id": "dhjuxuSy0ubW",
        "colab": {
          "base_uri": "https://localhost:8080/"
        },
        "outputId": "f18d634b-d328-40b3-ad5d-2727b0ee1722"
      },
      "source": [
        "ATTACK_LABELS.shape[0] == FINAL_LABELS.shape[0]"
      ],
      "execution_count": 67,
      "outputs": [
        {
          "output_type": "execute_result",
          "data": {
            "text/plain": [
              "True"
            ]
          },
          "metadata": {},
          "execution_count": 67
        }
      ]
    },
    {
      "cell_type": "code",
      "source": [
        "plt.plot(ATTACK_LABELS)"
      ],
      "metadata": {
        "id": "XCEEjQZ7fDIG",
        "outputId": "b0003901-bc4b-4ded-a5a2-1ae194a8f707",
        "colab": {
          "base_uri": "https://localhost:8080/",
          "height": 283
        }
      },
      "execution_count": 68,
      "outputs": [
        {
          "output_type": "execute_result",
          "data": {
            "text/plain": [
              "[<matplotlib.lines.Line2D at 0x7f890c2403d0>]"
            ]
          },
          "metadata": {},
          "execution_count": 68
        },
        {
          "output_type": "display_data",
          "data": {
            "text/plain": [
              "<Figure size 432x288 with 1 Axes>"
            ],
            "image/png": "[encoded data removed]"
          },
          "metadata": {
            "needs_background": "light"
          }
        }
      ]
    },
    {
      "cell_type": "code",
      "source": [
        "plt.plot(FINAL_LABELS)"
      ],
      "metadata": {
        "id": "vunYt5vHfHT3",
        "outputId": "fb477b5a-98ab-4dee-c925-1a8ea5b04e59",
        "colab": {
          "base_uri": "https://localhost:8080/",
          "height": 283
        }
      },
      "execution_count": 69,
      "outputs": [
        {
          "output_type": "execute_result",
          "data": {
            "text/plain": [
              "[<matplotlib.lines.Line2D at 0x7f890cc60430>]"
            ]
          },
          "metadata": {},
          "execution_count": 69
        },
        {
          "output_type": "display_data",
          "data": {
            "text/plain": [
              "<Figure size 432x288 with 1 Axes>"
            ],
            "image/png": "[encoded data removed]"
          },
          "metadata": {
            "needs_background": "light"
          }
        }
      ]
    },
    {
      "cell_type": "code",
      "metadata": {
        "id": "XuepoM9P0ugJ",
        "colab": {
          "base_uri": "https://localhost:8080/"
        },
        "outputId": "01c366d1-4837-41d4-d14e-3570c599543d"
      },
      "source": [
        "TaPR = etapr.evaluate(anomalies=ATTACK_LABELS, predictions=FINAL_LABELS)\n",
        "print(f\"F1: {TaPR['f1']:.3f} (TaP: {TaPR['TaP']:.3f}, TaR: {TaPR['TaR']:.3f})\")\n",
        "print(f\"# of detected anomalies: {len(TaPR['Detected_Anomalies'])}\")\n",
        "print(f\"Detected anomalies: {TaPR['Detected_Anomalies']}\")"
      ],
      "execution_count": 70,
      "outputs": [
        {
          "output_type": "stream",
          "name": "stdout",
          "text": [
            "F1: 0.932 (TaP: 0.877, TaR: 0.994)\n",
            "# of detected anomalies: 5\n",
            "Detected anomalies: ['1', '2', '3', '4', '5']\n"
          ]
        }
      ]
    },
    {
      "cell_type": "code",
      "metadata": {
        "id": "g_esqCbA0uiV"
      },
      "source": [
        "# TEST_DF_RAW = dataframe_from_csvs(TEST_DATASET)\n",
        "# TEST_DF_RAW"
      ],
      "execution_count": 71,
      "outputs": []
    },
    {
      "cell_type": "code",
      "metadata": {
        "id": "T50LCvbJ0ukh"
      },
      "source": [
        "# TEST_DF = normalize(TEST_DF_RAW[VALID_COLUMNS_IN_TRAIN_DATASET]).ewm(alpha=0.9).mean()\n",
        "# TEST_DF"
      ],
      "execution_count": 72,
      "outputs": []
    },
    {
      "cell_type": "code",
      "metadata": {
        "id": "s6DpuBRq0unQ"
      },
      "source": [
        "# boundary_check(TEST_DF)"
      ],
      "execution_count": 73,
      "outputs": []
    },
    {
      "cell_type": "code",
      "metadata": {
        "id": "c92xpWyU0upk"
      },
      "source": [
        "# HAI_DATASET_TEST = HaiDataset(\n",
        "#     TEST_DF_RAW[TIMESTAMP_FIELD], TEST_DF, attacks=None\n",
        "# )\n",
        "# HAI_DATASET_VALIDATION[0]"
      ],
      "execution_count": 74,
      "outputs": []
    },
    {
      "cell_type": "code",
      "metadata": {
        "id": "Eilp4AXu0uei"
      },
      "source": [
        "# MODEL.eval()\n",
        "# CHECK_TS, CHECK_DIST, CHECK_ATT, PRED, ACTUAL = inference(HAI_DATASET_TEST, MODEL, BATCH_SIZE)\n",
        "#CHECK_TS, CHECK_DIST, CHECK_ATT = inference(HAI_DATASET_TEST, MODEL, BATCH_SIZE)"
      ],
      "execution_count": 75,
      "outputs": []
    },
    {
      "cell_type": "code",
      "metadata": {
        "id": "6baQeKUs03N8"
      },
      "source": [
        "# ANOMALY_SCORE = np.mean(CHECK_DIST, axis=1)"
      ],
      "execution_count": 76,
      "outputs": []
    },
    {
      "cell_type": "code",
      "source": [
        "# plt.plot(ANOMALY_SCORE)"
      ],
      "metadata": {
        "id": "pS3Kr1spUPry"
      },
      "execution_count": 77,
      "outputs": []
    },
    {
      "cell_type": "code",
      "source": [
        "# plt.plot(CHECK_ATT)"
      ],
      "metadata": {
        "id": "NDUxuYXOe7kM"
      },
      "execution_count": 78,
      "outputs": []
    },
    {
      "cell_type": "code",
      "metadata": {
        "id": "vLadBJlZ03Qu"
      },
      "source": [
        "# check_graph(ANOMALY_SCORE, CHECK_ATT, piece=3, THRESHOLD=THRESHOLD)"
      ],
      "execution_count": 79,
      "outputs": []
    },
    {
      "cell_type": "code",
      "metadata": {
        "id": "N9ijN8bZ03Sx"
      },
      "source": [
        "# LABELS = put_labels(ANOMALY_SCORE, THRESHOLD)\n",
        "# LABELS, LABELS.shape"
      ],
      "execution_count": 80,
      "outputs": []
    },
    {
      "cell_type": "code",
      "source": [
        "# plt.plot(LABELS)"
      ],
      "metadata": {
        "id": "T3JEZwkmeCPW"
      },
      "execution_count": 81,
      "outputs": []
    },
    {
      "cell_type": "code",
      "metadata": {
        "id": "e8qp0sXA03VF"
      },
      "source": [
        "# submission = pd.read_csv('data/sample_submission.csv')\n",
        "# submission.index = submission['time']\n",
        "# submission.loc[CHECK_TS,'attack'] = LABELS\n",
        "# submission"
      ],
      "execution_count": 82,
      "outputs": []
    },
    {
      "cell_type": "code",
      "source": [
        "# submission[\"attack\"].plot()"
      ],
      "metadata": {
        "id": "57HLo6v2oe5_"
      },
      "execution_count": 83,
      "outputs": []
    },
    {
      "cell_type": "code",
      "metadata": {
        "id": "DFeBNcmc03XV"
      },
      "source": [
        "# submission.to_csv('baseline.csv', index=False)"
      ],
      "execution_count": 84,
      "outputs": []
    },
    {
      "cell_type": "code",
      "metadata": {
        "id": "M79Qjtno03Zw"
      },
      "source": [
        "# from google.colab import files\n",
        "# files.download('baseline.csv')"
      ],
      "execution_count": 85,
      "outputs": []
    },
    {
      "cell_type": "code",
      "metadata": {
        "id": "FRfxM_MS03cK"
      },
      "source": [],
      "execution_count": 85,
      "outputs": []
    },
    {
      "cell_type": "markdown",
      "metadata": {
        "id": "5-OEtzmTzBh1"
      },
      "source": []
    }
  ]
}