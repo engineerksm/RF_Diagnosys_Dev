{
  "nbformat": 4,
  "nbformat_minor": 0,
  "metadata": {
    "colab": {
      "provenance": [],
      "include_colab_link": true
    },
    "kernelspec": {
      "name": "python3",
      "display_name": "Python 3"
    },
    "accelerator": "GPU",
    "widgets": {
      "application/vnd.jupyter.widget-state+json": {
        "ef870fc571264fb5904cbe438398af2f": {
          "model_module": "@jupyter-widgets/controls",
          "model_name": "HBoxModel",
          "model_module_version": "1.5.0",
          "state": {
            "_dom_classes": [],
            "_model_module": "@jupyter-widgets/controls",
            "_model_module_version": "1.5.0",
            "_model_name": "HBoxModel",
            "_view_count": null,
            "_view_module": "@jupyter-widgets/controls",
            "_view_module_version": "1.5.0",
            "_view_name": "HBoxView",
            "box_style": "",
            "children": [
              "IPY_MODEL_60f1719373ca4b1db1e0c3454ba456fd",
              "IPY_MODEL_98e965bbac2d4f81834019062b8621b4",
              "IPY_MODEL_f2671e303124491ba16dea5df4bc59c2"
            ],
            "layout": "IPY_MODEL_ac163f777b6b4f7e9bc4db5ec43aed21"
          }
        },
        "60f1719373ca4b1db1e0c3454ba456fd": {
          "model_module": "@jupyter-widgets/controls",
          "model_name": "HTMLModel",
          "model_module_version": "1.5.0",
          "state": {
            "_dom_classes": [],
            "_model_module": "@jupyter-widgets/controls",
            "_model_module_version": "1.5.0",
            "_model_name": "HTMLModel",
            "_view_count": null,
            "_view_module": "@jupyter-widgets/controls",
            "_view_module_version": "1.5.0",
            "_view_name": "HTMLView",
            "description": "",
            "description_tooltip": null,
            "layout": "IPY_MODEL_f48b379dd13f4309bfaae944f064a640",
            "placeholder": "​",
            "style": "IPY_MODEL_6d3f0e63f0664fe391ab0344a294e09b",
            "value": "100%"
          }
        },
        "98e965bbac2d4f81834019062b8621b4": {
          "model_module": "@jupyter-widgets/controls",
          "model_name": "FloatProgressModel",
          "model_module_version": "1.5.0",
          "state": {
            "_dom_classes": [],
            "_model_module": "@jupyter-widgets/controls",
            "_model_module_version": "1.5.0",
            "_model_name": "FloatProgressModel",
            "_view_count": null,
            "_view_module": "@jupyter-widgets/controls",
            "_view_module_version": "1.5.0",
            "_view_name": "ProgressView",
            "bar_style": "success",
            "description": "",
            "description_tooltip": null,
            "layout": "IPY_MODEL_3b800c87c85f4a87bbe904946d675324",
            "max": 921514,
            "min": 0,
            "orientation": "horizontal",
            "style": "IPY_MODEL_8bc0667e915544c9a3a1a1a0b126200c",
            "value": 921514
          }
        },
        "f2671e303124491ba16dea5df4bc59c2": {
          "model_module": "@jupyter-widgets/controls",
          "model_name": "HTMLModel",
          "model_module_version": "1.5.0",
          "state": {
            "_dom_classes": [],
            "_model_module": "@jupyter-widgets/controls",
            "_model_module_version": "1.5.0",
            "_model_name": "HTMLModel",
            "_view_count": null,
            "_view_module": "@jupyter-widgets/controls",
            "_view_module_version": "1.5.0",
            "_view_name": "HTMLView",
            "description": "",
            "description_tooltip": null,
            "layout": "IPY_MODEL_2643e8153789422eab79551e0c0afb52",
            "placeholder": "​",
            "style": "IPY_MODEL_0cd31dfb1072441e8464e8a0b11f59f9",
            "value": " 921514/921514 [02:13&lt;00:00, 7574.00it/s]"
          }
        },
        "ac163f777b6b4f7e9bc4db5ec43aed21": {
          "model_module": "@jupyter-widgets/base",
          "model_name": "LayoutModel",
          "model_module_version": "1.2.0",
          "state": {
            "_model_module": "@jupyter-widgets/base",
            "_model_module_version": "1.2.0",
            "_model_name": "LayoutModel",
            "_view_count": null,
            "_view_module": "@jupyter-widgets/base",
            "_view_module_version": "1.2.0",
            "_view_name": "LayoutView",
            "align_content": null,
            "align_items": null,
            "align_self": null,
            "border": null,
            "bottom": null,
            "display": null,
            "flex": null,
            "flex_flow": null,
            "grid_area": null,
            "grid_auto_columns": null,
            "grid_auto_flow": null,
            "grid_auto_rows": null,
            "grid_column": null,
            "grid_gap": null,
            "grid_row": null,
            "grid_template_areas": null,
            "grid_template_columns": null,
            "grid_template_rows": null,
            "height": null,
            "justify_content": null,
            "justify_items": null,
            "left": null,
            "margin": null,
            "max_height": null,
            "max_width": null,
            "min_height": null,
            "min_width": null,
            "object_fit": null,
            "object_position": null,
            "order": null,
            "overflow": null,
            "overflow_x": null,
            "overflow_y": null,
            "padding": null,
            "right": null,
            "top": null,
            "visibility": null,
            "width": null
          }
        },
        "f48b379dd13f4309bfaae944f064a640": {
          "model_module": "@jupyter-widgets/base",
          "model_name": "LayoutModel",
          "model_module_version": "1.2.0",
          "state": {
            "_model_module": "@jupyter-widgets/base",
            "_model_module_version": "1.2.0",
            "_model_name": "LayoutModel",
            "_view_count": null,
            "_view_module": "@jupyter-widgets/base",
            "_view_module_version": "1.2.0",
            "_view_name": "LayoutView",
            "align_content": null,
            "align_items": null,
            "align_self": null,
            "border": null,
            "bottom": null,
            "display": null,
            "flex": null,
            "flex_flow": null,
            "grid_area": null,
            "grid_auto_columns": null,
            "grid_auto_flow": null,
            "grid_auto_rows": null,
            "grid_column": null,
            "grid_gap": null,
            "grid_row": null,
            "grid_template_areas": null,
            "grid_template_columns": null,
            "grid_template_rows": null,
            "height": null,
            "justify_content": null,
            "justify_items": null,
            "left": null,
            "margin": null,
            "max_height": null,
            "max_width": null,
            "min_height": null,
            "min_width": null,
            "object_fit": null,
            "object_position": null,
            "order": null,
            "overflow": null,
            "overflow_x": null,
            "overflow_y": null,
            "padding": null,
            "right": null,
            "top": null,
            "visibility": null,
            "width": null
          }
        },
        "6d3f0e63f0664fe391ab0344a294e09b": {
          "model_module": "@jupyter-widgets/controls",
          "model_name": "DescriptionStyleModel",
          "model_module_version": "1.5.0",
          "state": {
            "_model_module": "@jupyter-widgets/controls",
            "_model_module_version": "1.5.0",
            "_model_name": "DescriptionStyleModel",
            "_view_count": null,
            "_view_module": "@jupyter-widgets/base",
            "_view_module_version": "1.2.0",
            "_view_name": "StyleView",
            "description_width": ""
          }
        },
        "3b800c87c85f4a87bbe904946d675324": {
          "model_module": "@jupyter-widgets/base",
          "model_name": "LayoutModel",
          "model_module_version": "1.2.0",
          "state": {
            "_model_module": "@jupyter-widgets/base",
            "_model_module_version": "1.2.0",
            "_model_name": "LayoutModel",
            "_view_count": null,
            "_view_module": "@jupyter-widgets/base",
            "_view_module_version": "1.2.0",
            "_view_name": "LayoutView",
            "align_content": null,
            "align_items": null,
            "align_self": null,
            "border": null,
            "bottom": null,
            "display": null,
            "flex": null,
            "flex_flow": null,
            "grid_area": null,
            "grid_auto_columns": null,
            "grid_auto_flow": null,
            "grid_auto_rows": null,
            "grid_column": null,
            "grid_gap": null,
            "grid_row": null,
            "grid_template_areas": null,
            "grid_template_columns": null,
            "grid_template_rows": null,
            "height": null,
            "justify_content": null,
            "justify_items": null,
            "left": null,
            "margin": null,
            "max_height": null,
            "max_width": null,
            "min_height": null,
            "min_width": null,
            "object_fit": null,
            "object_position": null,
            "order": null,
            "overflow": null,
            "overflow_x": null,
            "overflow_y": null,
            "padding": null,
            "right": null,
            "top": null,
            "visibility": null,
            "width": null
          }
        },
        "8bc0667e915544c9a3a1a1a0b126200c": {
          "model_module": "@jupyter-widgets/controls",
          "model_name": "ProgressStyleModel",
          "model_module_version": "1.5.0",
          "state": {
            "_model_module": "@jupyter-widgets/controls",
            "_model_module_version": "1.5.0",
            "_model_name": "ProgressStyleModel",
            "_view_count": null,
            "_view_module": "@jupyter-widgets/base",
            "_view_module_version": "1.2.0",
            "_view_name": "StyleView",
            "bar_color": null,
            "description_width": ""
          }
        },
        "2643e8153789422eab79551e0c0afb52": {
          "model_module": "@jupyter-widgets/base",
          "model_name": "LayoutModel",
          "model_module_version": "1.2.0",
          "state": {
            "_model_module": "@jupyter-widgets/base",
            "_model_module_version": "1.2.0",
            "_model_name": "LayoutModel",
            "_view_count": null,
            "_view_module": "@jupyter-widgets/base",
            "_view_module_version": "1.2.0",
            "_view_name": "LayoutView",
            "align_content": null,
            "align_items": null,
            "align_self": null,
            "border": null,
            "bottom": null,
            "display": null,
            "flex": null,
            "flex_flow": null,
            "grid_area": null,
            "grid_auto_columns": null,
            "grid_auto_flow": null,
            "grid_auto_rows": null,
            "grid_column": null,
            "grid_gap": null,
            "grid_row": null,
            "grid_template_areas": null,
            "grid_template_columns": null,
            "grid_template_rows": null,
            "height": null,
            "justify_content": null,
            "justify_items": null,
            "left": null,
            "margin": null,
            "max_height": null,
            "max_width": null,
            "min_height": null,
            "min_width": null,
            "object_fit": null,
            "object_position": null,
            "order": null,
            "overflow": null,
            "overflow_x": null,
            "overflow_y": null,
            "padding": null,
            "right": null,
            "top": null,
            "visibility": null,
            "width": null
          }
        },
        "0cd31dfb1072441e8464e8a0b11f59f9": {
          "model_module": "@jupyter-widgets/controls",
          "model_name": "DescriptionStyleModel",
          "model_module_version": "1.5.0",
          "state": {
            "_model_module": "@jupyter-widgets/controls",
            "_model_module_version": "1.5.0",
            "_model_name": "DescriptionStyleModel",
            "_view_count": null,
            "_view_module": "@jupyter-widgets/base",
            "_view_module_version": "1.2.0",
            "_view_name": "StyleView",
            "description_width": ""
          }
        },
        "72e6677d7d1e49e991a47d22b681fba0": {
          "model_module": "@jupyter-widgets/controls",
          "model_name": "HBoxModel",
          "model_module_version": "1.5.0",
          "state": {
            "_dom_classes": [],
            "_model_module": "@jupyter-widgets/controls",
            "_model_module_version": "1.5.0",
            "_model_name": "HBoxModel",
            "_view_count": null,
            "_view_module": "@jupyter-widgets/controls",
            "_view_module_version": "1.5.0",
            "_view_name": "HBoxView",
            "box_style": "",
            "children": [
              "IPY_MODEL_7e6f67a540724b50b7dd1333e35d6dd8",
              "IPY_MODEL_dc072af1b3f44ce88618ebf235c4b74e",
              "IPY_MODEL_27ee864a70b8464bac02b8afc1aebc39"
            ],
            "layout": "IPY_MODEL_db7d2fd24cb34dbab9fc54ea8c34f879"
          }
        },
        "7e6f67a540724b50b7dd1333e35d6dd8": {
          "model_module": "@jupyter-widgets/controls",
          "model_name": "HTMLModel",
          "model_module_version": "1.5.0",
          "state": {
            "_dom_classes": [],
            "_model_module": "@jupyter-widgets/controls",
            "_model_module_version": "1.5.0",
            "_model_name": "HTMLModel",
            "_view_count": null,
            "_view_module": "@jupyter-widgets/controls",
            "_view_module_version": "1.5.0",
            "_view_name": "HTMLView",
            "description": "",
            "description_tooltip": null,
            "layout": "IPY_MODEL_5e76b7405fdd4cca893a28264acbb82b",
            "placeholder": "​",
            "style": "IPY_MODEL_2af8dc74dd7c4dcaaf3018aef12101b9",
            "value": "training: 100%"
          }
        },
        "dc072af1b3f44ce88618ebf235c4b74e": {
          "model_module": "@jupyter-widgets/controls",
          "model_name": "FloatProgressModel",
          "model_module_version": "1.5.0",
          "state": {
            "_dom_classes": [],
            "_model_module": "@jupyter-widgets/controls",
            "_model_module_version": "1.5.0",
            "_model_name": "FloatProgressModel",
            "_view_count": null,
            "_view_module": "@jupyter-widgets/controls",
            "_view_module_version": "1.5.0",
            "_view_name": "ProgressView",
            "bar_style": "success",
            "description": "",
            "description_tooltip": null,
            "layout": "IPY_MODEL_e8978c5e397144098cfd60e3d3b8650a",
            "max": 32,
            "min": 0,
            "orientation": "horizontal",
            "style": "IPY_MODEL_334ca0707bcc4f57becdf2e7f1260de9",
            "value": 32
          }
        },
        "27ee864a70b8464bac02b8afc1aebc39": {
          "model_module": "@jupyter-widgets/controls",
          "model_name": "HTMLModel",
          "model_module_version": "1.5.0",
          "state": {
            "_dom_classes": [],
            "_model_module": "@jupyter-widgets/controls",
            "_model_module_version": "1.5.0",
            "_model_name": "HTMLModel",
            "_view_count": null,
            "_view_module": "@jupyter-widgets/controls",
            "_view_module_version": "1.5.0",
            "_view_name": "HTMLView",
            "description": "",
            "description_tooltip": null,
            "layout": "IPY_MODEL_8cdc1877f8d04e2eb37328cfb6100fef",
            "placeholder": "​",
            "style": "IPY_MODEL_66af09b86f51473ebe8d779e105cccf6",
            "value": " 32/32 [12:52&lt;00:00, 24.16s/it, loss: 0.081724]"
          }
        },
        "db7d2fd24cb34dbab9fc54ea8c34f879": {
          "model_module": "@jupyter-widgets/base",
          "model_name": "LayoutModel",
          "model_module_version": "1.2.0",
          "state": {
            "_model_module": "@jupyter-widgets/base",
            "_model_module_version": "1.2.0",
            "_model_name": "LayoutModel",
            "_view_count": null,
            "_view_module": "@jupyter-widgets/base",
            "_view_module_version": "1.2.0",
            "_view_name": "LayoutView",
            "align_content": null,
            "align_items": null,
            "align_self": null,
            "border": null,
            "bottom": null,
            "display": null,
            "flex": null,
            "flex_flow": null,
            "grid_area": null,
            "grid_auto_columns": null,
            "grid_auto_flow": null,
            "grid_auto_rows": null,
            "grid_column": null,
            "grid_gap": null,
            "grid_row": null,
            "grid_template_areas": null,
            "grid_template_columns": null,
            "grid_template_rows": null,
            "height": null,
            "justify_content": null,
            "justify_items": null,
            "left": null,
            "margin": null,
            "max_height": null,
            "max_width": null,
            "min_height": null,
            "min_width": null,
            "object_fit": null,
            "object_position": null,
            "order": null,
            "overflow": null,
            "overflow_x": null,
            "overflow_y": null,
            "padding": null,
            "right": null,
            "top": null,
            "visibility": null,
            "width": null
          }
        },
        "5e76b7405fdd4cca893a28264acbb82b": {
          "model_module": "@jupyter-widgets/base",
          "model_name": "LayoutModel",
          "model_module_version": "1.2.0",
          "state": {
            "_model_module": "@jupyter-widgets/base",
            "_model_module_version": "1.2.0",
            "_model_name": "LayoutModel",
            "_view_count": null,
            "_view_module": "@jupyter-widgets/base",
            "_view_module_version": "1.2.0",
            "_view_name": "LayoutView",
            "align_content": null,
            "align_items": null,
            "align_self": null,
            "border": null,
            "bottom": null,
            "display": null,
            "flex": null,
            "flex_flow": null,
            "grid_area": null,
            "grid_auto_columns": null,
            "grid_auto_flow": null,
            "grid_auto_rows": null,
            "grid_column": null,
            "grid_gap": null,
            "grid_row": null,
            "grid_template_areas": null,
            "grid_template_columns": null,
            "grid_template_rows": null,
            "height": null,
            "justify_content": null,
            "justify_items": null,
            "left": null,
            "margin": null,
            "max_height": null,
            "max_width": null,
            "min_height": null,
            "min_width": null,
            "object_fit": null,
            "object_position": null,
            "order": null,
            "overflow": null,
            "overflow_x": null,
            "overflow_y": null,
            "padding": null,
            "right": null,
            "top": null,
            "visibility": null,
            "width": null
          }
        },
        "2af8dc74dd7c4dcaaf3018aef12101b9": {
          "model_module": "@jupyter-widgets/controls",
          "model_name": "DescriptionStyleModel",
          "model_module_version": "1.5.0",
          "state": {
            "_model_module": "@jupyter-widgets/controls",
            "_model_module_version": "1.5.0",
            "_model_name": "DescriptionStyleModel",
            "_view_count": null,
            "_view_module": "@jupyter-widgets/base",
            "_view_module_version": "1.2.0",
            "_view_name": "StyleView",
            "description_width": ""
          }
        },
        "e8978c5e397144098cfd60e3d3b8650a": {
          "model_module": "@jupyter-widgets/base",
          "model_name": "LayoutModel",
          "model_module_version": "1.2.0",
          "state": {
            "_model_module": "@jupyter-widgets/base",
            "_model_module_version": "1.2.0",
            "_model_name": "LayoutModel",
            "_view_count": null,
            "_view_module": "@jupyter-widgets/base",
            "_view_module_version": "1.2.0",
            "_view_name": "LayoutView",
            "align_content": null,
            "align_items": null,
            "align_self": null,
            "border": null,
            "bottom": null,
            "display": null,
            "flex": null,
            "flex_flow": null,
            "grid_area": null,
            "grid_auto_columns": null,
            "grid_auto_flow": null,
            "grid_auto_rows": null,
            "grid_column": null,
            "grid_gap": null,
            "grid_row": null,
            "grid_template_areas": null,
            "grid_template_columns": null,
            "grid_template_rows": null,
            "height": null,
            "justify_content": null,
            "justify_items": null,
            "left": null,
            "margin": null,
            "max_height": null,
            "max_width": null,
            "min_height": null,
            "min_width": null,
            "object_fit": null,
            "object_position": null,
            "order": null,
            "overflow": null,
            "overflow_x": null,
            "overflow_y": null,
            "padding": null,
            "right": null,
            "top": null,
            "visibility": null,
            "width": null
          }
        },
        "334ca0707bcc4f57becdf2e7f1260de9": {
          "model_module": "@jupyter-widgets/controls",
          "model_name": "ProgressStyleModel",
          "model_module_version": "1.5.0",
          "state": {
            "_model_module": "@jupyter-widgets/controls",
            "_model_module_version": "1.5.0",
            "_model_name": "ProgressStyleModel",
            "_view_count": null,
            "_view_module": "@jupyter-widgets/base",
            "_view_module_version": "1.2.0",
            "_view_name": "StyleView",
            "bar_color": null,
            "description_width": ""
          }
        },
        "8cdc1877f8d04e2eb37328cfb6100fef": {
          "model_module": "@jupyter-widgets/base",
          "model_name": "LayoutModel",
          "model_module_version": "1.2.0",
          "state": {
            "_model_module": "@jupyter-widgets/base",
            "_model_module_version": "1.2.0",
            "_model_name": "LayoutModel",
            "_view_count": null,
            "_view_module": "@jupyter-widgets/base",
            "_view_module_version": "1.2.0",
            "_view_name": "LayoutView",
            "align_content": null,
            "align_items": null,
            "align_self": null,
            "border": null,
            "bottom": null,
            "display": null,
            "flex": null,
            "flex_flow": null,
            "grid_area": null,
            "grid_auto_columns": null,
            "grid_auto_flow": null,
            "grid_auto_rows": null,
            "grid_column": null,
            "grid_gap": null,
            "grid_row": null,
            "grid_template_areas": null,
            "grid_template_columns": null,
            "grid_template_rows": null,
            "height": null,
            "justify_content": null,
            "justify_items": null,
            "left": null,
            "margin": null,
            "max_height": null,
            "max_width": null,
            "min_height": null,
            "min_width": null,
            "object_fit": null,
            "object_position": null,
            "order": null,
            "overflow": null,
            "overflow_x": null,
            "overflow_y": null,
            "padding": null,
            "right": null,
            "top": null,
            "visibility": null,
            "width": null
          }
        },
        "66af09b86f51473ebe8d779e105cccf6": {
          "model_module": "@jupyter-widgets/controls",
          "model_name": "DescriptionStyleModel",
          "model_module_version": "1.5.0",
          "state": {
            "_model_module": "@jupyter-widgets/controls",
            "_model_module_version": "1.5.0",
            "_model_name": "DescriptionStyleModel",
            "_view_count": null,
            "_view_module": "@jupyter-widgets/base",
            "_view_module_version": "1.2.0",
            "_view_name": "StyleView",
            "description_width": ""
          }
        },
        "ad67e2bace8a429fafe910e688a3f145": {
          "model_module": "@jupyter-widgets/controls",
          "model_name": "HBoxModel",
          "model_module_version": "1.5.0",
          "state": {
            "_dom_classes": [],
            "_model_module": "@jupyter-widgets/controls",
            "_model_module_version": "1.5.0",
            "_model_name": "HBoxModel",
            "_view_count": null,
            "_view_module": "@jupyter-widgets/controls",
            "_view_module_version": "1.5.0",
            "_view_name": "HBoxView",
            "box_style": "",
            "children": [
              "IPY_MODEL_80d155fb6b354aac9e811666d15b9756",
              "IPY_MODEL_825532458cfe4285bf088015e8169774",
              "IPY_MODEL_4622d322b4ea4915a1da5a5a4e3e43a7"
            ],
            "layout": "IPY_MODEL_cf8dd6857b7f42d5815cd5a9724d8f3b"
          }
        },
        "80d155fb6b354aac9e811666d15b9756": {
          "model_module": "@jupyter-widgets/controls",
          "model_name": "HTMLModel",
          "model_module_version": "1.5.0",
          "state": {
            "_dom_classes": [],
            "_model_module": "@jupyter-widgets/controls",
            "_model_module_version": "1.5.0",
            "_model_name": "HTMLModel",
            "_view_count": null,
            "_view_module": "@jupyter-widgets/controls",
            "_view_module_version": "1.5.0",
            "_view_name": "HTMLView",
            "description": "",
            "description_tooltip": null,
            "layout": "IPY_MODEL_b83569926c39419cb5a25ac91e240f39",
            "placeholder": "​",
            "style": "IPY_MODEL_fff8207b4df04e6da4dac2c483565101",
            "value": "100%"
          }
        },
        "825532458cfe4285bf088015e8169774": {
          "model_module": "@jupyter-widgets/controls",
          "model_name": "FloatProgressModel",
          "model_module_version": "1.5.0",
          "state": {
            "_dom_classes": [],
            "_model_module": "@jupyter-widgets/controls",
            "_model_module_version": "1.5.0",
            "_model_name": "FloatProgressModel",
            "_view_count": null,
            "_view_module": "@jupyter-widgets/controls",
            "_view_module_version": "1.5.0",
            "_view_name": "ProgressView",
            "bar_style": "success",
            "description": "",
            "description_tooltip": null,
            "layout": "IPY_MODEL_0835cf696acf41398777669da7f734db",
            "max": 43112,
            "min": 0,
            "orientation": "horizontal",
            "style": "IPY_MODEL_9491f8a971fe4d6f93f5468272bb7e2c",
            "value": 43112
          }
        },
        "4622d322b4ea4915a1da5a5a4e3e43a7": {
          "model_module": "@jupyter-widgets/controls",
          "model_name": "HTMLModel",
          "model_module_version": "1.5.0",
          "state": {
            "_dom_classes": [],
            "_model_module": "@jupyter-widgets/controls",
            "_model_module_version": "1.5.0",
            "_model_name": "HTMLModel",
            "_view_count": null,
            "_view_module": "@jupyter-widgets/controls",
            "_view_module_version": "1.5.0",
            "_view_name": "HTMLView",
            "description": "",
            "description_tooltip": null,
            "layout": "IPY_MODEL_8f3d3a81ecfc410f85aa3800a04b35cf",
            "placeholder": "​",
            "style": "IPY_MODEL_e68e7d76cfe2459db3b799bcd04a04c6",
            "value": " 43112/43112 [00:05&lt;00:00, 7449.03it/s]"
          }
        },
        "cf8dd6857b7f42d5815cd5a9724d8f3b": {
          "model_module": "@jupyter-widgets/base",
          "model_name": "LayoutModel",
          "model_module_version": "1.2.0",
          "state": {
            "_model_module": "@jupyter-widgets/base",
            "_model_module_version": "1.2.0",
            "_model_name": "LayoutModel",
            "_view_count": null,
            "_view_module": "@jupyter-widgets/base",
            "_view_module_version": "1.2.0",
            "_view_name": "LayoutView",
            "align_content": null,
            "align_items": null,
            "align_self": null,
            "border": null,
            "bottom": null,
            "display": null,
            "flex": null,
            "flex_flow": null,
            "grid_area": null,
            "grid_auto_columns": null,
            "grid_auto_flow": null,
            "grid_auto_rows": null,
            "grid_column": null,
            "grid_gap": null,
            "grid_row": null,
            "grid_template_areas": null,
            "grid_template_columns": null,
            "grid_template_rows": null,
            "height": null,
            "justify_content": null,
            "justify_items": null,
            "left": null,
            "margin": null,
            "max_height": null,
            "max_width": null,
            "min_height": null,
            "min_width": null,
            "object_fit": null,
            "object_position": null,
            "order": null,
            "overflow": null,
            "overflow_x": null,
            "overflow_y": null,
            "padding": null,
            "right": null,
            "top": null,
            "visibility": null,
            "width": null
          }
        },
        "b83569926c39419cb5a25ac91e240f39": {
          "model_module": "@jupyter-widgets/base",
          "model_name": "LayoutModel",
          "model_module_version": "1.2.0",
          "state": {
            "_model_module": "@jupyter-widgets/base",
            "_model_module_version": "1.2.0",
            "_model_name": "LayoutModel",
            "_view_count": null,
            "_view_module": "@jupyter-widgets/base",
            "_view_module_version": "1.2.0",
            "_view_name": "LayoutView",
            "align_content": null,
            "align_items": null,
            "align_self": null,
            "border": null,
            "bottom": null,
            "display": null,
            "flex": null,
            "flex_flow": null,
            "grid_area": null,
            "grid_auto_columns": null,
            "grid_auto_flow": null,
            "grid_auto_rows": null,
            "grid_column": null,
            "grid_gap": null,
            "grid_row": null,
            "grid_template_areas": null,
            "grid_template_columns": null,
            "grid_template_rows": null,
            "height": null,
            "justify_content": null,
            "justify_items": null,
            "left": null,
            "margin": null,
            "max_height": null,
            "max_width": null,
            "min_height": null,
            "min_width": null,
            "object_fit": null,
            "object_position": null,
            "order": null,
            "overflow": null,
            "overflow_x": null,
            "overflow_y": null,
            "padding": null,
            "right": null,
            "top": null,
            "visibility": null,
            "width": null
          }
        },
        "fff8207b4df04e6da4dac2c483565101": {
          "model_module": "@jupyter-widgets/controls",
          "model_name": "DescriptionStyleModel",
          "model_module_version": "1.5.0",
          "state": {
            "_model_module": "@jupyter-widgets/controls",
            "_model_module_version": "1.5.0",
            "_model_name": "DescriptionStyleModel",
            "_view_count": null,
            "_view_module": "@jupyter-widgets/base",
            "_view_module_version": "1.2.0",
            "_view_name": "StyleView",
            "description_width": ""
          }
        },
        "0835cf696acf41398777669da7f734db": {
          "model_module": "@jupyter-widgets/base",
          "model_name": "LayoutModel",
          "model_module_version": "1.2.0",
          "state": {
            "_model_module": "@jupyter-widgets/base",
            "_model_module_version": "1.2.0",
            "_model_name": "LayoutModel",
            "_view_count": null,
            "_view_module": "@jupyter-widgets/base",
            "_view_module_version": "1.2.0",
            "_view_name": "LayoutView",
            "align_content": null,
            "align_items": null,
            "align_self": null,
            "border": null,
            "bottom": null,
            "display": null,
            "flex": null,
            "flex_flow": null,
            "grid_area": null,
            "grid_auto_columns": null,
            "grid_auto_flow": null,
            "grid_auto_rows": null,
            "grid_column": null,
            "grid_gap": null,
            "grid_row": null,
            "grid_template_areas": null,
            "grid_template_columns": null,
            "grid_template_rows": null,
            "height": null,
            "justify_content": null,
            "justify_items": null,
            "left": null,
            "margin": null,
            "max_height": null,
            "max_width": null,
            "min_height": null,
            "min_width": null,
            "object_fit": null,
            "object_position": null,
            "order": null,
            "overflow": null,
            "overflow_x": null,
            "overflow_y": null,
            "padding": null,
            "right": null,
            "top": null,
            "visibility": null,
            "width": null
          }
        },
        "9491f8a971fe4d6f93f5468272bb7e2c": {
          "model_module": "@jupyter-widgets/controls",
          "model_name": "ProgressStyleModel",
          "model_module_version": "1.5.0",
          "state": {
            "_model_module": "@jupyter-widgets/controls",
            "_model_module_version": "1.5.0",
            "_model_name": "ProgressStyleModel",
            "_view_count": null,
            "_view_module": "@jupyter-widgets/base",
            "_view_module_version": "1.2.0",
            "_view_name": "StyleView",
            "bar_color": null,
            "description_width": ""
          }
        },
        "8f3d3a81ecfc410f85aa3800a04b35cf": {
          "model_module": "@jupyter-widgets/base",
          "model_name": "LayoutModel",
          "model_module_version": "1.2.0",
          "state": {
            "_model_module": "@jupyter-widgets/base",
            "_model_module_version": "1.2.0",
            "_model_name": "LayoutModel",
            "_view_count": null,
            "_view_module": "@jupyter-widgets/base",
            "_view_module_version": "1.2.0",
            "_view_name": "LayoutView",
            "align_content": null,
            "align_items": null,
            "align_self": null,
            "border": null,
            "bottom": null,
            "display": null,
            "flex": null,
            "flex_flow": null,
            "grid_area": null,
            "grid_auto_columns": null,
            "grid_auto_flow": null,
            "grid_auto_rows": null,
            "grid_column": null,
            "grid_gap": null,
            "grid_row": null,
            "grid_template_areas": null,
            "grid_template_columns": null,
            "grid_template_rows": null,
            "height": null,
            "justify_content": null,
            "justify_items": null,
            "left": null,
            "margin": null,
            "max_height": null,
            "max_width": null,
            "min_height": null,
            "min_width": null,
            "object_fit": null,
            "object_position": null,
            "order": null,
            "overflow": null,
            "overflow_x": null,
            "overflow_y": null,
            "padding": null,
            "right": null,
            "top": null,
            "visibility": null,
            "width": null
          }
        },
        "e68e7d76cfe2459db3b799bcd04a04c6": {
          "model_module": "@jupyter-widgets/controls",
          "model_name": "DescriptionStyleModel",
          "model_module_version": "1.5.0",
          "state": {
            "_model_module": "@jupyter-widgets/controls",
            "_model_module_version": "1.5.0",
            "_model_name": "DescriptionStyleModel",
            "_view_count": null,
            "_view_module": "@jupyter-widgets/base",
            "_view_module_version": "1.2.0",
            "_view_name": "StyleView",
            "description_width": ""
          }
        },
        "98db1aeed02d4ee89d5f8e1e104fd9f6": {
          "model_module": "@jupyter-widgets/controls",
          "model_name": "HBoxModel",
          "model_module_version": "1.5.0",
          "state": {
            "_dom_classes": [],
            "_model_module": "@jupyter-widgets/controls",
            "_model_module_version": "1.5.0",
            "_model_name": "HBoxModel",
            "_view_count": null,
            "_view_module": "@jupyter-widgets/controls",
            "_view_module_version": "1.5.0",
            "_view_name": "HBoxView",
            "box_style": "",
            "children": [
              "IPY_MODEL_422fb4e189c745ea95dc07ff758ff908",
              "IPY_MODEL_9ad95700053c4e789a7b83709d2cbc67",
              "IPY_MODEL_5c468a11be8e4d33ab4c552b6e03648c"
            ],
            "layout": "IPY_MODEL_c31fd8327529465ab9befbaca5de6cf8"
          }
        },
        "422fb4e189c745ea95dc07ff758ff908": {
          "model_module": "@jupyter-widgets/controls",
          "model_name": "HTMLModel",
          "model_module_version": "1.5.0",
          "state": {
            "_dom_classes": [],
            "_model_module": "@jupyter-widgets/controls",
            "_model_module_version": "1.5.0",
            "_model_name": "HTMLModel",
            "_view_count": null,
            "_view_module": "@jupyter-widgets/controls",
            "_view_module_version": "1.5.0",
            "_view_name": "HTMLView",
            "description": "",
            "description_tooltip": null,
            "layout": "IPY_MODEL_873351e226924e9a9dc44e750facfe9f",
            "placeholder": "​",
            "style": "IPY_MODEL_9a1426e28e8944c892800461788b1be7",
            "value": "100%"
          }
        },
        "9ad95700053c4e789a7b83709d2cbc67": {
          "model_module": "@jupyter-widgets/controls",
          "model_name": "FloatProgressModel",
          "model_module_version": "1.5.0",
          "state": {
            "_dom_classes": [],
            "_model_module": "@jupyter-widgets/controls",
            "_model_module_version": "1.5.0",
            "_model_name": "FloatProgressModel",
            "_view_count": null,
            "_view_module": "@jupyter-widgets/controls",
            "_view_module_version": "1.5.0",
            "_view_name": "ProgressView",
            "bar_style": "success",
            "description": "",
            "description_tooltip": null,
            "layout": "IPY_MODEL_4b68f8e3c43346a880b4ee6565669612",
            "max": 358715,
            "min": 0,
            "orientation": "horizontal",
            "style": "IPY_MODEL_7dc1369cb1b44a029a072ac0335b16a3",
            "value": 358715
          }
        },
        "5c468a11be8e4d33ab4c552b6e03648c": {
          "model_module": "@jupyter-widgets/controls",
          "model_name": "HTMLModel",
          "model_module_version": "1.5.0",
          "state": {
            "_dom_classes": [],
            "_model_module": "@jupyter-widgets/controls",
            "_model_module_version": "1.5.0",
            "_model_name": "HTMLModel",
            "_view_count": null,
            "_view_module": "@jupyter-widgets/controls",
            "_view_module_version": "1.5.0",
            "_view_name": "HTMLView",
            "description": "",
            "description_tooltip": null,
            "layout": "IPY_MODEL_708f9a22ed5b4179a352da4026a33d6b",
            "placeholder": "​",
            "style": "IPY_MODEL_17e5f8f758a742619464df74f6315c35",
            "value": " 358715/358715 [00:47&lt;00:00, 7641.99it/s]"
          }
        },
        "c31fd8327529465ab9befbaca5de6cf8": {
          "model_module": "@jupyter-widgets/base",
          "model_name": "LayoutModel",
          "model_module_version": "1.2.0",
          "state": {
            "_model_module": "@jupyter-widgets/base",
            "_model_module_version": "1.2.0",
            "_model_name": "LayoutModel",
            "_view_count": null,
            "_view_module": "@jupyter-widgets/base",
            "_view_module_version": "1.2.0",
            "_view_name": "LayoutView",
            "align_content": null,
            "align_items": null,
            "align_self": null,
            "border": null,
            "bottom": null,
            "display": null,
            "flex": null,
            "flex_flow": null,
            "grid_area": null,
            "grid_auto_columns": null,
            "grid_auto_flow": null,
            "grid_auto_rows": null,
            "grid_column": null,
            "grid_gap": null,
            "grid_row": null,
            "grid_template_areas": null,
            "grid_template_columns": null,
            "grid_template_rows": null,
            "height": null,
            "justify_content": null,
            "justify_items": null,
            "left": null,
            "margin": null,
            "max_height": null,
            "max_width": null,
            "min_height": null,
            "min_width": null,
            "object_fit": null,
            "object_position": null,
            "order": null,
            "overflow": null,
            "overflow_x": null,
            "overflow_y": null,
            "padding": null,
            "right": null,
            "top": null,
            "visibility": null,
            "width": null
          }
        },
        "873351e226924e9a9dc44e750facfe9f": {
          "model_module": "@jupyter-widgets/base",
          "model_name": "LayoutModel",
          "model_module_version": "1.2.0",
          "state": {
            "_model_module": "@jupyter-widgets/base",
            "_model_module_version": "1.2.0",
            "_model_name": "LayoutModel",
            "_view_count": null,
            "_view_module": "@jupyter-widgets/base",
            "_view_module_version": "1.2.0",
            "_view_name": "LayoutView",
            "align_content": null,
            "align_items": null,
            "align_self": null,
            "border": null,
            "bottom": null,
            "display": null,
            "flex": null,
            "flex_flow": null,
            "grid_area": null,
            "grid_auto_columns": null,
            "grid_auto_flow": null,
            "grid_auto_rows": null,
            "grid_column": null,
            "grid_gap": null,
            "grid_row": null,
            "grid_template_areas": null,
            "grid_template_columns": null,
            "grid_template_rows": null,
            "height": null,
            "justify_content": null,
            "justify_items": null,
            "left": null,
            "margin": null,
            "max_height": null,
            "max_width": null,
            "min_height": null,
            "min_width": null,
            "object_fit": null,
            "object_position": null,
            "order": null,
            "overflow": null,
            "overflow_x": null,
            "overflow_y": null,
            "padding": null,
            "right": null,
            "top": null,
            "visibility": null,
            "width": null
          }
        },
        "9a1426e28e8944c892800461788b1be7": {
          "model_module": "@jupyter-widgets/controls",
          "model_name": "DescriptionStyleModel",
          "model_module_version": "1.5.0",
          "state": {
            "_model_module": "@jupyter-widgets/controls",
            "_model_module_version": "1.5.0",
            "_model_name": "DescriptionStyleModel",
            "_view_count": null,
            "_view_module": "@jupyter-widgets/base",
            "_view_module_version": "1.2.0",
            "_view_name": "StyleView",
            "description_width": ""
          }
        },
        "4b68f8e3c43346a880b4ee6565669612": {
          "model_module": "@jupyter-widgets/base",
          "model_name": "LayoutModel",
          "model_module_version": "1.2.0",
          "state": {
            "_model_module": "@jupyter-widgets/base",
            "_model_module_version": "1.2.0",
            "_model_name": "LayoutModel",
            "_view_count": null,
            "_view_module": "@jupyter-widgets/base",
            "_view_module_version": "1.2.0",
            "_view_name": "LayoutView",
            "align_content": null,
            "align_items": null,
            "align_self": null,
            "border": null,
            "bottom": null,
            "display": null,
            "flex": null,
            "flex_flow": null,
            "grid_area": null,
            "grid_auto_columns": null,
            "grid_auto_flow": null,
            "grid_auto_rows": null,
            "grid_column": null,
            "grid_gap": null,
            "grid_row": null,
            "grid_template_areas": null,
            "grid_template_columns": null,
            "grid_template_rows": null,
            "height": null,
            "justify_content": null,
            "justify_items": null,
            "left": null,
            "margin": null,
            "max_height": null,
            "max_width": null,
            "min_height": null,
            "min_width": null,
            "object_fit": null,
            "object_position": null,
            "order": null,
            "overflow": null,
            "overflow_x": null,
            "overflow_y": null,
            "padding": null,
            "right": null,
            "top": null,
            "visibility": null,
            "width": null
          }
        },
        "7dc1369cb1b44a029a072ac0335b16a3": {
          "model_module": "@jupyter-widgets/controls",
          "model_name": "ProgressStyleModel",
          "model_module_version": "1.5.0",
          "state": {
            "_model_module": "@jupyter-widgets/controls",
            "_model_module_version": "1.5.0",
            "_model_name": "ProgressStyleModel",
            "_view_count": null,
            "_view_module": "@jupyter-widgets/base",
            "_view_module_version": "1.2.0",
            "_view_name": "StyleView",
            "bar_color": null,
            "description_width": ""
          }
        },
        "708f9a22ed5b4179a352da4026a33d6b": {
          "model_module": "@jupyter-widgets/base",
          "model_name": "LayoutModel",
          "model_module_version": "1.2.0",
          "state": {
            "_model_module": "@jupyter-widgets/base",
            "_model_module_version": "1.2.0",
            "_model_name": "LayoutModel",
            "_view_count": null,
            "_view_module": "@jupyter-widgets/base",
            "_view_module_version": "1.2.0",
            "_view_name": "LayoutView",
            "align_content": null,
            "align_items": null,
            "align_self": null,
            "border": null,
            "bottom": null,
            "display": null,
            "flex": null,
            "flex_flow": null,
            "grid_area": null,
            "grid_auto_columns": null,
            "grid_auto_flow": null,
            "grid_auto_rows": null,
            "grid_column": null,
            "grid_gap": null,
            "grid_row": null,
            "grid_template_areas": null,
            "grid_template_columns": null,
            "grid_template_rows": null,
            "height": null,
            "justify_content": null,
            "justify_items": null,
            "left": null,
            "margin": null,
            "max_height": null,
            "max_width": null,
            "min_height": null,
            "min_width": null,
            "object_fit": null,
            "object_position": null,
            "order": null,
            "overflow": null,
            "overflow_x": null,
            "overflow_y": null,
            "padding": null,
            "right": null,
            "top": null,
            "visibility": null,
            "width": null
          }
        },
        "17e5f8f758a742619464df74f6315c35": {
          "model_module": "@jupyter-widgets/controls",
          "model_name": "DescriptionStyleModel",
          "model_module_version": "1.5.0",
          "state": {
            "_model_module": "@jupyter-widgets/controls",
            "_model_module_version": "1.5.0",
            "_model_name": "DescriptionStyleModel",
            "_view_count": null,
            "_view_module": "@jupyter-widgets/base",
            "_view_module_version": "1.2.0",
            "_view_name": "StyleView",
            "description_width": ""
          }
        }
      }
    }
  },
  "cells": [
    {
      "cell_type": "markdown",
      "metadata": {
        "id": "view-in-github",
        "colab_type": "text"
      },
      "source": [
        "<a href=\"https://colab.research.google.com/github/engineerksm/RF_Diagnosys_Dev/blob/master/GRU_LSTM_for_Fault_Prognostic_%5B1130%5D.ipynb\" target=\"_parent\"><img src=\"https://colab.research.google.com/assets/colab-badge.svg\" alt=\"Open In Colab\"/></a>"
      ]
    },
    {
      "cell_type": "markdown",
      "metadata": {
        "id": "1sJH-B2v6DU_"
      },
      "source": [
        "# mount google drive to google colab"
      ]
    },
    {
      "cell_type": "code",
      "metadata": {
        "id": "JtaqPtC1rKLc",
        "colab": {
          "base_uri": "https://localhost:8080/"
        },
        "outputId": "7b1b95dd-d3ed-4147-8e05-6e0c21fd975a"
      },
      "source": [
        "from google.colab import drive\n",
        "drive.mount(\"/content/drive\")"
      ],
      "execution_count": 1,
      "outputs": [
        {
          "output_type": "stream",
          "name": "stdout",
          "text": [
            "Drive already mounted at /content/drive; to attempt to forcibly remount, call drive.mount(\"/content/drive\", force_remount=True).\n"
          ]
        }
      ]
    },
    {
      "cell_type": "code",
      "metadata": {
        "id": "jG3_nxe1tMiN",
        "colab": {
          "base_uri": "https://localhost:8080/"
        },
        "outputId": "454361c8-a18b-490c-85bb-b86bc8e20d3b"
      },
      "source": [
        "cd /content/drive/My Drive/Colab Notebooks/HAICON"
      ],
      "execution_count": 2,
      "outputs": [
        {
          "output_type": "stream",
          "name": "stdout",
          "text": [
            "/content/drive/My Drive/Colab Notebooks/HAICON\n"
          ]
        }
      ]
    },
    {
      "cell_type": "markdown",
      "metadata": {
        "id": "RCILSy-q-dAF"
      },
      "source": [
        "* Note that everytime you rerun"
      ]
    },
    {
      "cell_type": "code",
      "metadata": {
        "id": "Wj78OtUJtkg_",
        "colab": {
          "base_uri": "https://localhost:8080/"
        },
        "outputId": "552f5c8e-b862-4591-e32c-2fb45de07ffc"
      },
      "source": [
        "pip install eTaPR-1.12-py3-none-any.whl"
      ],
      "execution_count": 3,
      "outputs": [
        {
          "output_type": "stream",
          "name": "stdout",
          "text": [
            "Looking in indexes: https://pypi.org/simple, https://us-python.pkg.dev/colab-wheels/public/simple/\n",
            "Processing ./eTaPR-1.12-py3-none-any.whl\n",
            "eTaPR is already installed with the same version as the provided wheel. Use --force-reinstall to force an installation of the wheel.\n"
          ]
        }
      ]
    },
    {
      "cell_type": "code",
      "metadata": {
        "id": "KFuPDfl5tpl2"
      },
      "source": [
        "import sys\n",
        "\n",
        "from pathlib import Path\n",
        "from datetime import timedelta\n",
        "\n",
        "import dateutil\n",
        "import numpy as np\n",
        "import matplotlib.pyplot as plt\n",
        "import pandas as pd\n",
        "import torch\n",
        "\n",
        "from torch.utils.data import Dataset, DataLoader\n",
        "from tqdm.notebook import trange\n",
        "from TaPR_pkg import etapr"
      ],
      "execution_count": 4,
      "outputs": []
    },
    {
      "cell_type": "code",
      "metadata": {
        "id": "Pb4CL52wzfSb"
      },
      "source": [
        "torch.manual_seed(0)\n",
        "torch.backends.cudnn.deterministic = True\n",
        "torch.backends.cudnn.benchmark = False\n",
        "np.random.seed(0)"
      ],
      "execution_count": 5,
      "outputs": []
    },
    {
      "cell_type": "code",
      "source": [
        "torch.cuda.is_available()"
      ],
      "metadata": {
        "colab": {
          "base_uri": "https://localhost:8080/"
        },
        "id": "-D4N8GAcKt02",
        "outputId": "48d2ff3a-a046-469e-8ab5-2a7ea13acaff"
      },
      "execution_count": 6,
      "outputs": [
        {
          "output_type": "execute_result",
          "data": {
            "text/plain": [
              "True"
            ]
          },
          "metadata": {},
          "execution_count": 6
        }
      ]
    },
    {
      "cell_type": "markdown",
      "source": [
        "**Data Preprocessing**"
      ],
      "metadata": {
        "id": "hG16JNDAWTE9"
      }
    },
    {
      "cell_type": "code",
      "metadata": {
        "id": "UHI1UtqjzEZa",
        "outputId": "223f3b98-af80-47b9-dab0-c5d52a9ad799",
        "colab": {
          "base_uri": "https://localhost:8080/"
        }
      },
      "source": [
        "TRAIN_DATASET = sorted([x for x in Path(\"data/training/\").glob(\"*.csv\")])\n",
        "TRAIN_DATASET"
      ],
      "execution_count": 7,
      "outputs": [
        {
          "output_type": "execute_result",
          "data": {
            "text/plain": [
              "[PosixPath('data/training/train1.csv'),\n",
              " PosixPath('data/training/train2.csv'),\n",
              " PosixPath('data/training/train3.csv')]"
            ]
          },
          "metadata": {},
          "execution_count": 7
        }
      ]
    },
    {
      "cell_type": "code",
      "metadata": {
        "id": "Lv165WrAzEb7",
        "outputId": "4c4970be-59fd-4a10-add8-0d1ac1afa790",
        "colab": {
          "base_uri": "https://localhost:8080/"
        }
      },
      "source": [
        "TEST_DATASET = sorted([x for x in Path(\"data/testing/\").glob(\"*.csv\")])\n",
        "TEST_DATASET"
      ],
      "execution_count": 8,
      "outputs": [
        {
          "output_type": "execute_result",
          "data": {
            "text/plain": [
              "[PosixPath('data/testing/test1.csv'),\n",
              " PosixPath('data/testing/test2.csv'),\n",
              " PosixPath('data/testing/test3.csv'),\n",
              " PosixPath('data/testing/test4.csv')]"
            ]
          },
          "metadata": {},
          "execution_count": 8
        }
      ]
    },
    {
      "cell_type": "code",
      "metadata": {
        "id": "1ZISBpBAzEeT",
        "outputId": "12e21b24-5192-493f-fa2f-bab827989e61",
        "colab": {
          "base_uri": "https://localhost:8080/"
        }
      },
      "source": [
        "VALIDATION_DATASET = sorted([x for x in Path(\"data/validation/\").glob(\"*.csv\")])\n",
        "VALIDATION_DATASET"
      ],
      "execution_count": 9,
      "outputs": [
        {
          "output_type": "execute_result",
          "data": {
            "text/plain": [
              "[PosixPath('data/validation/validation.csv')]"
            ]
          },
          "metadata": {},
          "execution_count": 9
        }
      ]
    },
    {
      "cell_type": "code",
      "metadata": {
        "id": "RNJjHBDWzUWr"
      },
      "source": [
        "def dataframe_from_csv(target):\n",
        "    return pd.read_csv(target).rename(columns=lambda x: x.strip())\n",
        "\n",
        "def dataframe_from_csvs(targets):\n",
        "    return pd.concat([dataframe_from_csv(x) for x in targets])"
      ],
      "execution_count": 10,
      "outputs": []
    },
    {
      "cell_type": "code",
      "metadata": {
        "id": "r4xrOuPXzUYq",
        "outputId": "4681867a-1c9e-460e-d386-0690816ffabc",
        "colab": {
          "base_uri": "https://localhost:8080/",
          "height": 424
        }
      },
      "source": [
        "TRAIN_DF_RAW = dataframe_from_csvs(TRAIN_DATASET)\n",
        "TRAIN_DF_RAW"
      ],
      "execution_count": 11,
      "outputs": [
        {
          "output_type": "execute_result",
          "data": {
            "text/plain": [
              "                       time        C01  C02  C03       C04     C05      C06  \\\n",
              "0       2020-07-11 00:00:00  395.19528   12   10  52.80456 -1.2648 -1.87531   \n",
              "1       2020-07-11 00:00:01  395.14420   12   10  52.78931 -1.3147 -1.88294   \n",
              "2       2020-07-11 00:00:02  395.14420   12   10  52.79694 -1.4032 -1.88294   \n",
              "3       2020-07-11 00:00:03  395.19528   12   10  52.79694 -1.6074 -1.88294   \n",
              "4       2020-07-11 00:00:04  395.34866   12   10  52.79694 -1.7811 -1.88294   \n",
              "...                     ...        ...  ...  ...       ...     ...      ...   \n",
              "478796  2020-08-10 10:59:56  387.27219   12   10  66.72057 -0.9331 -1.84479   \n",
              "478797  2020-08-10 10:59:57  387.52774   12   10  66.72057 -0.9996 -1.84479   \n",
              "478798  2020-08-10 10:59:58  387.47665   12   10  66.72057 -1.2560 -1.84479   \n",
              "478799  2020-08-10 10:59:59  387.73221   12   10  66.72057 -1.4912 -1.84479   \n",
              "478800  2020-08-10 11:00:00  387.52774   12   10  66.72057 -1.5727 -1.84479   \n",
              "\n",
              "              C07       C08      C09  ...        C70  C71      C72       C73  \\\n",
              "0       779.59595  28.02645  10832.0  ...  808.29620  0.0  1.36810   8.79882   \n",
              "1       780.67328  28.02473  10984.0  ...  819.16809  0.0  1.36810   8.78811   \n",
              "2       780.06574  28.02817  11120.0  ...  823.51697  0.0  1.36734   8.81787   \n",
              "3       780.15265  28.02301  11256.0  ...  823.95172  0.0  1.36734   8.87493   \n",
              "4       781.83160  28.03595  11384.0  ...  827.86560  0.0  1.36810   8.83838   \n",
              "...           ...       ...      ...  ...        ...  ...      ...       ...   \n",
              "478796  781.87915  28.02389    880.0  ...  944.84705  0.0  1.32843  15.17817   \n",
              "478797  787.65070  28.02385    840.0  ...  940.49835  0.0  1.32843  15.17344   \n",
              "478798  788.50256  28.03085    792.0  ...  935.71472  0.0  1.32919  15.16443   \n",
              "478799  785.80316  28.02649    752.0  ...  944.84705  0.0  1.32843  15.09001   \n",
              "478800  780.21381  28.02476    720.0  ...  951.80505  0.0  1.32919  15.08672   \n",
              "\n",
              "             C74       C75        C76        C77      C78     C79  \n",
              "0       35.43700  12.01782  305.03113  301.35992  33.6555  6.0951  \n",
              "1       35.45227  12.01782  304.27161  297.43567  33.6555  5.9262  \n",
              "2       35.45227  12.01782  303.89179  298.66534  33.6555  5.8101  \n",
              "3       35.43700  12.01782  303.67474  298.06860  33.6555  5.7509  \n",
              "4       35.45227  12.01782  303.22266  296.53137  33.6555  5.8547  \n",
              "...          ...       ...        ...        ...      ...     ...  \n",
              "478796  35.14710  11.79657  316.89453  296.54950  32.0000  6.6026  \n",
              "478797  35.13183  11.79657  315.59247  296.15161  32.0000  6.3894  \n",
              "478798  35.13183  11.79657  313.92865  293.40277  32.0000  6.2584  \n",
              "478799  35.14710  11.79657  315.61054  302.58972  32.0000  6.4150  \n",
              "478800  35.14710  11.79657  317.23816  309.00964  32.0000  6.6288  \n",
              "\n",
              "[921603 rows x 80 columns]"
            ],
            "text/html": [
              "\n",
              "  <div id=\"df-8d3a4be1-7d0a-4ffd-9d65-fbed0181aebc\">\n",
              "    <div class=\"colab-df-container\">\n",
              "      <div>\n",
              "<style scoped>\n",
              "    .dataframe tbody tr th:only-of-type {\n",
              "        vertical-align: middle;\n",
              "    }\n",
              "\n",
              "    .dataframe tbody tr th {\n",
              "        vertical-align: top;\n",
              "    }\n",
              "\n",
              "    .dataframe thead th {\n",
              "        text-align: right;\n",
              "    }\n",
              "</style>\n",
              "<table border=\"1\" class=\"dataframe\">\n",
              "  <thead>\n",
              "    <tr style=\"text-align: right;\">\n",
              "      <th></th>\n",
              "      <th>time</th>\n",
              "      <th>C01</th>\n",
              "      <th>C02</th>\n",
              "      <th>C03</th>\n",
              "      <th>C04</th>\n",
              "      <th>C05</th>\n",
              "      <th>C06</th>\n",
              "      <th>C07</th>\n",
              "      <th>C08</th>\n",
              "      <th>C09</th>\n",
              "      <th>...</th>\n",
              "      <th>C70</th>\n",
              "      <th>C71</th>\n",
              "      <th>C72</th>\n",
              "      <th>C73</th>\n",
              "      <th>C74</th>\n",
              "      <th>C75</th>\n",
              "      <th>C76</th>\n",
              "      <th>C77</th>\n",
              "      <th>C78</th>\n",
              "      <th>C79</th>\n",
              "    </tr>\n",
              "  </thead>\n",
              "  <tbody>\n",
              "    <tr>\n",
              "      <th>0</th>\n",
              "      <td>2020-07-11 00:00:00</td>\n",
              "      <td>395.19528</td>\n",
              "      <td>12</td>\n",
              "      <td>10</td>\n",
              "      <td>52.80456</td>\n",
              "      <td>-1.2648</td>\n",
              "      <td>-1.87531</td>\n",
              "      <td>779.59595</td>\n",
              "      <td>28.02645</td>\n",
              "      <td>10832.0</td>\n",
              "      <td>...</td>\n",
              "      <td>808.29620</td>\n",
              "      <td>0.0</td>\n",
              "      <td>1.36810</td>\n",
              "      <td>8.79882</td>\n",
              "      <td>35.43700</td>\n",
              "      <td>12.01782</td>\n",
              "      <td>305.03113</td>\n",
              "      <td>301.35992</td>\n",
              "      <td>33.6555</td>\n",
              "      <td>6.0951</td>\n",
              "    </tr>\n",
              "    <tr>\n",
              "      <th>1</th>\n",
              "      <td>2020-07-11 00:00:01</td>\n",
              "      <td>395.14420</td>\n",
              "      <td>12</td>\n",
              "      <td>10</td>\n",
              "      <td>52.78931</td>\n",
              "      <td>-1.3147</td>\n",
              "      <td>-1.88294</td>\n",
              "      <td>780.67328</td>\n",
              "      <td>28.02473</td>\n",
              "      <td>10984.0</td>\n",
              "      <td>...</td>\n",
              "      <td>819.16809</td>\n",
              "      <td>0.0</td>\n",
              "      <td>1.36810</td>\n",
              "      <td>8.78811</td>\n",
              "      <td>35.45227</td>\n",
              "      <td>12.01782</td>\n",
              "      <td>304.27161</td>\n",
              "      <td>297.43567</td>\n",
              "      <td>33.6555</td>\n",
              "      <td>5.9262</td>\n",
              "    </tr>\n",
              "    <tr>\n",
              "      <th>2</th>\n",
              "      <td>2020-07-11 00:00:02</td>\n",
              "      <td>395.14420</td>\n",
              "      <td>12</td>\n",
              "      <td>10</td>\n",
              "      <td>52.79694</td>\n",
              "      <td>-1.4032</td>\n",
              "      <td>-1.88294</td>\n",
              "      <td>780.06574</td>\n",
              "      <td>28.02817</td>\n",
              "      <td>11120.0</td>\n",
              "      <td>...</td>\n",
              "      <td>823.51697</td>\n",
              "      <td>0.0</td>\n",
              "      <td>1.36734</td>\n",
              "      <td>8.81787</td>\n",
              "      <td>35.45227</td>\n",
              "      <td>12.01782</td>\n",
              "      <td>303.89179</td>\n",
              "      <td>298.66534</td>\n",
              "      <td>33.6555</td>\n",
              "      <td>5.8101</td>\n",
              "    </tr>\n",
              "    <tr>\n",
              "      <th>3</th>\n",
              "      <td>2020-07-11 00:00:03</td>\n",
              "      <td>395.19528</td>\n",
              "      <td>12</td>\n",
              "      <td>10</td>\n",
              "      <td>52.79694</td>\n",
              "      <td>-1.6074</td>\n",
              "      <td>-1.88294</td>\n",
              "      <td>780.15265</td>\n",
              "      <td>28.02301</td>\n",
              "      <td>11256.0</td>\n",
              "      <td>...</td>\n",
              "      <td>823.95172</td>\n",
              "      <td>0.0</td>\n",
              "      <td>1.36734</td>\n",
              "      <td>8.87493</td>\n",
              "      <td>35.43700</td>\n",
              "      <td>12.01782</td>\n",
              "      <td>303.67474</td>\n",
              "      <td>298.06860</td>\n",
              "      <td>33.6555</td>\n",
              "      <td>5.7509</td>\n",
              "    </tr>\n",
              "    <tr>\n",
              "      <th>4</th>\n",
              "      <td>2020-07-11 00:00:04</td>\n",
              "      <td>395.34866</td>\n",
              "      <td>12</td>\n",
              "      <td>10</td>\n",
              "      <td>52.79694</td>\n",
              "      <td>-1.7811</td>\n",
              "      <td>-1.88294</td>\n",
              "      <td>781.83160</td>\n",
              "      <td>28.03595</td>\n",
              "      <td>11384.0</td>\n",
              "      <td>...</td>\n",
              "      <td>827.86560</td>\n",
              "      <td>0.0</td>\n",
              "      <td>1.36810</td>\n",
              "      <td>8.83838</td>\n",
              "      <td>35.45227</td>\n",
              "      <td>12.01782</td>\n",
              "      <td>303.22266</td>\n",
              "      <td>296.53137</td>\n",
              "      <td>33.6555</td>\n",
              "      <td>5.8547</td>\n",
              "    </tr>\n",
              "    <tr>\n",
              "      <th>...</th>\n",
              "      <td>...</td>\n",
              "      <td>...</td>\n",
              "      <td>...</td>\n",
              "      <td>...</td>\n",
              "      <td>...</td>\n",
              "      <td>...</td>\n",
              "      <td>...</td>\n",
              "      <td>...</td>\n",
              "      <td>...</td>\n",
              "      <td>...</td>\n",
              "      <td>...</td>\n",
              "      <td>...</td>\n",
              "      <td>...</td>\n",
              "      <td>...</td>\n",
              "      <td>...</td>\n",
              "      <td>...</td>\n",
              "      <td>...</td>\n",
              "      <td>...</td>\n",
              "      <td>...</td>\n",
              "      <td>...</td>\n",
              "      <td>...</td>\n",
              "    </tr>\n",
              "    <tr>\n",
              "      <th>478796</th>\n",
              "      <td>2020-08-10 10:59:56</td>\n",
              "      <td>387.27219</td>\n",
              "      <td>12</td>\n",
              "      <td>10</td>\n",
              "      <td>66.72057</td>\n",
              "      <td>-0.9331</td>\n",
              "      <td>-1.84479</td>\n",
              "      <td>781.87915</td>\n",
              "      <td>28.02389</td>\n",
              "      <td>880.0</td>\n",
              "      <td>...</td>\n",
              "      <td>944.84705</td>\n",
              "      <td>0.0</td>\n",
              "      <td>1.32843</td>\n",
              "      <td>15.17817</td>\n",
              "      <td>35.14710</td>\n",
              "      <td>11.79657</td>\n",
              "      <td>316.89453</td>\n",
              "      <td>296.54950</td>\n",
              "      <td>32.0000</td>\n",
              "      <td>6.6026</td>\n",
              "    </tr>\n",
              "    <tr>\n",
              "      <th>478797</th>\n",
              "      <td>2020-08-10 10:59:57</td>\n",
              "      <td>387.52774</td>\n",
              "      <td>12</td>\n",
              "      <td>10</td>\n",
              "      <td>66.72057</td>\n",
              "      <td>-0.9996</td>\n",
              "      <td>-1.84479</td>\n",
              "      <td>787.65070</td>\n",
              "      <td>28.02385</td>\n",
              "      <td>840.0</td>\n",
              "      <td>...</td>\n",
              "      <td>940.49835</td>\n",
              "      <td>0.0</td>\n",
              "      <td>1.32843</td>\n",
              "      <td>15.17344</td>\n",
              "      <td>35.13183</td>\n",
              "      <td>11.79657</td>\n",
              "      <td>315.59247</td>\n",
              "      <td>296.15161</td>\n",
              "      <td>32.0000</td>\n",
              "      <td>6.3894</td>\n",
              "    </tr>\n",
              "    <tr>\n",
              "      <th>478798</th>\n",
              "      <td>2020-08-10 10:59:58</td>\n",
              "      <td>387.47665</td>\n",
              "      <td>12</td>\n",
              "      <td>10</td>\n",
              "      <td>66.72057</td>\n",
              "      <td>-1.2560</td>\n",
              "      <td>-1.84479</td>\n",
              "      <td>788.50256</td>\n",
              "      <td>28.03085</td>\n",
              "      <td>792.0</td>\n",
              "      <td>...</td>\n",
              "      <td>935.71472</td>\n",
              "      <td>0.0</td>\n",
              "      <td>1.32919</td>\n",
              "      <td>15.16443</td>\n",
              "      <td>35.13183</td>\n",
              "      <td>11.79657</td>\n",
              "      <td>313.92865</td>\n",
              "      <td>293.40277</td>\n",
              "      <td>32.0000</td>\n",
              "      <td>6.2584</td>\n",
              "    </tr>\n",
              "    <tr>\n",
              "      <th>478799</th>\n",
              "      <td>2020-08-10 10:59:59</td>\n",
              "      <td>387.73221</td>\n",
              "      <td>12</td>\n",
              "      <td>10</td>\n",
              "      <td>66.72057</td>\n",
              "      <td>-1.4912</td>\n",
              "      <td>-1.84479</td>\n",
              "      <td>785.80316</td>\n",
              "      <td>28.02649</td>\n",
              "      <td>752.0</td>\n",
              "      <td>...</td>\n",
              "      <td>944.84705</td>\n",
              "      <td>0.0</td>\n",
              "      <td>1.32843</td>\n",
              "      <td>15.09001</td>\n",
              "      <td>35.14710</td>\n",
              "      <td>11.79657</td>\n",
              "      <td>315.61054</td>\n",
              "      <td>302.58972</td>\n",
              "      <td>32.0000</td>\n",
              "      <td>6.4150</td>\n",
              "    </tr>\n",
              "    <tr>\n",
              "      <th>478800</th>\n",
              "      <td>2020-08-10 11:00:00</td>\n",
              "      <td>387.52774</td>\n",
              "      <td>12</td>\n",
              "      <td>10</td>\n",
              "      <td>66.72057</td>\n",
              "      <td>-1.5727</td>\n",
              "      <td>-1.84479</td>\n",
              "      <td>780.21381</td>\n",
              "      <td>28.02476</td>\n",
              "      <td>720.0</td>\n",
              "      <td>...</td>\n",
              "      <td>951.80505</td>\n",
              "      <td>0.0</td>\n",
              "      <td>1.32919</td>\n",
              "      <td>15.08672</td>\n",
              "      <td>35.14710</td>\n",
              "      <td>11.79657</td>\n",
              "      <td>317.23816</td>\n",
              "      <td>309.00964</td>\n",
              "      <td>32.0000</td>\n",
              "      <td>6.6288</td>\n",
              "    </tr>\n",
              "  </tbody>\n",
              "</table>\n",
              "<p>921603 rows × 80 columns</p>\n",
              "</div>\n",
              "      <button class=\"colab-df-convert\" onclick=\"convertToInteractive('df-8d3a4be1-7d0a-4ffd-9d65-fbed0181aebc')\"\n",
              "              title=\"Convert this dataframe to an interactive table.\"\n",
              "              style=\"display:none;\">\n",
              "        \n",
              "  <svg xmlns=\"http://www.w3.org/2000/svg\" height=\"24px\"viewBox=\"0 0 24 24\"\n",
              "       width=\"24px\">\n",
              "    <path d=\"M0 0h24v24H0V0z\" fill=\"none\"/>\n",
              "    <path d=\"M18.56 5.44l.94 2.06.94-2.06 2.06-.94-2.06-.94-.94-2.06-.94 2.06-2.06.94zm-11 1L8.5 8.5l.94-2.06 2.06-.94-2.06-.94L8.5 2.5l-.94 2.06-2.06.94zm10 10l.94 2.06.94-2.06 2.06-.94-2.06-.94-.94-2.06-.94 2.06-2.06.94z\"/><path d=\"M17.41 7.96l-1.37-1.37c-.4-.4-.92-.59-1.43-.59-.52 0-1.04.2-1.43.59L10.3 9.45l-7.72 7.72c-.78.78-.78 2.05 0 2.83L4 21.41c.39.39.9.59 1.41.59.51 0 1.02-.2 1.41-.59l7.78-7.78 2.81-2.81c.8-.78.8-2.07 0-2.86zM5.41 20L4 18.59l7.72-7.72 1.47 1.35L5.41 20z\"/>\n",
              "  </svg>\n",
              "      </button>\n",
              "      \n",
              "  <style>\n",
              "    .colab-df-container {\n",
              "      display:flex;\n",
              "      flex-wrap:wrap;\n",
              "      gap: 12px;\n",
              "    }\n",
              "\n",
              "    .colab-df-convert {\n",
              "      background-color: #E8F0FE;\n",
              "      border: none;\n",
              "      border-radius: 50%;\n",
              "      cursor: pointer;\n",
              "      display: none;\n",
              "      fill: #1967D2;\n",
              "      height: 32px;\n",
              "      padding: 0 0 0 0;\n",
              "      width: 32px;\n",
              "    }\n",
              "\n",
              "    .colab-df-convert:hover {\n",
              "      background-color: #E2EBFA;\n",
              "      box-shadow: 0px 1px 2px rgba(60, 64, 67, 0.3), 0px 1px 3px 1px rgba(60, 64, 67, 0.15);\n",
              "      fill: #174EA6;\n",
              "    }\n",
              "\n",
              "    [theme=dark] .colab-df-convert {\n",
              "      background-color: #3B4455;\n",
              "      fill: #D2E3FC;\n",
              "    }\n",
              "\n",
              "    [theme=dark] .colab-df-convert:hover {\n",
              "      background-color: #434B5C;\n",
              "      box-shadow: 0px 1px 3px 1px rgba(0, 0, 0, 0.15);\n",
              "      filter: drop-shadow(0px 1px 2px rgba(0, 0, 0, 0.3));\n",
              "      fill: #FFFFFF;\n",
              "    }\n",
              "  </style>\n",
              "\n",
              "      <script>\n",
              "        const buttonEl =\n",
              "          document.querySelector('#df-8d3a4be1-7d0a-4ffd-9d65-fbed0181aebc button.colab-df-convert');\n",
              "        buttonEl.style.display =\n",
              "          google.colab.kernel.accessAllowed ? 'block' : 'none';\n",
              "\n",
              "        async function convertToInteractive(key) {\n",
              "          const element = document.querySelector('#df-8d3a4be1-7d0a-4ffd-9d65-fbed0181aebc');\n",
              "          const dataTable =\n",
              "            await google.colab.kernel.invokeFunction('convertToInteractive',\n",
              "                                                     [key], {});\n",
              "          if (!dataTable) return;\n",
              "\n",
              "          const docLinkHtml = 'Like what you see? Visit the ' +\n",
              "            '<a target=\"_blank\" href=https://colab.research.google.com/notebooks/data_table.ipynb>data table notebook</a>'\n",
              "            + ' to learn more about interactive tables.';\n",
              "          element.innerHTML = '';\n",
              "          dataTable['output_type'] = 'display_data';\n",
              "          await google.colab.output.renderOutput(dataTable, element);\n",
              "          const docLink = document.createElement('div');\n",
              "          docLink.innerHTML = docLinkHtml;\n",
              "          element.appendChild(docLink);\n",
              "        }\n",
              "      </script>\n",
              "    </div>\n",
              "  </div>\n",
              "  "
            ]
          },
          "metadata": {},
          "execution_count": 11
        }
      ]
    },
    {
      "cell_type": "markdown",
      "metadata": {
        "id": "5MXWST9IcFD6"
      },
      "source": [
        "Find the mean, median, and standard deviation for C04 column"
      ]
    },
    {
      "cell_type": "code",
      "metadata": {
        "id": "oUjsnSJzcDj7",
        "outputId": "ad912e92-3c63-49bc-9842-5f561f3f7594",
        "colab": {
          "base_uri": "https://localhost:8080/"
        }
      },
      "source": [
        "mean_result = TRAIN_DF_RAW['C04'].mean(axis='rows', skipna=True)\n",
        "median_result = TRAIN_DF_RAW['C04'].median(axis='rows', skipna=True)\n",
        "std_result = TRAIN_DF_RAW['C04'].std(axis='rows', skipna=True)\n",
        "print('mean value in C04 columns \\n {0}'.format(mean_result))\n",
        "print('median value in C04 columns \\n {0}'.format(median_result))\n",
        "print('standard deviation in C04 columns \\n {0}'.format(std_result))"
      ],
      "execution_count": 12,
      "outputs": [
        {
          "output_type": "stream",
          "name": "stdout",
          "text": [
            "mean value in C04 columns \n",
            " 59.299039180189276\n",
            "median value in C04 columns \n",
            " 61.05194\n",
            "standard deviation in C04 columns \n",
            " 6.714803964331488\n"
          ]
        }
      ]
    },
    {
      "cell_type": "code",
      "metadata": {
        "id": "gwrLwT1gledp"
      },
      "source": [
        "import numpy as np"
      ],
      "execution_count": 13,
      "outputs": []
    },
    {
      "cell_type": "code",
      "metadata": {
        "id": "wg9D142shj1P",
        "outputId": "a2feee4f-e71b-46bb-afd6-e8c34b0b0fd5",
        "colab": {
          "base_uri": "https://localhost:8080/"
        }
      },
      "source": [
        "TRAIN_DF_RAW = TRAIN_DF_RAW.fillna(0)\n",
        "std_result = TRAIN_DF_RAW.std(axis='rows', skipna=True)\n",
        "std_result = np.round(std_result, 2)\n",
        "print('standard deviation in each columns \\n {0}'.format(std_result))"
      ],
      "execution_count": 14,
      "outputs": [
        {
          "output_type": "stream",
          "name": "stdout",
          "text": [
            "standard deviation in each columns \n",
            " C01    15.63\n",
            "C02     0.00\n",
            "C03     0.00\n",
            "C04     6.71\n",
            "C05     0.35\n",
            "       ...  \n",
            "C75     0.10\n",
            "C76    34.45\n",
            "C77    37.85\n",
            "C78     0.58\n",
            "C79     0.38\n",
            "Length: 79, dtype: float64\n"
          ]
        },
        {
          "output_type": "stream",
          "name": "stderr",
          "text": [
            "/usr/local/lib/python3.7/dist-packages/ipykernel_launcher.py:2: FutureWarning: Dropping of nuisance columns in DataFrame reductions (with 'numeric_only=None') is deprecated; in a future version this will raise TypeError.  Select only valid columns before calling the reduction.\n",
            "  \n"
          ]
        }
      ]
    },
    {
      "cell_type": "code",
      "metadata": {
        "id": "cKhAEZ1JkvJv",
        "outputId": "5b69cdcc-99b0-4662-e8dd-fbbf9a0ead31",
        "colab": {
          "base_uri": "https://localhost:8080/"
        }
      },
      "source": [
        "original_Params = list(TRAIN_DF_RAW.columns)\n",
        "print('Original columns list : {0}'.format(original_Params))"
      ],
      "execution_count": 15,
      "outputs": [
        {
          "output_type": "stream",
          "name": "stdout",
          "text": [
            "Original columns list : ['time', 'C01', 'C02', 'C03', 'C04', 'C05', 'C06', 'C07', 'C08', 'C09', 'C10', 'C11', 'C12', 'C13', 'C14', 'C15', 'C16', 'C17', 'C18', 'C19', 'C20', 'C21', 'C22', 'C23', 'C24', 'C25', 'C26', 'C27', 'C28', 'C29', 'C30', 'C31', 'C32', 'C33', 'C34', 'C35', 'C36', 'C37', 'C38', 'C39', 'C40', 'C41', 'C42', 'C43', 'C44', 'C45', 'C46', 'C47', 'C48', 'C49', 'C50', 'C51', 'C52', 'C53', 'C54', 'C55', 'C56', 'C57', 'C58', 'C59', 'C60', 'C61', 'C62', 'C63', 'C64', 'C65', 'C66', 'C67', 'C68', 'C69', 'C70', 'C71', 'C72', 'C73', 'C74', 'C75', 'C76', 'C77', 'C78', 'C79']\n"
          ]
        }
      ]
    },
    {
      "cell_type": "code",
      "metadata": {
        "id": "Tvl-vqEKzUa5",
        "outputId": "b0680ac3-e97d-43e8-d66c-b11794088836",
        "colab": {
          "base_uri": "https://localhost:8080/"
        }
      },
      "source": [
        "TIMESTAMP_FIELD = \"time\"\n",
        "IDSTAMP_FIELD = 'id'\n",
        "ATTACK_FIELD = \"attack\"\n",
        "VALID_COLUMNS_IN_TRAIN_DATASET = TRAIN_DF_RAW.columns.drop([TIMESTAMP_FIELD])\n",
        "VALID_COLUMNS_IN_TRAIN_DATASET"
      ],
      "execution_count": 16,
      "outputs": [
        {
          "output_type": "execute_result",
          "data": {
            "text/plain": [
              "Index(['C01', 'C02', 'C03', 'C04', 'C05', 'C06', 'C07', 'C08', 'C09', 'C10',\n",
              "       'C11', 'C12', 'C13', 'C14', 'C15', 'C16', 'C17', 'C18', 'C19', 'C20',\n",
              "       'C21', 'C22', 'C23', 'C24', 'C25', 'C26', 'C27', 'C28', 'C29', 'C30',\n",
              "       'C31', 'C32', 'C33', 'C34', 'C35', 'C36', 'C37', 'C38', 'C39', 'C40',\n",
              "       'C41', 'C42', 'C43', 'C44', 'C45', 'C46', 'C47', 'C48', 'C49', 'C50',\n",
              "       'C51', 'C52', 'C53', 'C54', 'C55', 'C56', 'C57', 'C58', 'C59', 'C60',\n",
              "       'C61', 'C62', 'C63', 'C64', 'C65', 'C66', 'C67', 'C68', 'C69', 'C70',\n",
              "       'C71', 'C72', 'C73', 'C74', 'C75', 'C76', 'C77', 'C78', 'C79'],\n",
              "      dtype='object')"
            ]
          },
          "metadata": {},
          "execution_count": 16
        }
      ]
    },
    {
      "cell_type": "code",
      "metadata": {
        "id": "Iws6Xwif7Yhy",
        "outputId": "f9bf0102-990c-437f-e765-62bf1f7e8ce9",
        "colab": {
          "base_uri": "https://localhost:8080/",
          "height": 424
        }
      },
      "source": [
        "TRAIN_DF_RAW[VALID_COLUMNS_IN_TRAIN_DATASET]"
      ],
      "execution_count": 17,
      "outputs": [
        {
          "output_type": "execute_result",
          "data": {
            "text/plain": [
              "              C01  C02  C03       C04     C05      C06        C07       C08  \\\n",
              "0       395.19528   12   10  52.80456 -1.2648 -1.87531  779.59595  28.02645   \n",
              "1       395.14420   12   10  52.78931 -1.3147 -1.88294  780.67328  28.02473   \n",
              "2       395.14420   12   10  52.79694 -1.4032 -1.88294  780.06574  28.02817   \n",
              "3       395.19528   12   10  52.79694 -1.6074 -1.88294  780.15265  28.02301   \n",
              "4       395.34866   12   10  52.79694 -1.7811 -1.88294  781.83160  28.03595   \n",
              "...           ...  ...  ...       ...     ...      ...        ...       ...   \n",
              "478796  387.27219   12   10  66.72057 -0.9331 -1.84479  781.87915  28.02389   \n",
              "478797  387.52774   12   10  66.72057 -0.9996 -1.84479  787.65070  28.02385   \n",
              "478798  387.47665   12   10  66.72057 -1.2560 -1.84479  788.50256  28.03085   \n",
              "478799  387.73221   12   10  66.72057 -1.4912 -1.84479  785.80316  28.02649   \n",
              "478800  387.52774   12   10  66.72057 -1.5727 -1.84479  780.21381  28.02476   \n",
              "\n",
              "            C09     C10  ...        C70  C71      C72       C73       C74  \\\n",
              "0       10832.0 -3.0660  ...  808.29620  0.0  1.36810   8.79882  35.43700   \n",
              "1       10984.0 -2.9721  ...  819.16809  0.0  1.36810   8.78811  35.45227   \n",
              "2       11120.0 -2.9857  ...  823.51697  0.0  1.36734   8.81787  35.45227   \n",
              "3       11256.0 -3.2166  ...  823.95172  0.0  1.36734   8.87493  35.43700   \n",
              "4       11384.0 -3.5613  ...  827.86560  0.0  1.36810   8.83838  35.45227   \n",
              "...         ...     ...  ...        ...  ...      ...       ...       ...   \n",
              "478796    880.0 -2.6936  ...  944.84705  0.0  1.32843  15.17817  35.14710   \n",
              "478797    840.0 -2.5863  ...  940.49835  0.0  1.32843  15.17344  35.13183   \n",
              "478798    792.0 -2.8287  ...  935.71472  0.0  1.32919  15.16443  35.13183   \n",
              "478799    752.0 -3.3212  ...  944.84705  0.0  1.32843  15.09001  35.14710   \n",
              "478800    720.0 -3.6418  ...  951.80505  0.0  1.32919  15.08672  35.14710   \n",
              "\n",
              "             C75        C76        C77      C78     C79  \n",
              "0       12.01782  305.03113  301.35992  33.6555  6.0951  \n",
              "1       12.01782  304.27161  297.43567  33.6555  5.9262  \n",
              "2       12.01782  303.89179  298.66534  33.6555  5.8101  \n",
              "3       12.01782  303.67474  298.06860  33.6555  5.7509  \n",
              "4       12.01782  303.22266  296.53137  33.6555  5.8547  \n",
              "...          ...        ...        ...      ...     ...  \n",
              "478796  11.79657  316.89453  296.54950  32.0000  6.6026  \n",
              "478797  11.79657  315.59247  296.15161  32.0000  6.3894  \n",
              "478798  11.79657  313.92865  293.40277  32.0000  6.2584  \n",
              "478799  11.79657  315.61054  302.58972  32.0000  6.4150  \n",
              "478800  11.79657  317.23816  309.00964  32.0000  6.6288  \n",
              "\n",
              "[921603 rows x 79 columns]"
            ],
            "text/html": [
              "\n",
              "  <div id=\"df-1edc7874-cb52-46c4-a3a1-a98cc7683617\">\n",
              "    <div class=\"colab-df-container\">\n",
              "      <div>\n",
              "<style scoped>\n",
              "    .dataframe tbody tr th:only-of-type {\n",
              "        vertical-align: middle;\n",
              "    }\n",
              "\n",
              "    .dataframe tbody tr th {\n",
              "        vertical-align: top;\n",
              "    }\n",
              "\n",
              "    .dataframe thead th {\n",
              "        text-align: right;\n",
              "    }\n",
              "</style>\n",
              "<table border=\"1\" class=\"dataframe\">\n",
              "  <thead>\n",
              "    <tr style=\"text-align: right;\">\n",
              "      <th></th>\n",
              "      <th>C01</th>\n",
              "      <th>C02</th>\n",
              "      <th>C03</th>\n",
              "      <th>C04</th>\n",
              "      <th>C05</th>\n",
              "      <th>C06</th>\n",
              "      <th>C07</th>\n",
              "      <th>C08</th>\n",
              "      <th>C09</th>\n",
              "      <th>C10</th>\n",
              "      <th>...</th>\n",
              "      <th>C70</th>\n",
              "      <th>C71</th>\n",
              "      <th>C72</th>\n",
              "      <th>C73</th>\n",
              "      <th>C74</th>\n",
              "      <th>C75</th>\n",
              "      <th>C76</th>\n",
              "      <th>C77</th>\n",
              "      <th>C78</th>\n",
              "      <th>C79</th>\n",
              "    </tr>\n",
              "  </thead>\n",
              "  <tbody>\n",
              "    <tr>\n",
              "      <th>0</th>\n",
              "      <td>395.19528</td>\n",
              "      <td>12</td>\n",
              "      <td>10</td>\n",
              "      <td>52.80456</td>\n",
              "      <td>-1.2648</td>\n",
              "      <td>-1.87531</td>\n",
              "      <td>779.59595</td>\n",
              "      <td>28.02645</td>\n",
              "      <td>10832.0</td>\n",
              "      <td>-3.0660</td>\n",
              "      <td>...</td>\n",
              "      <td>808.29620</td>\n",
              "      <td>0.0</td>\n",
              "      <td>1.36810</td>\n",
              "      <td>8.79882</td>\n",
              "      <td>35.43700</td>\n",
              "      <td>12.01782</td>\n",
              "      <td>305.03113</td>\n",
              "      <td>301.35992</td>\n",
              "      <td>33.6555</td>\n",
              "      <td>6.0951</td>\n",
              "    </tr>\n",
              "    <tr>\n",
              "      <th>1</th>\n",
              "      <td>395.14420</td>\n",
              "      <td>12</td>\n",
              "      <td>10</td>\n",
              "      <td>52.78931</td>\n",
              "      <td>-1.3147</td>\n",
              "      <td>-1.88294</td>\n",
              "      <td>780.67328</td>\n",
              "      <td>28.02473</td>\n",
              "      <td>10984.0</td>\n",
              "      <td>-2.9721</td>\n",
              "      <td>...</td>\n",
              "      <td>819.16809</td>\n",
              "      <td>0.0</td>\n",
              "      <td>1.36810</td>\n",
              "      <td>8.78811</td>\n",
              "      <td>35.45227</td>\n",
              "      <td>12.01782</td>\n",
              "      <td>304.27161</td>\n",
              "      <td>297.43567</td>\n",
              "      <td>33.6555</td>\n",
              "      <td>5.9262</td>\n",
              "    </tr>\n",
              "    <tr>\n",
              "      <th>2</th>\n",
              "      <td>395.14420</td>\n",
              "      <td>12</td>\n",
              "      <td>10</td>\n",
              "      <td>52.79694</td>\n",
              "      <td>-1.4032</td>\n",
              "      <td>-1.88294</td>\n",
              "      <td>780.06574</td>\n",
              "      <td>28.02817</td>\n",
              "      <td>11120.0</td>\n",
              "      <td>-2.9857</td>\n",
              "      <td>...</td>\n",
              "      <td>823.51697</td>\n",
              "      <td>0.0</td>\n",
              "      <td>1.36734</td>\n",
              "      <td>8.81787</td>\n",
              "      <td>35.45227</td>\n",
              "      <td>12.01782</td>\n",
              "      <td>303.89179</td>\n",
              "      <td>298.66534</td>\n",
              "      <td>33.6555</td>\n",
              "      <td>5.8101</td>\n",
              "    </tr>\n",
              "    <tr>\n",
              "      <th>3</th>\n",
              "      <td>395.19528</td>\n",
              "      <td>12</td>\n",
              "      <td>10</td>\n",
              "      <td>52.79694</td>\n",
              "      <td>-1.6074</td>\n",
              "      <td>-1.88294</td>\n",
              "      <td>780.15265</td>\n",
              "      <td>28.02301</td>\n",
              "      <td>11256.0</td>\n",
              "      <td>-3.2166</td>\n",
              "      <td>...</td>\n",
              "      <td>823.95172</td>\n",
              "      <td>0.0</td>\n",
              "      <td>1.36734</td>\n",
              "      <td>8.87493</td>\n",
              "      <td>35.43700</td>\n",
              "      <td>12.01782</td>\n",
              "      <td>303.67474</td>\n",
              "      <td>298.06860</td>\n",
              "      <td>33.6555</td>\n",
              "      <td>5.7509</td>\n",
              "    </tr>\n",
              "    <tr>\n",
              "      <th>4</th>\n",
              "      <td>395.34866</td>\n",
              "      <td>12</td>\n",
              "      <td>10</td>\n",
              "      <td>52.79694</td>\n",
              "      <td>-1.7811</td>\n",
              "      <td>-1.88294</td>\n",
              "      <td>781.83160</td>\n",
              "      <td>28.03595</td>\n",
              "      <td>11384.0</td>\n",
              "      <td>-3.5613</td>\n",
              "      <td>...</td>\n",
              "      <td>827.86560</td>\n",
              "      <td>0.0</td>\n",
              "      <td>1.36810</td>\n",
              "      <td>8.83838</td>\n",
              "      <td>35.45227</td>\n",
              "      <td>12.01782</td>\n",
              "      <td>303.22266</td>\n",
              "      <td>296.53137</td>\n",
              "      <td>33.6555</td>\n",
              "      <td>5.8547</td>\n",
              "    </tr>\n",
              "    <tr>\n",
              "      <th>...</th>\n",
              "      <td>...</td>\n",
              "      <td>...</td>\n",
              "      <td>...</td>\n",
              "      <td>...</td>\n",
              "      <td>...</td>\n",
              "      <td>...</td>\n",
              "      <td>...</td>\n",
              "      <td>...</td>\n",
              "      <td>...</td>\n",
              "      <td>...</td>\n",
              "      <td>...</td>\n",
              "      <td>...</td>\n",
              "      <td>...</td>\n",
              "      <td>...</td>\n",
              "      <td>...</td>\n",
              "      <td>...</td>\n",
              "      <td>...</td>\n",
              "      <td>...</td>\n",
              "      <td>...</td>\n",
              "      <td>...</td>\n",
              "      <td>...</td>\n",
              "    </tr>\n",
              "    <tr>\n",
              "      <th>478796</th>\n",
              "      <td>387.27219</td>\n",
              "      <td>12</td>\n",
              "      <td>10</td>\n",
              "      <td>66.72057</td>\n",
              "      <td>-0.9331</td>\n",
              "      <td>-1.84479</td>\n",
              "      <td>781.87915</td>\n",
              "      <td>28.02389</td>\n",
              "      <td>880.0</td>\n",
              "      <td>-2.6936</td>\n",
              "      <td>...</td>\n",
              "      <td>944.84705</td>\n",
              "      <td>0.0</td>\n",
              "      <td>1.32843</td>\n",
              "      <td>15.17817</td>\n",
              "      <td>35.14710</td>\n",
              "      <td>11.79657</td>\n",
              "      <td>316.89453</td>\n",
              "      <td>296.54950</td>\n",
              "      <td>32.0000</td>\n",
              "      <td>6.6026</td>\n",
              "    </tr>\n",
              "    <tr>\n",
              "      <th>478797</th>\n",
              "      <td>387.52774</td>\n",
              "      <td>12</td>\n",
              "      <td>10</td>\n",
              "      <td>66.72057</td>\n",
              "      <td>-0.9996</td>\n",
              "      <td>-1.84479</td>\n",
              "      <td>787.65070</td>\n",
              "      <td>28.02385</td>\n",
              "      <td>840.0</td>\n",
              "      <td>-2.5863</td>\n",
              "      <td>...</td>\n",
              "      <td>940.49835</td>\n",
              "      <td>0.0</td>\n",
              "      <td>1.32843</td>\n",
              "      <td>15.17344</td>\n",
              "      <td>35.13183</td>\n",
              "      <td>11.79657</td>\n",
              "      <td>315.59247</td>\n",
              "      <td>296.15161</td>\n",
              "      <td>32.0000</td>\n",
              "      <td>6.3894</td>\n",
              "    </tr>\n",
              "    <tr>\n",
              "      <th>478798</th>\n",
              "      <td>387.47665</td>\n",
              "      <td>12</td>\n",
              "      <td>10</td>\n",
              "      <td>66.72057</td>\n",
              "      <td>-1.2560</td>\n",
              "      <td>-1.84479</td>\n",
              "      <td>788.50256</td>\n",
              "      <td>28.03085</td>\n",
              "      <td>792.0</td>\n",
              "      <td>-2.8287</td>\n",
              "      <td>...</td>\n",
              "      <td>935.71472</td>\n",
              "      <td>0.0</td>\n",
              "      <td>1.32919</td>\n",
              "      <td>15.16443</td>\n",
              "      <td>35.13183</td>\n",
              "      <td>11.79657</td>\n",
              "      <td>313.92865</td>\n",
              "      <td>293.40277</td>\n",
              "      <td>32.0000</td>\n",
              "      <td>6.2584</td>\n",
              "    </tr>\n",
              "    <tr>\n",
              "      <th>478799</th>\n",
              "      <td>387.73221</td>\n",
              "      <td>12</td>\n",
              "      <td>10</td>\n",
              "      <td>66.72057</td>\n",
              "      <td>-1.4912</td>\n",
              "      <td>-1.84479</td>\n",
              "      <td>785.80316</td>\n",
              "      <td>28.02649</td>\n",
              "      <td>752.0</td>\n",
              "      <td>-3.3212</td>\n",
              "      <td>...</td>\n",
              "      <td>944.84705</td>\n",
              "      <td>0.0</td>\n",
              "      <td>1.32843</td>\n",
              "      <td>15.09001</td>\n",
              "      <td>35.14710</td>\n",
              "      <td>11.79657</td>\n",
              "      <td>315.61054</td>\n",
              "      <td>302.58972</td>\n",
              "      <td>32.0000</td>\n",
              "      <td>6.4150</td>\n",
              "    </tr>\n",
              "    <tr>\n",
              "      <th>478800</th>\n",
              "      <td>387.52774</td>\n",
              "      <td>12</td>\n",
              "      <td>10</td>\n",
              "      <td>66.72057</td>\n",
              "      <td>-1.5727</td>\n",
              "      <td>-1.84479</td>\n",
              "      <td>780.21381</td>\n",
              "      <td>28.02476</td>\n",
              "      <td>720.0</td>\n",
              "      <td>-3.6418</td>\n",
              "      <td>...</td>\n",
              "      <td>951.80505</td>\n",
              "      <td>0.0</td>\n",
              "      <td>1.32919</td>\n",
              "      <td>15.08672</td>\n",
              "      <td>35.14710</td>\n",
              "      <td>11.79657</td>\n",
              "      <td>317.23816</td>\n",
              "      <td>309.00964</td>\n",
              "      <td>32.0000</td>\n",
              "      <td>6.6288</td>\n",
              "    </tr>\n",
              "  </tbody>\n",
              "</table>\n",
              "<p>921603 rows × 79 columns</p>\n",
              "</div>\n",
              "      <button class=\"colab-df-convert\" onclick=\"convertToInteractive('df-1edc7874-cb52-46c4-a3a1-a98cc7683617')\"\n",
              "              title=\"Convert this dataframe to an interactive table.\"\n",
              "              style=\"display:none;\">\n",
              "        \n",
              "  <svg xmlns=\"http://www.w3.org/2000/svg\" height=\"24px\"viewBox=\"0 0 24 24\"\n",
              "       width=\"24px\">\n",
              "    <path d=\"M0 0h24v24H0V0z\" fill=\"none\"/>\n",
              "    <path d=\"M18.56 5.44l.94 2.06.94-2.06 2.06-.94-2.06-.94-.94-2.06-.94 2.06-2.06.94zm-11 1L8.5 8.5l.94-2.06 2.06-.94-2.06-.94L8.5 2.5l-.94 2.06-2.06.94zm10 10l.94 2.06.94-2.06 2.06-.94-2.06-.94-.94-2.06-.94 2.06-2.06.94z\"/><path d=\"M17.41 7.96l-1.37-1.37c-.4-.4-.92-.59-1.43-.59-.52 0-1.04.2-1.43.59L10.3 9.45l-7.72 7.72c-.78.78-.78 2.05 0 2.83L4 21.41c.39.39.9.59 1.41.59.51 0 1.02-.2 1.41-.59l7.78-7.78 2.81-2.81c.8-.78.8-2.07 0-2.86zM5.41 20L4 18.59l7.72-7.72 1.47 1.35L5.41 20z\"/>\n",
              "  </svg>\n",
              "      </button>\n",
              "      \n",
              "  <style>\n",
              "    .colab-df-container {\n",
              "      display:flex;\n",
              "      flex-wrap:wrap;\n",
              "      gap: 12px;\n",
              "    }\n",
              "\n",
              "    .colab-df-convert {\n",
              "      background-color: #E8F0FE;\n",
              "      border: none;\n",
              "      border-radius: 50%;\n",
              "      cursor: pointer;\n",
              "      display: none;\n",
              "      fill: #1967D2;\n",
              "      height: 32px;\n",
              "      padding: 0 0 0 0;\n",
              "      width: 32px;\n",
              "    }\n",
              "\n",
              "    .colab-df-convert:hover {\n",
              "      background-color: #E2EBFA;\n",
              "      box-shadow: 0px 1px 2px rgba(60, 64, 67, 0.3), 0px 1px 3px 1px rgba(60, 64, 67, 0.15);\n",
              "      fill: #174EA6;\n",
              "    }\n",
              "\n",
              "    [theme=dark] .colab-df-convert {\n",
              "      background-color: #3B4455;\n",
              "      fill: #D2E3FC;\n",
              "    }\n",
              "\n",
              "    [theme=dark] .colab-df-convert:hover {\n",
              "      background-color: #434B5C;\n",
              "      box-shadow: 0px 1px 3px 1px rgba(0, 0, 0, 0.15);\n",
              "      filter: drop-shadow(0px 1px 2px rgba(0, 0, 0, 0.3));\n",
              "      fill: #FFFFFF;\n",
              "    }\n",
              "  </style>\n",
              "\n",
              "      <script>\n",
              "        const buttonEl =\n",
              "          document.querySelector('#df-1edc7874-cb52-46c4-a3a1-a98cc7683617 button.colab-df-convert');\n",
              "        buttonEl.style.display =\n",
              "          google.colab.kernel.accessAllowed ? 'block' : 'none';\n",
              "\n",
              "        async function convertToInteractive(key) {\n",
              "          const element = document.querySelector('#df-1edc7874-cb52-46c4-a3a1-a98cc7683617');\n",
              "          const dataTable =\n",
              "            await google.colab.kernel.invokeFunction('convertToInteractive',\n",
              "                                                     [key], {});\n",
              "          if (!dataTable) return;\n",
              "\n",
              "          const docLinkHtml = 'Like what you see? Visit the ' +\n",
              "            '<a target=\"_blank\" href=https://colab.research.google.com/notebooks/data_table.ipynb>data table notebook</a>'\n",
              "            + ' to learn more about interactive tables.';\n",
              "          element.innerHTML = '';\n",
              "          dataTable['output_type'] = 'display_data';\n",
              "          await google.colab.output.renderOutput(dataTable, element);\n",
              "          const docLink = document.createElement('div');\n",
              "          docLink.innerHTML = docLinkHtml;\n",
              "          element.appendChild(docLink);\n",
              "        }\n",
              "      </script>\n",
              "    </div>\n",
              "  </div>\n",
              "  "
            ]
          },
          "metadata": {},
          "execution_count": 17
        }
      ]
    },
    {
      "cell_type": "markdown",
      "metadata": {
        "id": "HaTGyXPprWHh"
      },
      "source": [
        "Data normalization using the Min-Max Scaler"
      ]
    },
    {
      "cell_type": "code",
      "metadata": {
        "id": "nIhFaP9_4fxf"
      },
      "source": [
        "from sklearn.preprocessing import MinMaxScaler\n",
        "from sklearn.preprocessing import Normalizer"
      ],
      "execution_count": 18,
      "outputs": []
    },
    {
      "cell_type": "code",
      "metadata": {
        "id": "50SqyF_W4k-b"
      },
      "source": [
        "# Generation the Min-Max Scaler\n",
        "sc = MinMaxScaler()\n",
        "sc2 = Normalizer()"
      ],
      "execution_count": 19,
      "outputs": []
    },
    {
      "cell_type": "code",
      "metadata": {
        "id": "oKIq28cTk2j_"
      },
      "source": [
        "TAG_MIN = TRAIN_DF_RAW[VALID_COLUMNS_IN_TRAIN_DATASET].min()\n",
        "TAG_MAX = TRAIN_DF_RAW[VALID_COLUMNS_IN_TRAIN_DATASET].max()"
      ],
      "execution_count": 20,
      "outputs": []
    },
    {
      "cell_type": "code",
      "source": [
        "VALID_COLUMNS_IN_TRAIN_DATASET"
      ],
      "metadata": {
        "colab": {
          "base_uri": "https://localhost:8080/"
        },
        "id": "nLXN7O9CLxFh",
        "outputId": "10bbeabf-e4b4-40a5-825f-2047c52652ff"
      },
      "execution_count": 21,
      "outputs": [
        {
          "output_type": "execute_result",
          "data": {
            "text/plain": [
              "Index(['C01', 'C02', 'C03', 'C04', 'C05', 'C06', 'C07', 'C08', 'C09', 'C10',\n",
              "       'C11', 'C12', 'C13', 'C14', 'C15', 'C16', 'C17', 'C18', 'C19', 'C20',\n",
              "       'C21', 'C22', 'C23', 'C24', 'C25', 'C26', 'C27', 'C28', 'C29', 'C30',\n",
              "       'C31', 'C32', 'C33', 'C34', 'C35', 'C36', 'C37', 'C38', 'C39', 'C40',\n",
              "       'C41', 'C42', 'C43', 'C44', 'C45', 'C46', 'C47', 'C48', 'C49', 'C50',\n",
              "       'C51', 'C52', 'C53', 'C54', 'C55', 'C56', 'C57', 'C58', 'C59', 'C60',\n",
              "       'C61', 'C62', 'C63', 'C64', 'C65', 'C66', 'C67', 'C68', 'C69', 'C70',\n",
              "       'C71', 'C72', 'C73', 'C74', 'C75', 'C76', 'C77', 'C78', 'C79'],\n",
              "      dtype='object')"
            ]
          },
          "metadata": {},
          "execution_count": 21
        }
      ]
    },
    {
      "cell_type": "code",
      "metadata": {
        "id": "AU258JsGkuPC"
      },
      "source": [
        "def normalize(df):\n",
        "    ndf = df.copy()\n",
        "    for c in df.columns:\n",
        "        if TAG_MIN[c] == TAG_MAX[c]:\n",
        "            ndf[c] = df[c] - TAG_MIN[c]\n",
        "        else:\n",
        "            ndf[c] = (df[c] - TAG_MIN[c]) / (TAG_MAX[c] - TAG_MIN[c])\n",
        "    return ndf"
      ],
      "execution_count": 22,
      "outputs": []
    },
    {
      "cell_type": "code",
      "metadata": {
        "id": "hHeqmmsB40K4"
      },
      "source": [
        "sc_results = sc.fit_transform(TRAIN_DF_RAW[VALID_COLUMNS_IN_TRAIN_DATASET])    # Data Scaling by Min-Max Scaler\n",
        "sc_results = sc2.fit_transform(TRAIN_DF_RAW[VALID_COLUMNS_IN_TRAIN_DATASET])    # Data Scaling by Normalizer"
      ],
      "execution_count": 23,
      "outputs": []
    },
    {
      "cell_type": "code",
      "metadata": {
        "id": "dQtiMVSFz0cV",
        "outputId": "ae818609-3cab-47b0-8574-d7993ce98487",
        "colab": {
          "base_uri": "https://localhost:8080/",
          "height": 424
        }
      },
      "source": [
        "# TRAIN_DF = pd.DataFrame(sc_results).ewm(alpha=0.9).mean()\n",
        "TRAIN_DF = normalize(TRAIN_DF_RAW[VALID_COLUMNS_IN_TRAIN_DATASET]).ewm(alpha=0.9).mean()\n",
        "TRAIN_DF"
      ],
      "execution_count": 24,
      "outputs": [
        {
          "output_type": "execute_result",
          "data": {
            "text/plain": [
              "             C01  C02  C03       C04       C05       C06       C07       C08  \\\n",
              "0       0.378953  0.0  0.0  0.227071  0.372380  0.000230  0.386721  0.410567   \n",
              "1       0.378504  0.0  0.0  0.226596  0.353516  0.000161  0.399074  0.364415   \n",
              "2       0.378463  0.0  0.0  0.226789  0.318663  0.000154  0.393283  0.451729   \n",
              "3       0.378904  0.0  0.0  0.226808  0.238782  0.000154  0.393697  0.323289   \n",
              "4       0.380282  0.0  0.0  0.226810  0.165794  0.000154  0.412796  0.654203   \n",
              "...          ...  ...  ...       ...       ...       ...       ...       ...   \n",
              "478796  0.302372  0.0  0.0  0.703684  0.509016  0.000538  0.420902  0.355242   \n",
              "478797  0.304595  0.0  0.0  0.703684  0.485295  0.000538  0.481569  0.335967   \n",
              "478798  0.304373  0.0  0.0  0.703684  0.386965  0.000538  0.497306  0.519990   \n",
              "478799  0.306574  0.0  0.0  0.703684  0.289108  0.000538  0.468238  0.422572   \n",
              "478800  0.305015  0.0  0.0  0.703684  0.248821  0.000538  0.401886  0.366873   \n",
              "\n",
              "             C09       C10  ...       C70  C71       C72       C73       C74  \\\n",
              "0       0.784144  0.508049  ...  0.584892  0.0  0.326835  0.254687  0.331076   \n",
              "1       0.794139  0.540538  ...  0.592044  0.0  0.326835  0.254315  0.337223   \n",
              "2       0.803903  0.538802  ...  0.595523  0.0  0.326387  0.255304  0.337777   \n",
              "3       0.813725  0.459532  ...  0.596151  0.0  0.326343  0.257362  0.331746   \n",
              "4       0.823039  0.333541  ...  0.598763  0.0  0.326786  0.256312  0.337229   \n",
              "...          ...       ...  ...       ...  ...       ...       ...       ...   \n",
              "478796  0.064622  0.639006  ...  0.683154  0.0  0.300845  0.497901  0.202699   \n",
              "478797  0.061671  0.685457  ...  0.680815  0.0  0.300850  0.497868  0.196619   \n",
              "478798  0.058250  0.607073  ...  0.677466  0.0  0.301298  0.497555  0.196011   \n",
              "478799  0.055304  0.430538  ...  0.683078  0.0  0.300895  0.494969  0.202036   \n",
              "478800  0.052926  0.303069  ...  0.688171  0.0  0.301303  0.494597  0.202639   \n",
              "\n",
              "             C75       C76       C77      C78       C79  \n",
              "0       0.916661  0.269393  0.265017  1.00000  0.567254  \n",
              "1       0.916661  0.266791  0.251792  1.00000  0.512135  \n",
              "2       0.916661  0.265266  0.254707  1.00000  0.469622  \n",
              "3       0.916661  0.264379  0.253005  1.00000  0.446285  \n",
              "4       0.916661  0.262757  0.247706  1.00000  0.477489  \n",
              "...          ...       ...       ...      ...       ...  \n",
              "478796  0.111119  0.315343  0.248152  0.26162  0.757619  \n",
              "478797  0.111119  0.309817  0.245953  0.26162  0.681373  \n",
              "478798  0.111119  0.303620  0.236562  0.26162  0.631425  \n",
              "478799  0.111119  0.308706  0.266275  0.26162  0.677024  \n",
              "478800  0.111119  0.314736  0.290666  0.26162  0.750658  \n",
              "\n",
              "[921603 rows x 79 columns]"
            ],
            "text/html": [
              "\n",
              "  <div id=\"df-6e3bfbcb-6fc2-481e-a186-7c61f94bfc7c\">\n",
              "    <div class=\"colab-df-container\">\n",
              "      <div>\n",
              "<style scoped>\n",
              "    .dataframe tbody tr th:only-of-type {\n",
              "        vertical-align: middle;\n",
              "    }\n",
              "\n",
              "    .dataframe tbody tr th {\n",
              "        vertical-align: top;\n",
              "    }\n",
              "\n",
              "    .dataframe thead th {\n",
              "        text-align: right;\n",
              "    }\n",
              "</style>\n",
              "<table border=\"1\" class=\"dataframe\">\n",
              "  <thead>\n",
              "    <tr style=\"text-align: right;\">\n",
              "      <th></th>\n",
              "      <th>C01</th>\n",
              "      <th>C02</th>\n",
              "      <th>C03</th>\n",
              "      <th>C04</th>\n",
              "      <th>C05</th>\n",
              "      <th>C06</th>\n",
              "      <th>C07</th>\n",
              "      <th>C08</th>\n",
              "      <th>C09</th>\n",
              "      <th>C10</th>\n",
              "      <th>...</th>\n",
              "      <th>C70</th>\n",
              "      <th>C71</th>\n",
              "      <th>C72</th>\n",
              "      <th>C73</th>\n",
              "      <th>C74</th>\n",
              "      <th>C75</th>\n",
              "      <th>C76</th>\n",
              "      <th>C77</th>\n",
              "      <th>C78</th>\n",
              "      <th>C79</th>\n",
              "    </tr>\n",
              "  </thead>\n",
              "  <tbody>\n",
              "    <tr>\n",
              "      <th>0</th>\n",
              "      <td>0.378953</td>\n",
              "      <td>0.0</td>\n",
              "      <td>0.0</td>\n",
              "      <td>0.227071</td>\n",
              "      <td>0.372380</td>\n",
              "      <td>0.000230</td>\n",
              "      <td>0.386721</td>\n",
              "      <td>0.410567</td>\n",
              "      <td>0.784144</td>\n",
              "      <td>0.508049</td>\n",
              "      <td>...</td>\n",
              "      <td>0.584892</td>\n",
              "      <td>0.0</td>\n",
              "      <td>0.326835</td>\n",
              "      <td>0.254687</td>\n",
              "      <td>0.331076</td>\n",
              "      <td>0.916661</td>\n",
              "      <td>0.269393</td>\n",
              "      <td>0.265017</td>\n",
              "      <td>1.00000</td>\n",
              "      <td>0.567254</td>\n",
              "    </tr>\n",
              "    <tr>\n",
              "      <th>1</th>\n",
              "      <td>0.378504</td>\n",
              "      <td>0.0</td>\n",
              "      <td>0.0</td>\n",
              "      <td>0.226596</td>\n",
              "      <td>0.353516</td>\n",
              "      <td>0.000161</td>\n",
              "      <td>0.399074</td>\n",
              "      <td>0.364415</td>\n",
              "      <td>0.794139</td>\n",
              "      <td>0.540538</td>\n",
              "      <td>...</td>\n",
              "      <td>0.592044</td>\n",
              "      <td>0.0</td>\n",
              "      <td>0.326835</td>\n",
              "      <td>0.254315</td>\n",
              "      <td>0.337223</td>\n",
              "      <td>0.916661</td>\n",
              "      <td>0.266791</td>\n",
              "      <td>0.251792</td>\n",
              "      <td>1.00000</td>\n",
              "      <td>0.512135</td>\n",
              "    </tr>\n",
              "    <tr>\n",
              "      <th>2</th>\n",
              "      <td>0.378463</td>\n",
              "      <td>0.0</td>\n",
              "      <td>0.0</td>\n",
              "      <td>0.226789</td>\n",
              "      <td>0.318663</td>\n",
              "      <td>0.000154</td>\n",
              "      <td>0.393283</td>\n",
              "      <td>0.451729</td>\n",
              "      <td>0.803903</td>\n",
              "      <td>0.538802</td>\n",
              "      <td>...</td>\n",
              "      <td>0.595523</td>\n",
              "      <td>0.0</td>\n",
              "      <td>0.326387</td>\n",
              "      <td>0.255304</td>\n",
              "      <td>0.337777</td>\n",
              "      <td>0.916661</td>\n",
              "      <td>0.265266</td>\n",
              "      <td>0.254707</td>\n",
              "      <td>1.00000</td>\n",
              "      <td>0.469622</td>\n",
              "    </tr>\n",
              "    <tr>\n",
              "      <th>3</th>\n",
              "      <td>0.378904</td>\n",
              "      <td>0.0</td>\n",
              "      <td>0.0</td>\n",
              "      <td>0.226808</td>\n",
              "      <td>0.238782</td>\n",
              "      <td>0.000154</td>\n",
              "      <td>0.393697</td>\n",
              "      <td>0.323289</td>\n",
              "      <td>0.813725</td>\n",
              "      <td>0.459532</td>\n",
              "      <td>...</td>\n",
              "      <td>0.596151</td>\n",
              "      <td>0.0</td>\n",
              "      <td>0.326343</td>\n",
              "      <td>0.257362</td>\n",
              "      <td>0.331746</td>\n",
              "      <td>0.916661</td>\n",
              "      <td>0.264379</td>\n",
              "      <td>0.253005</td>\n",
              "      <td>1.00000</td>\n",
              "      <td>0.446285</td>\n",
              "    </tr>\n",
              "    <tr>\n",
              "      <th>4</th>\n",
              "      <td>0.380282</td>\n",
              "      <td>0.0</td>\n",
              "      <td>0.0</td>\n",
              "      <td>0.226810</td>\n",
              "      <td>0.165794</td>\n",
              "      <td>0.000154</td>\n",
              "      <td>0.412796</td>\n",
              "      <td>0.654203</td>\n",
              "      <td>0.823039</td>\n",
              "      <td>0.333541</td>\n",
              "      <td>...</td>\n",
              "      <td>0.598763</td>\n",
              "      <td>0.0</td>\n",
              "      <td>0.326786</td>\n",
              "      <td>0.256312</td>\n",
              "      <td>0.337229</td>\n",
              "      <td>0.916661</td>\n",
              "      <td>0.262757</td>\n",
              "      <td>0.247706</td>\n",
              "      <td>1.00000</td>\n",
              "      <td>0.477489</td>\n",
              "    </tr>\n",
              "    <tr>\n",
              "      <th>...</th>\n",
              "      <td>...</td>\n",
              "      <td>...</td>\n",
              "      <td>...</td>\n",
              "      <td>...</td>\n",
              "      <td>...</td>\n",
              "      <td>...</td>\n",
              "      <td>...</td>\n",
              "      <td>...</td>\n",
              "      <td>...</td>\n",
              "      <td>...</td>\n",
              "      <td>...</td>\n",
              "      <td>...</td>\n",
              "      <td>...</td>\n",
              "      <td>...</td>\n",
              "      <td>...</td>\n",
              "      <td>...</td>\n",
              "      <td>...</td>\n",
              "      <td>...</td>\n",
              "      <td>...</td>\n",
              "      <td>...</td>\n",
              "      <td>...</td>\n",
              "    </tr>\n",
              "    <tr>\n",
              "      <th>478796</th>\n",
              "      <td>0.302372</td>\n",
              "      <td>0.0</td>\n",
              "      <td>0.0</td>\n",
              "      <td>0.703684</td>\n",
              "      <td>0.509016</td>\n",
              "      <td>0.000538</td>\n",
              "      <td>0.420902</td>\n",
              "      <td>0.355242</td>\n",
              "      <td>0.064622</td>\n",
              "      <td>0.639006</td>\n",
              "      <td>...</td>\n",
              "      <td>0.683154</td>\n",
              "      <td>0.0</td>\n",
              "      <td>0.300845</td>\n",
              "      <td>0.497901</td>\n",
              "      <td>0.202699</td>\n",
              "      <td>0.111119</td>\n",
              "      <td>0.315343</td>\n",
              "      <td>0.248152</td>\n",
              "      <td>0.26162</td>\n",
              "      <td>0.757619</td>\n",
              "    </tr>\n",
              "    <tr>\n",
              "      <th>478797</th>\n",
              "      <td>0.304595</td>\n",
              "      <td>0.0</td>\n",
              "      <td>0.0</td>\n",
              "      <td>0.703684</td>\n",
              "      <td>0.485295</td>\n",
              "      <td>0.000538</td>\n",
              "      <td>0.481569</td>\n",
              "      <td>0.335967</td>\n",
              "      <td>0.061671</td>\n",
              "      <td>0.685457</td>\n",
              "      <td>...</td>\n",
              "      <td>0.680815</td>\n",
              "      <td>0.0</td>\n",
              "      <td>0.300850</td>\n",
              "      <td>0.497868</td>\n",
              "      <td>0.196619</td>\n",
              "      <td>0.111119</td>\n",
              "      <td>0.309817</td>\n",
              "      <td>0.245953</td>\n",
              "      <td>0.26162</td>\n",
              "      <td>0.681373</td>\n",
              "    </tr>\n",
              "    <tr>\n",
              "      <th>478798</th>\n",
              "      <td>0.304373</td>\n",
              "      <td>0.0</td>\n",
              "      <td>0.0</td>\n",
              "      <td>0.703684</td>\n",
              "      <td>0.386965</td>\n",
              "      <td>0.000538</td>\n",
              "      <td>0.497306</td>\n",
              "      <td>0.519990</td>\n",
              "      <td>0.058250</td>\n",
              "      <td>0.607073</td>\n",
              "      <td>...</td>\n",
              "      <td>0.677466</td>\n",
              "      <td>0.0</td>\n",
              "      <td>0.301298</td>\n",
              "      <td>0.497555</td>\n",
              "      <td>0.196011</td>\n",
              "      <td>0.111119</td>\n",
              "      <td>0.303620</td>\n",
              "      <td>0.236562</td>\n",
              "      <td>0.26162</td>\n",
              "      <td>0.631425</td>\n",
              "    </tr>\n",
              "    <tr>\n",
              "      <th>478799</th>\n",
              "      <td>0.306574</td>\n",
              "      <td>0.0</td>\n",
              "      <td>0.0</td>\n",
              "      <td>0.703684</td>\n",
              "      <td>0.289108</td>\n",
              "      <td>0.000538</td>\n",
              "      <td>0.468238</td>\n",
              "      <td>0.422572</td>\n",
              "      <td>0.055304</td>\n",
              "      <td>0.430538</td>\n",
              "      <td>...</td>\n",
              "      <td>0.683078</td>\n",
              "      <td>0.0</td>\n",
              "      <td>0.300895</td>\n",
              "      <td>0.494969</td>\n",
              "      <td>0.202036</td>\n",
              "      <td>0.111119</td>\n",
              "      <td>0.308706</td>\n",
              "      <td>0.266275</td>\n",
              "      <td>0.26162</td>\n",
              "      <td>0.677024</td>\n",
              "    </tr>\n",
              "    <tr>\n",
              "      <th>478800</th>\n",
              "      <td>0.305015</td>\n",
              "      <td>0.0</td>\n",
              "      <td>0.0</td>\n",
              "      <td>0.703684</td>\n",
              "      <td>0.248821</td>\n",
              "      <td>0.000538</td>\n",
              "      <td>0.401886</td>\n",
              "      <td>0.366873</td>\n",
              "      <td>0.052926</td>\n",
              "      <td>0.303069</td>\n",
              "      <td>...</td>\n",
              "      <td>0.688171</td>\n",
              "      <td>0.0</td>\n",
              "      <td>0.301303</td>\n",
              "      <td>0.494597</td>\n",
              "      <td>0.202639</td>\n",
              "      <td>0.111119</td>\n",
              "      <td>0.314736</td>\n",
              "      <td>0.290666</td>\n",
              "      <td>0.26162</td>\n",
              "      <td>0.750658</td>\n",
              "    </tr>\n",
              "  </tbody>\n",
              "</table>\n",
              "<p>921603 rows × 79 columns</p>\n",
              "</div>\n",
              "      <button class=\"colab-df-convert\" onclick=\"convertToInteractive('df-6e3bfbcb-6fc2-481e-a186-7c61f94bfc7c')\"\n",
              "              title=\"Convert this dataframe to an interactive table.\"\n",
              "              style=\"display:none;\">\n",
              "        \n",
              "  <svg xmlns=\"http://www.w3.org/2000/svg\" height=\"24px\"viewBox=\"0 0 24 24\"\n",
              "       width=\"24px\">\n",
              "    <path d=\"M0 0h24v24H0V0z\" fill=\"none\"/>\n",
              "    <path d=\"M18.56 5.44l.94 2.06.94-2.06 2.06-.94-2.06-.94-.94-2.06-.94 2.06-2.06.94zm-11 1L8.5 8.5l.94-2.06 2.06-.94-2.06-.94L8.5 2.5l-.94 2.06-2.06.94zm10 10l.94 2.06.94-2.06 2.06-.94-2.06-.94-.94-2.06-.94 2.06-2.06.94z\"/><path d=\"M17.41 7.96l-1.37-1.37c-.4-.4-.92-.59-1.43-.59-.52 0-1.04.2-1.43.59L10.3 9.45l-7.72 7.72c-.78.78-.78 2.05 0 2.83L4 21.41c.39.39.9.59 1.41.59.51 0 1.02-.2 1.41-.59l7.78-7.78 2.81-2.81c.8-.78.8-2.07 0-2.86zM5.41 20L4 18.59l7.72-7.72 1.47 1.35L5.41 20z\"/>\n",
              "  </svg>\n",
              "      </button>\n",
              "      \n",
              "  <style>\n",
              "    .colab-df-container {\n",
              "      display:flex;\n",
              "      flex-wrap:wrap;\n",
              "      gap: 12px;\n",
              "    }\n",
              "\n",
              "    .colab-df-convert {\n",
              "      background-color: #E8F0FE;\n",
              "      border: none;\n",
              "      border-radius: 50%;\n",
              "      cursor: pointer;\n",
              "      display: none;\n",
              "      fill: #1967D2;\n",
              "      height: 32px;\n",
              "      padding: 0 0 0 0;\n",
              "      width: 32px;\n",
              "    }\n",
              "\n",
              "    .colab-df-convert:hover {\n",
              "      background-color: #E2EBFA;\n",
              "      box-shadow: 0px 1px 2px rgba(60, 64, 67, 0.3), 0px 1px 3px 1px rgba(60, 64, 67, 0.15);\n",
              "      fill: #174EA6;\n",
              "    }\n",
              "\n",
              "    [theme=dark] .colab-df-convert {\n",
              "      background-color: #3B4455;\n",
              "      fill: #D2E3FC;\n",
              "    }\n",
              "\n",
              "    [theme=dark] .colab-df-convert:hover {\n",
              "      background-color: #434B5C;\n",
              "      box-shadow: 0px 1px 3px 1px rgba(0, 0, 0, 0.15);\n",
              "      filter: drop-shadow(0px 1px 2px rgba(0, 0, 0, 0.3));\n",
              "      fill: #FFFFFF;\n",
              "    }\n",
              "  </style>\n",
              "\n",
              "      <script>\n",
              "        const buttonEl =\n",
              "          document.querySelector('#df-6e3bfbcb-6fc2-481e-a186-7c61f94bfc7c button.colab-df-convert');\n",
              "        buttonEl.style.display =\n",
              "          google.colab.kernel.accessAllowed ? 'block' : 'none';\n",
              "\n",
              "        async function convertToInteractive(key) {\n",
              "          const element = document.querySelector('#df-6e3bfbcb-6fc2-481e-a186-7c61f94bfc7c');\n",
              "          const dataTable =\n",
              "            await google.colab.kernel.invokeFunction('convertToInteractive',\n",
              "                                                     [key], {});\n",
              "          if (!dataTable) return;\n",
              "\n",
              "          const docLinkHtml = 'Like what you see? Visit the ' +\n",
              "            '<a target=\"_blank\" href=https://colab.research.google.com/notebooks/data_table.ipynb>data table notebook</a>'\n",
              "            + ' to learn more about interactive tables.';\n",
              "          element.innerHTML = '';\n",
              "          dataTable['output_type'] = 'display_data';\n",
              "          await google.colab.output.renderOutput(dataTable, element);\n",
              "          const docLink = document.createElement('div');\n",
              "          docLink.innerHTML = docLinkHtml;\n",
              "          element.appendChild(docLink);\n",
              "        }\n",
              "      </script>\n",
              "    </div>\n",
              "  </div>\n",
              "  "
            ]
          },
          "metadata": {},
          "execution_count": 24
        }
      ]
    },
    {
      "cell_type": "code",
      "metadata": {
        "id": "0gr7ikTyz1zY"
      },
      "source": [
        "def boundary_check(df):\n",
        "    x = np.array(df, dtype=np.float32)\n",
        "    return np.any(x > 1), np.any(x < -1), np.any(np.isnan(x))"
      ],
      "execution_count": 25,
      "outputs": []
    },
    {
      "cell_type": "code",
      "metadata": {
        "id": "NyZ5InfLz0ev",
        "outputId": "07bb933b-bc10-41c6-a521-b6bb61464a65",
        "colab": {
          "base_uri": "https://localhost:8080/"
        }
      },
      "source": [
        "boundary_check(TRAIN_DF)"
      ],
      "execution_count": 26,
      "outputs": [
        {
          "output_type": "execute_result",
          "data": {
            "text/plain": [
              "(False, False, False)"
            ]
          },
          "metadata": {},
          "execution_count": 26
        }
      ]
    },
    {
      "cell_type": "code",
      "metadata": {
        "id": "G3zPo9XJz0g6"
      },
      "source": [
        "WINDOW_GIVEN = 89\n",
        "WINDOW_SIZE = 90\n",
        "\n",
        "\n",
        "class HaiDataset(Dataset):\n",
        "    def __init__(self, timestamps, df, stride=1, attacks=None):\n",
        "        self.ts = np.array(timestamps)\n",
        "        self.tag_values = np.array(df, dtype=np.float32)\n",
        "        self.valid_idxs = []\n",
        "        for L in trange(len(self.ts) - WINDOW_SIZE + 1):\n",
        "            R = L + WINDOW_SIZE - 1\n",
        "            if dateutil.parser.parse(self.ts[R]) - dateutil.parser.parse(\n",
        "                self.ts[L]\n",
        "            ) == timedelta(seconds=WINDOW_SIZE - 1):\n",
        "                self.valid_idxs.append(L)\n",
        "        self.valid_idxs = np.array(self.valid_idxs, dtype=np.int32)[::stride]\n",
        "        self.n_idxs = len(self.valid_idxs)\n",
        "        print(f\"# of valid windows: {self.n_idxs}\")\n",
        "        if attacks is not None:\n",
        "            self.attacks = np.array(attacks, dtype=np.float32)\n",
        "            self.with_attack = True\n",
        "        else:\n",
        "            self.with_attack = False\n",
        "\n",
        "    def __len__(self):\n",
        "        return self.n_idxs\n",
        "\n",
        "    def __getitem__(self, idx):\n",
        "        i = self.valid_idxs[idx]\n",
        "        last = i + WINDOW_SIZE - 1\n",
        "        item = {\"attack\": self.attacks[last]} if self.with_attack else {}\n",
        "        item[\"ts\"] = self.ts[i + WINDOW_SIZE - 1]\n",
        "        item[\"given\"] = torch.from_numpy(self.tag_values[i : i + WINDOW_GIVEN])\n",
        "        item[\"answer\"] = torch.from_numpy(self.tag_values[last])\n",
        "        return item"
      ],
      "execution_count": 27,
      "outputs": []
    },
    {
      "cell_type": "code",
      "metadata": {
        "id": "fM00jtv-z0jL",
        "outputId": "3cae95c0-f25b-43f0-f1aa-7194e8bde938",
        "colab": {
          "base_uri": "https://localhost:8080/",
          "height": 471,
          "referenced_widgets": [
            "ef870fc571264fb5904cbe438398af2f",
            "60f1719373ca4b1db1e0c3454ba456fd",
            "98e965bbac2d4f81834019062b8621b4",
            "f2671e303124491ba16dea5df4bc59c2",
            "ac163f777b6b4f7e9bc4db5ec43aed21",
            "f48b379dd13f4309bfaae944f064a640",
            "6d3f0e63f0664fe391ab0344a294e09b",
            "3b800c87c85f4a87bbe904946d675324",
            "8bc0667e915544c9a3a1a1a0b126200c",
            "2643e8153789422eab79551e0c0afb52",
            "0cd31dfb1072441e8464e8a0b11f59f9"
          ]
        }
      },
      "source": [
        "HAI_DATASET_TRAIN = HaiDataset(TRAIN_DF_RAW[TIMESTAMP_FIELD], TRAIN_DF, stride=10)\n",
        "HAI_DATASET_TRAIN[0]"
      ],
      "execution_count": 28,
      "outputs": [
        {
          "output_type": "display_data",
          "data": {
            "text/plain": [
              "  0%|          | 0/921514 [00:00<?, ?it/s]"
            ],
            "application/vnd.jupyter.widget-view+json": {
              "version_major": 2,
              "version_minor": 0,
              "model_id": "ef870fc571264fb5904cbe438398af2f"
            }
          },
          "metadata": {}
        },
        {
          "output_type": "stream",
          "name": "stdout",
          "text": [
            "# of valid windows: 92134\n"
          ]
        },
        {
          "output_type": "execute_result",
          "data": {
            "text/plain": [
              "{'ts': '2020-07-11 00:01:29',\n",
              " 'given': tensor([[0.3790, 0.0000, 0.0000,  ..., 0.2650, 1.0000, 0.5673],\n",
              "         [0.3785, 0.0000, 0.0000,  ..., 0.2518, 1.0000, 0.5121],\n",
              "         [0.3785, 0.0000, 0.0000,  ..., 0.2547, 1.0000, 0.4696],\n",
              "         ...,\n",
              "         [0.3730, 0.0000, 0.0000,  ..., 0.4418, 1.0000, 0.5003],\n",
              "         [0.3739, 0.0000, 0.0000,  ..., 0.4408, 1.0000, 0.5446],\n",
              "         [0.3740, 0.0000, 0.0000,  ..., 0.4533, 1.0000, 0.5467]]),\n",
              " 'answer': tensor([3.7401e-01, 0.0000e+00, 0.0000e+00, 2.2681e-01, 4.4518e-01, 1.5360e-04,\n",
              "         3.0547e-01, 6.0378e-01, 4.1797e-01, 5.0237e-01, 5.1502e-01, 4.5891e-01,\n",
              "         1.4508e-01, 0.0000e+00, 4.7930e-01, 3.5710e-01, 1.1150e-03, 0.0000e+00,\n",
              "         0.0000e+00, 3.8993e-01, 0.0000e+00, 0.0000e+00, 2.0921e-04, 9.5674e-01,\n",
              "         0.0000e+00, 4.0782e-01, 3.6943e-01, 0.0000e+00, 4.1359e-01, 1.3964e-01,\n",
              "         9.8371e-01, 2.6923e-01, 0.0000e+00, 0.0000e+00, 0.0000e+00, 1.0000e+00,\n",
              "         0.0000e+00, 4.8270e-01, 7.2178e-01, 0.0000e+00, 1.0000e+00, 1.2351e-01,\n",
              "         0.0000e+00, 6.5662e-01, 3.7997e-01, 3.5329e-01, 5.2601e-01, 0.0000e+00,\n",
              "         3.0436e-01, 2.5663e-03, 0.0000e+00, 0.0000e+00, 5.8362e-01, 1.0000e+00,\n",
              "         2.2832e-01, 9.9250e-01, 4.8689e-02, 0.0000e+00, 0.0000e+00, 9.9250e-01,\n",
              "         0.0000e+00, 4.8951e-01, 0.0000e+00, 0.0000e+00, 0.0000e+00, 1.5526e-01,\n",
              "         0.0000e+00, 9.8961e-01, 8.3470e-01, 5.9678e-01, 0.0000e+00, 2.8131e-01,\n",
              "         3.3996e-01, 3.3716e-01, 9.1666e-01, 3.8761e-01, 4.6057e-01, 1.0000e+00,\n",
              "         5.3466e-01])}"
            ]
          },
          "metadata": {},
          "execution_count": 28
        }
      ]
    },
    {
      "cell_type": "code",
      "metadata": {
        "id": "49kKlc7zz0lT"
      },
      "source": [
        "N_HIDDENS = 100\n",
        "N_LAYERS = 4\n",
        "BATCH_SIZE = 512\n",
        "DropOut_Val = 0.0\n",
        "\n",
        "class StackedGRU(torch.nn.Module):\n",
        "    def __init__(self, n_tags):\n",
        "        super().__init__()\n",
        "        self.rnn = torch.nn.GRU(\n",
        "            input_size=n_tags,\n",
        "            hidden_size=N_HIDDENS,\n",
        "            num_layers=N_LAYERS,\n",
        "            bidirectional=True,\n",
        "            dropout=DropOut_Val\n",
        "        )\n",
        "        self.fc = torch.nn.Linear(N_HIDDENS * 2, n_tags)\n",
        "        self.lstm = torch.nn.LSTM(\n",
        "            input_size=n_tags, \n",
        "            hidden_size=N_HIDDENS, \n",
        "            dropout=DropOut_Val\n",
        "            )\n",
        "        \n",
        "        self.W = torch.nn.Parameter(torch.randn([N_HIDDENS, n_tags]).type(torch.float32))\n",
        "        self.b = torch.nn.Parameter(torch.randn([n_tags]).type(torch.float32))\n",
        "        self.Softmax = torch.nn.Softmax(dim=1)\n",
        "\n",
        "    def forward(self, x):\n",
        "        x = x.transpose(0, 1)  # (batch, seq, params) -> (seq, batch, params)\n",
        "        self.rnn.flatten_parameters()\n",
        "        self.lstm.flatten_parameters()\n",
        "        outs, _ = self.rnn(x)\n",
        "        outputs, _ = self.lstm(x)\n",
        "        out = self.fc(outs[-1]) # 최종 예측 Hidden Layer of RNN\n",
        "        outputs = outputs[-1]  # 최종 예측 Hidden Layer of LSTM\n",
        "        model = torch.mm(outputs, self.W) + self.b  # 최종 예측 최종 출력 층\n",
        "        return x[0] + out"
      ],
      "execution_count": 29,
      "outputs": []
    },
    {
      "cell_type": "code",
      "metadata": {
        "id": "3L0CIyjDz7v6",
        "outputId": "07c47291-b929-427f-ef90-9a46b7c57989",
        "colab": {
          "base_uri": "https://localhost:8080/"
        }
      },
      "source": [
        "MODEL = StackedGRU(n_tags=TRAIN_DF.shape[1])\n",
        "MODEL.cuda()"
      ],
      "execution_count": 30,
      "outputs": [
        {
          "output_type": "execute_result",
          "data": {
            "text/plain": [
              "StackedGRU(\n",
              "  (rnn): GRU(79, 100, num_layers=4, bidirectional=True)\n",
              "  (fc): Linear(in_features=200, out_features=79, bias=True)\n",
              "  (lstm): LSTM(79, 100)\n",
              "  (Softmax): Softmax(dim=1)\n",
              ")"
            ]
          },
          "metadata": {},
          "execution_count": 30
        }
      ]
    },
    {
      "cell_type": "code",
      "metadata": {
        "id": "HxncNzDiz7yU"
      },
      "source": [
        "def train(dataset, model, batch_size, n_epochs):\n",
        "    dataloader = DataLoader(dataset, batch_size=batch_size, shuffle=True)\n",
        "    optimizer = torch.optim.AdamW(model.parameters())\n",
        "    loss_fn = torch.nn.MSELoss()\n",
        "    #loss_fn = torch.nn.CrossEntropyLoss()\n",
        "    epochs = trange(n_epochs, desc=\"training\")\n",
        "    best = {\"loss\": sys.float_info.max}\n",
        "    loss_history = []\n",
        "    for e in epochs:\n",
        "        epoch_loss = 0\n",
        "        for batch in dataloader:\n",
        "            optimizer.zero_grad()\n",
        "            given = batch[\"given\"].cuda()\n",
        "            guess = model(given)\n",
        "            answer = batch[\"answer\"].cuda()\n",
        "            loss = loss_fn(answer, guess)\n",
        "            loss.backward()\n",
        "            epoch_loss += loss.item()\n",
        "            optimizer.step()\n",
        "        loss_history.append(epoch_loss)\n",
        "        epochs.set_postfix_str(f\"loss: {epoch_loss:.6f}\")\n",
        "        if epoch_loss < best[\"loss\"]:\n",
        "            best[\"state\"] = model.state_dict()\n",
        "            best[\"loss\"] = epoch_loss\n",
        "            best[\"epoch\"] = e + 1\n",
        "    return best, loss_history"
      ],
      "execution_count": 31,
      "outputs": []
    },
    {
      "cell_type": "code",
      "metadata": {
        "id": "cO9uXkmJz70s",
        "outputId": "543030b1-09cb-4f0b-e0df-61a6aafcd1f3",
        "colab": {
          "base_uri": "https://localhost:8080/"
        }
      },
      "source": [
        "%%time\n",
        "MODEL.train()"
      ],
      "execution_count": 32,
      "outputs": [
        {
          "output_type": "stream",
          "name": "stdout",
          "text": [
            "CPU times: user 114 µs, sys: 3 µs, total: 117 µs\n",
            "Wall time: 94.4 µs\n"
          ]
        },
        {
          "output_type": "execute_result",
          "data": {
            "text/plain": [
              "StackedGRU(\n",
              "  (rnn): GRU(79, 100, num_layers=4, bidirectional=True)\n",
              "  (fc): Linear(in_features=200, out_features=79, bias=True)\n",
              "  (lstm): LSTM(79, 100)\n",
              "  (Softmax): Softmax(dim=1)\n",
              ")"
            ]
          },
          "metadata": {},
          "execution_count": 32
        }
      ]
    },
    {
      "cell_type": "code",
      "metadata": {
        "id": "fSEG4l6JQLH-",
        "outputId": "ac43769a-8ad4-42c5-d5d7-e87b69b56195",
        "colab": {
          "base_uri": "https://localhost:8080/",
          "height": 49,
          "referenced_widgets": [
            "72e6677d7d1e49e991a47d22b681fba0",
            "7e6f67a540724b50b7dd1333e35d6dd8",
            "dc072af1b3f44ce88618ebf235c4b74e",
            "27ee864a70b8464bac02b8afc1aebc39",
            "db7d2fd24cb34dbab9fc54ea8c34f879",
            "5e76b7405fdd4cca893a28264acbb82b",
            "2af8dc74dd7c4dcaaf3018aef12101b9",
            "e8978c5e397144098cfd60e3d3b8650a",
            "334ca0707bcc4f57becdf2e7f1260de9",
            "8cdc1877f8d04e2eb37328cfb6100fef",
            "66af09b86f51473ebe8d779e105cccf6"
          ]
        }
      },
      "source": [
        "BEST_MODEL, LOSS_HISTORY = train(HAI_DATASET_TRAIN, MODEL, BATCH_SIZE, 32)"
      ],
      "execution_count": 33,
      "outputs": [
        {
          "output_type": "display_data",
          "data": {
            "text/plain": [
              "training:   0%|          | 0/32 [00:00<?, ?it/s]"
            ],
            "application/vnd.jupyter.widget-view+json": {
              "version_major": 2,
              "version_minor": 0,
              "model_id": "72e6677d7d1e49e991a47d22b681fba0"
            }
          },
          "metadata": {}
        }
      ]
    },
    {
      "cell_type": "code",
      "metadata": {
        "id": "5Bei2S7wz72_",
        "colab": {
          "base_uri": "https://localhost:8080/"
        },
        "outputId": "fcc6dcbe-5bfb-457b-9a62-92e28347849a"
      },
      "source": [
        "BEST_MODEL[\"loss\"], BEST_MODEL[\"epoch\"]"
      ],
      "execution_count": 34,
      "outputs": [
        {
          "output_type": "execute_result",
          "data": {
            "text/plain": [
              "(0.08172351334360428, 32)"
            ]
          },
          "metadata": {},
          "execution_count": 34
        }
      ]
    },
    {
      "cell_type": "code",
      "metadata": {
        "id": "9BijEtN0z75U"
      },
      "source": [
        "with open(\"model.pt\", \"wb\") as f:\n",
        "    torch.save(\n",
        "        {\n",
        "            \"state\": BEST_MODEL[\"state\"],\n",
        "            \"best_epoch\": BEST_MODEL[\"epoch\"],\n",
        "            \"loss_history\": LOSS_HISTORY,\n",
        "        },\n",
        "        f,\n",
        "    )"
      ],
      "execution_count": 35,
      "outputs": []
    },
    {
      "cell_type": "code",
      "metadata": {
        "id": "W9mzvy_oz77w",
        "colab": {
          "base_uri": "https://localhost:8080/"
        },
        "outputId": "69e2afbe-d110-4020-9a74-64ba57f8b081"
      },
      "source": [
        "with open(\"model.pt\", \"rb\") as f:\n",
        "    SAVED_MODEL = torch.load(f)\n",
        "\n",
        "MODEL.load_state_dict(SAVED_MODEL[\"state\"])"
      ],
      "execution_count": 36,
      "outputs": [
        {
          "output_type": "execute_result",
          "data": {
            "text/plain": [
              "<All keys matched successfully>"
            ]
          },
          "metadata": {},
          "execution_count": 36
        }
      ]
    },
    {
      "cell_type": "code",
      "metadata": {
        "id": "cNXi-G17z79-",
        "colab": {
          "base_uri": "https://localhost:8080/",
          "height": 295
        },
        "outputId": "66756951-fdbc-445a-d9ba-de31d1eeb90f"
      },
      "source": [
        "plt.figure(figsize=(16, 4))\n",
        "plt.title(\"Training Loss Graph\")\n",
        "plt.xlabel(\"epochs\")\n",
        "plt.ylabel(\"loss\")\n",
        "plt.yscale(\"log\")\n",
        "plt.plot(SAVED_MODEL[\"loss_history\"])\n",
        "plt.show()"
      ],
      "execution_count": 37,
      "outputs": [
        {
          "output_type": "display_data",
          "data": {
            "text/plain": [
              "<Figure size 1152x288 with 1 Axes>"
            ],
            "image/png": "[encoded data removed]"
          },
          "metadata": {
            "needs_background": "light"
          }
        }
      ]
    },
    {
      "cell_type": "code",
      "metadata": {
        "id": "bJ2UewAMz8AG",
        "colab": {
          "base_uri": "https://localhost:8080/",
          "height": 424
        },
        "outputId": "fb50b53b-aff1-4309-cfe8-2d28010feca2"
      },
      "source": [
        "VALIDATION_DF_RAW = dataframe_from_csvs(VALIDATION_DATASET)\n",
        "VALIDATION_DF_RAW"
      ],
      "execution_count": 38,
      "outputs": [
        {
          "output_type": "execute_result",
          "data": {
            "text/plain": [
              "                      time        C01   C02  C03       C04     C05      C06  \\\n",
              "0      2020-07-07 15:00:00  402.70947  12.0   10  51.95007 -1.0189 -1.86768   \n",
              "1      2020-07-07 15:00:01  402.81174  12.0   10  51.96533 -1.2637 -1.86768   \n",
              "2      2020-07-07 15:00:02  402.76062  12.0   10  51.96533 -1.5398 -1.86768   \n",
              "3      2020-07-07 15:00:03  402.81174  12.0   10  51.98822 -1.6212 -1.86768   \n",
              "4      2020-07-07 15:00:04  402.91394  12.0   10  51.90429 -1.5631 -1.86768   \n",
              "...                    ...        ...   ...  ...       ...     ...      ...   \n",
              "43196  2020-07-08 02:59:56  397.08661  12.0   10  66.58325 -1.2052 -1.83716   \n",
              "43197  2020-07-08 02:59:57  397.18887  12.0   10  66.58325 -0.9256 -1.83716   \n",
              "43198  2020-07-08 02:59:58  397.13776  12.0   10  66.58325 -0.7843 -1.83716   \n",
              "43199  2020-07-08 02:59:59  397.34222  12.0   10  66.58325 -0.7646 -1.83716   \n",
              "43200  2020-07-08 03:00:00  397.49557  12.0   10  66.58325 -0.9083 -1.83716   \n",
              "\n",
              "             C07       C08  C09  ...  C71      C72       C73       C74  \\\n",
              "0      789.76508  28.03162  688  ...  0.0  1.34293  10.89290  34.88770   \n",
              "1      789.13147  28.02301  648  ...  0.0  1.34216  10.80512  34.88770   \n",
              "2      785.81653  28.02993  616  ...  0.0  1.34369  10.80029  34.88770   \n",
              "3      785.42438  28.02993  584  ...  0.0  1.34445  10.80579  34.88770   \n",
              "4      782.99249  28.02990  552  ...  0.0  1.34293  10.81415  34.90295   \n",
              "...          ...       ...  ...  ...  ...      ...       ...       ...   \n",
              "43196  786.93738  28.03250    0  ...  0.0  1.35971  16.19496  35.22338   \n",
              "43197  783.44989  28.02304    0  ...  0.0  1.35971  16.23927  35.23864   \n",
              "43198  784.86780  28.02814    0  ...  0.0  1.35818  16.20675  35.23864   \n",
              "43199  785.51416  28.02294    0  ...  0.0  1.35818  16.17168  35.25391   \n",
              "43200  786.98297  28.02990    0  ...  0.0  1.35895  16.10412  35.22338   \n",
              "\n",
              "            C75        C76        C77       C78     C79  attack  \n",
              "0      12.26196  380.31683  386.26666  32.59527  5.6330       0  \n",
              "1      12.26196  380.02747  386.30286  32.59527  5.4158       0  \n",
              "2      12.26196  381.52850  389.73883  32.59527  5.5532       0  \n",
              "3      12.26196  382.08911  388.94311  32.59527  5.7833       0  \n",
              "4      12.26196  383.44543  389.72082  32.59527  6.0309       0  \n",
              "...         ...        ...        ...       ...     ...     ...  \n",
              "43196  12.01019  390.13672  394.91107  31.81634  5.2977       0  \n",
              "43197  12.01019  390.24518  397.35248  31.81634  5.3188       0  \n",
              "43198  12.01019  390.46222  396.70142  31.81634  5.1800       0  \n",
              "43199  12.01019  391.78241  397.73218  31.81634  4.8763       0  \n",
              "43200  12.01019  391.31219  397.24390  31.81634  4.5790       0  \n",
              "\n",
              "[43201 rows x 81 columns]"
            ],
            "text/html": [
              "\n",
              "  <div id=\"df-2156ce46-8ca9-4558-9626-f69f3e6c23df\">\n",
              "    <div class=\"colab-df-container\">\n",
              "      <div>\n",
              "<style scoped>\n",
              "    .dataframe tbody tr th:only-of-type {\n",
              "        vertical-align: middle;\n",
              "    }\n",
              "\n",
              "    .dataframe tbody tr th {\n",
              "        vertical-align: top;\n",
              "    }\n",
              "\n",
              "    .dataframe thead th {\n",
              "        text-align: right;\n",
              "    }\n",
              "</style>\n",
              "<table border=\"1\" class=\"dataframe\">\n",
              "  <thead>\n",
              "    <tr style=\"text-align: right;\">\n",
              "      <th></th>\n",
              "      <th>time</th>\n",
              "      <th>C01</th>\n",
              "      <th>C02</th>\n",
              "      <th>C03</th>\n",
              "      <th>C04</th>\n",
              "      <th>C05</th>\n",
              "      <th>C06</th>\n",
              "      <th>C07</th>\n",
              "      <th>C08</th>\n",
              "      <th>C09</th>\n",
              "      <th>...</th>\n",
              "      <th>C71</th>\n",
              "      <th>C72</th>\n",
              "      <th>C73</th>\n",
              "      <th>C74</th>\n",
              "      <th>C75</th>\n",
              "      <th>C76</th>\n",
              "      <th>C77</th>\n",
              "      <th>C78</th>\n",
              "      <th>C79</th>\n",
              "      <th>attack</th>\n",
              "    </tr>\n",
              "  </thead>\n",
              "  <tbody>\n",
              "    <tr>\n",
              "      <th>0</th>\n",
              "      <td>2020-07-07 15:00:00</td>\n",
              "      <td>402.70947</td>\n",
              "      <td>12.0</td>\n",
              "      <td>10</td>\n",
              "      <td>51.95007</td>\n",
              "      <td>-1.0189</td>\n",
              "      <td>-1.86768</td>\n",
              "      <td>789.76508</td>\n",
              "      <td>28.03162</td>\n",
              "      <td>688</td>\n",
              "      <td>...</td>\n",
              "      <td>0.0</td>\n",
              "      <td>1.34293</td>\n",
              "      <td>10.89290</td>\n",
              "      <td>34.88770</td>\n",
              "      <td>12.26196</td>\n",
              "      <td>380.31683</td>\n",
              "      <td>386.26666</td>\n",
              "      <td>32.59527</td>\n",
              "      <td>5.6330</td>\n",
              "      <td>0</td>\n",
              "    </tr>\n",
              "    <tr>\n",
              "      <th>1</th>\n",
              "      <td>2020-07-07 15:00:01</td>\n",
              "      <td>402.81174</td>\n",
              "      <td>12.0</td>\n",
              "      <td>10</td>\n",
              "      <td>51.96533</td>\n",
              "      <td>-1.2637</td>\n",
              "      <td>-1.86768</td>\n",
              "      <td>789.13147</td>\n",
              "      <td>28.02301</td>\n",
              "      <td>648</td>\n",
              "      <td>...</td>\n",
              "      <td>0.0</td>\n",
              "      <td>1.34216</td>\n",
              "      <td>10.80512</td>\n",
              "      <td>34.88770</td>\n",
              "      <td>12.26196</td>\n",
              "      <td>380.02747</td>\n",
              "      <td>386.30286</td>\n",
              "      <td>32.59527</td>\n",
              "      <td>5.4158</td>\n",
              "      <td>0</td>\n",
              "    </tr>\n",
              "    <tr>\n",
              "      <th>2</th>\n",
              "      <td>2020-07-07 15:00:02</td>\n",
              "      <td>402.76062</td>\n",
              "      <td>12.0</td>\n",
              "      <td>10</td>\n",
              "      <td>51.96533</td>\n",
              "      <td>-1.5398</td>\n",
              "      <td>-1.86768</td>\n",
              "      <td>785.81653</td>\n",
              "      <td>28.02993</td>\n",
              "      <td>616</td>\n",
              "      <td>...</td>\n",
              "      <td>0.0</td>\n",
              "      <td>1.34369</td>\n",
              "      <td>10.80029</td>\n",
              "      <td>34.88770</td>\n",
              "      <td>12.26196</td>\n",
              "      <td>381.52850</td>\n",
              "      <td>389.73883</td>\n",
              "      <td>32.59527</td>\n",
              "      <td>5.5532</td>\n",
              "      <td>0</td>\n",
              "    </tr>\n",
              "    <tr>\n",
              "      <th>3</th>\n",
              "      <td>2020-07-07 15:00:03</td>\n",
              "      <td>402.81174</td>\n",
              "      <td>12.0</td>\n",
              "      <td>10</td>\n",
              "      <td>51.98822</td>\n",
              "      <td>-1.6212</td>\n",
              "      <td>-1.86768</td>\n",
              "      <td>785.42438</td>\n",
              "      <td>28.02993</td>\n",
              "      <td>584</td>\n",
              "      <td>...</td>\n",
              "      <td>0.0</td>\n",
              "      <td>1.34445</td>\n",
              "      <td>10.80579</td>\n",
              "      <td>34.88770</td>\n",
              "      <td>12.26196</td>\n",
              "      <td>382.08911</td>\n",
              "      <td>388.94311</td>\n",
              "      <td>32.59527</td>\n",
              "      <td>5.7833</td>\n",
              "      <td>0</td>\n",
              "    </tr>\n",
              "    <tr>\n",
              "      <th>4</th>\n",
              "      <td>2020-07-07 15:00:04</td>\n",
              "      <td>402.91394</td>\n",
              "      <td>12.0</td>\n",
              "      <td>10</td>\n",
              "      <td>51.90429</td>\n",
              "      <td>-1.5631</td>\n",
              "      <td>-1.86768</td>\n",
              "      <td>782.99249</td>\n",
              "      <td>28.02990</td>\n",
              "      <td>552</td>\n",
              "      <td>...</td>\n",
              "      <td>0.0</td>\n",
              "      <td>1.34293</td>\n",
              "      <td>10.81415</td>\n",
              "      <td>34.90295</td>\n",
              "      <td>12.26196</td>\n",
              "      <td>383.44543</td>\n",
              "      <td>389.72082</td>\n",
              "      <td>32.59527</td>\n",
              "      <td>6.0309</td>\n",
              "      <td>0</td>\n",
              "    </tr>\n",
              "    <tr>\n",
              "      <th>...</th>\n",
              "      <td>...</td>\n",
              "      <td>...</td>\n",
              "      <td>...</td>\n",
              "      <td>...</td>\n",
              "      <td>...</td>\n",
              "      <td>...</td>\n",
              "      <td>...</td>\n",
              "      <td>...</td>\n",
              "      <td>...</td>\n",
              "      <td>...</td>\n",
              "      <td>...</td>\n",
              "      <td>...</td>\n",
              "      <td>...</td>\n",
              "      <td>...</td>\n",
              "      <td>...</td>\n",
              "      <td>...</td>\n",
              "      <td>...</td>\n",
              "      <td>...</td>\n",
              "      <td>...</td>\n",
              "      <td>...</td>\n",
              "      <td>...</td>\n",
              "    </tr>\n",
              "    <tr>\n",
              "      <th>43196</th>\n",
              "      <td>2020-07-08 02:59:56</td>\n",
              "      <td>397.08661</td>\n",
              "      <td>12.0</td>\n",
              "      <td>10</td>\n",
              "      <td>66.58325</td>\n",
              "      <td>-1.2052</td>\n",
              "      <td>-1.83716</td>\n",
              "      <td>786.93738</td>\n",
              "      <td>28.03250</td>\n",
              "      <td>0</td>\n",
              "      <td>...</td>\n",
              "      <td>0.0</td>\n",
              "      <td>1.35971</td>\n",
              "      <td>16.19496</td>\n",
              "      <td>35.22338</td>\n",
              "      <td>12.01019</td>\n",
              "      <td>390.13672</td>\n",
              "      <td>394.91107</td>\n",
              "      <td>31.81634</td>\n",
              "      <td>5.2977</td>\n",
              "      <td>0</td>\n",
              "    </tr>\n",
              "    <tr>\n",
              "      <th>43197</th>\n",
              "      <td>2020-07-08 02:59:57</td>\n",
              "      <td>397.18887</td>\n",
              "      <td>12.0</td>\n",
              "      <td>10</td>\n",
              "      <td>66.58325</td>\n",
              "      <td>-0.9256</td>\n",
              "      <td>-1.83716</td>\n",
              "      <td>783.44989</td>\n",
              "      <td>28.02304</td>\n",
              "      <td>0</td>\n",
              "      <td>...</td>\n",
              "      <td>0.0</td>\n",
              "      <td>1.35971</td>\n",
              "      <td>16.23927</td>\n",
              "      <td>35.23864</td>\n",
              "      <td>12.01019</td>\n",
              "      <td>390.24518</td>\n",
              "      <td>397.35248</td>\n",
              "      <td>31.81634</td>\n",
              "      <td>5.3188</td>\n",
              "      <td>0</td>\n",
              "    </tr>\n",
              "    <tr>\n",
              "      <th>43198</th>\n",
              "      <td>2020-07-08 02:59:58</td>\n",
              "      <td>397.13776</td>\n",
              "      <td>12.0</td>\n",
              "      <td>10</td>\n",
              "      <td>66.58325</td>\n",
              "      <td>-0.7843</td>\n",
              "      <td>-1.83716</td>\n",
              "      <td>784.86780</td>\n",
              "      <td>28.02814</td>\n",
              "      <td>0</td>\n",
              "      <td>...</td>\n",
              "      <td>0.0</td>\n",
              "      <td>1.35818</td>\n",
              "      <td>16.20675</td>\n",
              "      <td>35.23864</td>\n",
              "      <td>12.01019</td>\n",
              "      <td>390.46222</td>\n",
              "      <td>396.70142</td>\n",
              "      <td>31.81634</td>\n",
              "      <td>5.1800</td>\n",
              "      <td>0</td>\n",
              "    </tr>\n",
              "    <tr>\n",
              "      <th>43199</th>\n",
              "      <td>2020-07-08 02:59:59</td>\n",
              "      <td>397.34222</td>\n",
              "      <td>12.0</td>\n",
              "      <td>10</td>\n",
              "      <td>66.58325</td>\n",
              "      <td>-0.7646</td>\n",
              "      <td>-1.83716</td>\n",
              "      <td>785.51416</td>\n",
              "      <td>28.02294</td>\n",
              "      <td>0</td>\n",
              "      <td>...</td>\n",
              "      <td>0.0</td>\n",
              "      <td>1.35818</td>\n",
              "      <td>16.17168</td>\n",
              "      <td>35.25391</td>\n",
              "      <td>12.01019</td>\n",
              "      <td>391.78241</td>\n",
              "      <td>397.73218</td>\n",
              "      <td>31.81634</td>\n",
              "      <td>4.8763</td>\n",
              "      <td>0</td>\n",
              "    </tr>\n",
              "    <tr>\n",
              "      <th>43200</th>\n",
              "      <td>2020-07-08 03:00:00</td>\n",
              "      <td>397.49557</td>\n",
              "      <td>12.0</td>\n",
              "      <td>10</td>\n",
              "      <td>66.58325</td>\n",
              "      <td>-0.9083</td>\n",
              "      <td>-1.83716</td>\n",
              "      <td>786.98297</td>\n",
              "      <td>28.02990</td>\n",
              "      <td>0</td>\n",
              "      <td>...</td>\n",
              "      <td>0.0</td>\n",
              "      <td>1.35895</td>\n",
              "      <td>16.10412</td>\n",
              "      <td>35.22338</td>\n",
              "      <td>12.01019</td>\n",
              "      <td>391.31219</td>\n",
              "      <td>397.24390</td>\n",
              "      <td>31.81634</td>\n",
              "      <td>4.5790</td>\n",
              "      <td>0</td>\n",
              "    </tr>\n",
              "  </tbody>\n",
              "</table>\n",
              "<p>43201 rows × 81 columns</p>\n",
              "</div>\n",
              "      <button class=\"colab-df-convert\" onclick=\"convertToInteractive('df-2156ce46-8ca9-4558-9626-f69f3e6c23df')\"\n",
              "              title=\"Convert this dataframe to an interactive table.\"\n",
              "              style=\"display:none;\">\n",
              "        \n",
              "  <svg xmlns=\"http://www.w3.org/2000/svg\" height=\"24px\"viewBox=\"0 0 24 24\"\n",
              "       width=\"24px\">\n",
              "    <path d=\"M0 0h24v24H0V0z\" fill=\"none\"/>\n",
              "    <path d=\"M18.56 5.44l.94 2.06.94-2.06 2.06-.94-2.06-.94-.94-2.06-.94 2.06-2.06.94zm-11 1L8.5 8.5l.94-2.06 2.06-.94-2.06-.94L8.5 2.5l-.94 2.06-2.06.94zm10 10l.94 2.06.94-2.06 2.06-.94-2.06-.94-.94-2.06-.94 2.06-2.06.94z\"/><path d=\"M17.41 7.96l-1.37-1.37c-.4-.4-.92-.59-1.43-.59-.52 0-1.04.2-1.43.59L10.3 9.45l-7.72 7.72c-.78.78-.78 2.05 0 2.83L4 21.41c.39.39.9.59 1.41.59.51 0 1.02-.2 1.41-.59l7.78-7.78 2.81-2.81c.8-.78.8-2.07 0-2.86zM5.41 20L4 18.59l7.72-7.72 1.47 1.35L5.41 20z\"/>\n",
              "  </svg>\n",
              "      </button>\n",
              "      \n",
              "  <style>\n",
              "    .colab-df-container {\n",
              "      display:flex;\n",
              "      flex-wrap:wrap;\n",
              "      gap: 12px;\n",
              "    }\n",
              "\n",
              "    .colab-df-convert {\n",
              "      background-color: #E8F0FE;\n",
              "      border: none;\n",
              "      border-radius: 50%;\n",
              "      cursor: pointer;\n",
              "      display: none;\n",
              "      fill: #1967D2;\n",
              "      height: 32px;\n",
              "      padding: 0 0 0 0;\n",
              "      width: 32px;\n",
              "    }\n",
              "\n",
              "    .colab-df-convert:hover {\n",
              "      background-color: #E2EBFA;\n",
              "      box-shadow: 0px 1px 2px rgba(60, 64, 67, 0.3), 0px 1px 3px 1px rgba(60, 64, 67, 0.15);\n",
              "      fill: #174EA6;\n",
              "    }\n",
              "\n",
              "    [theme=dark] .colab-df-convert {\n",
              "      background-color: #3B4455;\n",
              "      fill: #D2E3FC;\n",
              "    }\n",
              "\n",
              "    [theme=dark] .colab-df-convert:hover {\n",
              "      background-color: #434B5C;\n",
              "      box-shadow: 0px 1px 3px 1px rgba(0, 0, 0, 0.15);\n",
              "      filter: drop-shadow(0px 1px 2px rgba(0, 0, 0, 0.3));\n",
              "      fill: #FFFFFF;\n",
              "    }\n",
              "  </style>\n",
              "\n",
              "      <script>\n",
              "        const buttonEl =\n",
              "          document.querySelector('#df-2156ce46-8ca9-4558-9626-f69f3e6c23df button.colab-df-convert');\n",
              "        buttonEl.style.display =\n",
              "          google.colab.kernel.accessAllowed ? 'block' : 'none';\n",
              "\n",
              "        async function convertToInteractive(key) {\n",
              "          const element = document.querySelector('#df-2156ce46-8ca9-4558-9626-f69f3e6c23df');\n",
              "          const dataTable =\n",
              "            await google.colab.kernel.invokeFunction('convertToInteractive',\n",
              "                                                     [key], {});\n",
              "          if (!dataTable) return;\n",
              "\n",
              "          const docLinkHtml = 'Like what you see? Visit the ' +\n",
              "            '<a target=\"_blank\" href=https://colab.research.google.com/notebooks/data_table.ipynb>data table notebook</a>'\n",
              "            + ' to learn more about interactive tables.';\n",
              "          element.innerHTML = '';\n",
              "          dataTable['output_type'] = 'display_data';\n",
              "          await google.colab.output.renderOutput(dataTable, element);\n",
              "          const docLink = document.createElement('div');\n",
              "          docLink.innerHTML = docLinkHtml;\n",
              "          element.appendChild(docLink);\n",
              "        }\n",
              "      </script>\n",
              "    </div>\n",
              "  </div>\n",
              "  "
            ]
          },
          "metadata": {},
          "execution_count": 38
        }
      ]
    },
    {
      "cell_type": "code",
      "metadata": {
        "id": "8OpKZPkr0jw9"
      },
      "source": [
        "VALIDATION_DF = normalize(VALIDATION_DF_RAW[VALID_COLUMNS_IN_TRAIN_DATASET])  # Data Scaling\n",
        "# VALIDATION_DF = sc.fit_transform(VALIDATION_DF_RAW[VALID_COLUMNS_IN_TRAIN_DATASET])    # Data Scaling by MinMaxScaler\n",
        "# VALIDATION_DF = sc.fit_transform(VALIDATION_DF_RAW[VALID_COLUMNS_IN_TRAIN_DATASET])    # Data Scaling by Normalizer"
      ],
      "execution_count": 39,
      "outputs": []
    },
    {
      "cell_type": "code",
      "metadata": {
        "id": "TtahrwmH0jzb",
        "colab": {
          "base_uri": "https://localhost:8080/"
        },
        "outputId": "6c052616-44a5-42ca-e598-88361cf13337"
      },
      "source": [
        "boundary_check(VALIDATION_DF)"
      ],
      "execution_count": 40,
      "outputs": [
        {
          "output_type": "execute_result",
          "data": {
            "text/plain": [
              "(True, True, False)"
            ]
          },
          "metadata": {},
          "execution_count": 40
        }
      ]
    },
    {
      "cell_type": "code",
      "metadata": {
        "id": "GYqqFg-w0j1r",
        "colab": {
          "base_uri": "https://localhost:8080/",
          "height": 490,
          "referenced_widgets": [
            "ad67e2bace8a429fafe910e688a3f145",
            "80d155fb6b354aac9e811666d15b9756",
            "825532458cfe4285bf088015e8169774",
            "4622d322b4ea4915a1da5a5a4e3e43a7",
            "cf8dd6857b7f42d5815cd5a9724d8f3b",
            "b83569926c39419cb5a25ac91e240f39",
            "fff8207b4df04e6da4dac2c483565101",
            "0835cf696acf41398777669da7f734db",
            "9491f8a971fe4d6f93f5468272bb7e2c",
            "8f3d3a81ecfc410f85aa3800a04b35cf",
            "e68e7d76cfe2459db3b799bcd04a04c6"
          ]
        },
        "outputId": "57cba780-17bb-479c-b355-b10fc35ef83e"
      },
      "source": [
        "HAI_DATASET_VALIDATION = HaiDataset(\n",
        "    VALIDATION_DF_RAW[TIMESTAMP_FIELD], VALIDATION_DF, attacks=VALIDATION_DF_RAW[ATTACK_FIELD]\n",
        ")\n",
        "HAI_DATASET_VALIDATION[0]"
      ],
      "execution_count": 41,
      "outputs": [
        {
          "output_type": "display_data",
          "data": {
            "text/plain": [
              "  0%|          | 0/43112 [00:00<?, ?it/s]"
            ],
            "application/vnd.jupyter.widget-view+json": {
              "version_major": 2,
              "version_minor": 0,
              "model_id": "ad67e2bace8a429fafe910e688a3f145"
            }
          },
          "metadata": {}
        },
        {
          "output_type": "stream",
          "name": "stdout",
          "text": [
            "# of valid windows: 43112\n"
          ]
        },
        {
          "output_type": "execute_result",
          "data": {
            "text/plain": [
              "{'attack': 0.0,\n",
              " 'ts': '2020-07-07 15:01:29',\n",
              " 'given': tensor([[0.4516, 0.0000, 0.0000,  ..., 0.5798, 0.5271, 0.4014],\n",
              "         [0.4526, 0.0000, 0.0000,  ..., 0.5799, 0.5271, 0.3234],\n",
              "         [0.4521, 0.0000, 0.0000,  ..., 0.5927, 0.5271, 0.3727],\n",
              "         ...,\n",
              "         [0.5267, 0.0000, 0.0000,  ..., 0.3193, 0.5271, 0.3745],\n",
              "         [0.5257, 0.0000, 0.0000,  ..., 0.3134, 0.5271, 0.4363],\n",
              "         [0.5252, 0.0000, 0.0000,  ..., 0.3089, 0.5271, 0.5319]]),\n",
              " 'answer': tensor([5.2717e-01, 0.0000e+00, 0.0000e+00, 1.6201e-01, 2.4634e-01, 3.0731e-04,\n",
              "         4.7660e-01, 5.1151e-01, 1.1574e-03, 1.5182e-01, 4.9051e-01, 5.5063e-01,\n",
              "         2.8699e-01, 0.0000e+00, 4.4413e-01, 4.3588e-01, 2.4863e-02, 0.0000e+00,\n",
              "         0.0000e+00, 3.4310e-01, 0.0000e+00, 0.0000e+00, 7.5772e-01, 6.8562e-01,\n",
              "         0.0000e+00, 3.7939e-01, 2.5223e-01, 0.0000e+00, 3.9106e-01, 2.5138e-02,\n",
              "         9.9257e-01, 3.4135e-01, 0.0000e+00, 0.0000e+00, 0.0000e+00, 1.0000e+00,\n",
              "         0.0000e+00, 4.1100e-01, 4.6915e-01, 0.0000e+00, 9.9916e-01, 2.5674e-04,\n",
              "         0.0000e+00, 5.0073e-01, 3.8212e-01, 2.3146e-01, 6.1364e-01, 0.0000e+00,\n",
              "         4.8101e-01, 7.6219e-01, 0.0000e+00, 0.0000e+00, 5.8022e-01, 1.0000e+00,\n",
              "         1.3777e-01, 9.9420e-01, 4.8721e-02, 7.6795e-01, 0.0000e+00, 9.9123e-01,\n",
              "         0.0000e+00, 4.4749e-01, 0.0000e+00, 0.0000e+00, 0.0000e+00, 2.8254e-01,\n",
              "         0.0000e+00, 9.9751e-01, 3.5354e-01, 6.0346e-01, 0.0000e+00, 3.6832e-01,\n",
              "         2.0053e-01, 9.4593e-02, 1.7778e+00, 3.4465e-01, 3.1577e-01, 5.2712e-01,\n",
              "         6.1266e-01])}"
            ]
          },
          "metadata": {},
          "execution_count": 41
        }
      ]
    },
    {
      "cell_type": "code",
      "metadata": {
        "id": "nBrwiGGr0j4E"
      },
      "source": [
        "def inference(dataset, model, batch_size):\n",
        "    dataloader = DataLoader(dataset, batch_size=batch_size)\n",
        "    ts, dist, att = [], [], []\n",
        "    with torch.no_grad():\n",
        "        for batch in dataloader:\n",
        "            given = batch[\"given\"].cuda()\n",
        "            answer = batch[\"answer\"].cuda()\n",
        "            guess = model(given)\n",
        "            ts.append(np.array(batch[\"ts\"]))\n",
        "            dist.append(torch.abs(answer - guess).cpu().numpy())\n",
        "            try:\n",
        "                att.append(np.array(batch[\"attack\"]))\n",
        "            except:\n",
        "                att.append(np.zeros(batch_size))\n",
        "            \n",
        "    return (\n",
        "        np.concatenate(ts),\n",
        "        np.concatenate(dist),\n",
        "        np.concatenate(att),\n",
        "    )"
      ],
      "execution_count": 42,
      "outputs": []
    },
    {
      "cell_type": "markdown",
      "source": [
        "Inference 함수는 데이터를 순차적으로 보면서 모델이 예측한 값과 실제 값의 차를 구해서 기록함"
      ],
      "metadata": {
        "id": "2iNci0mVblkD"
      }
    },
    {
      "cell_type": "code",
      "metadata": {
        "id": "_qTJSK3S0j6f",
        "colab": {
          "base_uri": "https://localhost:8080/"
        },
        "outputId": "e56d325c-3e60-4d3d-dc4a-eb6e7e8745b4"
      },
      "source": [
        "%%time\n",
        "MODEL.eval()\n",
        "CHECK_TS, CHECK_DIST, CHECK_ATT = inference(HAI_DATASET_VALIDATION, MODEL, BATCH_SIZE)"
      ],
      "execution_count": 96,
      "outputs": [
        {
          "output_type": "stream",
          "name": "stdout",
          "text": [
            "CPU times: user 4.05 s, sys: 30 ms, total: 4.08 s\n",
            "Wall time: 4.06 s\n"
          ]
        }
      ]
    },
    {
      "cell_type": "code",
      "metadata": {
        "id": "VoPLFun80j8_",
        "colab": {
          "base_uri": "https://localhost:8080/"
        },
        "outputId": "777bf400-c06d-438c-bb62-3ded7637d86e"
      },
      "source": [
        "CHECK_DIST.shape"
      ],
      "execution_count": 97,
      "outputs": [
        {
          "output_type": "execute_result",
          "data": {
            "text/plain": [
              "(43112, 79)"
            ]
          },
          "metadata": {},
          "execution_count": 97
        }
      ]
    },
    {
      "cell_type": "code",
      "metadata": {
        "id": "9AXSOUkU0j_N",
        "colab": {
          "base_uri": "https://localhost:8080/",
          "height": 283
        },
        "outputId": "b7159424-3457-48d5-ea72-3b169218192a"
      },
      "source": [
        "ANOMALY_SCORE = np.mean(CHECK_DIST, axis=1)\n",
        "plt.plot(ANOMALY_SCORE)"
      ],
      "execution_count": 98,
      "outputs": [
        {
          "output_type": "execute_result",
          "data": {
            "text/plain": [
              "[<matplotlib.lines.Line2D at 0x7f5b8b036e10>]"
            ]
          },
          "metadata": {},
          "execution_count": 98
        },
        {
          "output_type": "display_data",
          "data": {
            "text/plain": [
              "<Figure size 432x288 with 1 Axes>"
            ],
            "image/png": "[encoded data removed]"
          },
          "metadata": {
            "needs_background": "light"
          }
        }
      ]
    },
    {
      "cell_type": "code",
      "source": [
        "plt.plot(CHECK_ATT)"
      ],
      "metadata": {
        "colab": {
          "base_uri": "https://localhost:8080/",
          "height": 283
        },
        "id": "VdS_DjYvcv9u",
        "outputId": "b070a02d-16e7-4e9e-8ce4-1bf019f58134"
      },
      "execution_count": 99,
      "outputs": [
        {
          "output_type": "execute_result",
          "data": {
            "text/plain": [
              "[<matplotlib.lines.Line2D at 0x7f5b87e523d0>]"
            ]
          },
          "metadata": {},
          "execution_count": 99
        },
        {
          "output_type": "display_data",
          "data": {
            "text/plain": [
              "<Figure size 432x288 with 1 Axes>"
            ],
            "image/png": "[encoded data removed]"
          },
          "metadata": {
            "needs_background": "light"
          }
        }
      ]
    },
    {
      "cell_type": "code",
      "metadata": {
        "id": "jU3vnJN20kB5"
      },
      "source": [
        "def check_graph(xs, att, piece=2, THRESHOLD=None):\n",
        "    l = xs.shape[0]\n",
        "    chunk = l // piece\n",
        "    fig, axs = plt.subplots(piece, figsize=(20, 4 * piece))\n",
        "    for i in range(piece):\n",
        "        L = i * chunk\n",
        "        R = min(L + chunk, l)\n",
        "        xticks = range(L, R)\n",
        "        axs[i].plot(xticks, xs[L:R])\n",
        "        if len(xs[L:R]) > 0:\n",
        "            peak = max(xs[L:R])\n",
        "            axs[i].plot(xticks, att[L:R] * peak * 0.5)\n",
        "        if THRESHOLD!=None:\n",
        "            axs[i].axhline(y=THRESHOLD, color='r')\n",
        "        plt.legend(['Anomaly Score', 'Abnormal Point', 'Threshold'])\n",
        "    plt.show()"
      ],
      "execution_count": 113,
      "outputs": []
    },
    {
      "cell_type": "code",
      "metadata": {
        "id": "TEac0qdu0kDz",
        "colab": {
          "base_uri": "https://localhost:8080/",
          "height": 483
        },
        "outputId": "99556917-00c3-422c-874b-f1c2e6735376"
      },
      "source": [
        "THRESHOLD = 0.05\n",
        "check_graph(ANOMALY_SCORE, CHECK_ATT, piece=2, THRESHOLD=THRESHOLD)"
      ],
      "execution_count": 114,
      "outputs": [
        {
          "output_type": "display_data",
          "data": {
            "text/plain": [
              "<Figure size 1440x576 with 2 Axes>"
            ],
            "image/png": "[encoded data removed]"
          },
          "metadata": {
            "needs_background": "light"
          }
        }
      ]
    },
    {
      "cell_type": "markdown",
      "source": [
        "주황색 선은 Abnormal Operation 동작 부분을 나타내고, 파란색 선은 Anomaly Score (모델과 실제 데이터의 오차 크기)를 나타냅니다. Abnormal Operation 동작 부분에서 Anomaly Score (오차 크기) 가 큰 것으로 보이고 있습니다.\n",
        "임의이 Threshold(빨간색 선)가 넘어갈 경우 Abnormal Operation으로 간주하고 Abnormal은 1로 정상은 0으로 구분할 수 있습니다."
      ],
      "metadata": {
        "id": "5t7xtoIwgX_u"
      }
    },
    {
      "cell_type": "code",
      "metadata": {
        "id": "9jrBlQoV0kGD"
      },
      "source": [
        "def put_labels(distance, threshold):\n",
        "    xs = np.zeros_like(distance)\n",
        "    xs[distance > threshold] = 1\n",
        "    return xs"
      ],
      "execution_count": 49,
      "outputs": []
    },
    {
      "cell_type": "code",
      "source": [
        "plt.plot(ANOMALY_SCORE)"
      ],
      "metadata": {
        "colab": {
          "base_uri": "https://localhost:8080/",
          "height": 283
        },
        "id": "pLsQko5uhspV",
        "outputId": "963ef92d-ad27-4bfd-8426-6a1905594095"
      },
      "execution_count": 50,
      "outputs": [
        {
          "output_type": "execute_result",
          "data": {
            "text/plain": [
              "[<matplotlib.lines.Line2D at 0x7f5c66522750>]"
            ]
          },
          "metadata": {},
          "execution_count": 50
        },
        {
          "output_type": "display_data",
          "data": {
            "text/plain": [
              "<Figure size 432x288 with 1 Axes>"
            ],
            "image/png": "[encoded data removed]"
          },
          "metadata": {
            "needs_background": "light"
          }
        }
      ]
    },
    {
      "cell_type": "code",
      "source": [
        "THRESHOLD = 0.05"
      ],
      "metadata": {
        "id": "ABBPRxA5h6X9"
      },
      "execution_count": 51,
      "outputs": []
    },
    {
      "cell_type": "code",
      "metadata": {
        "id": "3owxdJ6P0kIU",
        "colab": {
          "base_uri": "https://localhost:8080/"
        },
        "outputId": "0fd99d04-b879-4304-e748-7a54d9ec760a"
      },
      "source": [
        "LABELS = put_labels(ANOMALY_SCORE, THRESHOLD)\n",
        "LABELS, LABELS.shape"
      ],
      "execution_count": 52,
      "outputs": [
        {
          "output_type": "execute_result",
          "data": {
            "text/plain": [
              "(array([0., 0., 0., ..., 0., 0., 0.], dtype=float32), (43112,))"
            ]
          },
          "metadata": {},
          "execution_count": 52
        }
      ]
    },
    {
      "cell_type": "code",
      "metadata": {
        "id": "K5LJaAgv0kKY",
        "colab": {
          "base_uri": "https://localhost:8080/"
        },
        "outputId": "f67a6aea-0d39-45d4-9a9f-a242cb3c4d3d"
      },
      "source": [
        "ATTACK_LABELS = put_labels(np.array(VALIDATION_DF_RAW[ATTACK_FIELD]), threshold = 0.05)\n",
        "ATTACK_LABELS, ATTACK_LABELS.shape"
      ],
      "execution_count": 53,
      "outputs": [
        {
          "output_type": "execute_result",
          "data": {
            "text/plain": [
              "(array([0, 0, 0, ..., 0, 0, 0]), (43201,))"
            ]
          },
          "metadata": {},
          "execution_count": 53
        }
      ]
    },
    {
      "cell_type": "code",
      "source": [
        "plt.plot(ATTACK_LABELS)"
      ],
      "metadata": {
        "colab": {
          "base_uri": "https://localhost:8080/",
          "height": 283
        },
        "id": "LAU0rf3tiLZB",
        "outputId": "0f9e8330-5459-4ad5-d556-7846552468ad"
      },
      "execution_count": 54,
      "outputs": [
        {
          "output_type": "execute_result",
          "data": {
            "text/plain": [
              "[<matplotlib.lines.Line2D at 0x7f5c66297990>]"
            ]
          },
          "metadata": {},
          "execution_count": 54
        },
        {
          "output_type": "display_data",
          "data": {
            "text/plain": [
              "<Figure size 432x288 with 1 Axes>"
            ],
            "image/png": "[encoded data removed]"
          },
          "metadata": {
            "needs_background": "light"
          }
        }
      ]
    },
    {
      "cell_type": "code",
      "metadata": {
        "id": "KGeQd1gH0uWl"
      },
      "source": [
        "def fill_blank(check_ts, labels, total_ts):\n",
        "    def ts_generator():\n",
        "        for t in total_ts:\n",
        "            yield dateutil.parser.parse(t)\n",
        "\n",
        "    def label_generator():\n",
        "        for t, label in zip(check_ts, labels):\n",
        "            yield dateutil.parser.parse(t), label\n",
        "\n",
        "    g_ts = ts_generator()\n",
        "    g_label = label_generator()\n",
        "    final_labels = []\n",
        "\n",
        "    try:\n",
        "        current = next(g_ts)\n",
        "        ts_label, label = next(g_label)\n",
        "        while True:\n",
        "            if current > ts_label:\n",
        "                ts_label, label = next(g_label)\n",
        "                continue\n",
        "            elif current < ts_label:\n",
        "                final_labels.append(0)\n",
        "                current = next(g_ts)\n",
        "                continue\n",
        "            final_labels.append(label)\n",
        "            current = next(g_ts)\n",
        "            ts_label, label = next(g_label)\n",
        "    except StopIteration:\n",
        "        return np.array(final_labels, dtype=np.int8)"
      ],
      "execution_count": 55,
      "outputs": []
    },
    {
      "cell_type": "code",
      "metadata": {
        "id": "cVzXFKAe0uY_",
        "colab": {
          "base_uri": "https://localhost:8080/"
        },
        "outputId": "5773537b-d03c-4c26-9d7b-e4931e234588"
      },
      "source": [
        "%%time\n",
        "FINAL_LABELS = fill_blank(CHECK_TS, LABELS, np.array(VALIDATION_DF_RAW[TIMESTAMP_FIELD]))\n",
        "FINAL_LABELS.shape"
      ],
      "execution_count": 56,
      "outputs": [
        {
          "output_type": "stream",
          "name": "stdout",
          "text": [
            "CPU times: user 5.3 s, sys: 19 ms, total: 5.32 s\n",
            "Wall time: 5.32 s\n"
          ]
        },
        {
          "output_type": "execute_result",
          "data": {
            "text/plain": [
              "(43201,)"
            ]
          },
          "metadata": {},
          "execution_count": 56
        }
      ]
    },
    {
      "cell_type": "code",
      "metadata": {
        "id": "dhjuxuSy0ubW",
        "colab": {
          "base_uri": "https://localhost:8080/"
        },
        "outputId": "12b6a5f5-5200-49fe-8729-ed00002d1a65"
      },
      "source": [
        "ATTACK_LABELS.shape[0] == FINAL_LABELS.shape[0]"
      ],
      "execution_count": 57,
      "outputs": [
        {
          "output_type": "execute_result",
          "data": {
            "text/plain": [
              "True"
            ]
          },
          "metadata": {},
          "execution_count": 57
        }
      ]
    },
    {
      "cell_type": "code",
      "metadata": {
        "id": "XuepoM9P0ugJ",
        "colab": {
          "base_uri": "https://localhost:8080/"
        },
        "outputId": "09e32644-a13e-4217-9777-83924d2add11"
      },
      "source": [
        "TaPR = etapr.evaluate(anomalies=ATTACK_LABELS, predictions=FINAL_LABELS)\n",
        "print(f\"F1: {TaPR['f1']:.3f} (TaP: {TaPR['TaP']:.3f}, TaR: {TaPR['TaR']:.3f})\")\n",
        "print(f\"# of detected anomalies: {len(TaPR['Detected_Anomalies'])}\")\n",
        "print(f\"Detected anomalies: {TaPR['Detected_Anomalies']}\")"
      ],
      "execution_count": 58,
      "outputs": [
        {
          "output_type": "stream",
          "name": "stdout",
          "text": [
            "F1: 0.853 (TaP: 0.963, TaR: 0.766)\n",
            "# of detected anomalies: 4\n",
            "Detected anomalies: ['1', '3', '4', '5']\n"
          ]
        }
      ]
    },
    {
      "cell_type": "code",
      "metadata": {
        "id": "g_esqCbA0uiV",
        "colab": {
          "base_uri": "https://localhost:8080/",
          "height": 424
        },
        "outputId": "8e2f8bfc-d82f-48be-8cf1-f43e1aa2887b"
      },
      "source": [
        "TEST_DF_RAW = dataframe_from_csvs(TEST_DATASET)\n",
        "TEST_DF_RAW"
      ],
      "execution_count": 59,
      "outputs": [
        {
          "output_type": "execute_result",
          "data": {
            "text/plain": [
              "                      time        C01   C02  C03       C04     C05       C06  \\\n",
              "0      2020-07-09 15:00:00  384.30737  12.0   10  70.35980 -1.6171  -1.79901   \n",
              "1      2020-07-09 15:00:01  384.30737  12.0   10  70.35980 -1.7606  -1.79901   \n",
              "2      2020-07-09 15:00:02  384.20517  12.0   10  70.35980 -1.7606  -1.80664   \n",
              "3      2020-07-09 15:00:03  384.25626  12.0   10  70.35980 -1.7814  -1.79901   \n",
              "4      2020-07-09 15:00:04  384.20517  12.0   10  70.35980 -1.7370  -1.79901   \n",
              "...                    ...        ...   ...  ...       ...     ...       ...   \n",
              "92396  2020-07-31 12:29:56  420.08923  12.0   10  48.31848 -0.8706  97.19238   \n",
              "92397  2020-07-31 12:29:57  420.08923  12.0   10  48.31848 -0.7498  97.19238   \n",
              "92398  2020-07-31 12:29:58  420.24258  12.0   10  48.31848 -0.6076  97.19238   \n",
              "92399  2020-07-31 12:29:59  420.24258  12.0   10  48.31848 -0.4618  97.19238   \n",
              "92400  2020-07-31 12:30:00  420.29373  12.0   10  48.31848 -0.3661  97.20001   \n",
              "\n",
              "             C07       C08  C09  ...        C70    C71      C72       C73  \\\n",
              "0      774.20752  28.02385  136  ...  936.58447    0.0  1.35437  13.97231   \n",
              "1      772.58758  28.02730  136  ...  940.93317    0.0  1.35437  13.93358   \n",
              "2      772.58758  28.02730  136  ...  936.58447    0.0  1.35513  13.95248   \n",
              "3      777.48810  28.02905  136  ...  933.54034    0.0  1.35513  13.89971   \n",
              "4      778.42212  28.03169  136  ...  944.41223    0.0  1.35437  13.94603   \n",
              "...          ...       ...  ...  ...        ...    ...      ...       ...   \n",
              "92396  786.54382  28.03253  232  ...  824.82147  100.0  1.35666   9.62203   \n",
              "92397  784.07184  28.03598  224  ...  823.51697  100.0  1.35513   9.48747   \n",
              "92398  786.83881  28.02642  208  ...  824.82147  100.0  1.35666   9.57787   \n",
              "92399  786.66138  28.03341  200  ...  833.51904  100.0  1.35513   9.56291   \n",
              "92400  785.72290  28.03247  192  ...  827.43085  100.0  1.35590   9.53689   \n",
              "\n",
              "            C74       C75        C76        C77   C78     C79  \n",
              "0      35.22338  12.02545  293.51129  283.92651  32.0  6.5059  \n",
              "1      35.20813  12.02545  292.67938  283.36591  32.0  6.3079  \n",
              "2      35.20813  12.02545  291.90179  282.93189  32.0  6.3079  \n",
              "3      35.20813  12.02545  291.59430  282.06378  32.0  6.1203  \n",
              "4      35.20813  12.02545  289.87628  283.67334  32.0  5.9543  \n",
              "...         ...       ...        ...        ...   ...     ...  \n",
              "92396  36.47460  11.78894  357.27722  361.14728  32.0  6.2809  \n",
              "92397  36.47460  11.78894  357.29529  359.84521  32.0  6.3602  \n",
              "92398  36.48986  11.78894  357.27722  360.60474  32.0  6.3742  \n",
              "92399  36.48986  11.78894  357.80170  357.42188  32.0  6.2864  \n",
              "92400  36.47460  11.78894  357.07825  358.65161  32.0  6.0371  \n",
              "\n",
              "[358804 rows x 80 columns]"
            ],
            "text/html": [
              "\n",
              "  <div id=\"df-542a57d7-9c86-4f9a-8975-569f815b6fe3\">\n",
              "    <div class=\"colab-df-container\">\n",
              "      <div>\n",
              "<style scoped>\n",
              "    .dataframe tbody tr th:only-of-type {\n",
              "        vertical-align: middle;\n",
              "    }\n",
              "\n",
              "    .dataframe tbody tr th {\n",
              "        vertical-align: top;\n",
              "    }\n",
              "\n",
              "    .dataframe thead th {\n",
              "        text-align: right;\n",
              "    }\n",
              "</style>\n",
              "<table border=\"1\" class=\"dataframe\">\n",
              "  <thead>\n",
              "    <tr style=\"text-align: right;\">\n",
              "      <th></th>\n",
              "      <th>time</th>\n",
              "      <th>C01</th>\n",
              "      <th>C02</th>\n",
              "      <th>C03</th>\n",
              "      <th>C04</th>\n",
              "      <th>C05</th>\n",
              "      <th>C06</th>\n",
              "      <th>C07</th>\n",
              "      <th>C08</th>\n",
              "      <th>C09</th>\n",
              "      <th>...</th>\n",
              "      <th>C70</th>\n",
              "      <th>C71</th>\n",
              "      <th>C72</th>\n",
              "      <th>C73</th>\n",
              "      <th>C74</th>\n",
              "      <th>C75</th>\n",
              "      <th>C76</th>\n",
              "      <th>C77</th>\n",
              "      <th>C78</th>\n",
              "      <th>C79</th>\n",
              "    </tr>\n",
              "  </thead>\n",
              "  <tbody>\n",
              "    <tr>\n",
              "      <th>0</th>\n",
              "      <td>2020-07-09 15:00:00</td>\n",
              "      <td>384.30737</td>\n",
              "      <td>12.0</td>\n",
              "      <td>10</td>\n",
              "      <td>70.35980</td>\n",
              "      <td>-1.6171</td>\n",
              "      <td>-1.79901</td>\n",
              "      <td>774.20752</td>\n",
              "      <td>28.02385</td>\n",
              "      <td>136</td>\n",
              "      <td>...</td>\n",
              "      <td>936.58447</td>\n",
              "      <td>0.0</td>\n",
              "      <td>1.35437</td>\n",
              "      <td>13.97231</td>\n",
              "      <td>35.22338</td>\n",
              "      <td>12.02545</td>\n",
              "      <td>293.51129</td>\n",
              "      <td>283.92651</td>\n",
              "      <td>32.0</td>\n",
              "      <td>6.5059</td>\n",
              "    </tr>\n",
              "    <tr>\n",
              "      <th>1</th>\n",
              "      <td>2020-07-09 15:00:01</td>\n",
              "      <td>384.30737</td>\n",
              "      <td>12.0</td>\n",
              "      <td>10</td>\n",
              "      <td>70.35980</td>\n",
              "      <td>-1.7606</td>\n",
              "      <td>-1.79901</td>\n",
              "      <td>772.58758</td>\n",
              "      <td>28.02730</td>\n",
              "      <td>136</td>\n",
              "      <td>...</td>\n",
              "      <td>940.93317</td>\n",
              "      <td>0.0</td>\n",
              "      <td>1.35437</td>\n",
              "      <td>13.93358</td>\n",
              "      <td>35.20813</td>\n",
              "      <td>12.02545</td>\n",
              "      <td>292.67938</td>\n",
              "      <td>283.36591</td>\n",
              "      <td>32.0</td>\n",
              "      <td>6.3079</td>\n",
              "    </tr>\n",
              "    <tr>\n",
              "      <th>2</th>\n",
              "      <td>2020-07-09 15:00:02</td>\n",
              "      <td>384.20517</td>\n",
              "      <td>12.0</td>\n",
              "      <td>10</td>\n",
              "      <td>70.35980</td>\n",
              "      <td>-1.7606</td>\n",
              "      <td>-1.80664</td>\n",
              "      <td>772.58758</td>\n",
              "      <td>28.02730</td>\n",
              "      <td>136</td>\n",
              "      <td>...</td>\n",
              "      <td>936.58447</td>\n",
              "      <td>0.0</td>\n",
              "      <td>1.35513</td>\n",
              "      <td>13.95248</td>\n",
              "      <td>35.20813</td>\n",
              "      <td>12.02545</td>\n",
              "      <td>291.90179</td>\n",
              "      <td>282.93189</td>\n",
              "      <td>32.0</td>\n",
              "      <td>6.3079</td>\n",
              "    </tr>\n",
              "    <tr>\n",
              "      <th>3</th>\n",
              "      <td>2020-07-09 15:00:03</td>\n",
              "      <td>384.25626</td>\n",
              "      <td>12.0</td>\n",
              "      <td>10</td>\n",
              "      <td>70.35980</td>\n",
              "      <td>-1.7814</td>\n",
              "      <td>-1.79901</td>\n",
              "      <td>777.48810</td>\n",
              "      <td>28.02905</td>\n",
              "      <td>136</td>\n",
              "      <td>...</td>\n",
              "      <td>933.54034</td>\n",
              "      <td>0.0</td>\n",
              "      <td>1.35513</td>\n",
              "      <td>13.89971</td>\n",
              "      <td>35.20813</td>\n",
              "      <td>12.02545</td>\n",
              "      <td>291.59430</td>\n",
              "      <td>282.06378</td>\n",
              "      <td>32.0</td>\n",
              "      <td>6.1203</td>\n",
              "    </tr>\n",
              "    <tr>\n",
              "      <th>4</th>\n",
              "      <td>2020-07-09 15:00:04</td>\n",
              "      <td>384.20517</td>\n",
              "      <td>12.0</td>\n",
              "      <td>10</td>\n",
              "      <td>70.35980</td>\n",
              "      <td>-1.7370</td>\n",
              "      <td>-1.79901</td>\n",
              "      <td>778.42212</td>\n",
              "      <td>28.03169</td>\n",
              "      <td>136</td>\n",
              "      <td>...</td>\n",
              "      <td>944.41223</td>\n",
              "      <td>0.0</td>\n",
              "      <td>1.35437</td>\n",
              "      <td>13.94603</td>\n",
              "      <td>35.20813</td>\n",
              "      <td>12.02545</td>\n",
              "      <td>289.87628</td>\n",
              "      <td>283.67334</td>\n",
              "      <td>32.0</td>\n",
              "      <td>5.9543</td>\n",
              "    </tr>\n",
              "    <tr>\n",
              "      <th>...</th>\n",
              "      <td>...</td>\n",
              "      <td>...</td>\n",
              "      <td>...</td>\n",
              "      <td>...</td>\n",
              "      <td>...</td>\n",
              "      <td>...</td>\n",
              "      <td>...</td>\n",
              "      <td>...</td>\n",
              "      <td>...</td>\n",
              "      <td>...</td>\n",
              "      <td>...</td>\n",
              "      <td>...</td>\n",
              "      <td>...</td>\n",
              "      <td>...</td>\n",
              "      <td>...</td>\n",
              "      <td>...</td>\n",
              "      <td>...</td>\n",
              "      <td>...</td>\n",
              "      <td>...</td>\n",
              "      <td>...</td>\n",
              "      <td>...</td>\n",
              "    </tr>\n",
              "    <tr>\n",
              "      <th>92396</th>\n",
              "      <td>2020-07-31 12:29:56</td>\n",
              "      <td>420.08923</td>\n",
              "      <td>12.0</td>\n",
              "      <td>10</td>\n",
              "      <td>48.31848</td>\n",
              "      <td>-0.8706</td>\n",
              "      <td>97.19238</td>\n",
              "      <td>786.54382</td>\n",
              "      <td>28.03253</td>\n",
              "      <td>232</td>\n",
              "      <td>...</td>\n",
              "      <td>824.82147</td>\n",
              "      <td>100.0</td>\n",
              "      <td>1.35666</td>\n",
              "      <td>9.62203</td>\n",
              "      <td>36.47460</td>\n",
              "      <td>11.78894</td>\n",
              "      <td>357.27722</td>\n",
              "      <td>361.14728</td>\n",
              "      <td>32.0</td>\n",
              "      <td>6.2809</td>\n",
              "    </tr>\n",
              "    <tr>\n",
              "      <th>92397</th>\n",
              "      <td>2020-07-31 12:29:57</td>\n",
              "      <td>420.08923</td>\n",
              "      <td>12.0</td>\n",
              "      <td>10</td>\n",
              "      <td>48.31848</td>\n",
              "      <td>-0.7498</td>\n",
              "      <td>97.19238</td>\n",
              "      <td>784.07184</td>\n",
              "      <td>28.03598</td>\n",
              "      <td>224</td>\n",
              "      <td>...</td>\n",
              "      <td>823.51697</td>\n",
              "      <td>100.0</td>\n",
              "      <td>1.35513</td>\n",
              "      <td>9.48747</td>\n",
              "      <td>36.47460</td>\n",
              "      <td>11.78894</td>\n",
              "      <td>357.29529</td>\n",
              "      <td>359.84521</td>\n",
              "      <td>32.0</td>\n",
              "      <td>6.3602</td>\n",
              "    </tr>\n",
              "    <tr>\n",
              "      <th>92398</th>\n",
              "      <td>2020-07-31 12:29:58</td>\n",
              "      <td>420.24258</td>\n",
              "      <td>12.0</td>\n",
              "      <td>10</td>\n",
              "      <td>48.31848</td>\n",
              "      <td>-0.6076</td>\n",
              "      <td>97.19238</td>\n",
              "      <td>786.83881</td>\n",
              "      <td>28.02642</td>\n",
              "      <td>208</td>\n",
              "      <td>...</td>\n",
              "      <td>824.82147</td>\n",
              "      <td>100.0</td>\n",
              "      <td>1.35666</td>\n",
              "      <td>9.57787</td>\n",
              "      <td>36.48986</td>\n",
              "      <td>11.78894</td>\n",
              "      <td>357.27722</td>\n",
              "      <td>360.60474</td>\n",
              "      <td>32.0</td>\n",
              "      <td>6.3742</td>\n",
              "    </tr>\n",
              "    <tr>\n",
              "      <th>92399</th>\n",
              "      <td>2020-07-31 12:29:59</td>\n",
              "      <td>420.24258</td>\n",
              "      <td>12.0</td>\n",
              "      <td>10</td>\n",
              "      <td>48.31848</td>\n",
              "      <td>-0.4618</td>\n",
              "      <td>97.19238</td>\n",
              "      <td>786.66138</td>\n",
              "      <td>28.03341</td>\n",
              "      <td>200</td>\n",
              "      <td>...</td>\n",
              "      <td>833.51904</td>\n",
              "      <td>100.0</td>\n",
              "      <td>1.35513</td>\n",
              "      <td>9.56291</td>\n",
              "      <td>36.48986</td>\n",
              "      <td>11.78894</td>\n",
              "      <td>357.80170</td>\n",
              "      <td>357.42188</td>\n",
              "      <td>32.0</td>\n",
              "      <td>6.2864</td>\n",
              "    </tr>\n",
              "    <tr>\n",
              "      <th>92400</th>\n",
              "      <td>2020-07-31 12:30:00</td>\n",
              "      <td>420.29373</td>\n",
              "      <td>12.0</td>\n",
              "      <td>10</td>\n",
              "      <td>48.31848</td>\n",
              "      <td>-0.3661</td>\n",
              "      <td>97.20001</td>\n",
              "      <td>785.72290</td>\n",
              "      <td>28.03247</td>\n",
              "      <td>192</td>\n",
              "      <td>...</td>\n",
              "      <td>827.43085</td>\n",
              "      <td>100.0</td>\n",
              "      <td>1.35590</td>\n",
              "      <td>9.53689</td>\n",
              "      <td>36.47460</td>\n",
              "      <td>11.78894</td>\n",
              "      <td>357.07825</td>\n",
              "      <td>358.65161</td>\n",
              "      <td>32.0</td>\n",
              "      <td>6.0371</td>\n",
              "    </tr>\n",
              "  </tbody>\n",
              "</table>\n",
              "<p>358804 rows × 80 columns</p>\n",
              "</div>\n",
              "      <button class=\"colab-df-convert\" onclick=\"convertToInteractive('df-542a57d7-9c86-4f9a-8975-569f815b6fe3')\"\n",
              "              title=\"Convert this dataframe to an interactive table.\"\n",
              "              style=\"display:none;\">\n",
              "        \n",
              "  <svg xmlns=\"http://www.w3.org/2000/svg\" height=\"24px\"viewBox=\"0 0 24 24\"\n",
              "       width=\"24px\">\n",
              "    <path d=\"M0 0h24v24H0V0z\" fill=\"none\"/>\n",
              "    <path d=\"M18.56 5.44l.94 2.06.94-2.06 2.06-.94-2.06-.94-.94-2.06-.94 2.06-2.06.94zm-11 1L8.5 8.5l.94-2.06 2.06-.94-2.06-.94L8.5 2.5l-.94 2.06-2.06.94zm10 10l.94 2.06.94-2.06 2.06-.94-2.06-.94-.94-2.06-.94 2.06-2.06.94z\"/><path d=\"M17.41 7.96l-1.37-1.37c-.4-.4-.92-.59-1.43-.59-.52 0-1.04.2-1.43.59L10.3 9.45l-7.72 7.72c-.78.78-.78 2.05 0 2.83L4 21.41c.39.39.9.59 1.41.59.51 0 1.02-.2 1.41-.59l7.78-7.78 2.81-2.81c.8-.78.8-2.07 0-2.86zM5.41 20L4 18.59l7.72-7.72 1.47 1.35L5.41 20z\"/>\n",
              "  </svg>\n",
              "      </button>\n",
              "      \n",
              "  <style>\n",
              "    .colab-df-container {\n",
              "      display:flex;\n",
              "      flex-wrap:wrap;\n",
              "      gap: 12px;\n",
              "    }\n",
              "\n",
              "    .colab-df-convert {\n",
              "      background-color: #E8F0FE;\n",
              "      border: none;\n",
              "      border-radius: 50%;\n",
              "      cursor: pointer;\n",
              "      display: none;\n",
              "      fill: #1967D2;\n",
              "      height: 32px;\n",
              "      padding: 0 0 0 0;\n",
              "      width: 32px;\n",
              "    }\n",
              "\n",
              "    .colab-df-convert:hover {\n",
              "      background-color: #E2EBFA;\n",
              "      box-shadow: 0px 1px 2px rgba(60, 64, 67, 0.3), 0px 1px 3px 1px rgba(60, 64, 67, 0.15);\n",
              "      fill: #174EA6;\n",
              "    }\n",
              "\n",
              "    [theme=dark] .colab-df-convert {\n",
              "      background-color: #3B4455;\n",
              "      fill: #D2E3FC;\n",
              "    }\n",
              "\n",
              "    [theme=dark] .colab-df-convert:hover {\n",
              "      background-color: #434B5C;\n",
              "      box-shadow: 0px 1px 3px 1px rgba(0, 0, 0, 0.15);\n",
              "      filter: drop-shadow(0px 1px 2px rgba(0, 0, 0, 0.3));\n",
              "      fill: #FFFFFF;\n",
              "    }\n",
              "  </style>\n",
              "\n",
              "      <script>\n",
              "        const buttonEl =\n",
              "          document.querySelector('#df-542a57d7-9c86-4f9a-8975-569f815b6fe3 button.colab-df-convert');\n",
              "        buttonEl.style.display =\n",
              "          google.colab.kernel.accessAllowed ? 'block' : 'none';\n",
              "\n",
              "        async function convertToInteractive(key) {\n",
              "          const element = document.querySelector('#df-542a57d7-9c86-4f9a-8975-569f815b6fe3');\n",
              "          const dataTable =\n",
              "            await google.colab.kernel.invokeFunction('convertToInteractive',\n",
              "                                                     [key], {});\n",
              "          if (!dataTable) return;\n",
              "\n",
              "          const docLinkHtml = 'Like what you see? Visit the ' +\n",
              "            '<a target=\"_blank\" href=https://colab.research.google.com/notebooks/data_table.ipynb>data table notebook</a>'\n",
              "            + ' to learn more about interactive tables.';\n",
              "          element.innerHTML = '';\n",
              "          dataTable['output_type'] = 'display_data';\n",
              "          await google.colab.output.renderOutput(dataTable, element);\n",
              "          const docLink = document.createElement('div');\n",
              "          docLink.innerHTML = docLinkHtml;\n",
              "          element.appendChild(docLink);\n",
              "        }\n",
              "      </script>\n",
              "    </div>\n",
              "  </div>\n",
              "  "
            ]
          },
          "metadata": {},
          "execution_count": 59
        }
      ]
    },
    {
      "cell_type": "code",
      "metadata": {
        "id": "T50LCvbJ0ukh",
        "colab": {
          "base_uri": "https://localhost:8080/",
          "height": 424
        },
        "outputId": "85916044-1108-48d6-8e20-91aeabeae70b"
      },
      "source": [
        "TEST_DF = normalize(TEST_DF_RAW[VALID_COLUMNS_IN_TRAIN_DATASET]).ewm(alpha=0.9).mean()\n",
        "TEST_DF"
      ],
      "execution_count": 60,
      "outputs": [
        {
          "output_type": "execute_result",
          "data": {
            "text/plain": [
              "            C01  C02  C03       C04       C05       C06       C07       C08  \\\n",
              "0      0.273715  0.0  0.0  0.828325  0.225882  0.000999  0.318761  0.333825   \n",
              "1      0.273715  0.0  0.0  0.828325  0.171634  0.000999  0.300187  0.426398   \n",
              "2      0.272825  0.0  0.0  0.828325  0.166747  0.000930  0.298514  0.434738   \n",
              "3      0.273182  0.0  0.0  0.828325  0.158478  0.000992  0.353980  0.482056   \n",
              "4      0.272773  0.0  0.0  0.828325  0.174269  0.000998  0.370123  0.556914   \n",
              "...         ...  ...  ...       ...       ...       ...       ...       ...   \n",
              "92396  0.619520  0.0  0.0  0.073426  0.532147  0.998079  0.476720  0.581066   \n",
              "92397  0.619561  0.0  0.0  0.073426  0.581096  0.998079  0.446527  0.680775   \n",
              "92398  0.620899  0.0  0.0  0.073426  0.639210  0.998079  0.474916  0.436791   \n",
              "92399  0.621033  0.0  0.0  0.073426  0.699587  0.998079  0.475741  0.598077   \n",
              "92400  0.621491  0.0  0.0  0.073426  0.741441  0.998148  0.465171  0.589235   \n",
              "\n",
              "            C09       C10  ...       C70  C71       C72       C73       C74  \\\n",
              "0      0.010417  0.139867  ...  0.677723  0.0  0.317842  0.452044  0.236483   \n",
              "1      0.010417  0.137445  ...  0.680584  0.0  0.317842  0.450701  0.230344   \n",
              "2      0.010417  0.137227  ...  0.678007  0.0  0.318290  0.451229  0.229791   \n",
              "3      0.010417  0.190063  ...  0.675769  0.0  0.318335  0.449470  0.229736   \n",
              "4      0.010417  0.266280  ...  0.682626  0.0  0.317891  0.450884  0.229731   \n",
              "...         ...       ...  ...       ...  ...       ...       ...       ...   \n",
              "92396  0.017489  0.358745  ...  0.596406  1.0  0.319337  0.285888  0.790598   \n",
              "92397  0.016853  0.386044  ...  0.595956  1.0  0.318439  0.281450  0.790543   \n",
              "92398  0.015748  0.453718  ...  0.596761  1.0  0.319252  0.284110  0.796619   \n",
              "92399  0.015116  0.563381  ...  0.602505  1.0  0.318431  0.283862  0.797227   \n",
              "92400  0.014532  0.705708  ...  0.599115  1.0  0.318803  0.282944  0.791206   \n",
              "\n",
              "            C75       C76       C77      C78       C79  \n",
              "0      0.944440  0.225971  0.200389  0.26162  0.714722  \n",
              "1      0.944440  0.223121  0.198499  0.26162  0.650106  \n",
              "2      0.944440  0.220223  0.196880  0.26162  0.644285  \n",
              "3      0.944440  0.218893  0.193823  0.26162  0.583093  \n",
              "4      0.944440  0.212932  0.198888  0.26162  0.523348  \n",
              "...         ...       ...       ...      ...       ...  \n",
              "92396  0.083339  0.466152  0.485809  0.26162  0.622130  \n",
              "92397  0.083339  0.466370  0.482229  0.26162  0.658390  \n",
              "92398  0.083339  0.466330  0.484406  0.26162  0.666539  \n",
              "92399  0.083339  0.468106  0.474004  0.26162  0.638988  \n",
              "92400  0.083339  0.465829  0.477066  0.26162  0.555689  \n",
              "\n",
              "[358804 rows x 79 columns]"
            ],
            "text/html": [
              "\n",
              "  <div id=\"df-4d442ad1-d38a-49c0-922d-9fd0e61f9b23\">\n",
              "    <div class=\"colab-df-container\">\n",
              "      <div>\n",
              "<style scoped>\n",
              "    .dataframe tbody tr th:only-of-type {\n",
              "        vertical-align: middle;\n",
              "    }\n",
              "\n",
              "    .dataframe tbody tr th {\n",
              "        vertical-align: top;\n",
              "    }\n",
              "\n",
              "    .dataframe thead th {\n",
              "        text-align: right;\n",
              "    }\n",
              "</style>\n",
              "<table border=\"1\" class=\"dataframe\">\n",
              "  <thead>\n",
              "    <tr style=\"text-align: right;\">\n",
              "      <th></th>\n",
              "      <th>C01</th>\n",
              "      <th>C02</th>\n",
              "      <th>C03</th>\n",
              "      <th>C04</th>\n",
              "      <th>C05</th>\n",
              "      <th>C06</th>\n",
              "      <th>C07</th>\n",
              "      <th>C08</th>\n",
              "      <th>C09</th>\n",
              "      <th>C10</th>\n",
              "      <th>...</th>\n",
              "      <th>C70</th>\n",
              "      <th>C71</th>\n",
              "      <th>C72</th>\n",
              "      <th>C73</th>\n",
              "      <th>C74</th>\n",
              "      <th>C75</th>\n",
              "      <th>C76</th>\n",
              "      <th>C77</th>\n",
              "      <th>C78</th>\n",
              "      <th>C79</th>\n",
              "    </tr>\n",
              "  </thead>\n",
              "  <tbody>\n",
              "    <tr>\n",
              "      <th>0</th>\n",
              "      <td>0.273715</td>\n",
              "      <td>0.0</td>\n",
              "      <td>0.0</td>\n",
              "      <td>0.828325</td>\n",
              "      <td>0.225882</td>\n",
              "      <td>0.000999</td>\n",
              "      <td>0.318761</td>\n",
              "      <td>0.333825</td>\n",
              "      <td>0.010417</td>\n",
              "      <td>0.139867</td>\n",
              "      <td>...</td>\n",
              "      <td>0.677723</td>\n",
              "      <td>0.0</td>\n",
              "      <td>0.317842</td>\n",
              "      <td>0.452044</td>\n",
              "      <td>0.236483</td>\n",
              "      <td>0.944440</td>\n",
              "      <td>0.225971</td>\n",
              "      <td>0.200389</td>\n",
              "      <td>0.26162</td>\n",
              "      <td>0.714722</td>\n",
              "    </tr>\n",
              "    <tr>\n",
              "      <th>1</th>\n",
              "      <td>0.273715</td>\n",
              "      <td>0.0</td>\n",
              "      <td>0.0</td>\n",
              "      <td>0.828325</td>\n",
              "      <td>0.171634</td>\n",
              "      <td>0.000999</td>\n",
              "      <td>0.300187</td>\n",
              "      <td>0.426398</td>\n",
              "      <td>0.010417</td>\n",
              "      <td>0.137445</td>\n",
              "      <td>...</td>\n",
              "      <td>0.680584</td>\n",
              "      <td>0.0</td>\n",
              "      <td>0.317842</td>\n",
              "      <td>0.450701</td>\n",
              "      <td>0.230344</td>\n",
              "      <td>0.944440</td>\n",
              "      <td>0.223121</td>\n",
              "      <td>0.198499</td>\n",
              "      <td>0.26162</td>\n",
              "      <td>0.650106</td>\n",
              "    </tr>\n",
              "    <tr>\n",
              "      <th>2</th>\n",
              "      <td>0.272825</td>\n",
              "      <td>0.0</td>\n",
              "      <td>0.0</td>\n",
              "      <td>0.828325</td>\n",
              "      <td>0.166747</td>\n",
              "      <td>0.000930</td>\n",
              "      <td>0.298514</td>\n",
              "      <td>0.434738</td>\n",
              "      <td>0.010417</td>\n",
              "      <td>0.137227</td>\n",
              "      <td>...</td>\n",
              "      <td>0.678007</td>\n",
              "      <td>0.0</td>\n",
              "      <td>0.318290</td>\n",
              "      <td>0.451229</td>\n",
              "      <td>0.229791</td>\n",
              "      <td>0.944440</td>\n",
              "      <td>0.220223</td>\n",
              "      <td>0.196880</td>\n",
              "      <td>0.26162</td>\n",
              "      <td>0.644285</td>\n",
              "    </tr>\n",
              "    <tr>\n",
              "      <th>3</th>\n",
              "      <td>0.273182</td>\n",
              "      <td>0.0</td>\n",
              "      <td>0.0</td>\n",
              "      <td>0.828325</td>\n",
              "      <td>0.158478</td>\n",
              "      <td>0.000992</td>\n",
              "      <td>0.353980</td>\n",
              "      <td>0.482056</td>\n",
              "      <td>0.010417</td>\n",
              "      <td>0.190063</td>\n",
              "      <td>...</td>\n",
              "      <td>0.675769</td>\n",
              "      <td>0.0</td>\n",
              "      <td>0.318335</td>\n",
              "      <td>0.449470</td>\n",
              "      <td>0.229736</td>\n",
              "      <td>0.944440</td>\n",
              "      <td>0.218893</td>\n",
              "      <td>0.193823</td>\n",
              "      <td>0.26162</td>\n",
              "      <td>0.583093</td>\n",
              "    </tr>\n",
              "    <tr>\n",
              "      <th>4</th>\n",
              "      <td>0.272773</td>\n",
              "      <td>0.0</td>\n",
              "      <td>0.0</td>\n",
              "      <td>0.828325</td>\n",
              "      <td>0.174269</td>\n",
              "      <td>0.000998</td>\n",
              "      <td>0.370123</td>\n",
              "      <td>0.556914</td>\n",
              "      <td>0.010417</td>\n",
              "      <td>0.266280</td>\n",
              "      <td>...</td>\n",
              "      <td>0.682626</td>\n",
              "      <td>0.0</td>\n",
              "      <td>0.317891</td>\n",
              "      <td>0.450884</td>\n",
              "      <td>0.229731</td>\n",
              "      <td>0.944440</td>\n",
              "      <td>0.212932</td>\n",
              "      <td>0.198888</td>\n",
              "      <td>0.26162</td>\n",
              "      <td>0.523348</td>\n",
              "    </tr>\n",
              "    <tr>\n",
              "      <th>...</th>\n",
              "      <td>...</td>\n",
              "      <td>...</td>\n",
              "      <td>...</td>\n",
              "      <td>...</td>\n",
              "      <td>...</td>\n",
              "      <td>...</td>\n",
              "      <td>...</td>\n",
              "      <td>...</td>\n",
              "      <td>...</td>\n",
              "      <td>...</td>\n",
              "      <td>...</td>\n",
              "      <td>...</td>\n",
              "      <td>...</td>\n",
              "      <td>...</td>\n",
              "      <td>...</td>\n",
              "      <td>...</td>\n",
              "      <td>...</td>\n",
              "      <td>...</td>\n",
              "      <td>...</td>\n",
              "      <td>...</td>\n",
              "      <td>...</td>\n",
              "    </tr>\n",
              "    <tr>\n",
              "      <th>92396</th>\n",
              "      <td>0.619520</td>\n",
              "      <td>0.0</td>\n",
              "      <td>0.0</td>\n",
              "      <td>0.073426</td>\n",
              "      <td>0.532147</td>\n",
              "      <td>0.998079</td>\n",
              "      <td>0.476720</td>\n",
              "      <td>0.581066</td>\n",
              "      <td>0.017489</td>\n",
              "      <td>0.358745</td>\n",
              "      <td>...</td>\n",
              "      <td>0.596406</td>\n",
              "      <td>1.0</td>\n",
              "      <td>0.319337</td>\n",
              "      <td>0.285888</td>\n",
              "      <td>0.790598</td>\n",
              "      <td>0.083339</td>\n",
              "      <td>0.466152</td>\n",
              "      <td>0.485809</td>\n",
              "      <td>0.26162</td>\n",
              "      <td>0.622130</td>\n",
              "    </tr>\n",
              "    <tr>\n",
              "      <th>92397</th>\n",
              "      <td>0.619561</td>\n",
              "      <td>0.0</td>\n",
              "      <td>0.0</td>\n",
              "      <td>0.073426</td>\n",
              "      <td>0.581096</td>\n",
              "      <td>0.998079</td>\n",
              "      <td>0.446527</td>\n",
              "      <td>0.680775</td>\n",
              "      <td>0.016853</td>\n",
              "      <td>0.386044</td>\n",
              "      <td>...</td>\n",
              "      <td>0.595956</td>\n",
              "      <td>1.0</td>\n",
              "      <td>0.318439</td>\n",
              "      <td>0.281450</td>\n",
              "      <td>0.790543</td>\n",
              "      <td>0.083339</td>\n",
              "      <td>0.466370</td>\n",
              "      <td>0.482229</td>\n",
              "      <td>0.26162</td>\n",
              "      <td>0.658390</td>\n",
              "    </tr>\n",
              "    <tr>\n",
              "      <th>92398</th>\n",
              "      <td>0.620899</td>\n",
              "      <td>0.0</td>\n",
              "      <td>0.0</td>\n",
              "      <td>0.073426</td>\n",
              "      <td>0.639210</td>\n",
              "      <td>0.998079</td>\n",
              "      <td>0.474916</td>\n",
              "      <td>0.436791</td>\n",
              "      <td>0.015748</td>\n",
              "      <td>0.453718</td>\n",
              "      <td>...</td>\n",
              "      <td>0.596761</td>\n",
              "      <td>1.0</td>\n",
              "      <td>0.319252</td>\n",
              "      <td>0.284110</td>\n",
              "      <td>0.796619</td>\n",
              "      <td>0.083339</td>\n",
              "      <td>0.466330</td>\n",
              "      <td>0.484406</td>\n",
              "      <td>0.26162</td>\n",
              "      <td>0.666539</td>\n",
              "    </tr>\n",
              "    <tr>\n",
              "      <th>92399</th>\n",
              "      <td>0.621033</td>\n",
              "      <td>0.0</td>\n",
              "      <td>0.0</td>\n",
              "      <td>0.073426</td>\n",
              "      <td>0.699587</td>\n",
              "      <td>0.998079</td>\n",
              "      <td>0.475741</td>\n",
              "      <td>0.598077</td>\n",
              "      <td>0.015116</td>\n",
              "      <td>0.563381</td>\n",
              "      <td>...</td>\n",
              "      <td>0.602505</td>\n",
              "      <td>1.0</td>\n",
              "      <td>0.318431</td>\n",
              "      <td>0.283862</td>\n",
              "      <td>0.797227</td>\n",
              "      <td>0.083339</td>\n",
              "      <td>0.468106</td>\n",
              "      <td>0.474004</td>\n",
              "      <td>0.26162</td>\n",
              "      <td>0.638988</td>\n",
              "    </tr>\n",
              "    <tr>\n",
              "      <th>92400</th>\n",
              "      <td>0.621491</td>\n",
              "      <td>0.0</td>\n",
              "      <td>0.0</td>\n",
              "      <td>0.073426</td>\n",
              "      <td>0.741441</td>\n",
              "      <td>0.998148</td>\n",
              "      <td>0.465171</td>\n",
              "      <td>0.589235</td>\n",
              "      <td>0.014532</td>\n",
              "      <td>0.705708</td>\n",
              "      <td>...</td>\n",
              "      <td>0.599115</td>\n",
              "      <td>1.0</td>\n",
              "      <td>0.318803</td>\n",
              "      <td>0.282944</td>\n",
              "      <td>0.791206</td>\n",
              "      <td>0.083339</td>\n",
              "      <td>0.465829</td>\n",
              "      <td>0.477066</td>\n",
              "      <td>0.26162</td>\n",
              "      <td>0.555689</td>\n",
              "    </tr>\n",
              "  </tbody>\n",
              "</table>\n",
              "<p>358804 rows × 79 columns</p>\n",
              "</div>\n",
              "      <button class=\"colab-df-convert\" onclick=\"convertToInteractive('df-4d442ad1-d38a-49c0-922d-9fd0e61f9b23')\"\n",
              "              title=\"Convert this dataframe to an interactive table.\"\n",
              "              style=\"display:none;\">\n",
              "        \n",
              "  <svg xmlns=\"http://www.w3.org/2000/svg\" height=\"24px\"viewBox=\"0 0 24 24\"\n",
              "       width=\"24px\">\n",
              "    <path d=\"M0 0h24v24H0V0z\" fill=\"none\"/>\n",
              "    <path d=\"M18.56 5.44l.94 2.06.94-2.06 2.06-.94-2.06-.94-.94-2.06-.94 2.06-2.06.94zm-11 1L8.5 8.5l.94-2.06 2.06-.94-2.06-.94L8.5 2.5l-.94 2.06-2.06.94zm10 10l.94 2.06.94-2.06 2.06-.94-2.06-.94-.94-2.06-.94 2.06-2.06.94z\"/><path d=\"M17.41 7.96l-1.37-1.37c-.4-.4-.92-.59-1.43-.59-.52 0-1.04.2-1.43.59L10.3 9.45l-7.72 7.72c-.78.78-.78 2.05 0 2.83L4 21.41c.39.39.9.59 1.41.59.51 0 1.02-.2 1.41-.59l7.78-7.78 2.81-2.81c.8-.78.8-2.07 0-2.86zM5.41 20L4 18.59l7.72-7.72 1.47 1.35L5.41 20z\"/>\n",
              "  </svg>\n",
              "      </button>\n",
              "      \n",
              "  <style>\n",
              "    .colab-df-container {\n",
              "      display:flex;\n",
              "      flex-wrap:wrap;\n",
              "      gap: 12px;\n",
              "    }\n",
              "\n",
              "    .colab-df-convert {\n",
              "      background-color: #E8F0FE;\n",
              "      border: none;\n",
              "      border-radius: 50%;\n",
              "      cursor: pointer;\n",
              "      display: none;\n",
              "      fill: #1967D2;\n",
              "      height: 32px;\n",
              "      padding: 0 0 0 0;\n",
              "      width: 32px;\n",
              "    }\n",
              "\n",
              "    .colab-df-convert:hover {\n",
              "      background-color: #E2EBFA;\n",
              "      box-shadow: 0px 1px 2px rgba(60, 64, 67, 0.3), 0px 1px 3px 1px rgba(60, 64, 67, 0.15);\n",
              "      fill: #174EA6;\n",
              "    }\n",
              "\n",
              "    [theme=dark] .colab-df-convert {\n",
              "      background-color: #3B4455;\n",
              "      fill: #D2E3FC;\n",
              "    }\n",
              "\n",
              "    [theme=dark] .colab-df-convert:hover {\n",
              "      background-color: #434B5C;\n",
              "      box-shadow: 0px 1px 3px 1px rgba(0, 0, 0, 0.15);\n",
              "      filter: drop-shadow(0px 1px 2px rgba(0, 0, 0, 0.3));\n",
              "      fill: #FFFFFF;\n",
              "    }\n",
              "  </style>\n",
              "\n",
              "      <script>\n",
              "        const buttonEl =\n",
              "          document.querySelector('#df-4d442ad1-d38a-49c0-922d-9fd0e61f9b23 button.colab-df-convert');\n",
              "        buttonEl.style.display =\n",
              "          google.colab.kernel.accessAllowed ? 'block' : 'none';\n",
              "\n",
              "        async function convertToInteractive(key) {\n",
              "          const element = document.querySelector('#df-4d442ad1-d38a-49c0-922d-9fd0e61f9b23');\n",
              "          const dataTable =\n",
              "            await google.colab.kernel.invokeFunction('convertToInteractive',\n",
              "                                                     [key], {});\n",
              "          if (!dataTable) return;\n",
              "\n",
              "          const docLinkHtml = 'Like what you see? Visit the ' +\n",
              "            '<a target=\"_blank\" href=https://colab.research.google.com/notebooks/data_table.ipynb>data table notebook</a>'\n",
              "            + ' to learn more about interactive tables.';\n",
              "          element.innerHTML = '';\n",
              "          dataTable['output_type'] = 'display_data';\n",
              "          await google.colab.output.renderOutput(dataTable, element);\n",
              "          const docLink = document.createElement('div');\n",
              "          docLink.innerHTML = docLinkHtml;\n",
              "          element.appendChild(docLink);\n",
              "        }\n",
              "      </script>\n",
              "    </div>\n",
              "  </div>\n",
              "  "
            ]
          },
          "metadata": {},
          "execution_count": 60
        }
      ]
    },
    {
      "cell_type": "code",
      "metadata": {
        "id": "s6DpuBRq0unQ",
        "colab": {
          "base_uri": "https://localhost:8080/"
        },
        "outputId": "3ba7a82e-be53-4f68-ea55-08b64a2f02c9"
      },
      "source": [
        "boundary_check(TEST_DF)"
      ],
      "execution_count": 61,
      "outputs": [
        {
          "output_type": "execute_result",
          "data": {
            "text/plain": [
              "(True, True, False)"
            ]
          },
          "metadata": {},
          "execution_count": 61
        }
      ]
    },
    {
      "cell_type": "code",
      "metadata": {
        "id": "c92xpWyU0upk",
        "colab": {
          "base_uri": "https://localhost:8080/",
          "height": 490,
          "referenced_widgets": [
            "98db1aeed02d4ee89d5f8e1e104fd9f6",
            "422fb4e189c745ea95dc07ff758ff908",
            "9ad95700053c4e789a7b83709d2cbc67",
            "5c468a11be8e4d33ab4c552b6e03648c",
            "c31fd8327529465ab9befbaca5de6cf8",
            "873351e226924e9a9dc44e750facfe9f",
            "9a1426e28e8944c892800461788b1be7",
            "4b68f8e3c43346a880b4ee6565669612",
            "7dc1369cb1b44a029a072ac0335b16a3",
            "708f9a22ed5b4179a352da4026a33d6b",
            "17e5f8f758a742619464df74f6315c35"
          ]
        },
        "outputId": "67f8214e-bcdc-4183-c7fb-383f00db9956"
      },
      "source": [
        "HAI_DATASET_TEST = HaiDataset(\n",
        "    TEST_DF_RAW[TIMESTAMP_FIELD], TEST_DF, attacks=None\n",
        ")\n",
        "HAI_DATASET_VALIDATION[0]"
      ],
      "execution_count": 62,
      "outputs": [
        {
          "output_type": "display_data",
          "data": {
            "text/plain": [
              "  0%|          | 0/358715 [00:00<?, ?it/s]"
            ],
            "application/vnd.jupyter.widget-view+json": {
              "version_major": 2,
              "version_minor": 0,
              "model_id": "98db1aeed02d4ee89d5f8e1e104fd9f6"
            }
          },
          "metadata": {}
        },
        {
          "output_type": "stream",
          "name": "stdout",
          "text": [
            "# of valid windows: 358448\n"
          ]
        },
        {
          "output_type": "execute_result",
          "data": {
            "text/plain": [
              "{'attack': 0.0,\n",
              " 'ts': '2020-07-07 15:01:29',\n",
              " 'given': tensor([[0.4516, 0.0000, 0.0000,  ..., 0.5798, 0.5271, 0.4014],\n",
              "         [0.4526, 0.0000, 0.0000,  ..., 0.5799, 0.5271, 0.3234],\n",
              "         [0.4521, 0.0000, 0.0000,  ..., 0.5927, 0.5271, 0.3727],\n",
              "         ...,\n",
              "         [0.5267, 0.0000, 0.0000,  ..., 0.3193, 0.5271, 0.3745],\n",
              "         [0.5257, 0.0000, 0.0000,  ..., 0.3134, 0.5271, 0.4363],\n",
              "         [0.5252, 0.0000, 0.0000,  ..., 0.3089, 0.5271, 0.5319]]),\n",
              " 'answer': tensor([5.2717e-01, 0.0000e+00, 0.0000e+00, 1.6201e-01, 2.4634e-01, 3.0731e-04,\n",
              "         4.7660e-01, 5.1151e-01, 1.1574e-03, 1.5182e-01, 4.9051e-01, 5.5063e-01,\n",
              "         2.8699e-01, 0.0000e+00, 4.4413e-01, 4.3588e-01, 2.4863e-02, 0.0000e+00,\n",
              "         0.0000e+00, 3.4310e-01, 0.0000e+00, 0.0000e+00, 7.5772e-01, 6.8562e-01,\n",
              "         0.0000e+00, 3.7939e-01, 2.5223e-01, 0.0000e+00, 3.9106e-01, 2.5138e-02,\n",
              "         9.9257e-01, 3.4135e-01, 0.0000e+00, 0.0000e+00, 0.0000e+00, 1.0000e+00,\n",
              "         0.0000e+00, 4.1100e-01, 4.6915e-01, 0.0000e+00, 9.9916e-01, 2.5674e-04,\n",
              "         0.0000e+00, 5.0073e-01, 3.8212e-01, 2.3146e-01, 6.1364e-01, 0.0000e+00,\n",
              "         4.8101e-01, 7.6219e-01, 0.0000e+00, 0.0000e+00, 5.8022e-01, 1.0000e+00,\n",
              "         1.3777e-01, 9.9420e-01, 4.8721e-02, 7.6795e-01, 0.0000e+00, 9.9123e-01,\n",
              "         0.0000e+00, 4.4749e-01, 0.0000e+00, 0.0000e+00, 0.0000e+00, 2.8254e-01,\n",
              "         0.0000e+00, 9.9751e-01, 3.5354e-01, 6.0346e-01, 0.0000e+00, 3.6832e-01,\n",
              "         2.0053e-01, 9.4593e-02, 1.7778e+00, 3.4465e-01, 3.1577e-01, 5.2712e-01,\n",
              "         6.1266e-01])}"
            ]
          },
          "metadata": {},
          "execution_count": 62
        }
      ]
    },
    {
      "cell_type": "code",
      "metadata": {
        "id": "Eilp4AXu0uei"
      },
      "source": [
        "MODEL.eval()\n",
        "CHECK_TS, CHECK_DIST, CHECK_ATT = inference(HAI_DATASET_TEST, MODEL, BATCH_SIZE)"
      ],
      "execution_count": 63,
      "outputs": []
    },
    {
      "cell_type": "code",
      "metadata": {
        "id": "6baQeKUs03N8"
      },
      "source": [
        "ANOMALY_SCORE = np.mean(CHECK_DIST, axis=1)"
      ],
      "execution_count": 64,
      "outputs": []
    },
    {
      "cell_type": "code",
      "source": [
        "plt.plot(ANOMALY_SCORE)"
      ],
      "metadata": {
        "colab": {
          "base_uri": "https://localhost:8080/",
          "height": 283
        },
        "id": "pS3Kr1spUPry",
        "outputId": "96bc05ff-ff49-49b2-de8f-2c7d1ac50910"
      },
      "execution_count": 65,
      "outputs": [
        {
          "output_type": "execute_result",
          "data": {
            "text/plain": [
              "[<matplotlib.lines.Line2D at 0x7f5c64c92210>]"
            ]
          },
          "metadata": {},
          "execution_count": 65
        },
        {
          "output_type": "display_data",
          "data": {
            "text/plain": [
              "<Figure size 432x288 with 1 Axes>"
            ],
            "image/png": "[encoded data removed]"
          },
          "metadata": {
            "needs_background": "light"
          }
        }
      ]
    },
    {
      "cell_type": "code",
      "source": [
        "plt.plot(CHECK_ATT)"
      ],
      "metadata": {
        "colab": {
          "base_uri": "https://localhost:8080/",
          "height": 283
        },
        "id": "NDUxuYXOe7kM",
        "outputId": "bc8dee94-55f3-480c-ade3-c27f35efa0cb"
      },
      "execution_count": 66,
      "outputs": [
        {
          "output_type": "execute_result",
          "data": {
            "text/plain": [
              "[<matplotlib.lines.Line2D at 0x7f5c651e1450>]"
            ]
          },
          "metadata": {},
          "execution_count": 66
        },
        {
          "output_type": "display_data",
          "data": {
            "text/plain": [
              "<Figure size 432x288 with 1 Axes>"
            ],
            "image/png": "[encoded data removed]"
          },
          "metadata": {
            "needs_background": "light"
          }
        }
      ]
    },
    {
      "cell_type": "code",
      "metadata": {
        "id": "vLadBJlZ03Qu",
        "colab": {
          "base_uri": "https://localhost:8080/",
          "height": 700
        },
        "outputId": "93cca770-518e-432c-dec0-b3437678b86e"
      },
      "source": [
        "check_graph(ANOMALY_SCORE, CHECK_ATT, piece=3, THRESHOLD=THRESHOLD)"
      ],
      "execution_count": 67,
      "outputs": [
        {
          "output_type": "display_data",
          "data": {
            "text/plain": [
              "<Figure size 1440x864 with 3 Axes>"
            ],
            "image/png": "[encoded data removed]"
          },
          "metadata": {
            "needs_background": "light"
          }
        }
      ]
    },
    {
      "cell_type": "code",
      "metadata": {
        "id": "N9ijN8bZ03Sx",
        "colab": {
          "base_uri": "https://localhost:8080/"
        },
        "outputId": "c9d9a982-9b19-4f7c-aae7-304947cea540"
      },
      "source": [
        "LABELS = put_labels(ANOMALY_SCORE, THRESHOLD)\n",
        "LABELS, LABELS.shape"
      ],
      "execution_count": 68,
      "outputs": [
        {
          "output_type": "execute_result",
          "data": {
            "text/plain": [
              "(array([0., 0., 0., ..., 0., 0., 0.], dtype=float32), (358448,))"
            ]
          },
          "metadata": {},
          "execution_count": 68
        }
      ]
    },
    {
      "cell_type": "code",
      "metadata": {
        "id": "e8qp0sXA03VF",
        "colab": {
          "base_uri": "https://localhost:8080/",
          "height": 455
        },
        "outputId": "db214d49-b132-4566-b922-263f49f4d291"
      },
      "source": [
        "submission = pd.read_csv('data/sample_submission.csv')\n",
        "submission.index = submission['time']\n",
        "submission.loc[CHECK_TS,'attack'] = LABELS\n",
        "submission"
      ],
      "execution_count": 69,
      "outputs": [
        {
          "output_type": "execute_result",
          "data": {
            "text/plain": [
              "                                    time  attack\n",
              "time                                            \n",
              "2020-07-09 15:00:00  2020-07-09 15:00:00     0.0\n",
              "2020-07-09 15:00:01  2020-07-09 15:00:01     0.0\n",
              "2020-07-09 15:00:02  2020-07-09 15:00:02     0.0\n",
              "2020-07-09 15:00:03  2020-07-09 15:00:03     0.0\n",
              "2020-07-09 15:00:04  2020-07-09 15:00:04     0.0\n",
              "...                                  ...     ...\n",
              "2020-07-31 12:29:56  2020-07-31 12:29:56     0.0\n",
              "2020-07-31 12:29:57  2020-07-31 12:29:57     0.0\n",
              "2020-07-31 12:29:58  2020-07-31 12:29:58     0.0\n",
              "2020-07-31 12:29:59  2020-07-31 12:29:59     0.0\n",
              "2020-07-31 12:30:00  2020-07-31 12:30:00     0.0\n",
              "\n",
              "[358804 rows x 2 columns]"
            ],
            "text/html": [
              "\n",
              "  <div id=\"df-02f092f3-2591-49bb-a666-c641c93ab34f\">\n",
              "    <div class=\"colab-df-container\">\n",
              "      <div>\n",
              "<style scoped>\n",
              "    .dataframe tbody tr th:only-of-type {\n",
              "        vertical-align: middle;\n",
              "    }\n",
              "\n",
              "    .dataframe tbody tr th {\n",
              "        vertical-align: top;\n",
              "    }\n",
              "\n",
              "    .dataframe thead th {\n",
              "        text-align: right;\n",
              "    }\n",
              "</style>\n",
              "<table border=\"1\" class=\"dataframe\">\n",
              "  <thead>\n",
              "    <tr style=\"text-align: right;\">\n",
              "      <th></th>\n",
              "      <th>time</th>\n",
              "      <th>attack</th>\n",
              "    </tr>\n",
              "    <tr>\n",
              "      <th>time</th>\n",
              "      <th></th>\n",
              "      <th></th>\n",
              "    </tr>\n",
              "  </thead>\n",
              "  <tbody>\n",
              "    <tr>\n",
              "      <th>2020-07-09 15:00:00</th>\n",
              "      <td>2020-07-09 15:00:00</td>\n",
              "      <td>0.0</td>\n",
              "    </tr>\n",
              "    <tr>\n",
              "      <th>2020-07-09 15:00:01</th>\n",
              "      <td>2020-07-09 15:00:01</td>\n",
              "      <td>0.0</td>\n",
              "    </tr>\n",
              "    <tr>\n",
              "      <th>2020-07-09 15:00:02</th>\n",
              "      <td>2020-07-09 15:00:02</td>\n",
              "      <td>0.0</td>\n",
              "    </tr>\n",
              "    <tr>\n",
              "      <th>2020-07-09 15:00:03</th>\n",
              "      <td>2020-07-09 15:00:03</td>\n",
              "      <td>0.0</td>\n",
              "    </tr>\n",
              "    <tr>\n",
              "      <th>2020-07-09 15:00:04</th>\n",
              "      <td>2020-07-09 15:00:04</td>\n",
              "      <td>0.0</td>\n",
              "    </tr>\n",
              "    <tr>\n",
              "      <th>...</th>\n",
              "      <td>...</td>\n",
              "      <td>...</td>\n",
              "    </tr>\n",
              "    <tr>\n",
              "      <th>2020-07-31 12:29:56</th>\n",
              "      <td>2020-07-31 12:29:56</td>\n",
              "      <td>0.0</td>\n",
              "    </tr>\n",
              "    <tr>\n",
              "      <th>2020-07-31 12:29:57</th>\n",
              "      <td>2020-07-31 12:29:57</td>\n",
              "      <td>0.0</td>\n",
              "    </tr>\n",
              "    <tr>\n",
              "      <th>2020-07-31 12:29:58</th>\n",
              "      <td>2020-07-31 12:29:58</td>\n",
              "      <td>0.0</td>\n",
              "    </tr>\n",
              "    <tr>\n",
              "      <th>2020-07-31 12:29:59</th>\n",
              "      <td>2020-07-31 12:29:59</td>\n",
              "      <td>0.0</td>\n",
              "    </tr>\n",
              "    <tr>\n",
              "      <th>2020-07-31 12:30:00</th>\n",
              "      <td>2020-07-31 12:30:00</td>\n",
              "      <td>0.0</td>\n",
              "    </tr>\n",
              "  </tbody>\n",
              "</table>\n",
              "<p>358804 rows × 2 columns</p>\n",
              "</div>\n",
              "      <button class=\"colab-df-convert\" onclick=\"convertToInteractive('df-02f092f3-2591-49bb-a666-c641c93ab34f')\"\n",
              "              title=\"Convert this dataframe to an interactive table.\"\n",
              "              style=\"display:none;\">\n",
              "        \n",
              "  <svg xmlns=\"http://www.w3.org/2000/svg\" height=\"24px\"viewBox=\"0 0 24 24\"\n",
              "       width=\"24px\">\n",
              "    <path d=\"M0 0h24v24H0V0z\" fill=\"none\"/>\n",
              "    <path d=\"M18.56 5.44l.94 2.06.94-2.06 2.06-.94-2.06-.94-.94-2.06-.94 2.06-2.06.94zm-11 1L8.5 8.5l.94-2.06 2.06-.94-2.06-.94L8.5 2.5l-.94 2.06-2.06.94zm10 10l.94 2.06.94-2.06 2.06-.94-2.06-.94-.94-2.06-.94 2.06-2.06.94z\"/><path d=\"M17.41 7.96l-1.37-1.37c-.4-.4-.92-.59-1.43-.59-.52 0-1.04.2-1.43.59L10.3 9.45l-7.72 7.72c-.78.78-.78 2.05 0 2.83L4 21.41c.39.39.9.59 1.41.59.51 0 1.02-.2 1.41-.59l7.78-7.78 2.81-2.81c.8-.78.8-2.07 0-2.86zM5.41 20L4 18.59l7.72-7.72 1.47 1.35L5.41 20z\"/>\n",
              "  </svg>\n",
              "      </button>\n",
              "      \n",
              "  <style>\n",
              "    .colab-df-container {\n",
              "      display:flex;\n",
              "      flex-wrap:wrap;\n",
              "      gap: 12px;\n",
              "    }\n",
              "\n",
              "    .colab-df-convert {\n",
              "      background-color: #E8F0FE;\n",
              "      border: none;\n",
              "      border-radius: 50%;\n",
              "      cursor: pointer;\n",
              "      display: none;\n",
              "      fill: #1967D2;\n",
              "      height: 32px;\n",
              "      padding: 0 0 0 0;\n",
              "      width: 32px;\n",
              "    }\n",
              "\n",
              "    .colab-df-convert:hover {\n",
              "      background-color: #E2EBFA;\n",
              "      box-shadow: 0px 1px 2px rgba(60, 64, 67, 0.3), 0px 1px 3px 1px rgba(60, 64, 67, 0.15);\n",
              "      fill: #174EA6;\n",
              "    }\n",
              "\n",
              "    [theme=dark] .colab-df-convert {\n",
              "      background-color: #3B4455;\n",
              "      fill: #D2E3FC;\n",
              "    }\n",
              "\n",
              "    [theme=dark] .colab-df-convert:hover {\n",
              "      background-color: #434B5C;\n",
              "      box-shadow: 0px 1px 3px 1px rgba(0, 0, 0, 0.15);\n",
              "      filter: drop-shadow(0px 1px 2px rgba(0, 0, 0, 0.3));\n",
              "      fill: #FFFFFF;\n",
              "    }\n",
              "  </style>\n",
              "\n",
              "      <script>\n",
              "        const buttonEl =\n",
              "          document.querySelector('#df-02f092f3-2591-49bb-a666-c641c93ab34f button.colab-df-convert');\n",
              "        buttonEl.style.display =\n",
              "          google.colab.kernel.accessAllowed ? 'block' : 'none';\n",
              "\n",
              "        async function convertToInteractive(key) {\n",
              "          const element = document.querySelector('#df-02f092f3-2591-49bb-a666-c641c93ab34f');\n",
              "          const dataTable =\n",
              "            await google.colab.kernel.invokeFunction('convertToInteractive',\n",
              "                                                     [key], {});\n",
              "          if (!dataTable) return;\n",
              "\n",
              "          const docLinkHtml = 'Like what you see? Visit the ' +\n",
              "            '<a target=\"_blank\" href=https://colab.research.google.com/notebooks/data_table.ipynb>data table notebook</a>'\n",
              "            + ' to learn more about interactive tables.';\n",
              "          element.innerHTML = '';\n",
              "          dataTable['output_type'] = 'display_data';\n",
              "          await google.colab.output.renderOutput(dataTable, element);\n",
              "          const docLink = document.createElement('div');\n",
              "          docLink.innerHTML = docLinkHtml;\n",
              "          element.appendChild(docLink);\n",
              "        }\n",
              "      </script>\n",
              "    </div>\n",
              "  </div>\n",
              "  "
            ]
          },
          "metadata": {},
          "execution_count": 69
        }
      ]
    },
    {
      "cell_type": "code",
      "source": [
        "submission[\"attack\"].plot()"
      ],
      "metadata": {
        "colab": {
          "base_uri": "https://localhost:8080/",
          "height": 297
        },
        "id": "57HLo6v2oe5_",
        "outputId": "6190fc16-6bdb-4fae-d1b5-0da0b6068850"
      },
      "execution_count": 85,
      "outputs": [
        {
          "output_type": "execute_result",
          "data": {
            "text/plain": [
              "<matplotlib.axes._subplots.AxesSubplot at 0x7f5b8ad45a10>"
            ]
          },
          "metadata": {},
          "execution_count": 85
        },
        {
          "output_type": "display_data",
          "data": {
            "text/plain": [
              "<Figure size 432x288 with 1 Axes>"
            ],
            "image/png": "[encoded data removed]"
          },
          "metadata": {
            "needs_background": "light"
          }
        }
      ]
    },
    {
      "cell_type": "code",
      "metadata": {
        "id": "DFeBNcmc03XV"
      },
      "source": [
        "submission.to_csv('baseline.csv', index=False)"
      ],
      "execution_count": 70,
      "outputs": []
    },
    {
      "cell_type": "code",
      "metadata": {
        "id": "M79Qjtno03Zw",
        "colab": {
          "base_uri": "https://localhost:8080/",
          "height": 17
        },
        "outputId": "6c570940-f9f8-47e4-f3d5-637b460eeb26"
      },
      "source": [
        "from google.colab import files\n",
        "files.download('baseline.csv')"
      ],
      "execution_count": 71,
      "outputs": [
        {
          "output_type": "display_data",
          "data": {
            "text/plain": [
              "<IPython.core.display.Javascript object>"
            ],
            "application/javascript": [
              "\n",
              "    async function download(id, filename, size) {\n",
              "      if (!google.colab.kernel.accessAllowed) {\n",
              "        return;\n",
              "      }\n",
              "      const div = document.createElement('div');\n",
              "      const label = document.createElement('label');\n",
              "      label.textContent = `Downloading \"${filename}\": `;\n",
              "      div.appendChild(label);\n",
              "      const progress = document.createElement('progress');\n",
              "      progress.max = size;\n",
              "      div.appendChild(progress);\n",
              "      document.body.appendChild(div);\n",
              "\n",
              "      const buffers = [];\n",
              "      let downloaded = 0;\n",
              "\n",
              "      const channel = await google.colab.kernel.comms.open(id);\n",
              "      // Send a message to notify the kernel that we're ready.\n",
              "      channel.send({})\n",
              "\n",
              "      for await (const message of channel.messages) {\n",
              "        // Send a message to notify the kernel that we're ready.\n",
              "        channel.send({})\n",
              "        if (message.buffers) {\n",
              "          for (const buffer of message.buffers) {\n",
              "            buffers.push(buffer);\n",
              "            downloaded += buffer.byteLength;\n",
              "            progress.value = downloaded;\n",
              "          }\n",
              "        }\n",
              "      }\n",
              "      const blob = new Blob(buffers, {type: 'application/binary'});\n",
              "      const a = document.createElement('a');\n",
              "      a.href = window.URL.createObjectURL(blob);\n",
              "      a.download = filename;\n",
              "      div.appendChild(a);\n",
              "      a.click();\n",
              "      div.remove();\n",
              "    }\n",
              "  "
            ]
          },
          "metadata": {}
        },
        {
          "output_type": "display_data",
          "data": {
            "text/plain": [
              "<IPython.core.display.Javascript object>"
            ],
            "application/javascript": [
              "download(\"download_d319828d-c7b8-434b-88c7-1d956757f15d\", \"baseline.csv\", 8611308)"
            ]
          },
          "metadata": {}
        }
      ]
    },
    {
      "cell_type": "code",
      "metadata": {
        "id": "FRfxM_MS03cK"
      },
      "source": [],
      "execution_count": 71,
      "outputs": []
    },
    {
      "cell_type": "markdown",
      "metadata": {
        "id": "5-OEtzmTzBh1"
      },
      "source": []
    }
  ]
}